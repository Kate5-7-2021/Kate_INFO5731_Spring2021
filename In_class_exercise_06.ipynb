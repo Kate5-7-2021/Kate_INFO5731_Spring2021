{
  "nbformat": 4,
  "nbformat_minor": 0,
  "metadata": {
    "colab": {
      "name": "In_class_exercise_06.ipynb",
      "provenance": [],
      "collapsed_sections": [],
      "include_colab_link": true
    },
    "kernelspec": {
      "display_name": "Python 3",
      "language": "python",
      "name": "python3"
    },
    "language_info": {
      "codemirror_mode": {
        "name": "ipython",
        "version": 3
      },
      "file_extension": ".py",
      "mimetype": "text/x-python",
      "name": "python",
      "nbconvert_exporter": "python",
      "pygments_lexer": "ipython3",
      "version": "3.8.5"
    }
  },
  "cells": [
    {
      "cell_type": "markdown",
      "metadata": {
        "id": "view-in-github",
        "colab_type": "text"
      },
      "source": [
        "<a href=\"https://colab.research.google.com/github/Kate5-7-2021/Kate_INFO5731_Spring2021/blob/main/In_class_exercise_06.ipynb\" target=\"_parent\"><img src=\"https://colab.research.google.com/assets/colab-badge.svg\" alt=\"Open In Colab\"/></a>"
      ]
    },
    {
      "cell_type": "code",
      "metadata": {
        "id": "NfJzFqsO7HuS"
      },
      "source": [
        ""
      ],
      "execution_count": null,
      "outputs": []
    },
    {
      "cell_type": "markdown",
      "metadata": {
        "id": "z7TahL04sVvR"
      },
      "source": [
        "# **The sixth in-class-exercise (20 points in total, 3/2/2021)**"
      ]
    },
    {
      "cell_type": "markdown",
      "metadata": {
        "id": "ejyZITr8sjnh"
      },
      "source": [
        "## **1. Rule-based information extraction (10 points)**\n",
        "\n",
        "Use any keywords related to data science, natural language processing, machine learning to search from google scholar, get the **titles** of 100 articles (either by web scraping or manually) about this topic, define a set of patterns to extract the research questions/problems, methods/algorithms/models, datasets, applications, or any other important information about this topic. "
      ]
    },
    {
      "cell_type": "code",
      "metadata": {
        "id": "7G9ELzE54fR5"
      },
      "source": [
        "import pandas as pd\r\n",
        "from google.colab import files\r\n",
        "import io"
      ],
      "execution_count": 97,
      "outputs": []
    },
    {
      "cell_type": "code",
      "metadata": {
        "colab": {
          "resources": {
            "http://localhost:8080/nbextensions/google.colab/files.js": {
              "data": "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",
              "ok": true,
              "headers": [
                [
                  "content-type",
                  "application/javascript"
                ]
              ],
              "status": 200,
              "status_text": ""
            }
          },
          "base_uri": "https://localhost:8080/",
          "height": 73
        },
        "id": "AK4cgsnB4uPP",
        "outputId": "a577d069-aeb9-49e0-f932-c8b10a7baa5e"
      },
      "source": [
        "uploaded = files.upload() "
      ],
      "execution_count": 98,
      "outputs": [
        {
          "output_type": "display_data",
          "data": {
            "text/html": [
              "\n",
              "     <input type=\"file\" id=\"files-105d098b-fc5d-40e9-b27e-d6c4c7a83122\" name=\"files[]\" multiple disabled\n",
              "        style=\"border:none\" />\n",
              "     <output id=\"result-105d098b-fc5d-40e9-b27e-d6c4c7a83122\">\n",
              "      Upload widget is only available when the cell has been executed in the\n",
              "      current browser session. Please rerun this cell to enable.\n",
              "      </output>\n",
              "      <script src=\"/nbextensions/google.colab/files.js\"></script> "
            ],
            "text/plain": [
              "<IPython.core.display.HTML object>"
            ]
          },
          "metadata": {
            "tags": []
          }
        },
        {
          "output_type": "stream",
          "text": [
            "Saving Article.csv to Article (1).csv\n"
          ],
          "name": "stdout"
        }
      ]
    },
    {
      "cell_type": "code",
      "metadata": {
        "colab": {
          "base_uri": "https://localhost:8080/"
        },
        "id": "-H9ZsHQG_Hzj",
        "outputId": "15cac023-18d4-4a13-aee8-aecc09b1882e"
      },
      "source": [
        "for fn in uploaded.keys():\r\n",
        "  print('User uploaded file \"{name}\" with length {length} bytes'.format(name=fn, length=len(uploaded[fn])))"
      ],
      "execution_count": 99,
      "outputs": [
        {
          "output_type": "stream",
          "text": [
            "User uploaded file \"Article.csv\" with length 7031 bytes\n"
          ],
          "name": "stdout"
        }
      ]
    },
    {
      "cell_type": "code",
      "metadata": {
        "colab": {
          "base_uri": "https://localhost:8080/"
        },
        "id": "M78kUVNV_H3M",
        "outputId": "0679ca7d-6870-44dc-c10c-f50a5cad382b"
      },
      "source": [
        "uploaded"
      ],
      "execution_count": 100,
      "outputs": [
        {
          "output_type": "execute_result",
          "data": {
            "text/plain": [
              "{'Article.csv': b'Data Mining Articles\\r\\nData mining\\xa0techniques and applications\\x96A decade review from 2000 to 2011\\r\\nVisual\\xa0data mining\\r\\nSystematic survey of big\\xa0data\\xa0and\\xa0data mining\\xa0in internet of things\\r\\nDetecting financial fraud using\\xa0data mining\\xa0techniques: A decade review from 2004 to 2015\\r\\n\"Global\\xa0data mining: An empirical study of current trends, future forecasts and technology diffusions\"\\r\\nData-mining\\xa0technologies for diabetes: a systematic review\\r\\nTarget discovery from data mining approaches\\r\\nSemantic data mining of financial news articles\\r\\nEvolving data into mining solutions for insights\\r\\nMethodological and practical aspects of\\xa0data mining\\r\\nEducational\\xa0data mining: A survey from 1995 to 2005\\r\\nUntangling text\\xa0data mining\\r\\nData mining\\xa0and its applications for knowledge management: a literature review from 2007 to 2012\\r\\nUsing text\\xa0mining\\xa0techniques for extracting information from research\\xa0articles\\r\\nData mining\\xa0techniques in social media: A survey\\r\\nThe state of educational\\xa0data mining\\xa0in 2009: A review and future visions\\r\\n\\xa0A systematic review of\\xa0data mining\\xa0and machine learning for air pollution epidemiology\\r\\nFrom\\xa0data mining\\xa0to knowledge discovery in databases\\r\\nGraph-based data mining\\r\\nThe application of\\xa0data mining\\xa0techniques in financial fraud detection: A classification framework and an academic review of literature\\r\\nEvaluation of text\\xa0data mining\\xa0for database curation: lessons learned from the KDD Challenge Cup\\r\\nData mining\\xa0in healthcare\\x96a review\\r\\nData mining\\xa0in tourism demand analysis: A retrospective analysis\\r\\nA\\xa0data mining\\xa0analysis of RTID alarms\\r\\nEducational\\xa0Data Mining: A review of evaluation process in the e-learning\\r\\nData mining\\xa0and machine learning for condition-based maintenance\\r\\nTopcat:\\xa0Data mining\\xa0for topic identification in a text corpus\\r\\nLiterature review of\\xa0data mining\\xa0applications in academic libraries\\r\\nWhat is text\\xa0mining\\r\\nSpatial\\xa0data mining\\xa0and geographic knowledge discovery\\x97An introduction\\r\\nKnowledge management and\\xa0data mining\\xa0for marketing\\r\\nTop 10\\xa0data mining\\xa0techniques in business applications: a brief survey\\r\\nMachine learning and\\xa0data mining\\xa0methods in diabetes research\\r\\nData mining\\xa0algorithms and techniques in mental health: A systematic review\\r\\nBusiness\\xa0data mining\\x97a machine learning perspective\\r\\nIntroduction to the\\xa0mining\\xa0of clinical\\xa0data\\r\\nApplication of\\xa0data mining\\xa0techniques in pharmacovigilance\\r\\nA systematic review on healthcare analytics: application and theoretical perspective of\\xa0data mining\\r\\nData mining\\xa0classification techniques applied for breast cancer diagnosis and prognosis\\r\\nData mining: manufacturing and service applications\\r\\nA comprehensive survey of\\xa0data mining-based fraud detection research\\r\\nStock trend prediction using news\\xa0articles: a text\\xa0mining\\xa0approach\\r\\nUniqueness of medical\\xa0data mining\\r\\nAccomplishments and challenges in literature\\xa0data mining\\xa0for biology\\r\\nRole of biological\\xa0data mining\\xa0and machine learning techniques in detecting and diagnosing the novel coronavirus (COVID-19): a systematic review\\r\\nFactors affecting students\\' performance in higher education: a systematic review of predictive\\xa0data mining\\xa0techniques\\r\\nEmerging standards for\\xa0data mining\\r\\nCervical cancer prediction through different screening methods using\\xa0data mining\\r\\nEDM: A general framework for\\xa0data mining\\xa0based on evidence theory\\r\\nA preprocessing method for improving\\xa0data mining\\xa0techniques. Application to a large medical diabetes database.\\r\\nTopCat:\\xa0Data mining\\xa0for topic identification in a text corpus\\r\\nLearning analytics and educational\\xa0data mining: towards communication and collaboration\\r\\nEducational\\xa0data mining: An advance for intelligent systems in education\\r\\nEducational\\xa0data mining: A systematic review of the published literature 2006-2013\\r\\nPredictive\\xa0data mining\\xa0in clinical medicine: current issues and guidelines\\r\\nData mining\\xa0techniques for customer relationship management\\r\\nIs Europe falling behind in\\xa0data mining? Copyright\\'s impact on\\xa0data mining\\xa0in academic research\\r\\nFuture trends in\\xa0data mining\\r\\nApplying\\xa0data mining\\xa0to telecom churn management\\r\\nFeature space theory\\x97a mathematical foundation for\\xa0data mining\\r\\nThe comparisons of\\xa0data mining\\xa0techniques for the predictive accuracy of probability of default of credit card clients\\r\\nData mining: a tutorial-based primer\\r\\nApplication and exploration of big\\xa0data mining\\xa0in clinical medicine\\r\\nData mining\\xa0in healthcare and biomedicine: a survey of the literature\\r\\nAnalysis of pre-processing and post-processing methods and using\\xa0data mining\\xa0to diagnose heart diseases\\r\\n\"The potentials of educational\\xa0data mining\\xa0for researching metacognition, motivation and self-regulated learning\"\\r\\nData mining\\xa0for improvement of product quality\\r\\n\\xa0A state-of-the-art survey of malware detection approaches using\\xa0data mining\\xa0techniques\\r\\nData mining\\xa0in course management systems: Moodle case study and tutorial\\r\\nUsing\\xa0data mining\\xa0to find fraud in HCFA health care claims.\\r\\nUsing\\xa0data mining\\xa0techniques for diagnosis and prognosis of cancer disease\\r\\nSelected techniques for\\xa0data mining\\xa0in medicine\\r\\n\\xa0Data Mining\\xa0and Statistics: What\\'s the connection?\\r\\n\"Data mining\\xa0methods, applications, and tools\"\\r\\nData mining\\xa0our way to the next generation of thermoelectrics\\r\\nData mining\\xa0for customer service support\\r\\nData mining\\xa0and machine learning to promote smart cities: A systematic review from 2000 to 2018\\r\\nEducational data mining: a review of the state of the art\\r\\nData mining\\xa0issues and opportunities for building nursing knowledge\\r\\nAntipsychotic drugs and heart muscle disorder in international pharmacovigilance:\\xa0data mining\\xa0study\\r\\nModeling wine preferences by\\xa0data mining\\xa0from physicochemical properties\\r\\nFake news detection on social media: A\\xa0data mining\\xa0perspective\\r\\nData mining\\xa0for the internet of things: literature review and challenges\\r\\nCredit scoring in banks and financial institutions via\\xa0data mining\\xa0techniques: A literature review\\r\\nParticle swarm based\\xa0data mining\\xa0algorithms for classification tasks\\r\\nData mining\\xa0techniques for the detection of fraudulent financial statements\\r\\nOutcomes of educational interventions in type 2 diabetes: WEKA\\xa0data-mining\\xa0analysis\\r\\nResearch trends analysis by comparing\\xa0data mining\\xa0and customer relationship management through bibliometric methodology\\r\\nEducational\\xa0data mining\\xa0and learning analytics\\r\\nSynergies of operations research and\\xa0data mining\\r\\nData mining\\xa0method for listed companies\\' financial distress prediction\\r\\nStudy of Spanish\\xa0mining\\xa0accidents using\\xa0data mining\\xa0techniques\\r\\nMicroarray\\xa0data mining\\xa0with visual programming\\r\\nPredicting breast cancer survivability: a comparison of three\\xa0data mining\\xa0methods\\r\\nStudent\\xa0data mining\\xa0solution\\x96knowledge management system related to higher education institutions\\r\\nData mining: an overview from a database perspective\\r\\nCredit scoring with a\\xa0data mining\\xa0approach based on support vector machines\\r\\nData mining\\xa0of association structures to model consumer behaviour\\r\\nInformation visualization and visual\\xa0data mining\\r\\nApplication of\\xa0data mining\\xa0techniques in customer relationship management: A literature review and classification\\r\\n'}"
            ]
          },
          "metadata": {
            "tags": []
          },
          "execution_count": 100
        }
      ]
    },
    {
      "cell_type": "code",
      "metadata": {
        "colab": {
          "base_uri": "https://localhost:8080/",
          "height": 417
        },
        "id": "H8fR2rQE45C2",
        "outputId": "c5f3cc06-b7b2-4aaf-b654-6438ef56675e"
      },
      "source": [
        "df = pd.read_csv('Article.csv', header= 0, encoding= 'unicode_escape')\r\n",
        "df"
      ],
      "execution_count": 101,
      "outputs": [
        {
          "output_type": "execute_result",
          "data": {
            "text/html": [
              "<div>\n",
              "<style scoped>\n",
              "    .dataframe tbody tr th:only-of-type {\n",
              "        vertical-align: middle;\n",
              "    }\n",
              "\n",
              "    .dataframe tbody tr th {\n",
              "        vertical-align: top;\n",
              "    }\n",
              "\n",
              "    .dataframe thead th {\n",
              "        text-align: right;\n",
              "    }\n",
              "</style>\n",
              "<table border=\"1\" class=\"dataframe\">\n",
              "  <thead>\n",
              "    <tr style=\"text-align: right;\">\n",
              "      <th></th>\n",
              "      <th>Data Mining Articles</th>\n",
              "    </tr>\n",
              "  </thead>\n",
              "  <tbody>\n",
              "    <tr>\n",
              "      <th>0</th>\n",
              "      <td>Data mining techniques and applicationsA deca...</td>\n",
              "    </tr>\n",
              "    <tr>\n",
              "      <th>1</th>\n",
              "      <td>Visual data mining</td>\n",
              "    </tr>\n",
              "    <tr>\n",
              "      <th>2</th>\n",
              "      <td>Systematic survey of big data and data mining ...</td>\n",
              "    </tr>\n",
              "    <tr>\n",
              "      <th>3</th>\n",
              "      <td>Detecting financial fraud using data mining te...</td>\n",
              "    </tr>\n",
              "    <tr>\n",
              "      <th>4</th>\n",
              "      <td>Global data mining: An empirical study of curr...</td>\n",
              "    </tr>\n",
              "    <tr>\n",
              "      <th>...</th>\n",
              "      <td>...</td>\n",
              "    </tr>\n",
              "    <tr>\n",
              "      <th>95</th>\n",
              "      <td>Data mining: an overview from a database persp...</td>\n",
              "    </tr>\n",
              "    <tr>\n",
              "      <th>96</th>\n",
              "      <td>Credit scoring with a data mining approach bas...</td>\n",
              "    </tr>\n",
              "    <tr>\n",
              "      <th>97</th>\n",
              "      <td>Data mining of association structures to model...</td>\n",
              "    </tr>\n",
              "    <tr>\n",
              "      <th>98</th>\n",
              "      <td>Information visualization and visual data mining</td>\n",
              "    </tr>\n",
              "    <tr>\n",
              "      <th>99</th>\n",
              "      <td>Application of data mining techniques in custo...</td>\n",
              "    </tr>\n",
              "  </tbody>\n",
              "</table>\n",
              "<p>100 rows × 1 columns</p>\n",
              "</div>"
            ],
            "text/plain": [
              "                                 Data Mining Articles\n",
              "0   Data mining techniques and applicationsA deca...\n",
              "1                                  Visual data mining\n",
              "2   Systematic survey of big data and data mining ...\n",
              "3   Detecting financial fraud using data mining te...\n",
              "4   Global data mining: An empirical study of curr...\n",
              "..                                                ...\n",
              "95  Data mining: an overview from a database persp...\n",
              "96  Credit scoring with a data mining approach bas...\n",
              "97  Data mining of association structures to model...\n",
              "98   Information visualization and visual data mining\n",
              "99  Application of data mining techniques in custo...\n",
              "\n",
              "[100 rows x 1 columns]"
            ]
          },
          "metadata": {
            "tags": []
          },
          "execution_count": 101
        }
      ]
    },
    {
      "cell_type": "code",
      "metadata": {
        "colab": {
          "base_uri": "https://localhost:8080/",
          "height": 417
        },
        "id": "k-lNlLGuH7zU",
        "outputId": "e87cc7e1-1656-48fe-def0-f9c599dcd03c"
      },
      "source": [
        "fdf=df.replace(u'\\xa0',u'0')\r\n",
        "fdf['Data Mining Articles']=fdf['Data Mining Articles'].str.replace('\\xa0',' ')\r\n",
        "fdf"
      ],
      "execution_count": 102,
      "outputs": [
        {
          "output_type": "execute_result",
          "data": {
            "text/html": [
              "<div>\n",
              "<style scoped>\n",
              "    .dataframe tbody tr th:only-of-type {\n",
              "        vertical-align: middle;\n",
              "    }\n",
              "\n",
              "    .dataframe tbody tr th {\n",
              "        vertical-align: top;\n",
              "    }\n",
              "\n",
              "    .dataframe thead th {\n",
              "        text-align: right;\n",
              "    }\n",
              "</style>\n",
              "<table border=\"1\" class=\"dataframe\">\n",
              "  <thead>\n",
              "    <tr style=\"text-align: right;\">\n",
              "      <th></th>\n",
              "      <th>Data Mining Articles</th>\n",
              "    </tr>\n",
              "  </thead>\n",
              "  <tbody>\n",
              "    <tr>\n",
              "      <th>0</th>\n",
              "      <td>Data mining techniques and applicationsA deca...</td>\n",
              "    </tr>\n",
              "    <tr>\n",
              "      <th>1</th>\n",
              "      <td>Visual data mining</td>\n",
              "    </tr>\n",
              "    <tr>\n",
              "      <th>2</th>\n",
              "      <td>Systematic survey of big data and data mining ...</td>\n",
              "    </tr>\n",
              "    <tr>\n",
              "      <th>3</th>\n",
              "      <td>Detecting financial fraud using data mining te...</td>\n",
              "    </tr>\n",
              "    <tr>\n",
              "      <th>4</th>\n",
              "      <td>Global data mining: An empirical study of curr...</td>\n",
              "    </tr>\n",
              "    <tr>\n",
              "      <th>...</th>\n",
              "      <td>...</td>\n",
              "    </tr>\n",
              "    <tr>\n",
              "      <th>95</th>\n",
              "      <td>Data mining: an overview from a database persp...</td>\n",
              "    </tr>\n",
              "    <tr>\n",
              "      <th>96</th>\n",
              "      <td>Credit scoring with a data mining approach bas...</td>\n",
              "    </tr>\n",
              "    <tr>\n",
              "      <th>97</th>\n",
              "      <td>Data mining of association structures to model...</td>\n",
              "    </tr>\n",
              "    <tr>\n",
              "      <th>98</th>\n",
              "      <td>Information visualization and visual data mining</td>\n",
              "    </tr>\n",
              "    <tr>\n",
              "      <th>99</th>\n",
              "      <td>Application of data mining techniques in custo...</td>\n",
              "    </tr>\n",
              "  </tbody>\n",
              "</table>\n",
              "<p>100 rows × 1 columns</p>\n",
              "</div>"
            ],
            "text/plain": [
              "                                 Data Mining Articles\n",
              "0   Data mining techniques and applicationsA deca...\n",
              "1                                  Visual data mining\n",
              "2   Systematic survey of big data and data mining ...\n",
              "3   Detecting financial fraud using data mining te...\n",
              "4   Global data mining: An empirical study of curr...\n",
              "..                                                ...\n",
              "95  Data mining: an overview from a database persp...\n",
              "96  Credit scoring with a data mining approach bas...\n",
              "97  Data mining of association structures to model...\n",
              "98   Information visualization and visual data mining\n",
              "99  Application of data mining techniques in custo...\n",
              "\n",
              "[100 rows x 1 columns]"
            ]
          },
          "metadata": {
            "tags": []
          },
          "execution_count": 102
        }
      ]
    },
    {
      "cell_type": "code",
      "metadata": {
        "id": "F3eh_NlYH72l"
      },
      "source": [
        "import re\r\n",
        "import nltk"
      ],
      "execution_count": 103,
      "outputs": []
    },
    {
      "cell_type": "code",
      "metadata": {
        "colab": {
          "base_uri": "https://localhost:8080/"
        },
        "id": "1dR4-AY6iEdM",
        "outputId": "425f8098-4d23-4e14-de2b-1c1cf618134a"
      },
      "source": [
        "print('pattern1')\r\n",
        "for i in fdf['Data Mining Articles']:\r\n",
        "  list1= re.findall('^[a-zA-Z]+\\s+(?:data mining)', i)\r\n",
        "  if list1:\r\n",
        "    print(re.findall('^[a-zA-Z]+\\s+(?:data mining)', i))\r\n",
        "  else:\r\n",
        "    continue\r\n",
        "pattern1"
      ],
      "execution_count": 104,
      "outputs": [
        {
          "output_type": "stream",
          "text": [
            "pattern1\n",
            "['Visual data mining']\n",
            "['Global data mining']\n",
            "['Semantic data mining']\n",
            "['Educational data mining']\n",
            "['From data mining']\n",
            "['A data mining']\n",
            "['Spatial data mining']\n",
            "['Business data mining']\n",
            "['Educational data mining']\n",
            "['Educational data mining']\n",
            "['Predictive data mining']\n",
            "['Applying data mining']\n",
            "['Using data mining']\n",
            "['Using data mining']\n",
            "['Educational data mining']\n",
            "['Educational data mining']\n",
            "['Microarray data mining']\n",
            "['Student data mining']\n"
          ],
          "name": "stdout"
        },
        {
          "output_type": "execute_result",
          "data": {
            "text/plain": [
              "[]"
            ]
          },
          "metadata": {
            "tags": []
          },
          "execution_count": 104
        }
      ]
    },
    {
      "cell_type": "code",
      "metadata": {
        "colab": {
          "base_uri": "https://localhost:8080/"
        },
        "id": "42QFlgBtiEgk",
        "outputId": "523c2a74-7b9a-4a2d-c8c4-411942b9d985"
      },
      "source": [
        "print('pattern2')\r\n",
        "for i in fdf['Data Mining Articles']:\r\n",
        "  list1= re.findall('(.*):\\s*([^,]+)', i)\r\n",
        "  if list1:\r\n",
        "    print(re.findall('(.*):\\s*([^,]+)', i))\r\n",
        "  else:\r\n",
        "    continue\r\n",
        "pattern2"
      ],
      "execution_count": 105,
      "outputs": [
        {
          "output_type": "stream",
          "text": [
            "pattern2\n",
            "[('Detecting financial fraud using data mining techniques', 'A decade review from 2004 to 2015')]\n",
            "[('Global data mining', 'An empirical study of current trends')]\n",
            "[('Data-mining technologies for diabetes', 'a systematic review')]\n",
            "[('Educational data mining', 'A survey from 1995 to 2005')]\n",
            "[('Data mining and its applications for knowledge management', 'a literature review from 2007 to 2012')]\n",
            "[('Data mining techniques in social media', 'A survey')]\n",
            "[('The state of educational data mining in 2009', 'A review and future visions')]\n",
            "[('The application of data mining techniques in financial fraud detection', 'A classification framework and an academic review of literature')]\n",
            "[('Evaluation of text data mining for database curation', 'lessons learned from the KDD Challenge Cup')]\n",
            "[('Data mining in tourism demand analysis', 'A retrospective analysis')]\n",
            "[('Educational Data Mining', 'A review of evaluation process in the e-learning')]\n",
            "[('Topcat', 'Data mining for topic identification in a text corpus')]\n",
            "[('Top 10 data mining techniques in business applications', 'a brief survey')]\n",
            "[('Data mining algorithms and techniques in mental health', 'A systematic review')]\n",
            "[('A systematic review on healthcare analytics', 'application and theoretical perspective of data mining')]\n",
            "[('Data mining', 'manufacturing and service applications')]\n",
            "[('Stock trend prediction using news articles', 'a text mining approach')]\n",
            "[('Role of biological data mining and machine learning techniques in detecting and diagnosing the novel coronavirus (COVID-19)', 'a systematic review')]\n",
            "[(\"Factors affecting students' performance in higher education\", 'a systematic review of predictive data mining techniques')]\n",
            "[('EDM', 'A general framework for data mining based on evidence theory')]\n",
            "[('TopCat', 'Data mining for topic identification in a text corpus')]\n",
            "[('Learning analytics and educational data mining', 'towards communication and collaboration')]\n",
            "[('Educational data mining', 'An advance for intelligent systems in education')]\n",
            "[('Educational data mining', 'A systematic review of the published literature 2006-2013')]\n",
            "[('Predictive data mining in clinical medicine', 'current issues and guidelines')]\n",
            "[('Data mining', 'a tutorial-based primer')]\n",
            "[('Data mining in healthcare and biomedicine', 'a survey of the literature')]\n",
            "[('Data mining in course management systems', 'Moodle case study and tutorial')]\n",
            "[(' Data Mining and Statistics', \"What's the connection?\")]\n",
            "[('Data mining and machine learning to promote smart cities', 'A systematic review from 2000 to 2018')]\n",
            "[('Educational data mining', 'a review of the state of the art')]\n",
            "[('Antipsychotic drugs and heart muscle disorder in international pharmacovigilance', 'data mining study')]\n",
            "[('Fake news detection on social media', 'A data mining perspective')]\n",
            "[('Data mining for the internet of things', 'literature review and challenges')]\n",
            "[('Credit scoring in banks and financial institutions via data mining techniques', 'A literature review')]\n",
            "[('Outcomes of educational interventions in type 2 diabetes', 'WEKA data-mining analysis')]\n",
            "[('Predicting breast cancer survivability', 'a comparison of three data mining methods')]\n",
            "[('Data mining', 'an overview from a database perspective')]\n",
            "[('Application of data mining techniques in customer relationship management', 'A literature review and classification')]\n"
          ],
          "name": "stdout"
        },
        {
          "output_type": "execute_result",
          "data": {
            "text/plain": [
              "[]"
            ]
          },
          "metadata": {
            "tags": []
          },
          "execution_count": 105
        }
      ]
    },
    {
      "cell_type": "code",
      "metadata": {
        "colab": {
          "base_uri": "https://localhost:8080/"
        },
        "id": "Jv3ykSvxiEj8",
        "outputId": "7c33d41a-5ee6-4f59-eaa1-8da8012aa88f"
      },
      "source": [
        "print('pattern3')\r\n",
        "for i in fdf['Data Mining Articles']:\r\n",
        "  list1= re.findall('[^.!?;]*(?:for)[^.!?;]*', i)\r\n",
        "  if list1:\r\n",
        "    print(re.findall('[^.!?;]*(?:for)[^.!?;]*', i))\r\n",
        "  else:\r\n",
        "    continue\r\n",
        "pattern3"
      ],
      "execution_count": 106,
      "outputs": [
        {
          "output_type": "stream",
          "text": [
            "pattern3\n",
            "['Global data mining: An empirical study of current trends, future forecasts and technology diffusions']\n",
            "['Data-mining technologies for diabetes: a systematic review']\n",
            "['Evolving data into mining solutions for insights']\n",
            "['Data mining and its applications for knowledge management: a literature review from 2007 to 2012']\n",
            "['Using text mining techniques for extracting information from research articles']\n",
            "[' A systematic review of data mining and machine learning for air pollution epidemiology']\n",
            "['Evaluation of text data mining for database curation: lessons learned from the KDD Challenge Cup']\n",
            "['Data mining and machine learning for condition-based maintenance']\n",
            "['Topcat: Data mining for topic identification in a text corpus']\n",
            "['Knowledge management and data mining for marketing']\n",
            "['Data mining classification techniques applied for breast cancer diagnosis and prognosis']\n",
            "['Accomplishments and challenges in literature data mining for biology']\n",
            "[\"Factors affecting students' performance in higher education: a systematic review of predictive data mining techniques\"]\n",
            "['Emerging standards for data mining']\n",
            "['EDM: A general framework for data mining based on evidence theory']\n",
            "['A preprocessing method for improving data mining techniques']\n",
            "['TopCat: Data mining for topic identification in a text corpus']\n",
            "['Educational data mining: An advance for intelligent systems in education']\n",
            "['Data mining techniques for customer relationship management']\n",
            "['Feature space theory\\x97a mathematical foundation for data mining']\n",
            "['The comparisons of data mining techniques for the predictive accuracy of probability of default of credit card clients']\n",
            "['The potentials of educational data mining for researching metacognition, motivation and self-regulated learning']\n",
            "['Data mining for improvement of product quality']\n",
            "['Using data mining techniques for diagnosis and prognosis of cancer disease']\n",
            "['Selected techniques for data mining in medicine']\n",
            "['Data mining for customer service support']\n",
            "['Data mining issues and opportunities for building nursing knowledge']\n",
            "['Data mining for the internet of things: literature review and challenges']\n",
            "['Particle swarm based data mining algorithms for classification tasks']\n",
            "['Data mining techniques for the detection of fraudulent financial statements']\n",
            "[\"Data mining method for listed companies' financial distress prediction\"]\n",
            "['Information visualization and visual data mining']\n"
          ],
          "name": "stdout"
        },
        {
          "output_type": "execute_result",
          "data": {
            "text/plain": [
              "[]"
            ]
          },
          "metadata": {
            "tags": []
          },
          "execution_count": 106
        }
      ]
    },
    {
      "cell_type": "code",
      "metadata": {
        "id": "A55nN-E8iEnH"
      },
      "source": [
        ""
      ],
      "execution_count": null,
      "outputs": []
    },
    {
      "cell_type": "markdown",
      "metadata": {
        "id": "Dq_7VGmrsum4"
      },
      "source": [
        "## **2. Domain-specific information extraction (10 points)**\n",
        "\n",
        "For the legal case used in the data cleaning exercise: [01-05-1 Adams v Tanner.txt](https://raw.githubusercontent.com/unt-iialab/info5731_spring2021/main/class_exercises/01-05-1%20%20Adams%20v%20Tanner.txt), use [legalNLP](https://lexpredict-lexnlp.readthedocs.io/en/latest/modules/extract/extract.html#nlp-based-extraction-methods) to extract the following inforation from the text (if the information is not exist, just print None):\n",
        "\n",
        "(1) acts, e.g., “section 1 of the Advancing Hope Act, 1986”\n",
        "\n",
        "(2) amounts, e.g., “ten pounds” or “5.8 megawatts”\n",
        "\n",
        "(3) citations, e.g., “10 U.S. 100” or “1998 S. Ct. 1”\n",
        "\n",
        "(4) companies, e.g., “Lexpredict LLC”\n",
        "\n",
        "(5) conditions, e.g., “subject to …” or “unless and until …”\n",
        "\n",
        "(6) constraints, e.g., “no more than”\n",
        "\n",
        "(7) copyright, e.g., “(C) Copyright 2000 Acme”\n",
        "\n",
        "(8) courts, e.g., “Supreme Court of New York”\n",
        "\n",
        "(9) CUSIP, e.g., “392690QT3”\n",
        "\n",
        "(10) dates, e.g., “June 1, 2017” or “2018-01-01”\n",
        "\n",
        "(11) definitions, e.g., “Term shall mean …”\n",
        "\n",
        "(12) distances, e.g., “fifteen miles”\n",
        "\n",
        "(13) durations, e.g., “ten years” or “thirty days”\n",
        "\n",
        "(14) geographic and geopolitical entities, e.g., “New York” or “Norway”\n",
        "\n",
        "(15) money and currency usages, e.g., “$5” or “10 Euro”\n",
        "\n",
        "(16) percents and rates, e.g., “10%” or “50 bps”\n",
        "\n",
        "(17) PII, e.g., “212-212-2121” or “999-999-9999”\n",
        "\n",
        "(18) ratios, e.g.,” 3:1” or “four to three”\n",
        "\n",
        "(19) regulations, e.g., “32 CFR 170”\n",
        "\n",
        "(20) trademarks, e.g., “MyApp (TM)”\n",
        "\n",
        "(21) URLs, e.g., “http://acme.com/”\n",
        "\n",
        "(22) addresses, e.g., “1999 Mount Read Blvd, Rochester, NY, USA, 14615”\n",
        "\n",
        "(23) persons, e.g., “John Doe"
      ]
    },
    {
      "cell_type": "code",
      "metadata": {
        "id": "qc7NtJrLx5tS",
        "colab": {
          "base_uri": "https://localhost:8080/"
        },
        "outputId": "8997c8a5-7b86-4e67-bb31-efb6eef125eb"
      },
      "source": [
        "!pip install lexnlp"
      ],
      "execution_count": 120,
      "outputs": [
        {
          "output_type": "stream",
          "text": [
            "Requirement already satisfied: lexnlp in /usr/local/lib/python3.7/dist-packages (1.8.0)\n",
            "Requirement already satisfied: pycountry==20.7.3 in /usr/local/lib/python3.7/dist-packages (from lexnlp) (20.7.3)\n",
            "Requirement already satisfied: scipy==1.5.1 in /usr/local/lib/python3.7/dist-packages (from lexnlp) (1.5.1)\n",
            "Requirement already satisfied: numpy==1.19.1 in /usr/local/lib/python3.7/dist-packages (from lexnlp) (1.19.1)\n",
            "Requirement already satisfied: us==2.0.2 in /usr/local/lib/python3.7/dist-packages (from lexnlp) (2.0.2)\n",
            "Requirement already satisfied: reporters-db==2.0.3 in /usr/local/lib/python3.7/dist-packages (from lexnlp) (2.0.3)\n",
            "Requirement already satisfied: datefinder-lexpredict==0.6.2.1 in /usr/local/lib/python3.7/dist-packages (from lexnlp) (0.6.2.1)\n",
            "Requirement already satisfied: Unidecode==1.1.1 in /usr/local/lib/python3.7/dist-packages (from lexnlp) (1.1.1)\n",
            "Requirement already satisfied: joblib==0.14.0 in /usr/local/lib/python3.7/dist-packages (from lexnlp) (0.14.0)\n",
            "Requirement already satisfied: dateparser==0.7.2 in /usr/local/lib/python3.7/dist-packages (from lexnlp) (0.7.2)\n",
            "Requirement already satisfied: num2words==0.5.10 in /usr/local/lib/python3.7/dist-packages (from lexnlp) (0.5.10)\n",
            "Requirement already satisfied: gensim==3.8.3 in /usr/local/lib/python3.7/dist-packages (from lexnlp) (3.8.3)\n",
            "Requirement already satisfied: regex==2020.7.14 in /usr/local/lib/python3.7/dist-packages (from lexnlp) (2020.7.14)\n",
            "Requirement already satisfied: nltk==3.5 in /usr/local/lib/python3.7/dist-packages (from lexnlp) (3.5)\n",
            "Requirement already satisfied: requests==2.24.0 in /usr/local/lib/python3.7/dist-packages (from lexnlp) (2.24.0)\n",
            "Requirement already satisfied: scikit-learn==0.23.1 in /usr/local/lib/python3.7/dist-packages (from lexnlp) (0.23.1)\n",
            "Requirement already satisfied: pandas==0.24.2 in /usr/local/lib/python3.7/dist-packages (from lexnlp) (0.24.2)\n",
            "Requirement already satisfied: jellyfish==0.6.1 in /usr/local/lib/python3.7/dist-packages (from us==2.0.2->lexnlp) (0.6.1)\n",
            "Requirement already satisfied: six in /usr/local/lib/python3.7/dist-packages (from reporters-db==2.0.3->lexnlp) (1.15.0)\n",
            "Requirement already satisfied: pytz in /usr/local/lib/python3.7/dist-packages (from datefinder-lexpredict==0.6.2.1->lexnlp) (2018.9)\n",
            "Requirement already satisfied: python-dateutil>=2.4.2 in /usr/local/lib/python3.7/dist-packages (from datefinder-lexpredict==0.6.2.1->lexnlp) (2.8.1)\n",
            "Requirement already satisfied: tzlocal in /usr/local/lib/python3.7/dist-packages (from dateparser==0.7.2->lexnlp) (1.5.1)\n",
            "Requirement already satisfied: docopt>=0.6.2 in /usr/local/lib/python3.7/dist-packages (from num2words==0.5.10->lexnlp) (0.6.2)\n",
            "Requirement already satisfied: smart-open>=1.8.1 in /usr/local/lib/python3.7/dist-packages (from gensim==3.8.3->lexnlp) (4.2.0)\n",
            "Requirement already satisfied: tqdm in /usr/local/lib/python3.7/dist-packages (from nltk==3.5->lexnlp) (4.41.1)\n",
            "Requirement already satisfied: click in /usr/local/lib/python3.7/dist-packages (from nltk==3.5->lexnlp) (7.1.2)\n",
            "Requirement already satisfied: chardet<4,>=3.0.2 in /usr/local/lib/python3.7/dist-packages (from requests==2.24.0->lexnlp) (3.0.4)\n",
            "Requirement already satisfied: certifi>=2017.4.17 in /usr/local/lib/python3.7/dist-packages (from requests==2.24.0->lexnlp) (2020.12.5)\n",
            "Requirement already satisfied: urllib3!=1.25.0,!=1.25.1,<1.26,>=1.21.1 in /usr/local/lib/python3.7/dist-packages (from requests==2.24.0->lexnlp) (1.24.3)\n",
            "Requirement already satisfied: idna<3,>=2.5 in /usr/local/lib/python3.7/dist-packages (from requests==2.24.0->lexnlp) (2.10)\n",
            "Requirement already satisfied: threadpoolctl>=2.0.0 in /usr/local/lib/python3.7/dist-packages (from scikit-learn==0.23.1->lexnlp) (2.1.0)\n"
          ],
          "name": "stdout"
        }
      ]
    },
    {
      "cell_type": "code",
      "metadata": {
        "colab": {
          "base_uri": "https://localhost:8080/"
        },
        "id": "7FKi8bhaUzT8",
        "outputId": "38e67f25-93f7-4d34-8602-433602952197"
      },
      "source": [
        "nltk.download('punkt')"
      ],
      "execution_count": 121,
      "outputs": [
        {
          "output_type": "stream",
          "text": [
            "[nltk_data] Downloading package punkt to /root/nltk_data...\n",
            "[nltk_data]   Package punkt is already up-to-date!\n"
          ],
          "name": "stdout"
        },
        {
          "output_type": "execute_result",
          "data": {
            "text/plain": [
              "True"
            ]
          },
          "metadata": {
            "tags": []
          },
          "execution_count": 121
        }
      ]
    },
    {
      "cell_type": "code",
      "metadata": {
        "id": "NCiY_83sUzYF"
      },
      "source": [
        "import lexnlp.extract"
      ],
      "execution_count": 122,
      "outputs": []
    },
    {
      "cell_type": "code",
      "metadata": {
        "colab": {
          "base_uri": "https://localhost:8080/"
        },
        "id": "wFOcSSSWUzbv",
        "outputId": "3b93c478-cae1-486d-8437-ae8118ee1ca8"
      },
      "source": [
        "nltk.download('wordnet')\r\n",
        "nltk.download('averaged_perceptron_tagger')"
      ],
      "execution_count": 123,
      "outputs": [
        {
          "output_type": "stream",
          "text": [
            "[nltk_data] Downloading package wordnet to /root/nltk_data...\n",
            "[nltk_data]   Package wordnet is already up-to-date!\n",
            "[nltk_data] Downloading package averaged_perceptron_tagger to\n",
            "[nltk_data]     /root/nltk_data...\n",
            "[nltk_data]   Package averaged_perceptron_tagger is already up-to-\n",
            "[nltk_data]       date!\n"
          ],
          "name": "stdout"
        },
        {
          "output_type": "execute_result",
          "data": {
            "text/plain": [
              "True"
            ]
          },
          "metadata": {
            "tags": []
          },
          "execution_count": 123
        }
      ]
    },
    {
      "cell_type": "code",
      "metadata": {
        "colab": {
          "base_uri": "https://localhost:8080/"
        },
        "id": "j3qcwhjvvB57",
        "outputId": "9be7f6c4-0646-4caf-a0f6-0a5fd9df734d"
      },
      "source": [
        "!pip install pyap"
      ],
      "execution_count": 128,
      "outputs": [
        {
          "output_type": "stream",
          "text": [
            "Collecting pyap\n",
            "  Downloading https://files.pythonhosted.org/packages/53/b2/f0f962a5385d54cd91c153df93932b4996b793f1a2145807823d7f71328d/pyap-0.3.1-py2.py3-none-any.whl\n",
            "Installing collected packages: pyap\n",
            "Successfully installed pyap-0.3.1\n"
          ],
          "name": "stdout"
        }
      ]
    },
    {
      "cell_type": "code",
      "metadata": {
        "id": "sM-PB6NCr-0o"
      },
      "source": [
        "# import all requires packages\r\n",
        "import pyap\r\n",
        "import lexnlp.extract.en.acts\r\n",
        "import lexnlp.extract.en.amounts\r\n",
        "import lexnlp.extract.en.citations\r\n",
        "import lexnlp.extract.en.entities.nltk_re\r\n",
        "import lexnlp.extract.en.conditions\r\n",
        "import lexnlp.extract.en.constraints\r\n",
        "import lexnlp.extract.en.copyright\r\n",
        "import lexnlp.extract.en.courts\r\n",
        "import lexnlp.extract.en.cusip\r\n",
        "import lexnlp.extract.en.dates\r\n",
        "import lexnlp.extract.en.definitions\r\n",
        "import lexnlp.extract.en.distances\r\n",
        "import lexnlp.extract.en.durations\r\n",
        "import lexnlp.extract.en.geoentities\r\n",
        "import lexnlp.extract.en.money\r\n",
        "import lexnlp.extract.en.percents\r\n",
        "import lexnlp.extract.en.pii\r\n",
        "import lexnlp.extract.en.ratios\r\n",
        "import lexnlp.extract.en.regulations\r\n",
        "import lexnlp.extract.en.trademarks\r\n",
        "import lexnlp.extract.en.urls\r\n",
        "import lexnlp.extract.en.addresses\r\n",
        "\r\n"
      ],
      "execution_count": 158,
      "outputs": []
    },
    {
      "cell_type": "code",
      "metadata": {
        "colab": {
          "resources": {
            "http://localhost:8080/nbextensions/google.colab/files.js": {
              "data": "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",
              "ok": true,
              "headers": [
                [
                  "content-type",
                  "application/javascript"
                ]
              ],
              "status": 200,
              "status_text": ""
            }
          },
          "base_uri": "https://localhost:8080/",
          "height": 73
        },
        "id": "b13TEcYa3ArN",
        "outputId": "a770d0e6-8bf9-4aa9-c8cf-46d91a84db6c"
      },
      "source": [
        "uploaded = files.upload() "
      ],
      "execution_count": 165,
      "outputs": [
        {
          "output_type": "display_data",
          "data": {
            "text/html": [
              "\n",
              "     <input type=\"file\" id=\"files-d2b051ae-9499-4609-9135-281dc440a7d4\" name=\"files[]\" multiple disabled\n",
              "        style=\"border:none\" />\n",
              "     <output id=\"result-d2b051ae-9499-4609-9135-281dc440a7d4\">\n",
              "      Upload widget is only available when the cell has been executed in the\n",
              "      current browser session. Please rerun this cell to enable.\n",
              "      </output>\n",
              "      <script src=\"/nbextensions/google.colab/files.js\"></script> "
            ],
            "text/plain": [
              "<IPython.core.display.HTML object>"
            ]
          },
          "metadata": {
            "tags": []
          }
        },
        {
          "output_type": "stream",
          "text": [
            "Saving 01-05-1  Adams v Tanner.txt to 01-05-1  Adams v Tanner.txt\n"
          ],
          "name": "stdout"
        }
      ]
    },
    {
      "cell_type": "code",
      "metadata": {
        "colab": {
          "base_uri": "https://localhost:8080/"
        },
        "id": "UgKlrn4T3AvU",
        "outputId": "2b80d2fb-4e6a-4c04-b3fd-99db68881628"
      },
      "source": [
        "for fn in uploaded.keys():\r\n",
        "  print('User uploaded file \"{name}\" with length {length} bytes'.format(name=fn, length=len(uploaded[fn])))"
      ],
      "execution_count": 166,
      "outputs": [
        {
          "output_type": "stream",
          "text": [
            "User uploaded file \"01-05-1  Adams v Tanner.txt\" with length 20697 bytes\n"
          ],
          "name": "stdout"
        }
      ]
    },
    {
      "cell_type": "code",
      "metadata": {
        "colab": {
          "base_uri": "https://localhost:8080/"
        },
        "id": "y4WqPB4y3Ayv",
        "outputId": "8555ef7a-4687-4c9c-e0c8-4ba6e8bb5962"
      },
      "source": [
        "uploaded"
      ],
      "execution_count": 167,
      "outputs": [
        {
          "output_type": "execute_result",
          "data": {
            "text/plain": [
              "{'01-05-1  Adams v Tanner.txt': b'\\r\\n5 Ala. 740\\r\\nSupreme Court of Alabama.\\r\\nADAMS\\r\\nv.\\r\\nTANNER AND HORTON.\\r\\nJune Term, 1843.\\r\\nSynopsis\\r\\nWRIT of Error to the Circuit Court of Sumter.\\r\\n\\xc2\\xa0\\r\\n\\r\\n\\r\\nWest Headnotes (2)\\r\\n\\r\\n\\r\\n[1]\\r\\nChattel Mortgages\\r\\nCrops\\r\\nA growing crop has such an existence as to be the subject-matter of a mortgage or other contract which passes an interest to vest in possession, either immediately or at a future time.\\r\\n4 Cases that cite this headnote\\r\\n\\r\\n[2]\\r\\nCreditors\\xe2\\x80\\x99 Remedies\\r\\nLien and Priority\\r\\nUnder St.1821, prohibiting a levy on a crop until it has been gathered, no lien attaches in favor of a fi. fa. on a growing crop, nor does such lien attach until after the crop has been gathered.\\r\\n5 Cases that cite this headnote\\r\\n\\r\\n**1 This was a trial of the right of property under the statute. In November, 1840, an execution issued from the circuit court of Sumter, at the suit of the plaintiff in error, requiring the sheriff of that county, to make of the goods, &c., of Allen Harrison and others, the sum of thirty-seven hundred and seventy-seven 80-100 dollars, besides costs. This execution was levied on thirty bales of cotton, as the property of Allen Harrison, which was claimed, and a bond given to try the right. An issue was made up to try the question of the liability of the cotton to the plaintiff\\xe2\\x80\\x99s execution, and submitted to a jury. On the trial, a bill of exceptions was sealed at the instance of the plaintiff. The plaintiff proved that he recovered his judgment in October, 1839; that an execution *741 was issued thereon on the 7th Nov. thereafter, and that alias and pluries fieri facias\\xe2\\x80\\x99, issued regularly up to the time levy was made; that the cotton levied on was growed on the plantation of Harrison, and cultivated by the hands in his service. It was proved by the claimants, by the production of a written contract, that Harrison, on the twenty-second of May, 1840, in consideration that the claimants were involved, as indorsers for Burton & Harrison of Sumter county, and were then exposed to an execution, amounting to upwards of fourteen thousand dollars, bargained and sold to the claimants all his growing crop of cotton &c., consisting of one hundred and twenty acres, &c. Allen Harrison promised and obliged himself to give up his crop to the use of the claimants at any time to save them from suffering as his indorsers; if the crop matured and was gathered he undertook to deliver the cotton in Gainesville. The claimants came from Tennessee, (where they resided) about the first of September, 1840, bringing with them three or four white laborers, and took possession of the crop and slaves, and with the latter, and white laborers, gathered the cotton, prepared it for market, and when levied on, it was in a ware-house in Gainesville. The plaintiff then proved by Harrison, that the claimants took possession of the crop, while he was absent, and disposed of it without his consent. It was admitted, that the contract was made in good faith.\\r\\nThe court charged the jury, that the plaintiff had no lien by virtue of his judgment, and execution on the growing crop; that Harrison had a right to convey it, without being in any manner restrained by them; that the writing adduced, was a sale of the crop, but if it was not, and the lien of the fieri facias would have attached upon it, when gathered, yet if the claimants obtained possession on the first of September, and controlled the gathering of the crop, then no lien attached, and it was not subject to the levy.\\r\\nAttorneys and Law Firms\\r\\nR. H. SMITH, for the plaintiff, in error, made the following points.--1. The crop of Harrison, must, in May, 1840, have been in an immature state, and it is insisted, was not the subject of a sale. 2. By the common law, a growing crop could be levied on and sold, [1 Salk. Rep. 361; 1 Bos. & P. Rep. 307; 6 East\\xe2\\x80\\x99s Rep. 604, note 1; 2 Johns. Rep. 418, 422; 7 Mass. Rep. 34,] and our statue, [[[Aik. Dig. \\xc2\\xa7 41, p. 167,] which forbids the levy of an *742 execution on a growing crop, is to receive a strict construction. It merely inhibits the levy, but the lien attaches, and a levy and sale may be made after the crop matures, and is gathered. 3. The contract does not purport to convey the growing crop, but is a mere executory agreement, requiring some act to be done by Harrison, in order to invest the claimants with the right of property. [Chit. on Con. 112, 207; 3 Johns. Rep. 338, 424; 5 Wend. Rep. 26; 13 Johns. Rep. 235; 8 Dowl. Rep, 693;] and until this act was done, the crop, no matter by who gathered, because liable to be seized for Harrison\\xe2\\x80\\x99s debts. A court of chancery would not compel a specific performance of the contract at the claimant\\xe2\\x80\\x99s instance. 4. The charge of the court is also objectionable in deciding disputed facts.\\r\\nW. M. MURPHY, with whom was W. G. JONES, for the defendant--cited the act of 1821, [Aik. Dig. 167,] which declares it to be lawful to levy an execution on a planted crop, until it is gathered, and contended that no lien attached in favor of the plaintiff. This being the case, the defendant in execution was not restrained from making the contract which he did with the claimants.\\r\\n**2 The lien of an execution is destroyed by an injunction, because it takes away the right to levy it. In short, whenever the right to levy an execution is but temporarily suspended, or withdrawn, the lien is during that time lost. [[[[Whipple v. Foot, 2 Johns. Rep. 216; 3 Wash. C. C. Rep. 66; 4 How. Rep. 130.]\\r\\nIt is admitted that the contract between the defendant in execution, and the claimants, was in good faith, if so, the severance and removal of the cotton gave the latter a good title against all creditors of the former.\\r\\nOpinion\\r\\n\\r\\nCOLLIER, C. J.\\r\\n\\r\\nThere can be no doubt that a growing crop has such an existence as to be the subject matter of a sale, mortgage, or other contract which possess an interest to vest in possession, either immediately or at some future time. This proposition has frequently been assumed as unquestionable; the point of inquiry generally being, whether under a statute of frauds, such as the 29 Chas. 2, it is a mere chattel, and transferrable by parol without writing. [Chitty on Con. 241-2, 332; Whipple v. Foot, 2 Johns. Rep. 422; Stewart v. Doughty, 9 Johns. Rep. 112; *743 Austin v. Sawyer, 9 Cow. Rep. 39. See also Ravesies v. Lee & Alston, at last term.] The contract set out in the bill of exceptions, we are inclined to think evidences rather a mortgage than an absolute sale. It recites that the claimants are involved as indorsers of a mercantile firm, of which the defendant was a partner; that an execution for upwards of fourteen thousand dollars against their estate, is in the sheriff\\xe2\\x80\\x99s hands, and that a conveyance is made of the crop of cotton, corn and oats, which the grantor agrees to give up at any time to the use of the claimants, so as to prevent injury to them as indorsers. The defendant in execution might at any time have divested the interest which the contract vested in the claimants, by discharging their liability as his indorsers, or a judgment creditor might have satisfied the lien, and when the crop was gathered, have levied on, and sold it under a fieri facias.\\r\\nWe will then consider the writing under which the claimants assert a right, as a mortgage with a power to take possession any time during the year, unless they should be relieved from their engagements as indorsers. It is not pretended that their liability has been satisfied, and it is admitted that the parties have acted with good faith, so that it is a dry question of law, whether the right of the plaintiff, or the claimants shall prevail. Assuming for the present that the execution of the plaintiffs did not operate a lien upon the planted crop previous to the contract of May, 1840, we will inquire whether the defendant in execution had such an interest as could be levied on and sold.\\r\\nThe claimants had previous to the levy of the execution taken possession of the crop, prepared the cotton for market, and removed it to a ware-house. This possession, it is insisted, was a trespass, because it was acquired in the absence of the defendant in execution, and without his consent then given. Conceding the truth of the facts stated in the bill of exceptions, and we think it will not follow, that the possession of the claimants is a nullity, and that the case must be considered as if they had never interfered with the crop. The contract contains an express undertaking to give up the crop at any time the claimants might require it for their indemnity, and if they took possession of it in the absence of the grantor, (though without his consent,) if he subsequently acquiesced in it, the inference would be, if necessary, that their acts were approved by him. Taking this to be clear *744 law, and it will be seen, that the defendant in execution at the time of the levy had nothing more than a mere equitable right to redeem the cotton by paying the debts indorsed by the claimants. He had no possession coupled with this equity, but only a naked equity, which it has been held cannot be reached by an ordinary execution. [Perkins and Elliott v. Mayfield, 5 Porter\\xe2\\x80\\x99s Rep. 182.]\\r\\n**3 This brings us back to the question, whether the execution of the plaintiff was a lien on the growing crop, so as to defeat the mortgage to the claimants. It has been frequently mooted whether, at common law, corn, &c., before it is gathered, can be seized under a fieri facias. Mr. Dane, in remarking upon this point, says, \\xe2\\x80\\x9cThe American editor of Bacon\\xe2\\x80\\x99s Abridgment, says, \\xe2\\x80\\x98Wheat growing in the ground is a chattel, and subject to be taken in execution; and the sheriff may suffer it to grow till harvest, and then cut and sell it; or may perhaps sell it growing, and the purchaser will then be entitled to enter, for the purpose of cutting and carrying it away.\\xe2\\x80\\x9d [He cites Whipple v. Foot, ut supra, also Poole\\xe2\\x80\\x99s case, Salk. 368; 1 Bos. & P. 397; 6 East, 604, n.] But Whipple v. Foot seems to be the only case that supports his position, that unripe wheat or corn may be taken in execution; and the same editor states that nothing can be taken in execution which cannot be sold. This position, says the learned commentator, is no doubt law. But it is unnecessary to consider how this matter stands at common law. The first section of the act of 1821, \\xe2\\x80\\x9cTo prevent sheriffs and other officers from levying executions in certain cases, enacts, that \\xe2\\x80\\x9cIt shall not be lawful for any sheriff or other officer, to levy a writ of fieri facias or other execution on the planted crop of a debtor, or person against whom an execution may issue, until the crop is gathered.\\xe2\\x80\\x9d [Aik. Dig. 167.] Now here is an express inhibition to levy an execution on a crop while it remains on, or in the ground, and until it is severed from the soil to which it owes its growth. In respect to property thus situated, will the lien of an execution attach eo instanti upon its being placed in the hands of an officer? If so, the act cited, will only have the effect of keeping the right to levy it in abeyance until the crop is gathered. The lien of an execution does, not only operate so as to prevent the debtor from disposing of the property on which it attaches, but gives to the creditor the right to have it sold to satisfy his *745 judgment. The lien and the right to levy are intimately connected, and if the latter be taken away, or suspended, the effect, at common law, is the destruction of the former. This principle is fully established by Mansony and Hurtell v. The President, &c. of the Bank of the United States, and its assignees, and the citations contained in the opinion of the court in that case, as also in my opinion in Wood v. Gary, et al., both decided at the last term. That it was competent for the legislature to have made it unlawful to levy an execution on particular property, until its condition was changed, and still to give it a continuing lien, cannot be doubted; but there is nothing in the act in question to indicate that such is its intention. If the object was merely to suspend the sale, until the crop was gathered, it would have been very easy to have said so in explicit terms, but declaring as the statute does, in totidem verbis, that the execution shall not be levied, the legislature must be supposed to have meant what they have expressed. The act was induced by the doubts which existed as to what was the common law, and was intended to remove those doubts by declaring what should be the law in future. It does not create a lien or authorize a levy in a case in which the law, as it then existed, was silent. The idea that the lien attached upon the planted crop as soon as the execution was delivered to the sheriff, though the right to levy it was postponed until a severance took place, is attempted to be deduced from the last words of the section cited, viz: \\xe2\\x80\\x9cuntil the crop is gathered.\\xe2\\x80\\x9d These words cannot, upon any just principles of construction be regarded so potent as to give to an execution a retrospective effect. They do not refer to the lien, if they did they would postpone it until the crop was gathered; but it is the levy they relate to and postpone until that event takes place.\\r\\n**4 The right to levy an execution on a planted crop, then, being expressly taken away by the statute, the lien which is connected with and consequent upon that right, never attaches until severance. This being the case, the right of the defendant in execution to make the contract which he did, is unquestionable, and the title of the claimants, coupled as it was with the possession, was paramount to any lien which the execution could exert.\\r\\nThe circuit judge may have mistaken the law in supposing that the contract was a sale, but if he did, an error in that respect was very immaterial, for whether a sale or mortgage, as we have *746 seen, under the facts of the case, the defendant in execution has no interest that could be seised and sold under execution. There is no assumption of any material fact in the charge; but the possession of the claimant, the time when acquired, the gathering of the crop, &c., are all referred to the determination of the jury; who are instructed, if they find them according to the evidence adduced, that no lien ever attached in favor of the plaintiff. The bona fides of the contract was conceded, so that no charge was necessary on that point, and it could not with propriety enter into the inquiry of the jury.\\r\\nIt results from what has been said, that the judgment of the circuit court is affirmed.\\r\\n\\r\\nDISSENTING OPINION.\\r\\n\\r\\nORMOND, J.\\r\\n**4 The statute which presents the question before the court is, that \\xe2\\x80\\x9cit shall not be lawful for any sheriff or other officer to levy a writ of fieei facias or other execution, on the planted crop of a debtor, or person against whom an execution may issue, until the crop is gathered.\\xe2\\x80\\x9d [Clay\\xe2\\x80\\x99s Dig. 210, \\xc2\\xa7 46.]\\r\\nI shall not enter upon the enquiry, whether, at common law, an execution could be levied upon a growing crop, though I apprehend, it would not be difficult to maintain the affirmative of the proposition. It is sufficient for my purpose, that the statute supposes such to have been the law, as it doubtless was the practice.\\r\\nThis act must be considered in connection with the other acts upon the same subject. The policy of the State, as indicated by these statutes, is undeniably that all the property of a debtor, real and personal, to which he has a legal title, shall be subject to sale by execution, and it appears to me that it would be difficult to assign a reason for the exemption of this species of property from the claims of judgment creditors, and for giving to the defendant in execution the right to dispose of it. It appears to me, with all deference, that the argument that because the sheriff was prohibited from levying on a \\xe2\\x80\\x9c\\xe2\\x80\\x9cplanted crop,\\xe2\\x80\\x9d that therefore the execution had lost its lien, and the debtor had the right to sell it, is a non sequitur. The mischief which the statute designed to remedy was, the sacrifice which would be necessarily made by the sale of an immature crop: the statute enables the debtor to retain it until it matures, and by severing it from the soil to put it *747 in a condition to bring its value--the lien in the mean time continuing in the plaintiff in execution.\\r\\n**5 If further confirmation of the correctness of this view were necessary, it will be found, I think, in the language employed by the legislature. The sheriff is forbidden to levy on a \\xe2\\x80\\x9cplanted crop\\xe2\\x80\\x9d until the crop is gathered. Now, if the view taken by the majority of the court, is correct, the right secured to the plaintiff in execution, of levying on the crop after it is gathered, may be frustrated, as it was in this case, by a sale by the defendant in execution, whilst the crop is in an immature state. The construction which has been put upon the statute, involves the singular anomaly, that the legislature, for the protection of the debtor, has forbidden the plaintiff in execution to sell the property of his debtor, because it is not in a condition to bring its value, and yet permits the debtor, voluntarily, by a sale, to submit to the same sacrifice, for his own benefit. It is, in effect, a gift to the defendant in execution, of the growing crop, provided he does not gather it himself, but disposes of it in its then condition. This, I feel a thorough conviction, was not the intention of the legislature; but that it was to secure him from loss, by prohibiting a levy and sale of the crop, until it was gathered, when the temporary suspension of the right to sell, ceased.\\r\\nAll Citations\\r\\n5 Ala. 740, 1843 WL 284\\r\\nEnd of Document\\r\\n\\xc2\\xa9 2019 Thomson Reuters. No claim to original U.S. Government Works.\\r\\nCiting References (9)\\r\\nTreatment\\r\\nTitle\\r\\nDate\\r\\nType\\r\\nDepth\\r\\nHeadnote(s)\\r\\nCited by\\r\\n1.  Booker v. Jones\\xe2\\x80\\x99s Adm\\xe2\\x80\\x99x\\r\\n55 Ala. 266, 271 , Ala.\\r\\nTrover for Conversion of Cotton, with Counts in Case. APPEAL from the Circuit Court of Hale. Tried before the Hon. M. J. SAFFOLD.\\r\\nDec Term 1876\\r\\nCase\\r\\n\\xe2\\x80\\x94\\r\\nCited by\\r\\n2.  Lehman, Durr & Co. v. Marshall\\r\\n47 Ala. 362, 376 , Ala.\\r\\n[TROVER FOR CONVERSION OF COTTON.] APPEAL from the City Court of Montgomery. Tried before Hon. JOHN D. CUNNINGHAM.\\r\\nJan Term 1872\\r\\nCase\\r\\n\\xe2\\x80\\x94\\r\\nCited by\\r\\n3.  Bibb v. Janney\\r\\n45 Ala. 329, 334 , Ala.\\r\\n[GARNISHMENT; WAGES; WAIVER OF EXEMPTION.] APPEAL from City Court of Montgomery. Tried before Hon. JOHN D. CUNNINGHAM.\\r\\nJan Term 1871\\r\\nCase\\r\\n\\xe2\\x80\\x94\\r\\nCited by\\r\\n4.  McKenzie v. Lampley\\r\\n31 Ala. 526, 527 , Ala.\\r\\n[TRIAL OF RIGHT OF PROPERTY IN COTTON.] APPEAL from the Circuit Court of Barbour. Tried before the Hon. S. D. HALE.\\r\\nJan Term 1858\\r\\nCase\\r\\n\\xe2\\x80\\x94\\r\\nCited by\\r\\n5.  Evans v. Lamar\\r\\n21 Ala. 333, 335+ , Ala.\\r\\nERROR to the Circuit Court of Autauga. Tried before the Hon. A. B. MOORE.\\r\\nJun Term 1852\\r\\nCase\\r\\n\\xe2\\x80\\x94\\r\\nCited by\\r\\n 6.  Dewey v. Bowman\\r\\n8 Cal. 145, 147 , Cal.\\r\\nThe judgment of the Court below, against Jacob S. Cohen, should be reversed, for the following reasons: Because the finding of the Court was, so far as Cohen was concerned,...\\r\\nJul Term 1857\\r\\nCase\\r\\n\\xe2\\x80\\x94\\r\\nMentioned by\\r\\n7.  Rees v. Coats\\r\\n65 Ala. 256, 258 , Ala.\\r\\nTrover for Conversion of Three Bales of Cotton. APPEAL from the Circuit Court of Etowah. Tried before the Hon. WM. L. WHITLOCK.\\r\\nNov Term 1880\\r\\nCase\\r\\n\\xe2\\x80\\x94\\r\\nMentioned by\\r\\n8.  Edwards v. Thompson\\r\\n4 S.W. 913, 914 , Tenn.\\r\\nAppeal from circuit court, Weakley county.\\r\\nMay 1887\\r\\nCase\\r\\n\\xe2\\x80\\x94\\r\\n\\xe2\\x80\\x94\\r\\n9.  Growing crops as subject to levy and seizure under attachment or execution\\r\\n103 A.L.R. 464\\r\\nGenerally, at common law, growing crops raised by annual planting, while still attached to the soil, are regarded as personal chattels, subject to levy and seizure under attachment...\\r\\n1936\\r\\nALR\\r\\n\\xe2\\x80\\x94\\r\\n\\xe2\\x80\\x94\\r\\nTable of Authorities (3)\\r\\nTreatment\\r\\nReferenced Title\\r\\nType\\r\\nDepth\\r\\nQuoted\\r\\nPage Number\\r\\nMentioned\\r\\n1.  Austin v. Sawyer\\r\\n9 Cow. 39, N.Y.Sup., 1828\\r\\nParol evidence is not admissible to contradict, or substantially vary, a written contract. And where A. quit-claimed land to W., on which a crop of wheat was growing, reserving the...\\r\\nCase\\r\\n2\\r\\nCited\\r\\n 2.  Perkins v. Mayfield\\r\\n5 Port. 182, Ala., 1837\\r\\nOn writ of error to the Circuit Court of Tuskaloosa.\\r\\nCase\\r\\n2+\\r\\nMentioned\\r\\n3.  Stewart v. Doughty\\r\\n9 Johns. 108, N.Y.Sup., 1812\\r\\nA. let to B. a farm for six years, and A. agreed \\xe2\\x80\\x9cto render, yield and pay to A. the one half of all the wheat, rye, corn and other grain, raised on the farm in each year, in the...\\r\\nCase\\r\\n2\\r\\nFilings\\r\\nThere are no Filings for this citation.\\r\\nNegative Treatment\\r\\nThere are no Negative Treatment results for this citation.\\r\\nHistory\\r\\nThere are no History results for this citation.\\r\\n'}"
            ]
          },
          "metadata": {
            "tags": []
          },
          "execution_count": 167
        }
      ]
    },
    {
      "cell_type": "code",
      "metadata": {
        "id": "2QP2H1V93A1x"
      },
      "source": [
        "#df = pd.read_csv('Article.csv', header= 0, encoding= 'unicode_escape')\r\n",
        "#df"
      ],
      "execution_count": null,
      "outputs": []
    },
    {
      "cell_type": "code",
      "metadata": {
        "id": "swcphaS_0WBs"
      },
      "source": [
        "import requests\r\n",
        "results=requests.get(\"https://raw.githubusercontent.com/unt-iialab/info5731_spring2021/main/class_exercises/01-05-1%20%20Adams%20v%20Tanner.txt\")\r\n",
        "ref=results.text"
      ],
      "execution_count": 178,
      "outputs": []
    },
    {
      "cell_type": "code",
      "metadata": {
        "colab": {
          "base_uri": "https://localhost:8080/"
        },
        "id": "FgOjSIJcvjfP",
        "outputId": "16a108b7-d074-4372-f659-6cf57f21b937"
      },
      "source": [
        "if lexnlp.extract.en.acts.get_act_list(ref):\r\n",
        "  print('Acts: ', lexnlp.extract.en.acts.get_act_list(ref))\r\n",
        "else:\r\n",
        "  print('Acts: ','None') "
      ],
      "execution_count": 181,
      "outputs": [
        {
          "output_type": "stream",
          "text": [
            "Acts:  None\n"
          ],
          "name": "stdout"
        }
      ]
    },
    {
      "cell_type": "code",
      "metadata": {
        "colab": {
          "base_uri": "https://localhost:8080/"
        },
        "id": "uCVJu1mL7KUx",
        "outputId": "f34d6c9a-ad0c-42e7-95aa-ffebb75222e2"
      },
      "source": [
        "if lexnlp.extract.en.amounts.get_amounts(ref):\r\n",
        "  print('Amounts: ', list (lexnlp.extract.en.amounts.get_amounts(ref)))\r\n",
        "else:\r\n",
        "  print('Amounts: ','None') "
      ],
      "execution_count": 185,
      "outputs": [
        {
          "output_type": "stream",
          "text": [
            "Amounts:  [Decimal('5.0'), Decimal('740.0'), Decimal('1843.0'), Decimal('2.0'), Decimal('1.0'), Decimal('4.0'), Decimal('2.0'), Decimal('1821.0'), Decimal('5.0'), Decimal('1.0'), Decimal('1840.0'), Decimal('3777.0'), Decimal('80.0'), Decimal('100.0'), Decimal('30.0'), Decimal('1839.0'), Decimal('741.0'), Decimal('22.0'), Decimal('1840.0'), Decimal('14000.0'), Decimal('120.0'), Decimal('1.0'), Decimal('1840.0'), Decimal('3.0'), Decimal('4.0'), Decimal('1.0'), Decimal('1.0'), Decimal('1840.0'), Decimal('2.0'), Decimal('1.0'), Decimal('361.0'), Decimal('1.0'), Decimal('307.0'), Decimal('6.0'), Decimal('604.0'), Decimal('1.0'), Decimal('2.0'), Decimal('418.0'), Decimal('422.0'), Decimal('7.0'), Decimal('34.0'), Decimal('41.0'), Decimal('167.0'), Decimal('742.0'), Decimal('3.0'), Decimal('112.0'), Decimal('207.0'), Decimal('3.0'), Decimal('338.0'), Decimal('424.0'), Decimal('5.0'), Decimal('26.0'), Decimal('13.0'), Decimal('235.0'), Decimal('8.0'), Decimal('693.0'), Decimal('4.0'), Decimal('1821.0'), Decimal('167.0'), Decimal('2.0'), Decimal('2.0'), Decimal('216.0'), Decimal('3.0'), Decimal('66.0'), Decimal('4.0'), Decimal('130.0'), Decimal('29.0'), Decimal('2.0'), Decimal('241.0'), Decimal('2.0'), Decimal('332.0'), Decimal('2.0'), Decimal('422.0'), Decimal('9.0'), Decimal('112.0'), Decimal('743.0'), Decimal('9.0'), Decimal('39.0'), Decimal('14000.0'), Decimal('1840.0'), Decimal('744.0'), Decimal('5.0'), Decimal('182.0'), Decimal('3.0'), Decimal('368.0'), Decimal('1.0'), Decimal('397.0'), Decimal('6.0'), Decimal('604.0'), Decimal('1.0'), Decimal('1821.0'), Decimal('167.0'), Decimal('745.0'), Decimal('4.0'), Decimal('746.0'), Decimal('4.0'), Decimal('210.0'), Decimal('46.0'), Decimal('747.0'), Decimal('5.0'), Decimal('5.0'), Decimal('740.0'), Decimal('1843.0'), Decimal('284.0'), Decimal('2019.0'), Decimal('9.0'), Decimal('1.0'), Decimal('55.0'), Decimal('266.0'), Decimal('271.0'), Decimal('1876.0'), Decimal('2.0'), Decimal('47.0'), Decimal('362.0'), Decimal('376.0'), Decimal('1872.0'), Decimal('3.0'), Decimal('45.0'), Decimal('329.0'), Decimal('334.0'), Decimal('1871.0'), Decimal('4.0'), Decimal('31.0'), Decimal('526.0'), Decimal('527.0'), Decimal('1858.0'), Decimal('5.0'), Decimal('21.0'), Decimal('333.0'), Decimal('335.0'), Decimal('1852.0'), Decimal('6.0'), Decimal('8.0'), Decimal('145.0'), Decimal('147.0'), Decimal('1857.0'), Decimal('7.0'), Decimal('65.0'), Decimal('256.0'), Decimal('258.0'), Decimal('3.0'), Decimal('1880.0'), Decimal('8.0'), Decimal('4.0'), Decimal('913.0'), Decimal('914.0'), Decimal('1887.0'), Decimal('9.0'), Decimal('103.0'), Decimal('464.0'), Decimal('1936.0'), Decimal('3.0'), Decimal('1.0'), Decimal('9.0'), Decimal('39.0'), Decimal('1828.0'), Decimal('2.0'), Decimal('2.0'), Decimal('5.0'), Decimal('182.0'), Decimal('1837.0'), Decimal('2.0'), Decimal('3.0'), Decimal('9.0'), Decimal('108.0'), Decimal('1812.0'), Decimal('6.0'), Decimal('1.0'), Decimal('2.0')]\n"
          ],
          "name": "stdout"
        }
      ]
    },
    {
      "cell_type": "code",
      "metadata": {
        "colab": {
          "base_uri": "https://localhost:8080/"
        },
        "id": "t8LjsrIW7KX1",
        "outputId": "86a77d53-bb3b-4582-8a48-07cd62c121f1"
      },
      "source": [
        "if lexnlp.extract.en.citations.get_citations(ref):\r\n",
        "  print('citations: ', list (lexnlp.extract.en.citations.get_citations(ref)))\r\n",
        "else:\r\n",
        "  print('citations: ','None') "
      ],
      "execution_count": 186,
      "outputs": [
        {
          "output_type": "stream",
          "text": [
            "citations:  [(5, 'Ala.', 'Alabama Reports', 740, None, None, None), (5, 'Ala.', 'Alabama Reports', 740, '1843', None, None), (55, 'Ala.', 'Alabama Reports', 266, '271', None, None), (47, 'Ala.', 'Alabama Reports', 362, '376', None, None), (45, 'Ala.', 'Alabama Reports', 329, '334', None, None), (31, 'Ala.', 'Alabama Reports', 526, '527', None, None), (21, 'Ala.', 'Alabama Reports', 333, '335', None, None), (8, 'Cal.', 'California Reports', 145, '147', None, None), (65, 'Ala.', 'Alabama Reports', 256, '258', None, None), (4, 'S.W.', 'South Western Reporter', 913, '914', None, None), (103, 'A.L.R.', 'American Law Reports', 464, None, None, None), (9, 'Cow.', \"Cowen's Reports\", 39, None, None, None), (5, 'Port.', 'Alabama Reports, Porter', 182, None, None, None), (9, 'Johns.', \"Johnson's Reports\", 108, None, None, None)]\n"
          ],
          "name": "stdout"
        }
      ]
    },
    {
      "cell_type": "code",
      "metadata": {
        "colab": {
          "base_uri": "https://localhost:8080/"
        },
        "id": "6roi_Vtq7Kas",
        "outputId": "90b211af-f968-4858-b64e-51e7e7b8665d"
      },
      "source": [
        "if lexnlp.extract.en.entities.nltk_re.get_companies(ref):\r\n",
        "  print('companies: ', list (lexnlp.extract.en.entities.nltk_re.get_companies(ref)))\r\n",
        "else:\r\n",
        "  print('companies: ','None') "
      ],
      "execution_count": 187,
      "outputs": [
        {
          "output_type": "stream",
          "text": [
            "companies:  [Lehman, Durr Co, (18055, 18073)]\n"
          ],
          "name": "stdout"
        }
      ]
    },
    {
      "cell_type": "code",
      "metadata": {
        "colab": {
          "base_uri": "https://localhost:8080/"
        },
        "id": "rcCCbZm67Kdk",
        "outputId": "59cdc883-50fb-4511-8465-e0912491edfc"
      },
      "source": [
        "if lexnlp.extract.en.conditions.get_conditions(ref):\r\n",
        "  print('conditions: ', list (lexnlp.extract.en.conditions.get_conditions(ref)))\r\n",
        "else:\r\n",
        "  print('conditions: ','None') "
      ],
      "execution_count": 188,
      "outputs": [
        {
          "output_type": "stream",
          "text": [
            "conditions:  [('until', '[2]\\r\\nCreditors’ Remedies\\r\\nLien and Priority\\r\\nUnder St.1821, prohibiting a levy on a crop', ''), ('until', 'on a growing crop, nor does such lien attach', ''), ('if', 'It was proved by the claimants, by the production of a written contract, that Harrison, on the twenty-second of May, 1840, in consideration that the claimants were involved, as indorsers for Burton & Harrison of Sumter county, and were then exposed to an execution, amounting to upwards of fourteen thousand dollars, bargained and sold to the claimants all his growing crop of cotton &c., consisting of one hundred and twenty acres, &c. Allen Harrison promised and obliged himself to give up his crop to the use of the claimants at any time to save them from suffering as his indorsers;', ''), ('when', 'The claimants came from Tennessee, (where they resided) about the first of September, 1840, bringing with them three or four white laborers, and took possession of the crop and slaves, and with the latter, and white laborers, gathered the cotton, prepared it for market, and', ''), ('if', 'The court charged the jury, that the plaintiff had no lien by virtue of his judgment, and execution on the growing crop; that Harrison had a right to convey it, without being in any manner restrained by them; that the writing adduced, was a sale of the crop, but', ''), ('when', 'it was not, and the lien of the fieri facias would have attached upon it,', ''), ('if', 'gathered, yet', ''), ('not subject to', 'the claimants obtained possession on the first of September, and controlled the gathering of the crop, then no lien attached, and it was', ''), ('until', 'Rep, 693;] and', ''), ('until', '167,] which declares it to be lawful to levy an execution on a planted crop,', ''), ('if', 'It is admitted that the contract between the defendant in execution, and the claimants, was in good faith,', ''), ('when', 'The defendant in execution might at any time have divested the interest which the contract vested in the claimants, by discharging their liability as his indorsers, or a judgment creditor might have satisfied the lien, and', ''), ('unless', 'We will then consider the writing under which the claimants assert a right, as a mortgage with a power to take possession any time during the year,', ''), ('if', 'Conceding the truth of the facts stated in the bill of exceptions, and we think it will not follow, that the possession of the claimants is a nullity, and that the case must be considered as', ''), ('if', 'The contract contains an express undertaking to give up the crop at any time the claimants might require it for their indemnity, and', ''), ('if', 'they took possession of it in the absence of the grantor, (though without his consent,)', ''), ('if', 'he subsequently acquiesced in it, the inference would be,', ''), ('subject to', 'Mr. Dane, in remarking upon this point, says, “The American editor of Bacon’s Abridgment, says, ‘Wheat growing in the ground is a chattel, and', ''), ('until', 'The first section of the act of 1821, “To prevent sheriffs and other officers from levying executions in certain cases, enacts, that “It shall not be lawful for any sheriff or other officer, to levy a writ of fieri facias or other execution on the planted crop of a debtor, or person against whom an execution may issue,', ''), ('until', 'Now here is an express inhibition to levy an execution on a crop while it remains on, or in the ground, and', ''), ('until', 'If so, the act cited, will only have the effect of keeping the right to levy it in abeyance', ''), ('if', 'The lien and the right to levy are intimately connected, and', ''), ('until', 'That it was competent for the legislature to have made it unlawful to levy an execution on particular property,', ''), ('until', 'If the object was merely to suspend the sale,', ''), ('as soon as', 'The idea that the lien attached upon the planted crop', ''), ('until', 'the execution was delivered to the sheriff, though the right to levy it was postponed', ''), ('if', 'They do not refer to the lien,', ''), ('until', 'they did they would postpone it', ''), ('until', 'the crop was gathered; but it is the levy they relate to and postpone', ''), ('until', '**4 The right to levy an execution on a planted crop, then, being expressly taken away by the statute, the lien which is connected with and consequent upon that right, never attaches', ''), ('if', 'The circuit judge may have mistaken the law in supposing that the contract was a sale, but', ''), ('when', 'There is no assumption of any material fact in the charge; but the possession of the claimant, the time', ''), ('if', 'acquired, the gathering of the crop, &c., are all referred to the determination of the jury; who are instructed,', ''), ('until', '**4 The statute which presents the question before the court is, that “it shall not be lawful for any sheriff or other officer to levy a writ of fieei facias or other execution, on the planted crop of a debtor, or person against whom an execution may issue,', ''), ('subject to', 'The policy of the State, as indicated by these statutes, is undeniably that all the property of a debtor, real and personal, to which he has a legal title, shall be', ''), ('until', 'The mischief which the statute designed to remedy was, the sacrifice which would be necessarily made by the sale of an immature crop: the statute enables the debtor to retain it', ''), ('if', '**5', ''), ('until', 'The sheriff is forbidden to levy on a “planted crop”', ''), ('if', 'Now,', ''), ('until', 'This, I feel a thorough conviction, was not the intention of the legislature; but that it was to secure him from loss, by prohibiting a levy and sale of the crop,', ''), ('when', 'it was gathered,', ''), ('subject to', 'Growing crops as', ''), ('subject to', '464\\r\\nGenerally, at common law, growing crops raised by annual planting, while still attached to the soil, are regarded as personal chattels,', ''), ('where', 'And', '')]\n"
          ],
          "name": "stdout"
        }
      ]
    },
    {
      "cell_type": "code",
      "metadata": {
        "colab": {
          "base_uri": "https://localhost:8080/"
        },
        "id": "Ouy3Ql3Z7Kgn",
        "outputId": "db81fa77-8ed2-40b4-f5e9-cbff7d3e2de3"
      },
      "source": [
        "if lexnlp.extract.en.constraints.get_constraints(ref):\r\n",
        "  print('constraints: ', list (lexnlp.extract.en.constraints.get_constraints(ref)))\r\n",
        "else:\r\n",
        "  print('constraints: ','None') "
      ],
      "execution_count": 189,
      "outputs": [
        {
          "output_type": "stream",
          "text": [
            "constraints:  [('after', 'on a growing crop, nor does such lien attach until', ''), ('after', '', ' and that alias and pluries fieri facias’, issued regularly up to the time levy was made; that the cotton levied on was growed on the plantation of harrison, and cultivated by the hands in his service.'), ('first of', 'the claimants came from tennessee, (where they resided) about the', ''), ('first of', 'the court charged the jury, that the plaintiff had no lien by virtue of his judgment, and execution on the growing crop; that harrison had a right to convey it, without being in any manner restrained by them; that the writing adduced, was a sale of the crop, but if it was not, and the lien of the fieri facias would have attached upon it, when gathered, yet if the claimants obtained possession on the', ''), ('after', 'it merely inhibits the levy, but the lien attaches, and a levy and sale may be made', ''), ('more than', 'taking this to be clear *744 law, and it will be seen, that the defendant in execution at the time of the levy had nothing', ''), ('before', 'it has been frequently mooted whether, at common law, corn, &c.,', ''), ('before', '**4 the statute which presents the question', ''), ('after', 'now, if the view taken by the majority of the court, is correct, the right secured to the plaintiff in execution, of levying on the crop', ''), ('before', 'tried', ''), ('before', 'tried', ''), ('before', 'tried', ''), ('before', 'tried', ''), ('before', 'tried', ''), ('before', 'tried', '')]\n"
          ],
          "name": "stdout"
        }
      ]
    },
    {
      "cell_type": "code",
      "metadata": {
        "colab": {
          "base_uri": "https://localhost:8080/"
        },
        "id": "BoM0JX2H7Kjl",
        "outputId": "fa22e4c0-b7eb-49dc-adaf-0335ffee5881"
      },
      "source": [
        "if lexnlp.extract.en.copyright.get_copyright(ref):\r\n",
        "  print('copyright: ', list (lexnlp.extract.en.copyright.get_copyright(ref)))\r\n",
        "else:\r\n",
        "  print('copyright: ','None') "
      ],
      "execution_count": 190,
      "outputs": [
        {
          "output_type": "stream",
          "text": [
            "copyright:  [('©', '2019', 'Thomson Reuters. No')]\n"
          ],
          "name": "stdout"
        }
      ]
    },
    {
      "cell_type": "code",
      "metadata": {
        "colab": {
          "base_uri": "https://localhost:8080/"
        },
        "id": "ESvCBlp_EEh4",
        "outputId": "0c4668b4-5bd6-4371-9753-a123f179142c"
      },
      "source": [
        "!pip install -U nltk "
      ],
      "execution_count": 204,
      "outputs": [
        {
          "output_type": "stream",
          "text": [
            "Requirement already up-to-date: nltk in /usr/local/lib/python3.7/dist-packages (3.5)\n",
            "Requirement already satisfied, skipping upgrade: click in /usr/local/lib/python3.7/dist-packages (from nltk) (7.1.2)\n",
            "Requirement already satisfied, skipping upgrade: joblib in /usr/local/lib/python3.7/dist-packages (from nltk) (0.14.0)\n",
            "Requirement already satisfied, skipping upgrade: tqdm in /usr/local/lib/python3.7/dist-packages (from nltk) (4.41.1)\n",
            "Requirement already satisfied, skipping upgrade: regex in /usr/local/lib/python3.7/dist-packages (from nltk) (2020.7.14)\n"
          ],
          "name": "stdout"
        }
      ]
    },
    {
      "cell_type": "code",
      "metadata": {
        "colab": {
          "base_uri": "https://localhost:8080/",
          "height": 367
        },
        "id": "MKd1SGdx7Ksg",
        "outputId": "ba341377-d531-4cfb-b2ee-284cd4507d1c"
      },
      "source": [
        "import pandas as pd\r\n",
        "from lexnlp.extract.en.dict_entities import entity_config\r\n",
        "court_df = pd.read_csv(\"https://raw.githubusercontent.com/LexPredict/lexpredict-legal-dictionary/1.0.5/en/legal/us_courts.csv\")\r\n",
        "court_config_data = []\r\n",
        "for _, row in court_df.iterrows():\r\n",
        "    c = lexnlp.extract.en.dict_entities.entity_config(row[\"Court ID\"], row[\"Court Name\"], 0, row[\"Alias\"].split(\";\") if not pd.isnull(row[\"Alias\"]) else [])\r\n",
        "    court_config_data.append(c)\r\n",
        "for entity, alias in lexnlp.extract.en.courts.get_courts(ref, court_config_data):\r\n",
        "    print(\"entity=\", entity)\r\n",
        "    print(\"alias=\", alias)\r\n",
        "\r\n",
        "\r\n"
      ],
      "execution_count": 208,
      "outputs": [
        {
          "output_type": "error",
          "ename": "ImportError",
          "evalue": "ignored",
          "traceback": [
            "\u001b[0;31m---------------------------------------------------------------------------\u001b[0m",
            "\u001b[0;31mImportError\u001b[0m                               Traceback (most recent call last)",
            "\u001b[0;32m<ipython-input-208-63589e98626d>\u001b[0m in \u001b[0;36m<module>\u001b[0;34m()\u001b[0m\n\u001b[1;32m      1\u001b[0m \u001b[0;32mimport\u001b[0m \u001b[0mpandas\u001b[0m \u001b[0;32mas\u001b[0m \u001b[0mpd\u001b[0m\u001b[0;34m\u001b[0m\u001b[0;34m\u001b[0m\u001b[0m\n\u001b[0;32m----> 2\u001b[0;31m \u001b[0;32mfrom\u001b[0m \u001b[0mlexnlp\u001b[0m\u001b[0;34m.\u001b[0m\u001b[0mextract\u001b[0m\u001b[0;34m.\u001b[0m\u001b[0men\u001b[0m\u001b[0;34m.\u001b[0m\u001b[0mdict_entities\u001b[0m \u001b[0;32mimport\u001b[0m \u001b[0mentity_config\u001b[0m\u001b[0;34m\u001b[0m\u001b[0;34m\u001b[0m\u001b[0m\n\u001b[0m\u001b[1;32m      3\u001b[0m \u001b[0mcourt_df\u001b[0m \u001b[0;34m=\u001b[0m \u001b[0mpd\u001b[0m\u001b[0;34m.\u001b[0m\u001b[0mread_csv\u001b[0m\u001b[0;34m(\u001b[0m\u001b[0;34m\"https://raw.githubusercontent.com/LexPredict/lexpredict-legal-dictionary/1.0.5/en/legal/us_courts.csv\"\u001b[0m\u001b[0;34m)\u001b[0m\u001b[0;34m\u001b[0m\u001b[0;34m\u001b[0m\u001b[0m\n\u001b[1;32m      4\u001b[0m \u001b[0mcourt_config_data\u001b[0m \u001b[0;34m=\u001b[0m \u001b[0;34m[\u001b[0m\u001b[0;34m]\u001b[0m\u001b[0;34m\u001b[0m\u001b[0;34m\u001b[0m\u001b[0m\n\u001b[1;32m      5\u001b[0m \u001b[0;32mfor\u001b[0m \u001b[0m_\u001b[0m\u001b[0;34m,\u001b[0m \u001b[0mrow\u001b[0m \u001b[0;32min\u001b[0m \u001b[0mcourt_df\u001b[0m\u001b[0;34m.\u001b[0m\u001b[0miterrows\u001b[0m\u001b[0;34m(\u001b[0m\u001b[0;34m)\u001b[0m\u001b[0;34m:\u001b[0m\u001b[0;34m\u001b[0m\u001b[0;34m\u001b[0m\u001b[0m\n",
            "\u001b[0;31mImportError\u001b[0m: cannot import name 'entity_config' from 'lexnlp.extract.en.dict_entities' (/usr/local/lib/python3.7/dist-packages/lexnlp/extract/en/dict_entities.py)",
            "",
            "\u001b[0;31m---------------------------------------------------------------------------\u001b[0;32m\nNOTE: If your import is failing due to a missing package, you can\nmanually install dependencies using either !pip or !apt.\n\nTo view examples of installing some common dependencies, click the\n\"Open Examples\" button below.\n\u001b[0;31m---------------------------------------------------------------------------\u001b[0m\n"
          ]
        }
      ]
    },
    {
      "cell_type": "code",
      "metadata": {
        "colab": {
          "base_uri": "https://localhost:8080/"
        },
        "id": "_tJpyD2b7Ku_",
        "outputId": "8a5c1f7a-08be-40e6-d198-88ad04a10175"
      },
      "source": [
        "if lexnlp.extract.en.cusip.get_cusip_list(ref):\r\n",
        "  print('cusip: ', lexnlp.extract.en.cusip.get_cusip_list(ref))\r\n",
        "else:\r\n",
        "  print('cusip: ','None') "
      ],
      "execution_count": 211,
      "outputs": [
        {
          "output_type": "stream",
          "text": [
            "cusip:  None\n"
          ],
          "name": "stdout"
        }
      ]
    },
    {
      "cell_type": "code",
      "metadata": {
        "colab": {
          "base_uri": "https://localhost:8080/"
        },
        "id": "omO2P7_IG0Fe",
        "outputId": "5eaaf224-4d16-47f5-df07-423dd5ef3459"
      },
      "source": [
        "if lexnlp.extract.en.dates.get_dates(ref):\r\n",
        "  print('dates: ', list (lexnlp.extract.en.dates.get_dates(ref)))\r\n",
        "else:\r\n",
        "  print('dates: ','None') "
      ],
      "execution_count": 214,
      "outputs": [
        {
          "output_type": "stream",
          "text": [
            "dates:  [datetime.date(2021, 6, 1), datetime.date(1840, 11, 1), datetime.date(1839, 10, 1), datetime.date(1840, 9, 1), datetime.date(1840, 5, 1), datetime.date(1840, 5, 1), datetime.date(2021, 12, 1), datetime.date(2021, 12, 1), datetime.date(2021, 1, 1), datetime.date(2021, 1, 1), datetime.date(2021, 1, 1), datetime.date(2021, 3, 21), datetime.date(2021, 6, 1), datetime.date(2021, 7, 1), datetime.date(2021, 11, 1)]\n"
          ],
          "name": "stdout"
        }
      ]
    },
    {
      "cell_type": "code",
      "metadata": {
        "colab": {
          "base_uri": "https://localhost:8080/"
        },
        "id": "vMaxwyuZG0Nn",
        "outputId": "2cd91d3d-4837-4cc4-c0a2-92d2708c6ece"
      },
      "source": [
        "if list (lexnlp.extract.en.definitions.get_definitions(ref)):\r\n",
        "  print('definitions: ', list (lexnlp.extract.en.definitions.get_definitions(ref)))\r\n",
        "else:\r\n",
        "  print('definitions: ','None') "
      ],
      "execution_count": 218,
      "outputs": [
        {
          "output_type": "stream",
          "text": [
            "definitions:  None\n"
          ],
          "name": "stdout"
        }
      ]
    },
    {
      "cell_type": "code",
      "metadata": {
        "colab": {
          "base_uri": "https://localhost:8080/"
        },
        "id": "lRzNEaDrG0UV",
        "outputId": "441d54c9-992a-477c-c71e-c01cd6b2c997"
      },
      "source": [
        "if list (lexnlp.extract.en.distances.get_distances(ref)):\r\n",
        "  print('distances: ', list (lexnlp.extract.en.distances.get_distances(ref)))\r\n",
        "else:\r\n",
        "  print('distances: ','None') "
      ],
      "execution_count": 222,
      "outputs": [
        {
          "output_type": "stream",
          "text": [
            "distances:  None\n"
          ],
          "name": "stdout"
        }
      ]
    },
    {
      "cell_type": "code",
      "metadata": {
        "colab": {
          "base_uri": "https://localhost:8080/"
        },
        "id": "u_g_LNnXG0ah",
        "outputId": "1c547737-7488-41b7-98fb-9199d1c20e23"
      },
      "source": [
        "if lexnlp.extract.en.durations.get_durations(ref):\r\n",
        "  print('durations: ', list (lexnlp.extract.en.durations.get_durations(ref)))\r\n",
        "else:\r\n",
        "  print('durations: ','None') "
      ],
      "execution_count": 220,
      "outputs": [
        {
          "output_type": "stream",
          "text": [
            "durations:  [('second', Decimal('20.0'), Decimal('0.0002')), ('year', Decimal('6.0'), Decimal('2190.0'))]\n"
          ],
          "name": "stdout"
        }
      ]
    },
    {
      "cell_type": "code",
      "metadata": {
        "colab": {
          "base_uri": "https://localhost:8080/",
          "height": 367
        },
        "id": "9HIqIpG6G0g4",
        "outputId": "3bdf39a3-87b1-48ac-acfd-e16de9eba7f2"
      },
      "source": [
        "from lexnlp.extract.common.base_path import lexnlp_test_path\r\n",
        "from lexnlp.extract.en.dict_entities import prepare_alias_banlist_dict, get_entity_name\r\n",
        "\r\n",
        "from lexnlp.extract.en.geoentities import get_geoentities, load_entities_dict_by_path\r\n",
        "\r\n",
        "import os\r\n",
        "\r\n",
        "if list (get_geoentities(data,geo_config_list=court_config_data)):\r\n",
        "  print(list (get_geoentities(data,geo_config_list=court_config_data)))\r\n",
        "else:\r\n",
        "  print('geoentities: ','None')\r\n"
      ],
      "execution_count": 228,
      "outputs": [
        {
          "output_type": "error",
          "ename": "ImportError",
          "evalue": "ignored",
          "traceback": [
            "\u001b[0;31m---------------------------------------------------------------------------\u001b[0m",
            "\u001b[0;31mImportError\u001b[0m                               Traceback (most recent call last)",
            "\u001b[0;32m<ipython-input-228-8190b693bf85>\u001b[0m in \u001b[0;36m<module>\u001b[0;34m()\u001b[0m\n\u001b[1;32m      1\u001b[0m \u001b[0;32mfrom\u001b[0m \u001b[0mlexnlp\u001b[0m\u001b[0;34m.\u001b[0m\u001b[0mextract\u001b[0m\u001b[0;34m.\u001b[0m\u001b[0mcommon\u001b[0m\u001b[0;34m.\u001b[0m\u001b[0mbase_path\u001b[0m \u001b[0;32mimport\u001b[0m \u001b[0mlexnlp_test_path\u001b[0m\u001b[0;34m\u001b[0m\u001b[0;34m\u001b[0m\u001b[0m\n\u001b[0;32m----> 2\u001b[0;31m \u001b[0;32mfrom\u001b[0m \u001b[0mlexnlp\u001b[0m\u001b[0;34m.\u001b[0m\u001b[0mextract\u001b[0m\u001b[0;34m.\u001b[0m\u001b[0men\u001b[0m\u001b[0;34m.\u001b[0m\u001b[0mdict_entities\u001b[0m \u001b[0;32mimport\u001b[0m \u001b[0mprepare_alias_banlist_dict\u001b[0m\u001b[0;34m,\u001b[0m \u001b[0mget_entity_name\u001b[0m\u001b[0;34m\u001b[0m\u001b[0;34m\u001b[0m\u001b[0m\n\u001b[0m\u001b[1;32m      3\u001b[0m \u001b[0;34m\u001b[0m\u001b[0m\n\u001b[1;32m      4\u001b[0m \u001b[0;32mfrom\u001b[0m \u001b[0mlexnlp\u001b[0m\u001b[0;34m.\u001b[0m\u001b[0mextract\u001b[0m\u001b[0;34m.\u001b[0m\u001b[0men\u001b[0m\u001b[0;34m.\u001b[0m\u001b[0mgeoentities\u001b[0m \u001b[0;32mimport\u001b[0m \u001b[0mget_geoentities\u001b[0m\u001b[0;34m,\u001b[0m \u001b[0mload_entities_dict_by_path\u001b[0m\u001b[0;34m\u001b[0m\u001b[0;34m\u001b[0m\u001b[0m\n\u001b[1;32m      5\u001b[0m \u001b[0;34m\u001b[0m\u001b[0m\n",
            "\u001b[0;31mImportError\u001b[0m: cannot import name 'get_entity_name' from 'lexnlp.extract.en.dict_entities' (/usr/local/lib/python3.7/dist-packages/lexnlp/extract/en/dict_entities.py)",
            "",
            "\u001b[0;31m---------------------------------------------------------------------------\u001b[0;32m\nNOTE: If your import is failing due to a missing package, you can\nmanually install dependencies using either !pip or !apt.\n\nTo view examples of installing some common dependencies, click the\n\"Open Examples\" button below.\n\u001b[0;31m---------------------------------------------------------------------------\u001b[0m\n"
          ]
        }
      ]
    },
    {
      "cell_type": "code",
      "metadata": {
        "colab": {
          "base_uri": "https://localhost:8080/"
        },
        "id": "lwq4AwyuG8zj",
        "outputId": "73c58850-cd4b-465a-df80-9f47871281af"
      },
      "source": [
        "if lexnlp.extract.en.money.get_money(ref):\r\n",
        "  print('money: ', list (lexnlp.extract.en.money.get_money(ref)))\r\n",
        "else:\r\n",
        "  print('money: ','None') "
      ],
      "execution_count": 232,
      "outputs": [
        {
          "output_type": "stream",
          "text": [
            "money:  [(Decimal('100.0'), 'USD'), (Decimal('14000.0'), 'USD'), (Decimal('14000.0'), 'USD')]\n"
          ],
          "name": "stdout"
        }
      ]
    },
    {
      "cell_type": "code",
      "metadata": {
        "colab": {
          "base_uri": "https://localhost:8080/"
        },
        "id": "_iWE33rSJM7o",
        "outputId": "752a3ec8-e515-4d35-f328-1c11bdb9fb6d"
      },
      "source": [
        "if list (lexnlp.extract.en.percents.get_percents(ref)):\r\n",
        "  print('percents: ', list (lexnlp.extract.en.percents.get_percents(ref)))\r\n",
        "else:\r\n",
        "  print('percents: ','None') "
      ],
      "execution_count": 234,
      "outputs": [
        {
          "output_type": "stream",
          "text": [
            "percents:  None\n"
          ],
          "name": "stdout"
        }
      ]
    },
    {
      "cell_type": "code",
      "metadata": {
        "colab": {
          "base_uri": "https://localhost:8080/"
        },
        "id": "AkDDM8PbJNE0",
        "outputId": "1457474d-f793-4a20-da0c-7811545e9299"
      },
      "source": [
        "if list (lexnlp.extract.en.pii.get_pii(ref)):\r\n",
        "  print('pii: ', list (lexnlp.extract.en.pii.get_pii(ref)))\r\n",
        "else:\r\n",
        "  print('pii: ','None') "
      ],
      "execution_count": 236,
      "outputs": [
        {
          "output_type": "stream",
          "text": [
            "pii:  None\n"
          ],
          "name": "stdout"
        }
      ]
    },
    {
      "cell_type": "code",
      "metadata": {
        "colab": {
          "base_uri": "https://localhost:8080/"
        },
        "id": "oAh7V8NIJNM9",
        "outputId": "431890f3-ea54-4b28-f7d2-af6007643e25"
      },
      "source": [
        "if list (lexnlp.extract.en.ratios.get_ratios(ref)):\r\n",
        "  print('ratios: ', list (lexnlp.extract.en.ratios.get_ratios(ref)))\r\n",
        "else:\r\n",
        "  print('ratios: ','None') "
      ],
      "execution_count": 238,
      "outputs": [
        {
          "output_type": "stream",
          "text": [
            "ratios:  None\n"
          ],
          "name": "stdout"
        }
      ]
    },
    {
      "cell_type": "code",
      "metadata": {
        "colab": {
          "base_uri": "https://localhost:8080/"
        },
        "id": "buVyDaS8JNVY",
        "outputId": "b83c8698-59c2-466b-dd73-71f6b28c4c0f"
      },
      "source": [
        "if list (lexnlp.extract.en.regulations.get_regulations(ref)):\r\n",
        "  print('regulations: ', list (lexnlp.extract.en.regulations.get_regulations(ref)))\r\n",
        "else:\r\n",
        "  print('regulations: ','None') "
      ],
      "execution_count": 240,
      "outputs": [
        {
          "output_type": "stream",
          "text": [
            "regulations:  None\n"
          ],
          "name": "stdout"
        }
      ]
    },
    {
      "cell_type": "code",
      "metadata": {
        "colab": {
          "base_uri": "https://localhost:8080/"
        },
        "id": "6X6JIXhGNOA7",
        "outputId": "498aa156-57b0-460d-b173-330ca493d350"
      },
      "source": [
        "if list (lexnlp.extract.en.trademarks.get_trademarks(ref)):\r\n",
        "  print('trademarks: ', list (lexnlp.extract.en.trademarks.get_trademarks(ref)))\r\n",
        "else:\r\n",
        "  print('trademarks: ','None') "
      ],
      "execution_count": 242,
      "outputs": [
        {
          "output_type": "stream",
          "text": [
            "trademarks:  None\n"
          ],
          "name": "stdout"
        }
      ]
    },
    {
      "cell_type": "code",
      "metadata": {
        "colab": {
          "base_uri": "https://localhost:8080/"
        },
        "id": "r3P-pTn4NOIj",
        "outputId": "1228c57b-efa4-4f7d-ebe0-603c7f799a4b"
      },
      "source": [
        "if list (lexnlp.extract.en.urls.get_urls(ref)):\r\n",
        "  print('urls: ', list (lexnlp.extract.en.urls.get_urls(ref)))\r\n",
        "else:\r\n",
        "  print('urls: ','None') "
      ],
      "execution_count": 244,
      "outputs": [
        {
          "output_type": "stream",
          "text": [
            "urls:  None\n"
          ],
          "name": "stdout"
        }
      ]
    },
    {
      "cell_type": "code",
      "metadata": {
        "colab": {
          "base_uri": "https://localhost:8080/"
        },
        "id": "M14lyUdONOSl",
        "outputId": "a4f6f30f-2c83-4920-a571-e3503117b159"
      },
      "source": [
        "from nltk.tokenize import word_tokenize\r\n",
        "word_tokens = word_tokenize(ref)\r\n",
        "word_tokens\r\n"
      ],
      "execution_count": 249,
      "outputs": [
        {
          "output_type": "execute_result",
          "data": {
            "text/plain": [
              "['5',\n",
              " 'Ala.',\n",
              " '740',\n",
              " 'Supreme',\n",
              " 'Court',\n",
              " 'of',\n",
              " 'Alabama',\n",
              " '.',\n",
              " 'ADAMS',\n",
              " 'v.',\n",
              " 'TANNER',\n",
              " 'AND',\n",
              " 'HORTON',\n",
              " '.',\n",
              " 'June',\n",
              " 'Term',\n",
              " ',',\n",
              " '1843',\n",
              " '.',\n",
              " 'Synopsis',\n",
              " 'WRIT',\n",
              " 'of',\n",
              " 'Error',\n",
              " 'to',\n",
              " 'the',\n",
              " 'Circuit',\n",
              " 'Court',\n",
              " 'of',\n",
              " 'Sumter',\n",
              " '.',\n",
              " 'West',\n",
              " 'Headnotes',\n",
              " '(',\n",
              " '2',\n",
              " ')',\n",
              " '[',\n",
              " '1',\n",
              " ']',\n",
              " 'Chattel',\n",
              " 'Mortgages',\n",
              " 'Crops',\n",
              " 'A',\n",
              " 'growing',\n",
              " 'crop',\n",
              " 'has',\n",
              " 'such',\n",
              " 'an',\n",
              " 'existence',\n",
              " 'as',\n",
              " 'to',\n",
              " 'be',\n",
              " 'the',\n",
              " 'subject-matter',\n",
              " 'of',\n",
              " 'a',\n",
              " 'mortgage',\n",
              " 'or',\n",
              " 'other',\n",
              " 'contract',\n",
              " 'which',\n",
              " 'passes',\n",
              " 'an',\n",
              " 'interest',\n",
              " 'to',\n",
              " 'vest',\n",
              " 'in',\n",
              " 'possession',\n",
              " ',',\n",
              " 'either',\n",
              " 'immediately',\n",
              " 'or',\n",
              " 'at',\n",
              " 'a',\n",
              " 'future',\n",
              " 'time',\n",
              " '.',\n",
              " '4',\n",
              " 'Cases',\n",
              " 'that',\n",
              " 'cite',\n",
              " 'this',\n",
              " 'headnote',\n",
              " '[',\n",
              " '2',\n",
              " ']',\n",
              " 'Creditors',\n",
              " '’',\n",
              " 'Remedies',\n",
              " 'Lien',\n",
              " 'and',\n",
              " 'Priority',\n",
              " 'Under',\n",
              " 'St.1821',\n",
              " ',',\n",
              " 'prohibiting',\n",
              " 'a',\n",
              " 'levy',\n",
              " 'on',\n",
              " 'a',\n",
              " 'crop',\n",
              " 'until',\n",
              " 'it',\n",
              " 'has',\n",
              " 'been',\n",
              " 'gathered',\n",
              " ',',\n",
              " 'no',\n",
              " 'lien',\n",
              " 'attaches',\n",
              " 'in',\n",
              " 'favor',\n",
              " 'of',\n",
              " 'a',\n",
              " 'fi',\n",
              " '.',\n",
              " 'fa',\n",
              " '.',\n",
              " 'on',\n",
              " 'a',\n",
              " 'growing',\n",
              " 'crop',\n",
              " ',',\n",
              " 'nor',\n",
              " 'does',\n",
              " 'such',\n",
              " 'lien',\n",
              " 'attach',\n",
              " 'until',\n",
              " 'after',\n",
              " 'the',\n",
              " 'crop',\n",
              " 'has',\n",
              " 'been',\n",
              " 'gathered',\n",
              " '.',\n",
              " '5',\n",
              " 'Cases',\n",
              " 'that',\n",
              " 'cite',\n",
              " 'this',\n",
              " 'headnote',\n",
              " '**1',\n",
              " 'This',\n",
              " 'was',\n",
              " 'a',\n",
              " 'trial',\n",
              " 'of',\n",
              " 'the',\n",
              " 'right',\n",
              " 'of',\n",
              " 'property',\n",
              " 'under',\n",
              " 'the',\n",
              " 'statute',\n",
              " '.',\n",
              " 'In',\n",
              " 'November',\n",
              " ',',\n",
              " '1840',\n",
              " ',',\n",
              " 'an',\n",
              " 'execution',\n",
              " 'issued',\n",
              " 'from',\n",
              " 'the',\n",
              " 'circuit',\n",
              " 'court',\n",
              " 'of',\n",
              " 'Sumter',\n",
              " ',',\n",
              " 'at',\n",
              " 'the',\n",
              " 'suit',\n",
              " 'of',\n",
              " 'the',\n",
              " 'plaintiff',\n",
              " 'in',\n",
              " 'error',\n",
              " ',',\n",
              " 'requiring',\n",
              " 'the',\n",
              " 'sheriff',\n",
              " 'of',\n",
              " 'that',\n",
              " 'county',\n",
              " ',',\n",
              " 'to',\n",
              " 'make',\n",
              " 'of',\n",
              " 'the',\n",
              " 'goods',\n",
              " ',',\n",
              " '&c.',\n",
              " ',',\n",
              " 'of',\n",
              " 'Allen',\n",
              " 'Harrison',\n",
              " 'and',\n",
              " 'others',\n",
              " ',',\n",
              " 'the',\n",
              " 'sum',\n",
              " 'of',\n",
              " 'thirty-seven',\n",
              " 'hundred',\n",
              " 'and',\n",
              " 'seventy-seven',\n",
              " '80-100',\n",
              " 'dollars',\n",
              " ',',\n",
              " 'besides',\n",
              " 'costs',\n",
              " '.',\n",
              " 'This',\n",
              " 'execution',\n",
              " 'was',\n",
              " 'levied',\n",
              " 'on',\n",
              " 'thirty',\n",
              " 'bales',\n",
              " 'of',\n",
              " 'cotton',\n",
              " ',',\n",
              " 'as',\n",
              " 'the',\n",
              " 'property',\n",
              " 'of',\n",
              " 'Allen',\n",
              " 'Harrison',\n",
              " ',',\n",
              " 'which',\n",
              " 'was',\n",
              " 'claimed',\n",
              " ',',\n",
              " 'and',\n",
              " 'a',\n",
              " 'bond',\n",
              " 'given',\n",
              " 'to',\n",
              " 'try',\n",
              " 'the',\n",
              " 'right',\n",
              " '.',\n",
              " 'An',\n",
              " 'issue',\n",
              " 'was',\n",
              " 'made',\n",
              " 'up',\n",
              " 'to',\n",
              " 'try',\n",
              " 'the',\n",
              " 'question',\n",
              " 'of',\n",
              " 'the',\n",
              " 'liability',\n",
              " 'of',\n",
              " 'the',\n",
              " 'cotton',\n",
              " 'to',\n",
              " 'the',\n",
              " 'plaintiff',\n",
              " '’',\n",
              " 's',\n",
              " 'execution',\n",
              " ',',\n",
              " 'and',\n",
              " 'submitted',\n",
              " 'to',\n",
              " 'a',\n",
              " 'jury',\n",
              " '.',\n",
              " 'On',\n",
              " 'the',\n",
              " 'trial',\n",
              " ',',\n",
              " 'a',\n",
              " 'bill',\n",
              " 'of',\n",
              " 'exceptions',\n",
              " 'was',\n",
              " 'sealed',\n",
              " 'at',\n",
              " 'the',\n",
              " 'instance',\n",
              " 'of',\n",
              " 'the',\n",
              " 'plaintiff',\n",
              " '.',\n",
              " 'The',\n",
              " 'plaintiff',\n",
              " 'proved',\n",
              " 'that',\n",
              " 'he',\n",
              " 'recovered',\n",
              " 'his',\n",
              " 'judgment',\n",
              " 'in',\n",
              " 'October',\n",
              " ',',\n",
              " '1839',\n",
              " ';',\n",
              " 'that',\n",
              " 'an',\n",
              " 'execution',\n",
              " '*741',\n",
              " 'was',\n",
              " 'issued',\n",
              " 'thereon',\n",
              " 'on',\n",
              " 'the',\n",
              " '7th',\n",
              " 'Nov.',\n",
              " 'thereafter',\n",
              " ',',\n",
              " 'and',\n",
              " 'that',\n",
              " 'alias',\n",
              " 'and',\n",
              " 'pluries',\n",
              " 'fieri',\n",
              " 'facias',\n",
              " '’',\n",
              " ',',\n",
              " 'issued',\n",
              " 'regularly',\n",
              " 'up',\n",
              " 'to',\n",
              " 'the',\n",
              " 'time',\n",
              " 'levy',\n",
              " 'was',\n",
              " 'made',\n",
              " ';',\n",
              " 'that',\n",
              " 'the',\n",
              " 'cotton',\n",
              " 'levied',\n",
              " 'on',\n",
              " 'was',\n",
              " 'growed',\n",
              " 'on',\n",
              " 'the',\n",
              " 'plantation',\n",
              " 'of',\n",
              " 'Harrison',\n",
              " ',',\n",
              " 'and',\n",
              " 'cultivated',\n",
              " 'by',\n",
              " 'the',\n",
              " 'hands',\n",
              " 'in',\n",
              " 'his',\n",
              " 'service',\n",
              " '.',\n",
              " 'It',\n",
              " 'was',\n",
              " 'proved',\n",
              " 'by',\n",
              " 'the',\n",
              " 'claimants',\n",
              " ',',\n",
              " 'by',\n",
              " 'the',\n",
              " 'production',\n",
              " 'of',\n",
              " 'a',\n",
              " 'written',\n",
              " 'contract',\n",
              " ',',\n",
              " 'that',\n",
              " 'Harrison',\n",
              " ',',\n",
              " 'on',\n",
              " 'the',\n",
              " 'twenty-second',\n",
              " 'of',\n",
              " 'May',\n",
              " ',',\n",
              " '1840',\n",
              " ',',\n",
              " 'in',\n",
              " 'consideration',\n",
              " 'that',\n",
              " 'the',\n",
              " 'claimants',\n",
              " 'were',\n",
              " 'involved',\n",
              " ',',\n",
              " 'as',\n",
              " 'indorsers',\n",
              " 'for',\n",
              " 'Burton',\n",
              " '&',\n",
              " 'Harrison',\n",
              " 'of',\n",
              " 'Sumter',\n",
              " 'county',\n",
              " ',',\n",
              " 'and',\n",
              " 'were',\n",
              " 'then',\n",
              " 'exposed',\n",
              " 'to',\n",
              " 'an',\n",
              " 'execution',\n",
              " ',',\n",
              " 'amounting',\n",
              " 'to',\n",
              " 'upwards',\n",
              " 'of',\n",
              " 'fourteen',\n",
              " 'thousand',\n",
              " 'dollars',\n",
              " ',',\n",
              " 'bargained',\n",
              " 'and',\n",
              " 'sold',\n",
              " 'to',\n",
              " 'the',\n",
              " 'claimants',\n",
              " 'all',\n",
              " 'his',\n",
              " 'growing',\n",
              " 'crop',\n",
              " 'of',\n",
              " 'cotton',\n",
              " '&c.',\n",
              " ',',\n",
              " 'consisting',\n",
              " 'of',\n",
              " 'one',\n",
              " 'hundred',\n",
              " 'and',\n",
              " 'twenty',\n",
              " 'acres',\n",
              " ',',\n",
              " '&c.',\n",
              " 'Allen',\n",
              " 'Harrison',\n",
              " 'promised',\n",
              " 'and',\n",
              " 'obliged',\n",
              " 'himself',\n",
              " 'to',\n",
              " 'give',\n",
              " 'up',\n",
              " 'his',\n",
              " 'crop',\n",
              " 'to',\n",
              " 'the',\n",
              " 'use',\n",
              " 'of',\n",
              " 'the',\n",
              " 'claimants',\n",
              " 'at',\n",
              " 'any',\n",
              " 'time',\n",
              " 'to',\n",
              " 'save',\n",
              " 'them',\n",
              " 'from',\n",
              " 'suffering',\n",
              " 'as',\n",
              " 'his',\n",
              " 'indorsers',\n",
              " ';',\n",
              " 'if',\n",
              " 'the',\n",
              " 'crop',\n",
              " 'matured',\n",
              " 'and',\n",
              " 'was',\n",
              " 'gathered',\n",
              " 'he',\n",
              " 'undertook',\n",
              " 'to',\n",
              " 'deliver',\n",
              " 'the',\n",
              " 'cotton',\n",
              " 'in',\n",
              " 'Gainesville',\n",
              " '.',\n",
              " 'The',\n",
              " 'claimants',\n",
              " 'came',\n",
              " 'from',\n",
              " 'Tennessee',\n",
              " ',',\n",
              " '(',\n",
              " 'where',\n",
              " 'they',\n",
              " 'resided',\n",
              " ')',\n",
              " 'about',\n",
              " 'the',\n",
              " 'first',\n",
              " 'of',\n",
              " 'September',\n",
              " ',',\n",
              " '1840',\n",
              " ',',\n",
              " 'bringing',\n",
              " 'with',\n",
              " 'them',\n",
              " 'three',\n",
              " 'or',\n",
              " 'four',\n",
              " 'white',\n",
              " 'laborers',\n",
              " ',',\n",
              " 'and',\n",
              " 'took',\n",
              " 'possession',\n",
              " 'of',\n",
              " 'the',\n",
              " 'crop',\n",
              " 'and',\n",
              " 'slaves',\n",
              " ',',\n",
              " 'and',\n",
              " 'with',\n",
              " 'the',\n",
              " 'latter',\n",
              " ',',\n",
              " 'and',\n",
              " 'white',\n",
              " 'laborers',\n",
              " ',',\n",
              " 'gathered',\n",
              " 'the',\n",
              " 'cotton',\n",
              " ',',\n",
              " 'prepared',\n",
              " 'it',\n",
              " 'for',\n",
              " 'market',\n",
              " ',',\n",
              " 'and',\n",
              " 'when',\n",
              " 'levied',\n",
              " 'on',\n",
              " ',',\n",
              " 'it',\n",
              " 'was',\n",
              " 'in',\n",
              " 'a',\n",
              " 'ware-house',\n",
              " 'in',\n",
              " 'Gainesville',\n",
              " '.',\n",
              " 'The',\n",
              " 'plaintiff',\n",
              " 'then',\n",
              " 'proved',\n",
              " 'by',\n",
              " 'Harrison',\n",
              " ',',\n",
              " 'that',\n",
              " 'the',\n",
              " 'claimants',\n",
              " 'took',\n",
              " 'possession',\n",
              " 'of',\n",
              " 'the',\n",
              " 'crop',\n",
              " ',',\n",
              " 'while',\n",
              " 'he',\n",
              " 'was',\n",
              " 'absent',\n",
              " ',',\n",
              " 'and',\n",
              " 'disposed',\n",
              " 'of',\n",
              " 'it',\n",
              " 'without',\n",
              " 'his',\n",
              " 'consent',\n",
              " '.',\n",
              " 'It',\n",
              " 'was',\n",
              " 'admitted',\n",
              " ',',\n",
              " 'that',\n",
              " 'the',\n",
              " 'contract',\n",
              " 'was',\n",
              " 'made',\n",
              " 'in',\n",
              " 'good',\n",
              " 'faith',\n",
              " '.',\n",
              " 'The',\n",
              " 'court',\n",
              " 'charged',\n",
              " 'the',\n",
              " 'jury',\n",
              " ',',\n",
              " 'that',\n",
              " 'the',\n",
              " 'plaintiff',\n",
              " 'had',\n",
              " 'no',\n",
              " 'lien',\n",
              " 'by',\n",
              " 'virtue',\n",
              " 'of',\n",
              " 'his',\n",
              " 'judgment',\n",
              " ',',\n",
              " 'and',\n",
              " 'execution',\n",
              " 'on',\n",
              " 'the',\n",
              " 'growing',\n",
              " 'crop',\n",
              " ';',\n",
              " 'that',\n",
              " 'Harrison',\n",
              " 'had',\n",
              " 'a',\n",
              " 'right',\n",
              " 'to',\n",
              " 'convey',\n",
              " 'it',\n",
              " ',',\n",
              " 'without',\n",
              " 'being',\n",
              " 'in',\n",
              " 'any',\n",
              " 'manner',\n",
              " 'restrained',\n",
              " 'by',\n",
              " 'them',\n",
              " ';',\n",
              " 'that',\n",
              " 'the',\n",
              " 'writing',\n",
              " 'adduced',\n",
              " ',',\n",
              " 'was',\n",
              " 'a',\n",
              " 'sale',\n",
              " 'of',\n",
              " 'the',\n",
              " 'crop',\n",
              " ',',\n",
              " 'but',\n",
              " 'if',\n",
              " 'it',\n",
              " 'was',\n",
              " 'not',\n",
              " ',',\n",
              " 'and',\n",
              " 'the',\n",
              " 'lien',\n",
              " 'of',\n",
              " 'the',\n",
              " 'fieri',\n",
              " 'facias',\n",
              " 'would',\n",
              " 'have',\n",
              " 'attached',\n",
              " 'upon',\n",
              " 'it',\n",
              " ',',\n",
              " 'when',\n",
              " 'gathered',\n",
              " ',',\n",
              " 'yet',\n",
              " 'if',\n",
              " 'the',\n",
              " 'claimants',\n",
              " 'obtained',\n",
              " 'possession',\n",
              " 'on',\n",
              " 'the',\n",
              " 'first',\n",
              " 'of',\n",
              " 'September',\n",
              " ',',\n",
              " 'and',\n",
              " 'controlled',\n",
              " 'the',\n",
              " 'gathering',\n",
              " 'of',\n",
              " 'the',\n",
              " 'crop',\n",
              " ',',\n",
              " 'then',\n",
              " 'no',\n",
              " 'lien',\n",
              " 'attached',\n",
              " ',',\n",
              " 'and',\n",
              " 'it',\n",
              " 'was',\n",
              " 'not',\n",
              " 'subject',\n",
              " 'to',\n",
              " 'the',\n",
              " 'levy',\n",
              " '.',\n",
              " 'Attorneys',\n",
              " 'and',\n",
              " 'Law',\n",
              " 'Firms',\n",
              " 'R.',\n",
              " 'H.',\n",
              " 'SMITH',\n",
              " ',',\n",
              " 'for',\n",
              " 'the',\n",
              " 'plaintiff',\n",
              " ',',\n",
              " 'in',\n",
              " 'error',\n",
              " ',',\n",
              " 'made',\n",
              " 'the',\n",
              " 'following',\n",
              " 'points.',\n",
              " '--',\n",
              " '1',\n",
              " '.',\n",
              " 'The',\n",
              " 'crop',\n",
              " 'of',\n",
              " 'Harrison',\n",
              " ',',\n",
              " 'must',\n",
              " ',',\n",
              " 'in',\n",
              " 'May',\n",
              " ',',\n",
              " '1840',\n",
              " ',',\n",
              " 'have',\n",
              " 'been',\n",
              " 'in',\n",
              " 'an',\n",
              " 'immature',\n",
              " 'state',\n",
              " ',',\n",
              " 'and',\n",
              " 'it',\n",
              " 'is',\n",
              " 'insisted',\n",
              " ',',\n",
              " 'was',\n",
              " 'not',\n",
              " 'the',\n",
              " 'subject',\n",
              " 'of',\n",
              " 'a',\n",
              " 'sale',\n",
              " '.',\n",
              " '2',\n",
              " '.',\n",
              " 'By',\n",
              " 'the',\n",
              " 'common',\n",
              " 'law',\n",
              " ',',\n",
              " 'a',\n",
              " 'growing',\n",
              " 'crop',\n",
              " 'could',\n",
              " 'be',\n",
              " 'levied',\n",
              " 'on',\n",
              " 'and',\n",
              " 'sold',\n",
              " ',',\n",
              " '[',\n",
              " '1',\n",
              " 'Salk',\n",
              " '.',\n",
              " 'Rep.',\n",
              " '361',\n",
              " ';',\n",
              " '1',\n",
              " 'Bos',\n",
              " '.',\n",
              " '&',\n",
              " 'P.',\n",
              " 'Rep.',\n",
              " '307',\n",
              " ';',\n",
              " '6',\n",
              " 'East',\n",
              " '’',\n",
              " 's',\n",
              " 'Rep.',\n",
              " '604',\n",
              " ',',\n",
              " 'note',\n",
              " '1',\n",
              " ';',\n",
              " '2',\n",
              " 'Johns',\n",
              " '.',\n",
              " 'Rep.',\n",
              " '418',\n",
              " ',',\n",
              " '422',\n",
              " ';',\n",
              " '7',\n",
              " 'Mass',\n",
              " '.',\n",
              " 'Rep.',\n",
              " '34',\n",
              " ',',\n",
              " ']',\n",
              " 'and',\n",
              " 'our',\n",
              " 'statue',\n",
              " ',',\n",
              " '[',\n",
              " '[',\n",
              " '[',\n",
              " 'Aik',\n",
              " '.',\n",
              " 'Dig',\n",
              " '.',\n",
              " '§',\n",
              " '41',\n",
              " ',',\n",
              " 'p.',\n",
              " '167',\n",
              " ',',\n",
              " ']',\n",
              " 'which',\n",
              " 'forbids',\n",
              " 'the',\n",
              " 'levy',\n",
              " 'of',\n",
              " 'an',\n",
              " '*742',\n",
              " 'execution',\n",
              " 'on',\n",
              " 'a',\n",
              " 'growing',\n",
              " 'crop',\n",
              " ',',\n",
              " 'is',\n",
              " 'to',\n",
              " 'receive',\n",
              " 'a',\n",
              " 'strict',\n",
              " 'construction',\n",
              " '.',\n",
              " 'It',\n",
              " 'merely',\n",
              " 'inhibits',\n",
              " 'the',\n",
              " 'levy',\n",
              " ',',\n",
              " 'but',\n",
              " 'the',\n",
              " 'lien',\n",
              " 'attaches',\n",
              " ',',\n",
              " 'and',\n",
              " 'a',\n",
              " 'levy',\n",
              " 'and',\n",
              " 'sale',\n",
              " 'may',\n",
              " 'be',\n",
              " 'made',\n",
              " 'after',\n",
              " 'the',\n",
              " 'crop',\n",
              " 'matures',\n",
              " ',',\n",
              " 'and',\n",
              " 'is',\n",
              " 'gathered',\n",
              " '.',\n",
              " '3',\n",
              " '.',\n",
              " 'The',\n",
              " 'contract',\n",
              " 'does',\n",
              " 'not',\n",
              " 'purport',\n",
              " 'to',\n",
              " 'convey',\n",
              " 'the',\n",
              " 'growing',\n",
              " 'crop',\n",
              " ',',\n",
              " 'but',\n",
              " 'is',\n",
              " 'a',\n",
              " 'mere',\n",
              " 'executory',\n",
              " 'agreement',\n",
              " ',',\n",
              " 'requiring',\n",
              " 'some',\n",
              " 'act',\n",
              " 'to',\n",
              " 'be',\n",
              " 'done',\n",
              " 'by',\n",
              " 'Harrison',\n",
              " ',',\n",
              " 'in',\n",
              " 'order',\n",
              " 'to',\n",
              " 'invest',\n",
              " 'the',\n",
              " 'claimants',\n",
              " 'with',\n",
              " 'the',\n",
              " 'right',\n",
              " 'of',\n",
              " 'property',\n",
              " '.',\n",
              " '[',\n",
              " 'Chit',\n",
              " '.',\n",
              " 'on',\n",
              " 'Con',\n",
              " '.',\n",
              " '112',\n",
              " ',',\n",
              " '207',\n",
              " ';',\n",
              " '3',\n",
              " 'Johns',\n",
              " '.',\n",
              " 'Rep.',\n",
              " '338',\n",
              " ',',\n",
              " '424',\n",
              " ';',\n",
              " '5',\n",
              " 'Wend',\n",
              " '.',\n",
              " 'Rep.',\n",
              " '26',\n",
              " ';',\n",
              " '13',\n",
              " 'Johns',\n",
              " '.',\n",
              " 'Rep.',\n",
              " '235',\n",
              " ';',\n",
              " '8',\n",
              " 'Dowl',\n",
              " '.',\n",
              " 'Rep',\n",
              " ',',\n",
              " '693',\n",
              " ';',\n",
              " ']',\n",
              " 'and',\n",
              " 'until',\n",
              " 'this',\n",
              " 'act',\n",
              " 'was',\n",
              " 'done',\n",
              " ',',\n",
              " 'the',\n",
              " 'crop',\n",
              " ',',\n",
              " 'no',\n",
              " 'matter',\n",
              " 'by',\n",
              " 'who',\n",
              " 'gathered',\n",
              " ',',\n",
              " 'because',\n",
              " 'liable',\n",
              " 'to',\n",
              " 'be',\n",
              " 'seized',\n",
              " 'for',\n",
              " 'Harrison',\n",
              " '’',\n",
              " 's',\n",
              " 'debts',\n",
              " '.',\n",
              " 'A',\n",
              " 'court',\n",
              " 'of',\n",
              " 'chancery',\n",
              " 'would',\n",
              " 'not',\n",
              " 'compel',\n",
              " 'a',\n",
              " 'specific',\n",
              " 'performance',\n",
              " 'of',\n",
              " 'the',\n",
              " 'contract',\n",
              " ...]"
            ]
          },
          "metadata": {
            "tags": []
          },
          "execution_count": 249
        }
      ]
    },
    {
      "cell_type": "code",
      "metadata": {
        "colab": {
          "base_uri": "https://localhost:8080/"
        },
        "id": "c-HlKar5NOUy",
        "outputId": "b1c44897-3b8b-4dc3-b2b8-01be2e0eff3e"
      },
      "source": [
        "addresses = pyap.parse(ref, country='US')\r\n",
        "adrs = []\r\n",
        "for address in addresses:\r\n",
        "  adrs.append(address)\r\n",
        "\r\n",
        "print(adrs)\r\n"
      ],
      "execution_count": 252,
      "outputs": [
        {
          "output_type": "stream",
          "text": [
            "[]\n"
          ],
          "name": "stdout"
        }
      ]
    },
    {
      "cell_type": "code",
      "metadata": {
        "id": "sv_u81j-NOXS"
      },
      "source": [
        ""
      ],
      "execution_count": null,
      "outputs": []
    },
    {
      "cell_type": "code",
      "metadata": {
        "id": "e8nkTfnJNOZq"
      },
      "source": [
        "if lexnlp.extract.en.constraints.get_constraints(ref):\r\n",
        "  print('constraints: ', list (lexnlp.extract.en.constraints.get_constraints(ref)))\r\n",
        "else:\r\n",
        "  print('constraints: ','None') "
      ],
      "execution_count": null,
      "outputs": []
    },
    {
      "cell_type": "code",
      "metadata": {
        "colab": {
          "base_uri": "https://localhost:8080/"
        },
        "id": "NTCJV3-YOWzL",
        "outputId": "7103e194-e45b-4c92-d26f-ec19566cf286"
      },
      "source": [
        "!wget 'https://nlp.stanford.edu/software/stanford-ner-2018-10-16.zip'\r\n",
        "!unzip stanford-ner-2018-10-16.zip\r\n"
      ],
      "execution_count": 253,
      "outputs": [
        {
          "output_type": "stream",
          "text": [
            "--2021-03-07 05:54:20--  https://nlp.stanford.edu/software/stanford-ner-2018-10-16.zip\n",
            "Resolving nlp.stanford.edu (nlp.stanford.edu)... 171.64.67.140\n",
            "Connecting to nlp.stanford.edu (nlp.stanford.edu)|171.64.67.140|:443... connected.\n",
            "HTTP request sent, awaiting response... 200 OK\n",
            "Length: 180358328 (172M) [application/zip]\n",
            "Saving to: ‘stanford-ner-2018-10-16.zip’\n",
            "\n",
            "stanford-ner-2018-1 100%[===================>] 172.00M  47.9MB/s    in 5.4s    \n",
            "\n",
            "2021-03-07 05:54:25 (31.8 MB/s) - ‘stanford-ner-2018-10-16.zip’ saved [180358328/180358328]\n",
            "\n",
            "Archive:  stanford-ner-2018-10-16.zip\n",
            "   creating: stanford-ner-2018-10-16/\n",
            "  inflating: stanford-ner-2018-10-16/README.txt  \n",
            "  inflating: stanford-ner-2018-10-16/ner-gui.bat  \n",
            "  inflating: stanford-ner-2018-10-16/build.xml  \n",
            "  inflating: stanford-ner-2018-10-16/stanford-ner.jar  \n",
            "  inflating: stanford-ner-2018-10-16/sample-conll-file.txt  \n",
            "  inflating: stanford-ner-2018-10-16/sample.ner.txt  \n",
            "  inflating: stanford-ner-2018-10-16/stanford-ner-3.9.2-sources.jar  \n",
            "   creating: stanford-ner-2018-10-16/lib/\n",
            "  inflating: stanford-ner-2018-10-16/lib/joda-time.jar  \n",
            "  inflating: stanford-ner-2018-10-16/lib/stanford-ner-resources.jar  \n",
            "  inflating: stanford-ner-2018-10-16/lib/jollyday-0.4.9.jar  \n",
            "  inflating: stanford-ner-2018-10-16/ner-gui.command  \n",
            "  inflating: stanford-ner-2018-10-16/ner.sh  \n",
            "  inflating: stanford-ner-2018-10-16/stanford-ner-3.9.2.jar  \n",
            "  inflating: stanford-ner-2018-10-16/NERDemo.java  \n",
            "  inflating: stanford-ner-2018-10-16/stanford-ner-3.9.2-javadoc.jar  \n",
            "  inflating: stanford-ner-2018-10-16/ner.bat  \n",
            "   creating: stanford-ner-2018-10-16/classifiers/\n",
            "  inflating: stanford-ner-2018-10-16/classifiers/english.conll.4class.distsim.prop  \n",
            "  inflating: stanford-ner-2018-10-16/classifiers/example.serialized.ncc.ncc.ser.gz  \n",
            "  inflating: stanford-ner-2018-10-16/classifiers/english.muc.7class.distsim.crf.ser.gz  \n",
            "  inflating: stanford-ner-2018-10-16/classifiers/english.conll.4class.distsim.crf.ser.gz  \n",
            "  inflating: stanford-ner-2018-10-16/classifiers/english.muc.7class.distsim.prop  \n",
            "  inflating: stanford-ner-2018-10-16/classifiers/english.all.3class.distsim.prop  \n",
            "  inflating: stanford-ner-2018-10-16/classifiers/example.serialized.ncc.prop  \n",
            "  inflating: stanford-ner-2018-10-16/classifiers/english.all.3class.distsim.crf.ser.gz  \n",
            "  inflating: stanford-ner-2018-10-16/sample.txt  \n",
            "  inflating: stanford-ner-2018-10-16/sample-w-time.txt  \n",
            "  inflating: stanford-ner-2018-10-16/ner-gui.sh  \n",
            "  inflating: stanford-ner-2018-10-16/LICENSE.txt  \n"
          ],
          "name": "stdout"
        }
      ]
    },
    {
      "cell_type": "code",
      "metadata": {
        "id": "puLRMzm8OX9A"
      },
      "source": [
        ""
      ],
      "execution_count": null,
      "outputs": []
    },
    {
      "cell_type": "code",
      "metadata": {
        "id": "ie6Wjw34OYAB"
      },
      "source": [
        ""
      ],
      "execution_count": null,
      "outputs": []
    },
    {
      "cell_type": "code",
      "metadata": {
        "id": "wdtNULeQOXAr"
      },
      "source": [
        ""
      ],
      "execution_count": null,
      "outputs": []
    }
  ]
}