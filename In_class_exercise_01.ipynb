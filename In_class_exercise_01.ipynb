{
  "nbformat": 4,
  "nbformat_minor": 0,
  "metadata": {
    "colab": {
      "name": "In_class_exercise_01.ipynb",
      "provenance": [],
      "collapsed_sections": [],
      "include_colab_link": true
    },
    "kernelspec": {
      "display_name": "Python 3",
      "language": "python",
      "name": "python3"
    },
    "language_info": {
      "codemirror_mode": {
        "name": "ipython",
        "version": 3
      },
      "file_extension": ".py",
      "mimetype": "text/x-python",
      "name": "python",
      "nbconvert_exporter": "python",
      "pygments_lexer": "ipython3",
      "version": "3.7.4"
    }
  },
  "cells": [
    {
      "cell_type": "markdown",
      "metadata": {
        "id": "view-in-github",
        "colab_type": "text"
      },
      "source": [
        "<a href=\"https://colab.research.google.com/github/Kate5-7-2021/Kate_INFO5731_Spring2021/blob/main/In_class_exercise_01.ipynb\" target=\"_parent\"><img src=\"https://colab.research.google.com/assets/colab-badge.svg\" alt=\"Open In Colab\"/></a>"
      ]
    },
    {
      "cell_type": "markdown",
      "metadata": {
        "id": "DymRJbxDBCnf"
      },
      "source": [
        "# **The first In-class-exercise (9/2/2020, 20 points in total)**"
      ]
    },
    {
      "cell_type": "markdown",
      "metadata": {
        "id": "03jb4GZsBkBS"
      },
      "source": [
        "(1) Write a Python program to calculate the length of a string. (2 points)"
      ]
    },
    {
      "cell_type": "code",
      "metadata": {
        "colab": {
          "base_uri": "https://localhost:8080/"
        },
        "id": "YaGLbSHHB8Ej",
        "outputId": "465027a3-d101-4ea2-c1bf-1ae5f12d460f"
      },
      "source": [
        "text = 'This is my first exercise'     # string\n",
        "print(len(text))                       # length of the string\n"
      ],
      "execution_count": 1,
      "outputs": [
        {
          "output_type": "stream",
          "text": [
            "25\n"
          ],
          "name": "stdout"
        }
      ]
    },
    {
      "cell_type": "markdown",
      "metadata": {
        "id": "jJDe71iLB616"
      },
      "source": [
        "(2) Write a Python program to count the number of characters in a string. (2 points)\n",
        "\n",
        "Sample String : 'google.com‘, \n",
        "\n",
        "Expected Result : {'o': 3, 'g': 2, '.': 1, 'e': 1, 'l': 1, 'm': 1, 'c': 1}"
      ]
    },
    {
      "cell_type": "code",
      "metadata": {
        "colab": {
          "base_uri": "https://localhost:8080/"
        },
        "id": "MtKskTzbCLaU",
        "outputId": "45fbe379-176e-48f5-f61f-e59817d86a13"
      },
      "source": [
        "str = 'amazing life'             #define string\n",
        "def char_frequency(str):         #define frequency of the char(the result would be the frequency of the characters)\n",
        "  dict = {}                 \n",
        "  for n in str:                  #any character in string \n",
        "    keys = dict.keys()           #dictionary keys are item in string \n",
        "    if n in keys:\n",
        "      dict[n] += 1               #if characters are repeated  \n",
        "    else:\n",
        "      dict[n] = 1                #if characters are not repeated \n",
        "  return dict                    #return is used to find the frequency of the repeated characters\n",
        "print(char_frequency(str))\n",
        "\n"
      ],
      "execution_count": 6,
      "outputs": [
        {
          "output_type": "stream",
          "text": [
            "{'a': 2, 'm': 1, 'z': 1, 'i': 2, 'n': 1, 'g': 1, ' ': 1, 'l': 1, 'f': 1, 'e': 1}\n"
          ],
          "name": "stdout"
        }
      ]
    },
    {
      "cell_type": "code",
      "metadata": {
        "id": "o67Io1bwSrDr"
      },
      "source": [
        "\r\n"
      ],
      "execution_count": null,
      "outputs": []
    },
    {
      "cell_type": "markdown",
      "metadata": {
        "id": "55W9AMdXCSpV"
      },
      "source": [
        "(3) Write a Python program to sum all the items in a list. (2 points)"
      ]
    },
    {
      "cell_type": "code",
      "metadata": {
        "colab": {
          "base_uri": "https://localhost:8080/"
        },
        "id": "I57NXsauCec2",
        "outputId": "3c943378-bcaf-49b2-9376-882a49637a4d"
      },
      "source": [
        "a = [1,3,5,7,9]    #define list\n",
        "print(sum(a))      #calculate sum of the items in the list\n",
        "\n",
        "  \n"
      ],
      "execution_count": 41,
      "outputs": [
        {
          "output_type": "stream",
          "text": [
            "25\n"
          ],
          "name": "stdout"
        }
      ]
    },
    {
      "cell_type": "code",
      "metadata": {
        "colab": {
          "base_uri": "https://localhost:8080/"
        },
        "id": "wFokHoK9RKxI",
        "outputId": "8cc6dc6a-1555-4ae5-ef87-7ef59c5cda75"
      },
      "source": [
        "a = sum([1,3,5,7,9]) #define sum of the item in the list\r\n",
        "print(a)             #print sum"
      ],
      "execution_count": 42,
      "outputs": [
        {
          "output_type": "stream",
          "text": [
            "25\n"
          ],
          "name": "stdout"
        }
      ]
    },
    {
      "cell_type": "markdown",
      "metadata": {
        "id": "4ulBZ6yhCi9F"
      },
      "source": [
        "(4) Write a Python program to get a string from a given string where all occurrences of its first char have been changed to '\\$', except the first char itself. (2 points)\n",
        "\n",
        "Sample String : 'restart‘, \n",
        "\n",
        "Expected Result : 'resta\\$t'"
      ]
    },
    {
      "cell_type": "code",
      "metadata": {
        "colab": {
          "base_uri": "https://localhost:8080/"
        },
        "id": "Fj0XhwbBCw2o",
        "outputId": "424212d3-c08a-48db-bb91-b99b09a7b05b"
      },
      "source": [
        "str = 'momentum'                     #define string\n",
        "def change_char(str):\n",
        "  char = str[0]                      #identify the first char\n",
        "  str = str.replace(char, '$')\n",
        "  str = char + str[1:]               #start from the second char to search\n",
        "  return str                         #return str to find other charts if there is any in the string        \n",
        "print(change_char(str))  \n",
        "\n",
        " \n"
      ],
      "execution_count": 18,
      "outputs": [
        {
          "output_type": "stream",
          "text": [
            "mo$entu$\n"
          ],
          "name": "stdout"
        }
      ]
    },
    {
      "cell_type": "markdown",
      "metadata": {
        "id": "_bIP7s1MCzue"
      },
      "source": [
        "(5) Write a program with python which could accept two parameter a and b to calculate and output the result of S, where \n",
        "\n",
        "$\\ S=3.14*(1+a/b)^3$ (3 points)\n",
        "\n"
      ]
    },
    {
      "cell_type": "code",
      "metadata": {
        "colab": {
          "base_uri": "https://localhost:8080/"
        },
        "id": "w79QilHXD3Mg",
        "outputId": "7dbbf5e4-4c7d-49a1-d41b-4838d7e07442"
      },
      "source": [
        "a = input('Enter a: ')                    #define the variables a & b\n",
        "b = input('Enter b: ')\n",
        "S=3.14 * (1 + float(a) / float(b))**3     #apply the operations\n",
        "print(S)\n"
      ],
      "execution_count": 49,
      "outputs": [
        {
          "output_type": "stream",
          "text": [
            "Enter a: 7\n",
            "Enter b: 2\n",
            "286.1325\n"
          ],
          "name": "stdout"
        }
      ]
    },
    {
      "cell_type": "markdown",
      "metadata": {
        "id": "xCa2bK9aD4Q3"
      },
      "source": [
        "(6) Write a Python program to concatenate following dictionaries to create a new one. (3 points)\n",
        "\n",
        "Sample Dictionary : dic1={1:10, 2:20}, dic2={3:30, 4:40}, dic3={5:50,6:60}, \n",
        "\n",
        "Expected Result : {1: 10, 2: 20, 3: 30, 4: 40, 5: 50, 6: 60}\n"
      ]
    },
    {
      "cell_type": "code",
      "metadata": {
        "colab": {
          "base_uri": "https://localhost:8080/"
        },
        "id": "_z4aLqAbEET1",
        "outputId": "1d8ba37c-2b42-481f-bebc-4fcf28ae748f"
      },
      "source": [
        "dic1 = {1:10,2:20}                           #define each dictionary\n",
        "dic2 = {3:30,4:40}\n",
        "dic3 = {5:50,6:60}\n",
        "dic_new = {**dic1, **dic2, **dic3 }          #concatenate dictionaries\n",
        "print(dic_new)"
      ],
      "execution_count": 24,
      "outputs": [
        {
          "output_type": "stream",
          "text": [
            "{1: 10, 2: 20, 3: 30, 4: 40, 5: 50, 6: 60}\n"
          ],
          "name": "stdout"
        }
      ]
    },
    {
      "cell_type": "code",
      "metadata": {
        "colab": {
          "base_uri": "https://localhost:8080/"
        },
        "id": "iyqqKqpFkjCZ",
        "outputId": "d8165c5b-d732-424b-aab3-f77c645b634e"
      },
      "source": [
        "dic1 = {'B':'blue','R':'red'}                #define each dictionary\r\n",
        "dic2 = {'Y':'yellow'}\r\n",
        "dic3 = {'P':'purple','G':'green','W':'white'}\r\n",
        "dic_new = {**dic1, **dic2, **dic3 }          #concatenate dictionaries\r\n",
        "print(dic_new)"
      ],
      "execution_count": 25,
      "outputs": [
        {
          "output_type": "stream",
          "text": [
            "{'B': 'blue', 'R': 'red', 'Y': 'yellow', 'P': 'purple', 'G': 'green', 'W': 'white'}\n"
          ],
          "name": "stdout"
        }
      ]
    },
    {
      "cell_type": "markdown",
      "metadata": {
        "id": "0v48Vqa7FrQh"
      },
      "source": [
        "(7) Write a Python program to check whether an element exists within a tuple. (3 points)"
      ]
    },
    {
      "cell_type": "code",
      "metadata": {
        "colab": {
          "base_uri": "https://localhost:8080/"
        },
        "id": "7WEmgq-DF2P1",
        "outputId": "0bd6aeb2-ef45-4622-c9f5-8a5fcb11db60"
      },
      "source": [
        "x= 'yellow'                                                 # one way to search if the item is exist in tuple\n",
        "newtuple = ('red', 'green', 'blue', 'orange', 'pink')\n",
        "if x in newtuple:\n",
        "  print('Yes,',x,'is in the color tuple')\n",
        "else: \n",
        "  print('No,',x,'is not in the color tuple')\n",
        "\n",
        "\n",
        "\n"
      ],
      "execution_count": 22,
      "outputs": [
        {
          "output_type": "stream",
          "text": [
            "No, yellow is not in the color tuple\n"
          ],
          "name": "stdout"
        }
      ]
    },
    {
      "cell_type": "code",
      "metadata": {
        "colab": {
          "base_uri": "https://localhost:8080/"
        },
        "id": "RHDc4eFFJ8Qr",
        "outputId": "3659c5f5-5806-4ec7-8593-b7681f594d16"
      },
      "source": [
        "newtuple = ('red', 'green', 'blue', 'orange', 'pink')        # another way is to define the specific color in the statements\r\n",
        "if 'yellow'in newtuple:\r\n",
        "  print(\"Yes,'yellow' is in the color tuple\")\r\n",
        "else:\r\n",
        "  print(\"No,'yellow' is not in the color tuple\")\r\n",
        " "
      ],
      "execution_count": 36,
      "outputs": [
        {
          "output_type": "stream",
          "text": [
            "No,'yellow' is not in the color tuple\n"
          ],
          "name": "stdout"
        }
      ]
    },
    {
      "cell_type": "markdown",
      "metadata": {
        "id": "vD5PYLMuGga_"
      },
      "source": [
        "(8) Write a Python program to find maximum and the minimum value in a set. (3 points)"
      ]
    },
    {
      "cell_type": "code",
      "metadata": {
        "colab": {
          "base_uri": "https://localhost:8080/"
        },
        "id": "t0D5kdJUGjjw",
        "outputId": "9469884c-e9da-42e0-9468-ea4d7366019b"
      },
      "source": [
        "x = max({94, 2, 5, 11, 43, 16})\n",
        "y = min({94, 2, 5, 11, 43, 16})\n",
        "print('Maximun in this set is',x)\n",
        "print('Minimun in this set is',y)\n"
      ],
      "execution_count": 40,
      "outputs": [
        {
          "output_type": "stream",
          "text": [
            "Maximun in this set is 94\n",
            "Minimun in this set is 2\n"
          ],
          "name": "stdout"
        }
      ]
    },
    {
      "cell_type": "markdown",
      "metadata": {
        "id": "uHkd-y5VhVWC"
      },
      "source": [
        "(9) Write a Python program to randomly divide the students in this class into five groups for term projects, each group should have at least 3 students but no more than 5 students (including 5). Here is the students list: (3 points for extra)\n",
        "\n",
        "studnet_list = ['vmb0067','pc0353','snd0097','yye0005','sg0940','bk0301','rak0120','rrk0058','spk0057','vl0135','nm0547','pn0159',\n",
        "                'msp0174','dd0420','ds0761','rs0850','ss1995','at0739','at0768','mv0299','tv0119','dy0091']"
      ]
    },
    {
      "cell_type": "code",
      "metadata": {
        "colab": {
          "base_uri": "https://localhost:8080/"
        },
        "id": "3iGbmcOBhTwy",
        "outputId": "90e2df1e-a0b9-40ef-f2e0-034de4a2bde7"
      },
      "source": [
        "studnet_list = ['vmb0067','pc0353','snd0097','yye0005','sg0940','bk0301','rak0120','rrk0058','spk0057','vl0135','nm0547','pn0159', 'msp0174','dd0420','ds0761','rs0850','ss1995','at0739','at0768','mv0299','tv0119','dy0091']\n",
        "\n",
        "pieces = 5                               #divided the list to 5 sublist, but the list is not randomly divided\n",
        "a =float(len(studnet_list))/pieces\n",
        "sublist= [studnet_list[int(a*i):int(a*(i+1))]for i in range(pieces)]\n",
        "print(sublist)\n",
        "\n",
        "\n",
        "\n"
      ],
      "execution_count": 7,
      "outputs": [
        {
          "output_type": "stream",
          "text": [
            "[['vmb0067', 'pc0353', 'snd0097', 'yye0005'], ['sg0940', 'bk0301', 'rak0120', 'rrk0058'], ['spk0057', 'vl0135', 'nm0547', 'pn0159', 'msp0174'], ['dd0420', 'ds0761', 'rs0850', 'ss1995'], ['at0739', 'at0768', 'mv0299', 'tv0119', 'dy0091']]\n"
          ],
          "name": "stdout"
        }
      ]
    },
    {
      "cell_type": "code",
      "metadata": {
        "colab": {
          "base_uri": "https://localhost:8080/"
        },
        "id": "HTg4nS05fst4",
        "outputId": "f7d8ffee-8290-4efe-d606-deb027b65921"
      },
      "source": [
        "studnet_list = ['vmb0067','pc0353','snd0097','yye0005','sg0940','bk0301','rak0120','rrk0058','spk0057','vl0135','nm0547','pn0159', 'msp0174','dd0420','ds0761','rs0850','ss1995','at0739','at0768','mv0299','tv0119','dy0091']\r\n",
        "import numpy as np\r\n",
        "import random                                  #divided the list to 5 sublists- it is not randomely\r\n",
        "sublists = np.array_split(studnet_list, 5)\r\n",
        "for array in sublist:\r\n",
        "  print(list(array)) \r\n"
      ],
      "execution_count": 17,
      "outputs": [
        {
          "output_type": "stream",
          "text": [
            "['vmb0067', 'pc0353', 'snd0097', 'yye0005']\n",
            "['sg0940', 'bk0301', 'rak0120', 'rrk0058']\n",
            "['spk0057', 'vl0135', 'nm0547', 'pn0159', 'msp0174']\n",
            "['dd0420', 'ds0761', 'rs0850', 'ss1995']\n",
            "['at0739', 'at0768', 'mv0299', 'tv0119', 'dy0091']\n"
          ],
          "name": "stdout"
        }
      ]
    }
  ]
}