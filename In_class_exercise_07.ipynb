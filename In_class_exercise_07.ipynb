{
  "nbformat": 4,
  "nbformat_minor": 0,
  "metadata": {
    "kernelspec": {
      "display_name": "Python 3",
      "language": "python",
      "name": "python3"
    },
    "language_info": {
      "codemirror_mode": {
        "name": "ipython",
        "version": 3
      },
      "file_extension": ".py",
      "mimetype": "text/x-python",
      "name": "python",
      "nbconvert_exporter": "python",
      "pygments_lexer": "ipython3",
      "version": "3.8.5"
    },
    "colab": {
      "name": "In_class_exercise_07.ipynb",
      "provenance": [],
      "collapsed_sections": [],
      "include_colab_link": true
    }
  },
  "cells": [
    {
      "cell_type": "markdown",
      "metadata": {
        "id": "view-in-github",
        "colab_type": "text"
      },
      "source": [
        "<a href=\"https://colab.research.google.com/github/Kate5-7-2021/Kate_INFO5731_Spring2021/blob/main/In_class_exercise_07.ipynb\" target=\"_parent\"><img src=\"https://colab.research.google.com/assets/colab-badge.svg\" alt=\"Open In Colab\"/></a>"
      ]
    },
    {
      "cell_type": "markdown",
      "metadata": {
        "id": "KnhNMn8HNs8Z"
      },
      "source": [
        "# **The seventh in-class-exercise (20 points in total, 3/16/2021)**"
      ]
    },
    {
      "cell_type": "markdown",
      "metadata": {
        "id": "7keh-bSYNs8d"
      },
      "source": [
        "Question description: In the last in-class-exercise (exercise-06), you collected the titles of 100 articles about data science, natural language processing, and machine learning. The 100 article titles will be used as the text corpus of this exercise. Perform the following tasks:"
      ]
    },
    {
      "cell_type": "markdown",
      "metadata": {
        "id": "9fjC3nfuNs8e"
      },
      "source": [
        "## (1) (8 points) Generate K topics by using LDA, the number of topics K should be decided by the coherence score, then summarize what are the topics. You may refer the code here: \n",
        "\n",
        "https://www.machinelearningplus.com/nlp/topic-modeling-gensim-python/"
      ]
    },
    {
      "cell_type": "code",
      "metadata": {
        "id": "Jhi7D88ENs8e",
        "colab": {
          "base_uri": "https://localhost:8080/"
        },
        "outputId": "0358c954-3f50-4417-ca3f-59344725d23b"
      },
      "source": [
        "#download nltk stopwords and spacy model\n",
        "# Run in python console\n",
        "import nltk; nltk.download('stopwords')"
      ],
      "execution_count": 39,
      "outputs": [
        {
          "output_type": "stream",
          "text": [
            "[nltk_data] Downloading package stopwords to /root/nltk_data...\n",
            "[nltk_data]   Package stopwords is already up-to-date!\n"
          ],
          "name": "stdout"
        },
        {
          "output_type": "execute_result",
          "data": {
            "text/plain": [
              "True"
            ]
          },
          "metadata": {
            "tags": []
          },
          "execution_count": 39
        }
      ]
    },
    {
      "cell_type": "code",
      "metadata": {
        "id": "-tOSVb1mkmng"
      },
      "source": [
        "# Import necessary pakages\n",
        "\n",
        "import re\n",
        "import numpy as np\n",
        "import pandas as pd\n",
        "from pprint import pprint\n",
        "import matplotlib.pyplot as plt\n",
        "%matplotlib inline\n"
      ],
      "execution_count": 40,
      "outputs": []
    },
    {
      "cell_type": "code",
      "metadata": {
        "colab": {
          "base_uri": "https://localhost:8080/"
        },
        "id": "IznYN138kmkS",
        "outputId": "b11016f3-050a-47c1-86da-2d08bd412028"
      },
      "source": [
        "# Gensim\n",
        "import gensim\n",
        "import gensim.corpora as corpora\n",
        "from gensim.utils import simple_preprocess\n",
        "from gensim.models import CoherenceModel\n",
        "\n",
        "#spacy for lemmatization\n",
        "import spacy\n",
        "\n",
        "! pip install pyLDAvis\n",
        "#Plotting tools\n",
        "import pyLDAvis\n",
        "import pyLDAvis.gensim \n"
      ],
      "execution_count": 41,
      "outputs": [
        {
          "output_type": "stream",
          "text": [
            "Requirement already satisfied: pyLDAvis in /usr/local/lib/python3.7/dist-packages (3.2.2)\n",
            "Requirement already satisfied: wheel>=0.23.0 in /usr/local/lib/python3.7/dist-packages (from pyLDAvis) (0.36.2)\n",
            "Requirement already satisfied: scipy>=0.18.0 in /usr/local/lib/python3.7/dist-packages (from pyLDAvis) (1.4.1)\n",
            "Requirement already satisfied: future in /usr/local/lib/python3.7/dist-packages (from pyLDAvis) (0.16.0)\n",
            "Requirement already satisfied: pandas>=0.17.0; python_version > \"3.5\" in /usr/local/lib/python3.7/dist-packages (from pyLDAvis) (1.1.5)\n",
            "Requirement already satisfied: joblib>=0.8.4 in /usr/local/lib/python3.7/dist-packages (from pyLDAvis) (1.0.1)\n",
            "Requirement already satisfied: numpy>=1.9.2 in /usr/local/lib/python3.7/dist-packages (from pyLDAvis) (1.19.5)\n",
            "Requirement already satisfied: numexpr in /usr/local/lib/python3.7/dist-packages (from pyLDAvis) (2.7.3)\n",
            "Requirement already satisfied: jinja2>=2.7.2 in /usr/local/lib/python3.7/dist-packages (from pyLDAvis) (2.11.3)\n",
            "Requirement already satisfied: funcy in /usr/local/lib/python3.7/dist-packages (from pyLDAvis) (1.15)\n",
            "Requirement already satisfied: python-dateutil>=2.7.3 in /usr/local/lib/python3.7/dist-packages (from pandas>=0.17.0; python_version > \"3.5\"->pyLDAvis) (2.8.1)\n",
            "Requirement already satisfied: pytz>=2017.2 in /usr/local/lib/python3.7/dist-packages (from pandas>=0.17.0; python_version > \"3.5\"->pyLDAvis) (2018.9)\n",
            "Requirement already satisfied: MarkupSafe>=0.23 in /usr/local/lib/python3.7/dist-packages (from jinja2>=2.7.2->pyLDAvis) (1.1.1)\n",
            "Requirement already satisfied: six>=1.5 in /usr/local/lib/python3.7/dist-packages (from python-dateutil>=2.7.3->pandas>=0.17.0; python_version > \"3.5\"->pyLDAvis) (1.15.0)\n"
          ],
          "name": "stdout"
        }
      ]
    },
    {
      "cell_type": "code",
      "metadata": {
        "id": "BUn_YS-wkmhK"
      },
      "source": [
        "#Enable logging for gensim - optional\n",
        "\n",
        "import logging\n",
        "logging.basicConfig(format='%(asctime)s: %(levelname)s: %(message)s', level=logging.ERROR)\n",
        "\n",
        "import warnings\n",
        "warnings.filterwarnings('ignore', category=DeprecationWarning)\n"
      ],
      "execution_count": 42,
      "outputs": []
    },
    {
      "cell_type": "code",
      "metadata": {
        "id": "jI1fksAqkmeJ"
      },
      "source": [
        "#NLTK Stop words\n",
        "from nltk.corpus import stopwords\n",
        "stop_words= stopwords.words('english')\n",
        "stop_words.extend(['from','subject','re','edu','use'])"
      ],
      "execution_count": 43,
      "outputs": []
    },
    {
      "cell_type": "code",
      "metadata": {
        "colab": {
          "base_uri": "https://localhost:8080/",
          "height": 1000
        },
        "id": "N9rbAoqTkma8",
        "outputId": "501509dc-a714-4e44-8fa6-e4be1f94883c"
      },
      "source": [
        "df=pd.read_csv('/content/Article.csv', header= 0, encoding= 'unicode_escape')\n",
        "print(df.Data_Mining_Articles.unique())\n",
        "df.head(100)"
      ],
      "execution_count": 44,
      "outputs": [
        {
          "output_type": "stream",
          "text": [
            "['Data mining\\xa0techniques and applications\\x96A decade review from 2000 to 2011'\n",
            " 'Visual\\xa0data mining'\n",
            " 'Systematic survey of big\\xa0data\\xa0and\\xa0data mining\\xa0in internet of things'\n",
            " 'Detecting financial fraud using\\xa0data mining\\xa0techniques: A decade review from 2004 to 2015'\n",
            " 'Global\\xa0data mining: An empirical study of current trends, future forecasts and technology diffusions'\n",
            " 'Data-mining\\xa0technologies for diabetes: a systematic review'\n",
            " 'Target discovery from data mining approaches'\n",
            " 'Semantic data mining of financial news articles'\n",
            " 'Evolving data into mining solutions for insights'\n",
            " 'Methodological and practical aspects of\\xa0data mining'\n",
            " 'Educational\\xa0data mining: A survey from 1995 to 2005'\n",
            " 'Untangling text\\xa0data mining'\n",
            " 'Data mining\\xa0and its applications for knowledge management: a literature review from 2007 to 2012'\n",
            " 'Using text\\xa0mining\\xa0techniques for extracting information from research\\xa0articles'\n",
            " 'Data mining\\xa0techniques in social media: A survey'\n",
            " 'The state of educational\\xa0data mining\\xa0in 2009: A review and future visions'\n",
            " '\\xa0A systematic review of\\xa0data mining\\xa0and machine learning for air pollution epidemiology'\n",
            " 'From\\xa0data mining\\xa0to knowledge discovery in databases'\n",
            " 'Graph-based data mining'\n",
            " 'The application of\\xa0data mining\\xa0techniques in financial fraud detection: A classification framework and an academic review of literature'\n",
            " 'Evaluation of text\\xa0data mining\\xa0for database curation: lessons learned from the KDD Challenge Cup'\n",
            " 'Data mining\\xa0in healthcare\\x96a review'\n",
            " 'Data mining\\xa0in tourism demand analysis: A retrospective analysis'\n",
            " 'A\\xa0data mining\\xa0analysis of RTID alarms'\n",
            " 'Educational\\xa0Data Mining: A review of evaluation process in the e-learning'\n",
            " 'Data mining\\xa0and machine learning for condition-based maintenance'\n",
            " 'Topcat:\\xa0Data mining\\xa0for topic identification in a text corpus'\n",
            " 'Literature review of\\xa0data mining\\xa0applications in academic libraries'\n",
            " 'What is text\\xa0mining'\n",
            " 'Spatial\\xa0data mining\\xa0and geographic knowledge discovery\\x97An introduction'\n",
            " 'Knowledge management and\\xa0data mining\\xa0for marketing'\n",
            " 'Top 10\\xa0data mining\\xa0techniques in business applications: a brief survey'\n",
            " 'Machine learning and\\xa0data mining\\xa0methods in diabetes research'\n",
            " 'Data mining\\xa0algorithms and techniques in mental health: A systematic review'\n",
            " 'Business\\xa0data mining\\x97a machine learning perspective'\n",
            " 'Introduction to the\\xa0mining\\xa0of clinical\\xa0data'\n",
            " 'Application of\\xa0data mining\\xa0techniques in pharmacovigilance'\n",
            " 'A systematic review on healthcare analytics: application and theoretical perspective of\\xa0data mining'\n",
            " 'Data mining\\xa0classification techniques applied for breast cancer diagnosis and prognosis'\n",
            " 'Data mining: manufacturing and service applications'\n",
            " 'A comprehensive survey of\\xa0data mining-based fraud detection research'\n",
            " 'Stock trend prediction using news\\xa0articles: a text\\xa0mining\\xa0approach'\n",
            " 'Uniqueness of medical\\xa0data mining'\n",
            " 'Accomplishments and challenges in literature\\xa0data mining\\xa0for biology'\n",
            " 'Role of biological\\xa0data mining\\xa0and machine learning techniques in detecting and diagnosing the novel coronavirus (COVID-19): a systematic review'\n",
            " \"Factors affecting students' performance in higher education: a systematic review of predictive\\xa0data mining\\xa0techniques\"\n",
            " 'Emerging standards for\\xa0data mining'\n",
            " 'Cervical cancer prediction through different screening methods using\\xa0data mining'\n",
            " 'EDM: A general framework for\\xa0data mining\\xa0based on evidence theory'\n",
            " 'A preprocessing method for improving\\xa0data mining\\xa0techniques. Application to a large medical diabetes database.'\n",
            " 'TopCat:\\xa0Data mining\\xa0for topic identification in a text corpus'\n",
            " 'Learning analytics and educational\\xa0data mining: towards communication and collaboration'\n",
            " 'Educational\\xa0data mining: An advance for intelligent systems in education'\n",
            " 'Educational\\xa0data mining: A systematic review of the published literature 2006-2013'\n",
            " 'Predictive\\xa0data mining\\xa0in clinical medicine: current issues and guidelines'\n",
            " 'Data mining\\xa0techniques for customer relationship management'\n",
            " \"Is Europe falling behind in\\xa0data mining? Copyright's impact on\\xa0data mining\\xa0in academic research\"\n",
            " 'Future trends in\\xa0data mining'\n",
            " 'Applying\\xa0data mining\\xa0to telecom churn management'\n",
            " 'Feature space theory\\x97a mathematical foundation for\\xa0data mining'\n",
            " 'The comparisons of\\xa0data mining\\xa0techniques for the predictive accuracy of probability of default of credit card clients'\n",
            " 'Data mining: a tutorial-based primer'\n",
            " 'Application and exploration of big\\xa0data mining\\xa0in clinical medicine'\n",
            " 'Data mining\\xa0in healthcare and biomedicine: a survey of the literature'\n",
            " 'Analysis of pre-processing and post-processing methods and using\\xa0data mining\\xa0to diagnose heart diseases'\n",
            " 'The potentials of educational\\xa0data mining\\xa0for researching metacognition, motivation and self-regulated learning'\n",
            " 'Data mining\\xa0for improvement of product quality'\n",
            " '\\xa0A state-of-the-art survey of malware detection approaches using\\xa0data mining\\xa0techniques'\n",
            " 'Data mining\\xa0in course management systems: Moodle case study and tutorial'\n",
            " 'Using\\xa0data mining\\xa0to find fraud in HCFA health care claims.'\n",
            " 'Using\\xa0data mining\\xa0techniques for diagnosis and prognosis of cancer disease'\n",
            " 'Selected techniques for\\xa0data mining\\xa0in medicine'\n",
            " \"\\xa0Data Mining\\xa0and Statistics: What's the connection?\"\n",
            " 'Data mining\\xa0methods, applications, and tools'\n",
            " 'Data mining\\xa0our way to the next generation of thermoelectrics'\n",
            " 'Data mining\\xa0for customer service support'\n",
            " 'Data mining\\xa0and machine learning to promote smart cities: A systematic review from 2000 to 2018'\n",
            " 'Educational data mining: a review of the state of the art'\n",
            " 'Data mining\\xa0issues and opportunities for building nursing knowledge'\n",
            " 'Antipsychotic drugs and heart muscle disorder in international pharmacovigilance:\\xa0data mining\\xa0study'\n",
            " 'Modeling wine preferences by\\xa0data mining\\xa0from physicochemical properties'\n",
            " 'Fake news detection on social media: A\\xa0data mining\\xa0perspective'\n",
            " 'Data mining\\xa0for the internet of things: literature review and challenges'\n",
            " 'Credit scoring in banks and financial institutions via\\xa0data mining\\xa0techniques: A literature review'\n",
            " 'Particle swarm based\\xa0data mining\\xa0algorithms for classification tasks'\n",
            " 'Data mining\\xa0techniques for the detection of fraudulent financial statements'\n",
            " 'Outcomes of educational interventions in type 2 diabetes: WEKA\\xa0data-mining\\xa0analysis'\n",
            " 'Research trends analysis by comparing\\xa0data mining\\xa0and customer relationship management through bibliometric methodology'\n",
            " 'Educational\\xa0data mining\\xa0and learning analytics'\n",
            " 'Synergies of operations research and\\xa0data mining'\n",
            " \"Data mining\\xa0method for listed companies' financial distress prediction\"\n",
            " 'Study of Spanish\\xa0mining\\xa0accidents using\\xa0data mining\\xa0techniques'\n",
            " 'Microarray\\xa0data mining\\xa0with visual programming'\n",
            " 'Predicting breast cancer survivability: a comparison of three\\xa0data mining\\xa0methods'\n",
            " 'Student\\xa0data mining\\xa0solution\\x96knowledge management system related to higher education institutions'\n",
            " 'Data mining: an overview from a database perspective'\n",
            " 'Credit scoring with a\\xa0data mining\\xa0approach based on support vector machines'\n",
            " 'Data mining\\xa0of association structures to model consumer behaviour'\n",
            " 'Information visualization and visual\\xa0data mining'\n",
            " 'Application of\\xa0data mining\\xa0techniques in customer relationship management: A literature review and classification']\n"
          ],
          "name": "stdout"
        },
        {
          "output_type": "execute_result",
          "data": {
            "text/html": [
              "<div>\n",
              "<style scoped>\n",
              "    .dataframe tbody tr th:only-of-type {\n",
              "        vertical-align: middle;\n",
              "    }\n",
              "\n",
              "    .dataframe tbody tr th {\n",
              "        vertical-align: top;\n",
              "    }\n",
              "\n",
              "    .dataframe thead th {\n",
              "        text-align: right;\n",
              "    }\n",
              "</style>\n",
              "<table border=\"1\" class=\"dataframe\">\n",
              "  <thead>\n",
              "    <tr style=\"text-align: right;\">\n",
              "      <th></th>\n",
              "      <th>Data_Mining_Articles</th>\n",
              "    </tr>\n",
              "  </thead>\n",
              "  <tbody>\n",
              "    <tr>\n",
              "      <th>0</th>\n",
              "      <td>Data mining techniques and applicationsA deca...</td>\n",
              "    </tr>\n",
              "    <tr>\n",
              "      <th>1</th>\n",
              "      <td>Visual data mining</td>\n",
              "    </tr>\n",
              "    <tr>\n",
              "      <th>2</th>\n",
              "      <td>Systematic survey of big data and data mining ...</td>\n",
              "    </tr>\n",
              "    <tr>\n",
              "      <th>3</th>\n",
              "      <td>Detecting financial fraud using data mining te...</td>\n",
              "    </tr>\n",
              "    <tr>\n",
              "      <th>4</th>\n",
              "      <td>Global data mining: An empirical study of curr...</td>\n",
              "    </tr>\n",
              "    <tr>\n",
              "      <th>...</th>\n",
              "      <td>...</td>\n",
              "    </tr>\n",
              "    <tr>\n",
              "      <th>95</th>\n",
              "      <td>Data mining: an overview from a database persp...</td>\n",
              "    </tr>\n",
              "    <tr>\n",
              "      <th>96</th>\n",
              "      <td>Credit scoring with a data mining approach bas...</td>\n",
              "    </tr>\n",
              "    <tr>\n",
              "      <th>97</th>\n",
              "      <td>Data mining of association structures to model...</td>\n",
              "    </tr>\n",
              "    <tr>\n",
              "      <th>98</th>\n",
              "      <td>Information visualization and visual data mining</td>\n",
              "    </tr>\n",
              "    <tr>\n",
              "      <th>99</th>\n",
              "      <td>Application of data mining techniques in custo...</td>\n",
              "    </tr>\n",
              "  </tbody>\n",
              "</table>\n",
              "<p>100 rows × 1 columns</p>\n",
              "</div>"
            ],
            "text/plain": [
              "                                 Data_Mining_Articles\n",
              "0   Data mining techniques and applicationsA deca...\n",
              "1                                  Visual data mining\n",
              "2   Systematic survey of big data and data mining ...\n",
              "3   Detecting financial fraud using data mining te...\n",
              "4   Global data mining: An empirical study of curr...\n",
              "..                                                ...\n",
              "95  Data mining: an overview from a database persp...\n",
              "96  Credit scoring with a data mining approach bas...\n",
              "97  Data mining of association structures to model...\n",
              "98   Information visualization and visual data mining\n",
              "99  Application of data mining techniques in custo...\n",
              "\n",
              "[100 rows x 1 columns]"
            ]
          },
          "metadata": {
            "tags": []
          },
          "execution_count": 44
        }
      ]
    },
    {
      "cell_type": "code",
      "metadata": {
        "colab": {
          "base_uri": "https://localhost:8080/"
        },
        "id": "1jYekBuekmW8",
        "outputId": "1963257a-dc9b-4777-f401-203d3b5a4f46"
      },
      "source": [
        "# Remove emails and newline characters\n",
        "\n",
        "#Convert to list\n",
        "articles=df.Data_Mining_Articles.values.tolist()\n",
        "\n",
        "#Remove emails\n",
        "articles=[re.sub('\\S*@\\S*\\s?','', sent) for sent in articles]\n",
        "\n",
        "#Remove new line characters         #using this line of code in the next step gave me empty lists without words\n",
        "#articles=[re.sub('\\s+','',sent) for sent in articles]\n",
        "\n",
        "#Remove distraction single quotes\n",
        "articles= [re.sub(\"\\'\",\"\", sent) for sent in articles]\n",
        "\n",
        "pprint(articles[:])"
      ],
      "execution_count": 45,
      "outputs": [
        {
          "output_type": "stream",
          "text": [
            "['Data mining\\xa0techniques and applications\\x96A decade review from 2000 to '\n",
            " '2011',\n",
            " 'Visual\\xa0data mining',\n",
            " 'Systematic survey of big\\xa0data\\xa0and\\xa0data mining\\xa0in internet of '\n",
            " 'things',\n",
            " 'Detecting financial fraud using\\xa0data mining\\xa0techniques: A decade '\n",
            " 'review from 2004 to 2015',\n",
            " 'Global\\xa0data mining: An empirical study of current trends, future '\n",
            " 'forecasts and technology diffusions',\n",
            " 'Data-mining\\xa0technologies for diabetes: a systematic review',\n",
            " 'Target discovery from data mining approaches',\n",
            " 'Semantic data mining of financial news articles',\n",
            " 'Evolving data into mining solutions for insights',\n",
            " 'Methodological and practical aspects of\\xa0data mining',\n",
            " 'Educational\\xa0data mining: A survey from 1995 to 2005',\n",
            " 'Untangling text\\xa0data mining',\n",
            " 'Data mining\\xa0and its applications for knowledge management: a literature '\n",
            " 'review from 2007 to 2012',\n",
            " 'Using text\\xa0mining\\xa0techniques for extracting information from '\n",
            " 'research\\xa0articles',\n",
            " 'Data mining\\xa0techniques in social media: A survey',\n",
            " 'The state of educational\\xa0data mining\\xa0in 2009: A review and future '\n",
            " 'visions',\n",
            " '\\xa0A systematic review of\\xa0data mining\\xa0and machine learning for air '\n",
            " 'pollution epidemiology',\n",
            " 'From\\xa0data mining\\xa0to knowledge discovery in databases',\n",
            " 'Graph-based data mining',\n",
            " 'The application of\\xa0data mining\\xa0techniques in financial fraud '\n",
            " 'detection: A classification framework and an academic review of literature',\n",
            " 'Evaluation of text\\xa0data mining\\xa0for database curation: lessons learned '\n",
            " 'from the KDD Challenge Cup',\n",
            " 'Data mining\\xa0in healthcare\\x96a review',\n",
            " 'Data mining\\xa0in tourism demand analysis: A retrospective analysis',\n",
            " 'A\\xa0data mining\\xa0analysis of RTID alarms',\n",
            " 'Educational\\xa0Data Mining: A review of evaluation process in the e-learning',\n",
            " 'Data mining\\xa0and machine learning for condition-based maintenance',\n",
            " 'Topcat:\\xa0Data mining\\xa0for topic identification in a text corpus',\n",
            " 'Literature review of\\xa0data mining\\xa0applications in academic libraries',\n",
            " 'What is text\\xa0mining',\n",
            " 'Spatial\\xa0data mining\\xa0and geographic knowledge discovery\\x97An '\n",
            " 'introduction',\n",
            " 'Knowledge management and\\xa0data mining\\xa0for marketing',\n",
            " 'Top 10\\xa0data mining\\xa0techniques in business applications: a brief survey',\n",
            " 'Machine learning and\\xa0data mining\\xa0methods in diabetes research',\n",
            " 'Data mining\\xa0algorithms and techniques in mental health: A systematic '\n",
            " 'review',\n",
            " 'Business\\xa0data mining\\x97a machine learning perspective',\n",
            " 'Introduction to the\\xa0mining\\xa0of clinical\\xa0data',\n",
            " 'Application of\\xa0data mining\\xa0techniques in pharmacovigilance',\n",
            " 'A systematic review on healthcare analytics: application and theoretical '\n",
            " 'perspective of\\xa0data mining',\n",
            " 'Data mining\\xa0classification techniques applied for breast cancer diagnosis '\n",
            " 'and prognosis',\n",
            " 'Data mining: manufacturing and service applications',\n",
            " 'A comprehensive survey of\\xa0data mining-based fraud detection research',\n",
            " 'Stock trend prediction using news\\xa0articles: a text\\xa0mining\\xa0approach',\n",
            " 'Uniqueness of medical\\xa0data mining',\n",
            " 'Accomplishments and challenges in literature\\xa0data mining\\xa0for biology',\n",
            " 'Role of biological\\xa0data mining\\xa0and machine learning techniques in '\n",
            " 'detecting and diagnosing the novel coronavirus (COVID-19): a systematic '\n",
            " 'review',\n",
            " 'Factors affecting students performance in higher education: a systematic '\n",
            " 'review of predictive\\xa0data mining\\xa0techniques',\n",
            " 'Emerging standards for\\xa0data mining',\n",
            " 'Cervical cancer prediction through different screening methods using\\xa0data '\n",
            " 'mining',\n",
            " 'EDM: A general framework for\\xa0data mining\\xa0based on evidence theory',\n",
            " 'A preprocessing method for improving\\xa0data mining\\xa0techniques. '\n",
            " 'Application to a large medical diabetes database.',\n",
            " 'TopCat:\\xa0Data mining\\xa0for topic identification in a text corpus',\n",
            " 'Learning analytics and educational\\xa0data mining: towards communication and '\n",
            " 'collaboration',\n",
            " 'Educational\\xa0data mining: An advance for intelligent systems in education',\n",
            " 'Educational\\xa0data mining: A systematic review of the published literature '\n",
            " '2006-2013',\n",
            " 'Predictive\\xa0data mining\\xa0in clinical medicine: current issues and '\n",
            " 'guidelines',\n",
            " 'Data mining\\xa0techniques for customer relationship management',\n",
            " 'Is Europe falling behind in\\xa0data mining? Copyrights impact on\\xa0data '\n",
            " 'mining\\xa0in academic research',\n",
            " 'Future trends in\\xa0data mining',\n",
            " 'Applying\\xa0data mining\\xa0to telecom churn management',\n",
            " 'Feature space theory\\x97a mathematical foundation for\\xa0data mining',\n",
            " 'The comparisons of\\xa0data mining\\xa0techniques for the predictive accuracy '\n",
            " 'of probability of default of credit card clients',\n",
            " 'Data mining: a tutorial-based primer',\n",
            " 'Application and exploration of big\\xa0data mining\\xa0in clinical medicine',\n",
            " 'Data mining\\xa0in healthcare and biomedicine: a survey of the literature',\n",
            " 'Analysis of pre-processing and post-processing methods and using\\xa0data '\n",
            " 'mining\\xa0to diagnose heart diseases',\n",
            " 'The potentials of educational\\xa0data mining\\xa0for researching '\n",
            " 'metacognition, motivation and self-regulated learning',\n",
            " 'Data mining\\xa0for improvement of product quality',\n",
            " '\\xa0A state-of-the-art survey of malware detection approaches using\\xa0data '\n",
            " 'mining\\xa0techniques',\n",
            " 'Data mining\\xa0in course management systems: Moodle case study and tutorial',\n",
            " 'Using\\xa0data mining\\xa0to find fraud in HCFA health care claims.',\n",
            " 'Using\\xa0data mining\\xa0techniques for diagnosis and prognosis of cancer '\n",
            " 'disease',\n",
            " 'Selected techniques for\\xa0data mining\\xa0in medicine',\n",
            " '\\xa0Data Mining\\xa0and Statistics: Whats the connection?',\n",
            " 'Data mining\\xa0methods, applications, and tools',\n",
            " 'Data mining\\xa0our way to the next generation of thermoelectrics',\n",
            " 'Data mining\\xa0for customer service support',\n",
            " 'Data mining\\xa0and machine learning to promote smart cities: A systematic '\n",
            " 'review from 2000 to 2018',\n",
            " 'Educational data mining: a review of the state of the art',\n",
            " 'Data mining\\xa0issues and opportunities for building nursing knowledge',\n",
            " 'Antipsychotic drugs and heart muscle disorder in international '\n",
            " 'pharmacovigilance:\\xa0data mining\\xa0study',\n",
            " 'Modeling wine preferences by\\xa0data mining\\xa0from physicochemical '\n",
            " 'properties',\n",
            " 'Fake news detection on social media: A\\xa0data mining\\xa0perspective',\n",
            " 'Data mining\\xa0for the internet of things: literature review and challenges',\n",
            " 'Credit scoring in banks and financial institutions via\\xa0data mining\\xa0'\n",
            " 'techniques: A literature review',\n",
            " 'Particle swarm based\\xa0data mining\\xa0algorithms for classification tasks',\n",
            " 'Data mining\\xa0techniques for the detection of fraudulent financial '\n",
            " 'statements',\n",
            " 'Outcomes of educational interventions in type 2 diabetes: WEKA\\xa0'\n",
            " 'data-mining\\xa0analysis',\n",
            " 'Research trends analysis by comparing\\xa0data mining\\xa0and customer '\n",
            " 'relationship management through bibliometric methodology',\n",
            " 'Educational\\xa0data mining\\xa0and learning analytics',\n",
            " 'Synergies of operations research and\\xa0data mining',\n",
            " 'Data mining\\xa0method for listed companies financial distress prediction',\n",
            " 'Study of Spanish\\xa0mining\\xa0accidents using\\xa0data mining\\xa0techniques',\n",
            " 'Microarray\\xa0data mining\\xa0with visual programming',\n",
            " 'Predicting breast cancer survivability: a comparison of three\\xa0data '\n",
            " 'mining\\xa0methods',\n",
            " 'Student\\xa0data mining\\xa0solution\\x96knowledge management system related to '\n",
            " 'higher education institutions',\n",
            " 'Data mining: an overview from a database perspective',\n",
            " 'Credit scoring with a\\xa0data mining\\xa0approach based on support vector '\n",
            " 'machines',\n",
            " 'Data mining\\xa0of association structures to model consumer behaviour',\n",
            " 'Information visualization and visual\\xa0data mining',\n",
            " 'Application of\\xa0data mining\\xa0techniques in customer relationship '\n",
            " 'management: A literature review and classification']\n"
          ],
          "name": "stdout"
        }
      ]
    },
    {
      "cell_type": "code",
      "metadata": {
        "colab": {
          "base_uri": "https://localhost:8080/"
        },
        "id": "54rK1KNZkmQo",
        "outputId": "35af051d-2742-4567-df44-d71eed66673e"
      },
      "source": [
        "def sent_to_words(sentences):    #use Gensim's simple_preprocess() to tokenize and create the list of words from each title \n",
        "   for sentence in sentences:    #use deacc=True to remove punctuations\n",
        "      yield (gensim.utils.simple_preprocess(str(sentence),deacc=True))\n",
        "articles_words=list(sent_to_words(articles))\n",
        "print(articles_words[:100])"
      ],
      "execution_count": 46,
      "outputs": [
        {
          "output_type": "stream",
          "text": [
            "[['data', 'mining', 'techniques', 'and', 'applications', 'decade', 'review', 'from', 'to'], ['visual', 'data', 'mining'], ['systematic', 'survey', 'of', 'big', 'data', 'and', 'data', 'mining', 'in', 'internet', 'of', 'things'], ['detecting', 'financial', 'fraud', 'using', 'data', 'mining', 'techniques', 'decade', 'review', 'from', 'to'], ['global', 'data', 'mining', 'an', 'empirical', 'study', 'of', 'current', 'trends', 'future', 'forecasts', 'and', 'technology', 'diffusions'], ['data', 'mining', 'technologies', 'for', 'diabetes', 'systematic', 'review'], ['target', 'discovery', 'from', 'data', 'mining', 'approaches'], ['semantic', 'data', 'mining', 'of', 'financial', 'news', 'articles'], ['evolving', 'data', 'into', 'mining', 'solutions', 'for', 'insights'], ['methodological', 'and', 'practical', 'aspects', 'of', 'data', 'mining'], ['educational', 'data', 'mining', 'survey', 'from', 'to'], ['untangling', 'text', 'data', 'mining'], ['data', 'mining', 'and', 'its', 'applications', 'for', 'knowledge', 'management', 'literature', 'review', 'from', 'to'], ['using', 'text', 'mining', 'techniques', 'for', 'extracting', 'information', 'from', 'research', 'articles'], ['data', 'mining', 'techniques', 'in', 'social', 'media', 'survey'], ['the', 'state', 'of', 'educational', 'data', 'mining', 'in', 'review', 'and', 'future', 'visions'], ['systematic', 'review', 'of', 'data', 'mining', 'and', 'machine', 'learning', 'for', 'air', 'pollution', 'epidemiology'], ['from', 'data', 'mining', 'to', 'knowledge', 'discovery', 'in', 'databases'], ['graph', 'based', 'data', 'mining'], ['the', 'application', 'of', 'data', 'mining', 'techniques', 'in', 'financial', 'fraud', 'detection', 'classification', 'framework', 'and', 'an', 'academic', 'review', 'of', 'literature'], ['evaluation', 'of', 'text', 'data', 'mining', 'for', 'database', 'curation', 'lessons', 'learned', 'from', 'the', 'kdd', 'challenge', 'cup'], ['data', 'mining', 'in', 'healthcare', 'review'], ['data', 'mining', 'in', 'tourism', 'demand', 'analysis', 'retrospective', 'analysis'], ['data', 'mining', 'analysis', 'of', 'rtid', 'alarms'], ['educational', 'data', 'mining', 'review', 'of', 'evaluation', 'process', 'in', 'the', 'learning'], ['data', 'mining', 'and', 'machine', 'learning', 'for', 'condition', 'based', 'maintenance'], ['topcat', 'data', 'mining', 'for', 'topic', 'identification', 'in', 'text', 'corpus'], ['literature', 'review', 'of', 'data', 'mining', 'applications', 'in', 'academic', 'libraries'], ['what', 'is', 'text', 'mining'], ['spatial', 'data', 'mining', 'and', 'geographic', 'knowledge', 'discovery', 'an', 'introduction'], ['knowledge', 'management', 'and', 'data', 'mining', 'for', 'marketing'], ['top', 'data', 'mining', 'techniques', 'in', 'business', 'applications', 'brief', 'survey'], ['machine', 'learning', 'and', 'data', 'mining', 'methods', 'in', 'diabetes', 'research'], ['data', 'mining', 'algorithms', 'and', 'techniques', 'in', 'mental', 'health', 'systematic', 'review'], ['business', 'data', 'mining', 'machine', 'learning', 'perspective'], ['introduction', 'to', 'the', 'mining', 'of', 'clinical', 'data'], ['application', 'of', 'data', 'mining', 'techniques', 'in'], ['systematic', 'review', 'on', 'healthcare', 'analytics', 'application', 'and', 'theoretical', 'perspective', 'of', 'data', 'mining'], ['data', 'mining', 'classification', 'techniques', 'applied', 'for', 'breast', 'cancer', 'diagnosis', 'and', 'prognosis'], ['data', 'mining', 'manufacturing', 'and', 'service', 'applications'], ['comprehensive', 'survey', 'of', 'data', 'mining', 'based', 'fraud', 'detection', 'research'], ['stock', 'trend', 'prediction', 'using', 'news', 'articles', 'text', 'mining', 'approach'], ['uniqueness', 'of', 'medical', 'data', 'mining'], ['accomplishments', 'and', 'challenges', 'in', 'literature', 'data', 'mining', 'for', 'biology'], ['role', 'of', 'biological', 'data', 'mining', 'and', 'machine', 'learning', 'techniques', 'in', 'detecting', 'and', 'diagnosing', 'the', 'novel', 'coronavirus', 'covid', 'systematic', 'review'], ['factors', 'affecting', 'students', 'performance', 'in', 'higher', 'education', 'systematic', 'review', 'of', 'predictive', 'data', 'mining', 'techniques'], ['emerging', 'standards', 'for', 'data', 'mining'], ['cervical', 'cancer', 'prediction', 'through', 'different', 'screening', 'methods', 'using', 'data', 'mining'], ['edm', 'general', 'framework', 'for', 'data', 'mining', 'based', 'on', 'evidence', 'theory'], ['preprocessing', 'method', 'for', 'improving', 'data', 'mining', 'techniques', 'application', 'to', 'large', 'medical', 'diabetes', 'database'], ['topcat', 'data', 'mining', 'for', 'topic', 'identification', 'in', 'text', 'corpus'], ['learning', 'analytics', 'and', 'educational', 'data', 'mining', 'towards', 'communication', 'and', 'collaboration'], ['educational', 'data', 'mining', 'an', 'advance', 'for', 'intelligent', 'systems', 'in', 'education'], ['educational', 'data', 'mining', 'systematic', 'review', 'of', 'the', 'published', 'literature'], ['predictive', 'data', 'mining', 'in', 'clinical', 'medicine', 'current', 'issues', 'and', 'guidelines'], ['data', 'mining', 'techniques', 'for', 'customer', 'relationship', 'management'], ['is', 'europe', 'falling', 'behind', 'in', 'data', 'mining', 'copyrights', 'impact', 'on', 'data', 'mining', 'in', 'academic', 'research'], ['future', 'trends', 'in', 'data', 'mining'], ['applying', 'data', 'mining', 'to', 'telecom', 'churn', 'management'], ['feature', 'space', 'theory', 'mathematical', 'foundation', 'for', 'data', 'mining'], ['the', 'comparisons', 'of', 'data', 'mining', 'techniques', 'for', 'the', 'predictive', 'accuracy', 'of', 'probability', 'of', 'default', 'of', 'credit', 'card', 'clients'], ['data', 'mining', 'tutorial', 'based', 'primer'], ['application', 'and', 'exploration', 'of', 'big', 'data', 'mining', 'in', 'clinical', 'medicine'], ['data', 'mining', 'in', 'healthcare', 'and', 'biomedicine', 'survey', 'of', 'the', 'literature'], ['analysis', 'of', 'pre', 'processing', 'and', 'post', 'processing', 'methods', 'and', 'using', 'data', 'mining', 'to', 'diagnose', 'heart', 'diseases'], ['the', 'potentials', 'of', 'educational', 'data', 'mining', 'for', 'researching', 'metacognition', 'motivation', 'and', 'self', 'regulated', 'learning'], ['data', 'mining', 'for', 'improvement', 'of', 'product', 'quality'], ['state', 'of', 'the', 'art', 'survey', 'of', 'malware', 'detection', 'approaches', 'using', 'data', 'mining', 'techniques'], ['data', 'mining', 'in', 'course', 'management', 'systems', 'moodle', 'case', 'study', 'and', 'tutorial'], ['using', 'data', 'mining', 'to', 'find', 'fraud', 'in', 'hcfa', 'health', 'care', 'claims'], ['using', 'data', 'mining', 'techniques', 'for', 'diagnosis', 'and', 'prognosis', 'of', 'cancer', 'disease'], ['selected', 'techniques', 'for', 'data', 'mining', 'in', 'medicine'], ['data', 'mining', 'and', 'statistics', 'whats', 'the', 'connection'], ['data', 'mining', 'methods', 'applications', 'and', 'tools'], ['data', 'mining', 'our', 'way', 'to', 'the', 'next', 'generation', 'of', 'thermoelectrics'], ['data', 'mining', 'for', 'customer', 'service', 'support'], ['data', 'mining', 'and', 'machine', 'learning', 'to', 'promote', 'smart', 'cities', 'systematic', 'review', 'from', 'to'], ['educational', 'data', 'mining', 'review', 'of', 'the', 'state', 'of', 'the', 'art'], ['data', 'mining', 'issues', 'and', 'opportunities', 'for', 'building', 'nursing', 'knowledge'], ['antipsychotic', 'drugs', 'and', 'heart', 'muscle', 'disorder', 'in', 'international', 'data', 'mining', 'study'], ['modeling', 'wine', 'preferences', 'by', 'data', 'mining', 'from', 'physicochemical', 'properties'], ['fake', 'news', 'detection', 'on', 'social', 'media', 'data', 'mining', 'perspective'], ['data', 'mining', 'for', 'the', 'internet', 'of', 'things', 'literature', 'review', 'and', 'challenges'], ['credit', 'scoring', 'in', 'banks', 'and', 'financial', 'institutions', 'via', 'data', 'mining', 'techniques', 'literature', 'review'], ['particle', 'swarm', 'based', 'data', 'mining', 'algorithms', 'for', 'classification', 'tasks'], ['data', 'mining', 'techniques', 'for', 'the', 'detection', 'of', 'fraudulent', 'financial', 'statements'], ['outcomes', 'of', 'educational', 'interventions', 'in', 'type', 'diabetes', 'weka', 'data', 'mining', 'analysis'], ['research', 'trends', 'analysis', 'by', 'comparing', 'data', 'mining', 'and', 'customer', 'relationship', 'management', 'through', 'bibliometric', 'methodology'], ['educational', 'data', 'mining', 'and', 'learning', 'analytics'], ['synergies', 'of', 'operations', 'research', 'and', 'data', 'mining'], ['data', 'mining', 'method', 'for', 'listed', 'companies', 'financial', 'distress', 'prediction'], ['study', 'of', 'spanish', 'mining', 'accidents', 'using', 'data', 'mining', 'techniques'], ['microarray', 'data', 'mining', 'with', 'visual', 'programming'], ['predicting', 'breast', 'cancer', 'survivability', 'comparison', 'of', 'three', 'data', 'mining', 'methods'], ['student', 'data', 'mining', 'solution', 'knowledge', 'management', 'system', 'related', 'to', 'higher', 'education', 'institutions'], ['data', 'mining', 'an', 'overview', 'from', 'database', 'perspective'], ['credit', 'scoring', 'with', 'data', 'mining', 'approach', 'based', 'on', 'support', 'vector', 'machines'], ['data', 'mining', 'of', 'association', 'structures', 'to', 'model', 'consumer', 'behaviour'], ['information', 'visualization', 'and', 'visual', 'data', 'mining'], ['application', 'of', 'data', 'mining', 'techniques', 'in', 'customer', 'relationship', 'management', 'literature', 'review', 'and', 'classification']]\n"
          ],
          "name": "stdout"
        }
      ]
    },
    {
      "cell_type": "code",
      "metadata": {
        "colab": {
          "base_uri": "https://localhost:8080/"
        },
        "id": "rLtDHukkkmNX",
        "outputId": "583d225d-543d-4f87-d4c6-2385c51c8205"
      },
      "source": [
        "# Build bigram and trigram model\n",
        "\n",
        "#bigram= gensim.models.Phrases(articles_words, min_count=5, threshold=100)  #can create the fewer phrases with higher threshhold\n",
        "#trigram= gensim.models.Phrases(articles_words, min_count=5, threshold=100)\n",
        "#trigram= gensim.models.Phrases(bigram[articles_words], threshold=100)\n",
        "\n",
        "# way to faster clubbed sentence\n",
        "bigram_mod=gensim.models.phrases.Phraser(bigram)\n",
        "trigram_mod=gensim.models.phrases.Phraser(trigram)\n",
        "\n",
        "print(trigram_mod[bigram_mod[articles_words[0]]])"
      ],
      "execution_count": 47,
      "outputs": [
        {
          "output_type": "stream",
          "text": [
            "['data', 'mining', 'techniques', 'and', 'applications', 'decade', 'review', 'from', 'to']\n"
          ],
          "name": "stdout"
        }
      ]
    },
    {
      "cell_type": "code",
      "metadata": {
        "id": "cTpKfyIekmJY"
      },
      "source": [
        "# stopwords, bigrams, trigrams and lemmatization functions\n",
        "\n",
        "def remove_stopwords(texts):\n",
        "  return [[word for word in simple_preprocess(str(doc)) if word not in stop_words] for doc in texts]\n",
        "\n",
        "def make_bigrams(texts):\n",
        "  return[bigram_mod[doc] for doc in texts]\n",
        "\n",
        "def make_trigrams(texts):\n",
        "  return[trigram_mod[bigram_mod[doc]] for doc in texts]\n",
        "\n",
        "def lemmatization(texts, allowed_postags=['NOUN', 'ADJ','VERB','ADV']):\n",
        " \n",
        "  texts_out = []\n",
        "  for sent in texts:\n",
        "    doc = nlp(\" \".join(sent))\n",
        "    texts_out.append([token.lemma_ for token in doc if token.pos_ in allowed_postags])\n",
        "  return texts_out"
      ],
      "execution_count": 48,
      "outputs": []
    },
    {
      "cell_type": "code",
      "metadata": {
        "colab": {
          "base_uri": "https://localhost:8080/"
        },
        "id": "x6f-2EAnkmFE",
        "outputId": "6d0c3810-cead-44e6-fdca-9fb5f6470ea9"
      },
      "source": [
        "#remove stopwords\n",
        "\n",
        "articles_words_nostops=remove_stopwords(articles_words)\n",
        "\n",
        "#bigrams\n",
        "articles_words_bigrams=make_bigrams(articles_words_nostops)\n",
        "\n",
        "#use spacy 'en model( just keep tagger component)\n",
        "# -m spacy download en\n",
        "\n",
        "nlp=spacy.load('en', disable=['parser','ner'])\n",
        "\n",
        "#keep noun, adjective, adverb and verb by lemmatization\n",
        "\n",
        "articles_lemma=lemmatization(articles_words_bigrams, allowed_postags=['NOUN', 'ADJ','VERB','ADV'])\n",
        "\n",
        "print(articles_lemma[:5])"
      ],
      "execution_count": 49,
      "outputs": [
        {
          "output_type": "stream",
          "text": [
            "[['datum', 'mining', 'technique', 'application', 'decade', 'review'], ['visual', 'data', 'mining'], ['systematic', 'survey', 'datum', 'datum', 'mining', 'internet', 'thing'], ['detect', 'financial', 'fraud', 'use', 'datum', 'mining', 'technique', 'decade', 'review'], ['global', 'empirical', 'study', 'current', 'trend', 'future', 'forecast', 'technology', 'diffusion']]\n"
          ],
          "name": "stdout"
        }
      ]
    },
    {
      "cell_type": "code",
      "metadata": {
        "colab": {
          "base_uri": "https://localhost:8080/"
        },
        "id": "lmPRomjrnpO4",
        "outputId": "20b9ae19-554a-4668-c335-3561221c6df6"
      },
      "source": [
        "#create dictionary\n",
        "\n",
        "dic1=corpora.Dictionary(articles_lemma)\n",
        "\n",
        "#creat corpus\n",
        "txt_1=articles_lemma\n",
        "\n",
        "#term document frequency\n",
        "corpus= [dic1.doc2bow(text) for text in txt_1]\n",
        "\n",
        "print(corpus[:5])    #the results are the mapping of the \"word_id\", \"word_frequency\" that are the unique ID created by Gensim "
      ],
      "execution_count": 20,
      "outputs": [
        {
          "output_type": "stream",
          "text": [
            "[[(0, 1), (1, 1), (2, 1), (3, 1), (4, 1), (5, 1)], [(3, 1), (6, 1), (7, 1)], [(1, 2), (3, 1), (8, 1), (9, 1), (10, 1), (11, 1)], [(1, 1), (2, 1), (3, 1), (4, 1), (5, 1), (12, 1), (13, 1), (14, 1), (15, 1)], [(16, 1), (17, 1), (18, 1), (19, 1), (20, 1), (21, 1), (22, 1), (23, 1), (24, 1)]]\n"
          ],
          "name": "stdout"
        }
      ]
    },
    {
      "cell_type": "code",
      "metadata": {
        "colab": {
          "base_uri": "https://localhost:8080/",
          "height": 35
        },
        "id": "ZNbJLAnXnpMk",
        "outputId": "461f0106-b983-4f70-fd4c-ac32b48b942f"
      },
      "source": [
        "#to find the corresponding word to each ID\n",
        "\n",
        "dic1[3]"
      ],
      "execution_count": 21,
      "outputs": [
        {
          "output_type": "execute_result",
          "data": {
            "application/vnd.google.colaboratory.intrinsic+json": {
              "type": "string"
            },
            "text/plain": [
              "'mining'"
            ]
          },
          "metadata": {
            "tags": []
          },
          "execution_count": 21
        }
      ]
    },
    {
      "cell_type": "code",
      "metadata": {
        "colab": {
          "base_uri": "https://localhost:8080/"
        },
        "id": "XlBi6pTUnpJP",
        "outputId": "7174eb1a-059f-4fc9-af6d-8f44a12107e2"
      },
      "source": [
        "#the readable form of the dictionary\n",
        "\n",
        "[[(dic1[id],freq) for id, freq in cp] for cp in corpus[:5]]"
      ],
      "execution_count": 22,
      "outputs": [
        {
          "output_type": "execute_result",
          "data": {
            "text/plain": [
              "[[('application', 1),\n",
              "  ('datum', 1),\n",
              "  ('decade', 1),\n",
              "  ('mining', 1),\n",
              "  ('review', 1),\n",
              "  ('technique', 1)],\n",
              " [('mining', 1), ('data', 1), ('visual', 1)],\n",
              " [('datum', 2),\n",
              "  ('mining', 1),\n",
              "  ('internet', 1),\n",
              "  ('survey', 1),\n",
              "  ('systematic', 1),\n",
              "  ('thing', 1)],\n",
              " [('datum', 1),\n",
              "  ('decade', 1),\n",
              "  ('mining', 1),\n",
              "  ('review', 1),\n",
              "  ('technique', 1),\n",
              "  ('detect', 1),\n",
              "  ('financial', 1),\n",
              "  ('fraud', 1),\n",
              "  ('use', 1)],\n",
              " [('current', 1),\n",
              "  ('diffusion', 1),\n",
              "  ('empirical', 1),\n",
              "  ('forecast', 1),\n",
              "  ('future', 1),\n",
              "  ('global', 1),\n",
              "  ('study', 1),\n",
              "  ('technology', 1),\n",
              "  ('trend', 1)]]"
            ]
          },
          "metadata": {
            "tags": []
          },
          "execution_count": 22
        }
      ]
    },
    {
      "cell_type": "code",
      "metadata": {
        "id": "6GzWcx46npGW"
      },
      "source": [
        "# build LDA model\n",
        "#update_every:the time for reupdating the model, chunksize:number of documents used , \n",
        "#passes:total number of training passes, alpha:it is hyperparameter affects aparsity of the topics\n",
        "\n",
        "articles_lda=gensim.models.ldamodel.LdaModel(corpus=corpus, id2word=dic1, num_topics=15, random_state=100,\n",
        "                                             update_every=1,            \n",
        "                                             chunksize=100,               \n",
        "                                             passes=10,                 \n",
        "                                             alpha='auto',             \n",
        "                                             per_word_topics=True)"
      ],
      "execution_count": 227,
      "outputs": []
    },
    {
      "cell_type": "code",
      "metadata": {
        "colab": {
          "base_uri": "https://localhost:8080/"
        },
        "id": "tfepwZgznpDP",
        "outputId": "33441aa1-ea4f-4da6-b17c-305ab6a15059"
      },
      "source": [
        "#test the LDA model and view the topics\n",
        "#use lda_model.print_topics() to the keywords for each topic and the weightage[importance] of each keywords\n",
        "\n",
        "pprint(articles_lda.print_topics())\n",
        "doc_lda=articles_lda[corpus]\n",
        "\n",
        "#the results show the keywords contributes to each topic and the numbers are the weigth of each keywords\n",
        "#each number represents the importance of the keyword to the topic"
      ],
      "execution_count": 228,
      "outputs": [
        {
          "output_type": "stream",
          "text": [
            "[(0,\n",
            "  '0.135*\"mining\" + 0.068*\"datum\" + 0.068*\"text\" + 0.046*\"identification\" + '\n",
            "  '0.046*\"corpus\" + 0.046*\"topic\" + 0.024*\"quality\" + 0.024*\"medicine\" + '\n",
            "  '0.024*\"improvement\" + 0.024*\"product\"'),\n",
            " (1,\n",
            "  '0.081*\"mining\" + 0.055*\"datum\" + 0.055*\"educational\" + 0.028*\"application\" '\n",
            "  '+ 0.028*\"technique\" + 0.028*\"system\" + 0.028*\"intervention\" + 0.028*\"type\" '\n",
            "  '+ 0.028*\"education\" + 0.028*\"diabete\"'),\n",
            " (2,\n",
            "  '0.103*\"mining\" + 0.089*\"datum\" + 0.044*\"review\" + 0.031*\"technique\" + '\n",
            "  '0.030*\"machine\" + 0.030*\"institution\" + 0.030*\"financial\" + 0.030*\"learn\" + '\n",
            "  '0.016*\"management\" + 0.015*\"education\"'),\n",
            " (3,\n",
            "  '0.069*\"mining\" + 0.035*\"data\" + 0.035*\"technique\" + 0.018*\"text\" + '\n",
            "  '0.018*\"factor\" + 0.018*\"news\" + 0.018*\"literature\" + 0.018*\"affect\" + '\n",
            "  '0.018*\"student\" + 0.018*\"education\"'),\n",
            " (4,\n",
            "  '0.040*\"datum\" + 0.040*\"mining\" + 0.040*\"mine\" + 0.040*\"financial\" + '\n",
            "  '0.040*\"library\" + 0.040*\"article\" + 0.040*\"academic\" + 0.040*\"literature\" + '\n",
            "  '0.040*\"alarm\" + 0.040*\"semantic\"'),\n",
            " (5,\n",
            "  '0.083*\"apply\" + 0.043*\"breast\" + 0.043*\"diagnosis\" + 0.043*\"cancer\" + '\n",
            "  '0.043*\"prognosis\" + 0.043*\"classification\" + 0.043*\"technique\" + '\n",
            "  '0.043*\"datum\" + 0.043*\"mining\" + 0.003*\"survey\"'),\n",
            " (6,\n",
            "  '0.103*\"datum\" + 0.069*\"mining\" + 0.052*\"technique\" + 0.040*\"mine\" + '\n",
            "  '0.036*\"review\" + 0.035*\"application\" + 0.034*\"management\" + '\n",
            "  '0.034*\"relationship\" + 0.034*\"customer\" + 0.026*\"clinical\"'),\n",
            " (7,\n",
            "  '0.108*\"mining\" + 0.108*\"datum\" + 0.037*\"use\" + 0.037*\"technique\" + '\n",
            "  '0.025*\"research\" + 0.025*\"fraud\" + 0.025*\"detection\" + 0.013*\"nursing\" + '\n",
            "  '0.013*\"text\" + 0.013*\"build\"'),\n",
            " (8,\n",
            "  '0.105*\"mining\" + 0.053*\"datum\" + 0.036*\"diabete\" + 0.036*\"learning\" + '\n",
            "  '0.036*\"review\" + 0.036*\"technology\" + 0.036*\"machine\" + 0.036*\"systematic\" '\n",
            "  '+ 0.018*\"role\" + 0.018*\"novel\"'),\n",
            " (9,\n",
            "  '0.085*\"datum\" + 0.064*\"mining\" + 0.064*\"analysis\" + 0.043*\"processing\" + '\n",
            "  '0.022*\"heart\" + 0.022*\"biology\" + 0.022*\"accomplishment\" + 0.022*\"mine\" + '\n",
            "  '0.022*\"pre\" + 0.022*\"post\"'),\n",
            " (10,\n",
            "  '0.194*\"mining\" + 0.150*\"datum\" + 0.044*\"technique\" + 0.036*\"application\" + '\n",
            "  '0.036*\"survey\" + 0.027*\"base\" + 0.009*\"use\" + 0.009*\"systematic\" + '\n",
            "  '0.009*\"method\" + 0.009*\"text\"'),\n",
            " (11,\n",
            "  '0.065*\"mining\" + 0.033*\"aspect\" + 0.033*\"data\" + 0.033*\"article\" + '\n",
            "  '0.033*\"news\" + 0.033*\"stock\" + 0.033*\"prediction\" + 0.033*\"practical\" + '\n",
            "  '0.033*\"methodological\" + 0.033*\"use\"'),\n",
            " (12,\n",
            "  '0.070*\"mine\" + 0.045*\"review\" + 0.045*\"mining\" + 0.030*\"systematic\" + '\n",
            "  '0.030*\"machine\" + 0.030*\"literature\" + 0.030*\"base\" + 0.030*\"datum\" + '\n",
            "  '0.030*\"medicine\" + 0.024*\"clinical\"'),\n",
            " (13,\n",
            "  '0.123*\"mining\" + 0.092*\"datum\" + 0.047*\"application\" + 0.031*\"learning\" + '\n",
            "  '0.031*\"knowledge\" + 0.031*\"analytic\" + 0.031*\"research\" + 0.031*\"review\" + '\n",
            "  '0.031*\"database\" + 0.016*\"preprocesse\"'),\n",
            " (14,\n",
            "  '0.099*\"mining\" + 0.067*\"data\" + 0.067*\"visual\" + 0.035*\"fraud\" + '\n",
            "  '0.035*\"claim\" + 0.035*\"care\" + 0.035*\"visualization\" + 0.035*\"health\" + '\n",
            "  '0.035*\"information\" + 0.035*\"find\"')]\n"
          ],
          "name": "stdout"
        }
      ]
    },
    {
      "cell_type": "code",
      "metadata": {
        "colab": {
          "base_uri": "https://localhost:8080/"
        },
        "id": "pCZH6T6ino_9",
        "outputId": "8bb69a44-9b50-438b-92c5-3a8a60dffc3e"
      },
      "source": [
        "#COHERENCE SCORE\n",
        "#use model perplexity and topic coherence to judge how good the topic model is.(coherence is more helpful)\n",
        "\n",
        "#calculate Perplexity\n",
        "print('\\nPerplexity: ', articles_lda.log_perplexity(corpus))      #lower perplexity result means better result\n",
        "\n",
        "#calculate Coherence Score using c_v\n",
        "coherence_model_lda=CoherenceModel(model=articles_lda, texts= articles_lemma, dictionary=dic1, coherence='c_v')\n",
        "coherence_lda=coherence_model_lda.get_coherence()\n",
        "print('\\nCoherence: ', coherence_lda)\n"
      ],
      "execution_count": 229,
      "outputs": [
        {
          "output_type": "stream",
          "text": [
            "\n",
            "Perplexity:  -5.789195802897514\n",
            "\n",
            "Coherence:  0.43911896357228297\n"
          ],
          "name": "stdout"
        }
      ]
    },
    {
      "cell_type": "code",
      "metadata": {
        "colab": {
          "base_uri": "https://localhost:8080/"
        },
        "id": "IM7qTRhBIBy6",
        "outputId": "d48bbe24-82df-49c2-b3cf-67535d312a4b"
      },
      "source": [
        "#calculate Coherence Score using UMass\n",
        "coherence_model_lda=CoherenceModel(model=articles_lda, texts= articles_lemma, dictionary=dic1, coherence='u_mass')\n",
        "coherence_lda=coherence_model_lda.get_coherence()\n",
        "print('\\nCoherence: ', coherence_lda)"
      ],
      "execution_count": 230,
      "outputs": [
        {
          "output_type": "stream",
          "text": [
            "\n",
            "Coherence:  -14.990152424845691\n"
          ],
          "name": "stdout"
        }
      ]
    },
    {
      "cell_type": "code",
      "metadata": {
        "colab": {
          "base_uri": "https://localhost:8080/",
          "height": 881
        },
        "id": "XB7EOXaGno8q",
        "outputId": "4a4c2393-7daf-4f2c-eb8b-e0a4178648da"
      },
      "source": [
        "#visualization of the topic keywords\n",
        "\n",
        "pyLDAvis.enable_notebook()\n",
        "vis = pyLDAvis.gensim.prepare (articles_lda, corpus, dic1)\n",
        "vis\n"
      ],
      "execution_count": 231,
      "outputs": [
        {
          "output_type": "execute_result",
          "data": {
            "text/html": [
              "\n",
              "<link rel=\"stylesheet\" type=\"text/css\" href=\"https://cdn.jsdelivr.net/gh/bmabey/pyLDAvis@3.2.2/pyLDAvis/js/ldavis.v1.0.0.css\">\n",
              "\n",
              "\n",
              "<div id=\"ldavis_el571404332719687208324588614\"></div>\n",
              "<script type=\"text/javascript\">\n",
              "\n",
              "var ldavis_el571404332719687208324588614_data = {\"mdsDat\": {\"x\": [0.0798939879486001, 0.027630962744333708, 0.09350241351552195, 0.027760954695172365, 0.1070515998220672, -0.09068284755333997, 0.09959494414731927, 0.045493859420700083, -0.038874972571192296, -0.07624930460758025, 0.02594401923348718, -0.13440179209696418, -0.09078774067632008, -0.03733991064902564, -0.03853617337277884], \"y\": [0.13662252182975962, 0.07966478303928654, 0.005477594105264367, -0.17850476262993414, -0.001776591152944979, 0.0357729502596672, -0.04900372153426366, -0.01297339807483808, -0.017812251748026725, 0.08599710866703898, -0.009371516389371452, -0.03777603959056562, 0.001494583918713386, -0.04932086349129734, 0.011509602791511545], \"topics\": [1, 2, 3, 4, 5, 6, 7, 8, 9, 10, 11, 12, 13, 14, 15], \"cluster\": [1, 1, 1, 1, 1, 1, 1, 1, 1, 1, 1, 1, 1, 1, 1], \"Freq\": [15.546596230804507, 11.319169635094891, 8.979785935971668, 8.74450733176032, 8.411851257768443, 7.382663056969199, 7.278108730237232, 7.15979079446872, 5.624004343121391, 5.052304428071694, 4.10381307884046, 3.1063326056357794, 2.943058856835835, 2.3091141035118645, 2.038899610907992]}, \"tinfo\": {\"Term\": [\"mine\", \"application\", \"data\", \"text\", \"use\", \"mining\", \"educational\", \"analysis\", \"datum\", \"review\", \"financial\", \"technique\", \"literature\", \"visual\", \"classification\", \"cancer\", \"apply\", \"fraud\", \"machine\", \"news\", \"article\", \"learning\", \"diabete\", \"diagnosis\", \"prognosis\", \"breast\", \"prediction\", \"academic\", \"research\", \"approach\", \"survey\", \"tool\", \"algorithm\", \"particle\", \"task\", \"accident\", \"spanish\", \"target\", \"evolve\", \"insight\", \"untangle\", \"brief\", \"top\", \"manufacturing\", \"emerge\", \"standard\", \"evidence\", \"theory\", \"collaboration\", \"communication\", \"connection\", \"s\", \"statistic\", \"fraudulent\", \"statement\", \"overview\", \"base\", \"business\", \"medium\", \"social\", \"application\", \"mining\", \"datum\", \"technique\", \"systematic\", \"use\", \"method\", \"study\", \"text\", \"financial\", \"approach\", \"learn\", \"database\", \"detection\", \"perspective\", \"service\", \"internet\", \"thing\", \"solution\", \"classification\", \"curation\", \"lesson\", \"copyright\", \"fall\", \"impact\", \"malware\", \"case\", \"course\", \"moodle\", \"build\", \"nursing\", \"opportunity\", \"fraud\", \"diagnosis\", \"prognosis\", \"academic\", \"state\", \"tutorial\", \"disease\", \"detect\", \"evaluation\", \"support\", \"issue\", \"decade\", \"service\", \"detection\", \"use\", \"research\", \"system\", \"cancer\", \"datum\", \"mining\", \"technique\", \"review\", \"financial\", \"study\", \"approach\", \"mine\", \"text\", \"knowledge\", \"learn\", \"database\", \"customer\", \"management\", \"institution\", \"air\", \"epidemiology\", \"pollution\", \"uniqueness\", \"city\", \"promote\", \"smart\", \"bank\", \"score\", \"company\", \"distress\", \"list\", \"relate\", \"high\", \"student\", \"medical\", \"decade\", \"solution\", \"learn\", \"financial\", \"machine\", \"prediction\", \"education\", \"system\", \"credit\", \"management\", \"review\", \"knowledge\", \"method\", \"datum\", \"mining\", \"technique\", \"literature\", \"geographic\", \"spatial\", \"guideline\", \"condition\", \"maintenance\", \"mental\", \"publish\", \"physicochemical\", \"preference\", \"property\", \"wine\", \"vector\", \"medicine\", \"mine\", \"clinical\", \"health\", \"challenge\", \"model\", \"current\", \"introduction\", \"discovery\", \"issue\", \"support\", \"internet\", \"thing\", \"machine\", \"credit\", \"base\", \"systematic\", \"approach\", \"literature\", \"review\", \"mining\", \"datum\", \"knowledge\", \"data\", \"educational\", \"learning\", \"analytic\", \"vision\", \"theoretical\", \"diabetes\", \"improve\", \"large\", \"preprocesse\", \"metacognition\", \"motivation\", \"potential\", \"regulate\", \"self\", \"compare\", \"database\", \"future\", \"discovery\", \"medical\", \"learning\", \"knowledge\", \"research\", \"relationship\", \"application\", \"customer\", \"educational\", \"method\", \"review\", \"systematic\", \"literature\", \"mining\", \"datum\", \"affect\", \"factor\", \"performance\", \"biomedicine\", \"fake\", \"extract\", \"antipsychotic\", \"drug\", \"muscle\", \"comparison\", \"predict\", \"survivability\", \"breast\", \"information\", \"heart\", \"predictive\", \"high\", \"student\", \"medium\", \"social\", \"data\", \"news\", \"article\", \"education\", \"perspective\", \"cancer\", \"study\", \"detection\", \"research\", \"survey\", \"technique\", \"mining\", \"text\", \"review\", \"literature\", \"systematic\", \"use\", \"method\", \"process\", \"accuracy\", \"card\", \"client\", \"default\", \"probability\", \"microarray\", \"programming\", \"relationship\", \"customer\", \"management\", \"clinical\", \"predictive\", \"introduction\", \"evaluation\", \"visual\", \"credit\", \"classification\", \"mine\", \"learn\", \"educational\", \"application\", \"technique\", \"review\", \"literature\", \"datum\", \"mining\", \"semantic\", \"alarm\", \"library\", \"medicine\", \"survey\", \"decade\", \"technology\", \"novel\", \"role\", \"diffusion\", \"empirical\", \"forecast\", \"global\", \"trend\", \"marketing\", \"generation\", \"next\", \"thermoelectric\", \"way\", \"diabete\", \"diagnose\", \"future\", \"current\", \"detect\", \"business\", \"learning\", \"machine\", \"perspective\", \"systematic\", \"study\", \"research\", \"method\", \"review\", \"mining\", \"technique\", \"datum\", \"processing\", \"analysis\", \"demand\", \"tourism\", \"accomplishment\", \"biology\", \"post\", \"pre\", \"behaviour\", \"consumer\", \"structure\", \"primer\", \"diagnose\", \"heart\", \"challenge\", \"model\", \"disease\", \"tutorial\", \"method\", \"base\", \"literature\", \"use\", \"mine\", \"datum\", \"semantic\", \"alarm\", \"library\", \"care\", \"claim\", \"find\", \"mining\", \"text\", \"technique\", \"application\", \"decade\", \"review\", \"identification\", \"topic\", \"corpus\", \"improvement\", \"product\", \"quality\", \"select\", \"different\", \"cervical\", \"screening\", \"text\", \"prediction\", \"medicine\", \"cancer\", \"method\", \"use\", \"mining\", \"datum\", \"semantic\", \"alarm\", \"library\", \"care\", \"claim\", \"find\", \"visualization\", \"art\", \"aspect\", \"methodological\", \"practical\", \"stock\", \"technique\", \"survey\", \"application\", \"decade\", \"review\", \"data\", \"visual\", \"internet\", \"systematic\", \"thing\", \"detect\", \"financial\", \"advance\", \"intelligent\", \"intervention\", \"type\", \"educational\", \"diabete\", \"education\", \"system\", \"classification\", \"analysis\", \"fraud\", \"detection\", \"financial\", \"literature\", \"application\", \"review\", \"technique\", \"semantic\", \"alarm\", \"library\", \"care\", \"claim\", \"find\", \"visualization\", \"art\", \"aspect\", \"methodological\", \"practical\", \"stock\", \"mining\", \"datum\", \"survey\", \"base\", \"decade\", \"data\", \"visual\", \"internet\", \"systematic\", \"thing\", \"detect\", \"use\", \"current\", \"aspect\", \"methodological\", \"practical\", \"stock\", \"art\", \"state\", \"article\", \"news\", \"prediction\", \"approach\", \"data\", \"educational\", \"text\", \"use\", \"review\", \"semantic\", \"alarm\", \"library\", \"care\", \"claim\", \"find\", \"visualization\", \"advance\", \"intelligent\", \"intervention\", \"type\", \"screening\", \"cervical\", \"different\", \"improvement\", \"mining\", \"datum\", \"technique\", \"survey\", \"application\", \"decade\", \"visual\", \"internet\", \"systematic\", \"thing\", \"detect\", \"financial\", \"fraud\", \"current\", \"diffusion\", \"care\", \"claim\", \"find\", \"visualization\", \"visual\", \"information\", \"health\", \"data\", \"fraud\", \"use\", \"semantic\", \"alarm\", \"library\", \"art\", \"aspect\", \"methodological\", \"practical\", \"stock\", \"advance\", \"intelligent\", \"intervention\", \"type\", \"mining\", \"screening\", \"cervical\", \"different\", \"improvement\", \"product\", \"quality\", \"select\", \"datum\", \"apply\", \"review\", \"technique\", \"survey\", \"text\", \"application\", \"decade\", \"internet\", \"systematic\", \"thing\", \"detect\", \"financial\", \"current\", \"diffusion\", \"empirical\", \"forecast\", \"future\", \"global\", \"semantic\", \"alarm\", \"library\", \"academic\", \"article\", \"news\", \"financial\", \"literature\", \"mine\", \"application\", \"care\", \"claim\", \"find\", \"visualization\", \"art\", \"aspect\", \"methodological\", \"practical\", \"stock\", \"screening\", \"advance\", \"intelligent\", \"intervention\", \"type\", \"cervical\", \"different\", \"improvement\", \"product\", \"quality\", \"select\", \"datum\", \"mining\", \"survey\", \"prediction\", \"cancer\", \"method\", \"use\", \"review\", \"technique\", \"decade\", \"data\", \"visual\", \"internet\", \"systematic\", \"thing\", \"detect\", \"fraud\", \"apply\", \"breast\", \"diagnosis\", \"prognosis\", \"classification\", \"cancer\", \"technique\", \"semantic\", \"alarm\", \"library\", \"care\", \"claim\", \"find\", \"visualization\", \"art\", \"aspect\", \"methodological\", \"practical\", \"stock\", \"advance\", \"intelligent\", \"intervention\", \"type\", \"screening\", \"cervical\", \"different\", \"improvement\", \"product\", \"quality\", \"select\", \"datum\", \"mining\", \"survey\", \"application\", \"decade\", \"review\", \"data\", \"visual\", \"internet\", \"systematic\", \"thing\", \"detect\", \"financial\", \"fraud\", \"use\", \"current\", \"diffusion\", \"empirical\", \"forecast\", \"future\", \"global\", \"study\", \"technology\"], \"Freq\": [8.0, 9.0, 4.0, 5.0, 7.0, 62.0, 4.0, 3.0, 47.0, 12.0, 5.0, 15.0, 7.0, 2.0, 3.0, 3.0, 1.0, 3.0, 5.0, 2.0, 2.0, 4.0, 2.0, 1.0, 1.0, 1.0, 2.0, 2.0, 5.0, 3.0, 3.316432514598907, 0.8717808642433043, 0.8717808642433043, 0.8717808642433043, 0.8717808642433043, 0.8717808642433043, 0.8717808642433043, 0.8717807776595117, 0.8717807776595117, 0.8717807776595117, 0.8717807776595117, 0.8717807776595117, 0.8717807776595117, 0.8717807776595117, 0.8717807776595117, 0.8717807776595117, 0.8717807776595117, 0.8717807776595117, 0.8717807776595117, 0.8717807776595117, 0.8717807776595117, 0.8717807776595117, 0.8717807776595117, 0.8717807776595117, 0.8717807776595117, 0.8717807776595117, 2.4991377920261977, 0.8717808642433043, 0.8717808642433043, 0.8717808642433043, 3.316433553604418, 17.99881853418302, 13.919574841168222, 4.133729142015053, 0.8717812105784747, 0.8717812105784747, 0.8717812105784747, 0.8717811239946821, 0.8717811239946821, 0.8717810374108894, 0.8717810374108894, 0.8717810374108894, 0.8717810374108894, 0.8717810374108894, 0.8717810374108894, 0.8717810374108894, 0.8717808642433043, 0.8717808642433043, 0.8717808642433043, 0.8717808642433043, 0.8608139099028692, 0.8608139099028692, 0.8608139099028692, 0.8608139099028692, 0.8608139099028692, 0.8608139099028692, 0.8608139099028692, 0.8608139099028692, 0.8608139099028692, 0.8608139099028692, 0.8608139099028692, 0.8608139099028692, 1.6678270055967646, 0.8608139099028692, 0.8608139099028692, 0.8608139099028692, 0.8608139099028692, 0.8608139099028692, 0.8608139099028692, 0.8608139099028692, 0.8608139099028692, 0.8608139099028692, 0.8608139099028692, 0.8608139099028692, 0.8608138468629201, 1.6678268795168663, 2.4748399752107617, 1.6678270055967646, 0.8608139099028692, 0.8608139099028692, 7.316917288575151, 7.324058454015712, 2.4748394708911685, 0.8608139099028692, 0.8608139099028692, 0.8608139099028692, 0.8608139099028692, 0.8608139099028692, 0.8608139099028692, 0.8608139099028692, 0.8608139099028692, 0.8608139099028692, 0.8608139099028692, 0.8608139099028692, 1.6003176693816705, 0.8259704648544357, 0.8259704648544357, 0.8259704648544357, 0.8259704648544357, 0.8259704648544357, 0.8259704648544357, 0.8259704648544357, 0.8259704648544357, 0.8259704648544357, 0.8259704648544357, 0.8259704648544357, 0.8259704648544357, 0.8259704648544357, 0.8259704648544357, 0.8259704648544357, 0.8259704648544357, 0.8259704648544357, 0.8259704148432364, 1.6003174693368734, 1.6003174693368734, 1.6003176693816705, 0.8259704648544357, 0.8259704648544357, 0.8259704648544357, 0.8259704648544357, 0.884638602786183, 2.374664973931304, 0.8259704648544357, 0.8259704148432364, 4.763226659842295, 5.540960022653634, 1.6589855072462218, 0.8259704648544357, 0.8194976531707139, 0.8194976531707139, 0.8194976531707139, 0.8194975557689935, 0.8194975557689935, 0.8194975557689935, 0.8194975557689935, 0.8194975557689935, 0.8194975557689935, 0.8194975557689935, 0.8194975557689935, 0.8194975557689935, 1.5555994663834274, 3.6651940091652366, 1.230710768518702, 0.8194975557689935, 0.8194975557689935, 0.8194975557689935, 0.8194976531707139, 0.8194976531707139, 0.8194976531707139, 0.8194976531707139, 0.8194975557689935, 0.8194975557689935, 0.8194975557689935, 1.5877766117041452, 0.8194975557689935, 1.587776222097264, 1.5877766117041452, 0.8194975557689935, 1.5877766117041452, 2.3560554728358563, 2.3560529403911277, 1.5877745662680183, 0.8194976531707139, 0.8194975557689935, 0.8194975557689935, 0.8194975557689935, 1.5766340544142305, 0.813746602684997, 0.813746602684997, 0.813746602684997, 0.813746602684997, 0.813746602684997, 0.813746602684997, 0.813746602684997, 0.813746602684997, 0.813746602684997, 0.813746602684997, 0.813746602684997, 0.813746602684997, 1.5766338670214473, 0.813746602684997, 0.813746602684997, 0.813746602684997, 1.5766340544142305, 1.5766340544142305, 1.5766340544142305, 0.813746602684997, 2.3395209439651143, 0.813746602684997, 0.813746602684997, 0.8137465089886053, 1.5766340544142305, 0.8137465089886053, 0.813746602684997, 6.174212176807505, 4.641685886152703, 0.7993687038517633, 0.7993687038517633, 0.7993687038517633, 0.7993687038517633, 0.7993687038517633, 0.7993686216191052, 0.7993686216191052, 0.7993686216191052, 0.7993686216191052, 0.7993686216191052, 0.7993686216191052, 0.7993686216191052, 0.7993686216191052, 0.7993686216191052, 0.7993686216191052, 0.7993687038517633, 0.7993687038517633, 0.7993687038517633, 0.7993686216191052, 0.7993686216191052, 1.5487767917592155, 0.7993687038517633, 0.7993686216191052, 0.7993687038517633, 0.7993686216191052, 0.7993686216191052, 0.7993685393864469, 0.7993686216191052, 0.7993686216191052, 0.7993675525945487, 1.5487764628285827, 3.0542242091299854, 0.8060014255954762, 0.7993687038517633, 0.7993687038517633, 0.7993686216191052, 0.7993686216191052, 0.7993686216191052, 0.7997737777319078, 0.7997737777319078, 0.7997737777319078, 0.7997737777319078, 0.7997737777319078, 0.7997737777319078, 0.7997736155957728, 0.7997736155957728, 1.4927541580328216, 1.4927541580328216, 1.4927541580328216, 1.1168430690779143, 0.7997737777319078, 0.7997737777319078, 0.7997737777319078, 0.7997736155957728, 0.7997737777319078, 0.7997736155957728, 1.7401053166226716, 0.7997736155957728, 0.7997737777319078, 1.5181579719538332, 2.242541365310894, 1.5495614714183856, 0.7997737777319078, 4.491903797825787, 2.9923280861805615, 0.04998586110824424, 0.04998586110824424, 0.04998586110824424, 0.0499859421763118, 0.049985866174998464, 0.04998586110824424, 1.524712704276203, 0.7869485928605114, 0.7869485928605114, 0.7869485131103421, 0.7869485131103421, 0.7869485131103421, 0.7869485131103421, 0.7869485131103421, 0.7869485131103421, 0.7869485131103421, 0.7869485131103421, 0.7869485131103421, 0.7869485131103421, 1.524712704276203, 0.7869485928605114, 0.7869485131103421, 0.7869485131103421, 0.7869485928605114, 0.7869485131103421, 1.524712704276203, 1.524712704276203, 0.7869485131103421, 1.5247125447758645, 0.7869485131103421, 0.7869485131103421, 0.7869484333601727, 1.524712704276203, 4.475766757433889, 0.7869481941096647, 2.2624756194393543, 1.4517832076732535, 2.154258872491109, 0.7493074802117659, 0.7493074802117659, 0.7493074802117659, 0.7493074802117659, 0.7493074802117659, 0.7493074802117659, 0.7493074802117659, 0.7493074802117659, 0.7493074802117659, 0.749307417568134, 0.7493074802117659, 0.7493074802117659, 0.7493074802117659, 0.7493074802117659, 0.7493074802117659, 0.749307417568134, 0.749307417568134, 0.7493071043499746, 0.7493074802117659, 0.749307417568134, 0.7493074802117659, 2.8567337855853823, 0.046831717513235366, 0.046831717513235366, 0.046831717513235366, 0.046831717513235366, 0.046831717513235366, 0.046831717513235366, 2.157402329938385, 0.050055883449722754, 0.04683172534368935, 0.046831717513235366, 0.046831717513235366, 0.046831717513235366, 1.3879358936756343, 1.3879358936756343, 1.3879358936756343, 0.7194349454757032, 0.7194349454757032, 0.7194349454757032, 0.7194349454757032, 0.7188088784764401, 0.7186688082956613, 0.7182832635754859, 2.056436447945768, 0.7186235626446583, 0.7194349454757032, 0.7186724099395222, 0.718738815248208, 0.7188629594100394, 4.079273160312932, 2.0676668237096267, 0.044964691126692116, 0.044964691126692116, 0.044964691126692116, 0.044964691126692116, 0.044964691126692116, 0.044964691126692116, 0.044964691126692116, 0.044964691126692116, 0.044964691126692116, 0.044964691126692116, 0.044964691126692116, 0.044964691126692116, 0.04496469464392244, 0.04496469464392244, 0.044964691126692116, 0.044964691126692116, 0.044964691126692116, 0.044964691126692116, 0.044964691126692116, 0.044964691126692116, 0.044964691126692116, 0.044964691126692116, 0.044964691126692116, 0.044964691126692116, 0.6906445714020348, 0.6906445714020348, 0.6906445714020348, 0.6906445714020348, 1.3381236999605566, 0.6906445714020348, 0.6906445714020348, 0.6906445714020348, 0.6906444799804284, 0.6906445714020348, 0.6906445714020348, 0.6906444799804284, 0.6906444799804284, 0.6906445714020348, 0.696374969113975, 0.6906445714020348, 0.6963748776923686, 0.04316528571262718, 0.04316528571262718, 0.04316528571262718, 0.04316528571262718, 0.04316528571262718, 0.04316528571262718, 0.04316528571262718, 0.04316528571262718, 0.04316528571262718, 0.04316528571262718, 0.04316528571262718, 0.04316528571262718, 1.9913326319905766, 1.3438533662996455, 0.043165291426477584, 0.043165291426477584, 0.04316528571262718, 0.04316528571262718, 0.04316528571262718, 0.04316528571262718, 0.04316528571262718, 0.04316528571262718, 0.04316528571262718, 0.04316528571262718, 0.04316528571262718, 0.6217864220604935, 0.6217864220604935, 0.6217864220604935, 0.6217864220604935, 0.6217863528599935, 0.6217863528599935, 0.6217864220604935, 0.6217864220604935, 0.6217864220604935, 0.6217863528599935, 0.6217864220604935, 0.6217863528599935, 0.6217863528599935, 0.6217863528599935, 0.6217863528599935, 0.038861651378780844, 0.038861651378780844, 0.038861651378780844, 0.038861651378780844, 0.038861651378780844, 0.038861651378780844, 0.038861651378780844, 0.038861651378780844, 0.038861651378780844, 0.038861651378780844, 0.038861651378780844, 0.038861651378780844, 0.038861651378780844, 0.038861651378780844, 0.038861651378780844, 1.2047099817334566, 0.03886166002884334, 0.038861655703812094, 0.038861655703812094, 0.038861651378780844, 0.038861651378780844, 0.038861651378780844, 0.038861651378780844, 0.038861651378780844, 0.038861651378780844, 0.038861651378780844, 0.038861651378780844, 0.038861651378780844, 0.038861651378780844, 0.038861651378780844, 0.6085388551542349, 0.6085388551542349, 0.6085388551542349, 0.6085388551542349, 1.1739945499330595, 0.6085388551542349, 0.6085388551542349, 1.1739945499330595, 0.6085388551542349, 0.6085387895910226, 0.03803367844713968, 0.03803367844713968, 0.03803367844713968, 0.03803367844713968, 0.03803367844713968, 0.03803367844713968, 0.03803367844713968, 0.03803367844713968, 0.03803367844713968, 0.03803367844713968, 0.03803367844713968, 0.03803367844713968, 1.7444983498126945, 0.03803367844713968, 0.03803367844713968, 0.03803367844713968, 0.03803367844713968, 0.03803367844713968, 0.03803367844713968, 0.03803367844713968, 0.6085381339588987, 0.04308299646737947, 0.03803368254484046, 0.03803368254484046, 0.03803368254484046, 0.03803368254484046, 0.03803367844713968, 0.03803367844713968, 0.03803367844713968, 0.03803367844713968, 0.03803367844713968, 0.03803367844713968, 0.03803367844713968, 0.03803367844713968, 0.03803367844713968, 0.03803367844713968, 0.03803367844713968, 0.03803367844713968, 0.03803367844713968, 0.5478463933783907, 0.5478463933783907, 0.5478463933783907, 0.5478463933783907, 0.5478463933783907, 0.5478463933783907, 0.5478463933783907, 0.5478463933783907, 0.5478463933783907, 0.5478461876156849, 0.03424040280119169, 0.03424040280119169, 0.03424040280119169, 0.03424040280119169, 0.03424040280119169, 0.03424040280119169, 0.03424040280119169, 0.03424040280119169, 0.03424040280119169, 0.03511744382915045, 0.03424040280119169, 0.03424040280119169, 0.03424040280119169, 0.03424040280119169, 0.03482382687813132, 0.03471719357091923, 0.03424040280119169, 0.03424040280119169, 0.03424040280119169, 0.03424040280119169, 0.5483843599725712, 0.5482809127722559, 0.03878612857180782, 0.03485832428176703, 0.03482115517799886, 0.034770521477173244, 0.0346759767289239, 0.034240406016233974, 0.034240406016233974, 0.03424040280119169, 0.03424040280119169, 0.03424040280119169, 0.03424040280119169, 0.03424040280119169, 0.03424040280119169, 0.03424040280119169, 0.03424040280119169, 1.009347275401362, 0.5231940687229628, 0.5231940687229628, 0.5231940687229628, 0.5231940687229628, 0.5231940687229628, 0.5231939324598284, 0.032699629295185176, 0.032699629295185176, 0.032699629295185176, 0.032699629295185176, 0.032699629295185176, 0.032699629295185176, 0.032699629295185176, 0.032699629295185176, 0.032699629295185176, 0.032699629295185176, 0.032699629295185176, 0.032699629295185176, 0.032699629295185176, 0.032699629295185176, 0.032699629295185176, 0.032699629295185176, 0.032699629295185176, 0.032699629295185176, 0.032699629295185176, 0.032699629295185176, 0.032699629295185176, 0.032699629295185176, 0.032699629295185176, 0.52319356909147, 0.5231934782493803, 0.03269963213400048, 0.032699629295185176, 0.032699629295185176, 0.032699629295185176, 0.032699629295185176, 0.032699629295185176, 0.032699629295185176, 0.032699629295185176, 0.032699629295185176, 0.032699629295185176, 0.032699629295185176, 0.032699629295185176, 0.032699629295185176, 0.032699629295185176, 0.032699629295185176, 0.032699629295185176, 0.032699629295185176, 0.032699629295185176, 0.032699629295185176, 0.032699629295185176, 0.032699629295185176], \"Total\": [8.0, 9.0, 4.0, 5.0, 7.0, 62.0, 4.0, 3.0, 47.0, 12.0, 5.0, 15.0, 7.0, 2.0, 3.0, 3.0, 1.0, 3.0, 5.0, 2.0, 2.0, 4.0, 2.0, 1.0, 1.0, 1.0, 2.0, 2.0, 5.0, 3.0, 5.51282743480736, 1.507210409964225, 1.507210409964225, 1.507210409964225, 1.507210409964225, 1.507210409964225, 1.507210409964225, 1.5072103233804324, 1.5072103233804324, 1.5072103233804324, 1.5072103233804324, 1.5072103233804324, 1.5072103233804324, 1.5072103233804324, 1.5072103233804324, 1.5072103233804324, 1.5072103233804324, 1.5072103233804324, 1.5072103233804324, 1.5072103233804324, 1.5072103233804324, 1.5072103233804324, 1.5072103233804324, 1.5072103233804324, 1.5072103233804324, 1.5072103233804324, 6.187364731357387, 2.244974636020785, 2.2566184875925948, 2.2566184875925948, 9.680758052543872, 62.16511202560512, 47.7701571704186, 15.901564121260941, 6.805939707141451, 7.207897286780677, 5.9083975301971785, 3.801395923821821, 5.671184644921836, 5.024003115914228, 3.6654272697127928, 4.612705685556756, 3.8399983201393915, 4.518123857295924, 2.9943828868167404, 2.314223552745807, 2.275489362410049, 2.275489362410049, 2.2815576707540592, 3.394971798147332, 1.4969288823900735, 1.4969288823900735, 1.4969288823900735, 1.4969288823900735, 1.4969288823900735, 1.4969288823900735, 1.4969288823900735, 1.4969288823900735, 1.4969288823900735, 1.4969288823900735, 1.4969288823900735, 1.4969288823900735, 3.5219264404804718, 1.9874233218178512, 1.9874233218178512, 2.0105348729672725, 2.079853583871286, 2.199404582444972, 2.199404645088604, 2.234693188196803, 2.246716799013737, 2.265207834835897, 2.2652079322376175, 2.271276193191107, 2.314223552745807, 4.518123857295924, 7.207897286780677, 5.316889173515318, 2.918755478880515, 3.411119870635858, 47.7701571704186, 62.16511202560512, 15.901564121260941, 12.605498645404035, 5.024003115914228, 3.801395923821821, 3.6654272697127928, 8.048004306371283, 5.671184644921836, 4.5653301347850705, 4.612705685556756, 3.8399983201393915, 3.761252801023382, 3.7727126280474317, 2.2386103650643956, 1.4642631605371608, 1.4642631605371608, 1.4642631605371608, 1.4642631605371608, 1.4642631605371608, 1.4642631605371608, 1.4642631605371608, 1.4642631605371608, 1.4642631605371608, 1.4642631605371608, 1.4642631605371608, 1.4642631605371608, 1.4642631605371608, 2.213671320398189, 2.213671320398189, 2.2271506005543453, 2.271276193191107, 2.2815576707540592, 4.612705685556756, 5.024003115914228, 5.250696790667792, 2.721464724217415, 2.861150606087597, 2.918755478880515, 2.982330029606648, 3.7727126280474317, 12.605498645404035, 4.5653301347850705, 5.9083975301971785, 47.7701571704186, 62.16511202560512, 15.901564121260941, 7.12646572438515, 1.4581948995836715, 1.4581948995836715, 1.4581948995836715, 1.458194802181951, 1.458194802181951, 1.458194802181951, 1.458194802181951, 1.458194802181951, 1.458194802181951, 1.458194802181951, 1.458194802181951, 1.458194802181951, 2.8996658575624483, 8.048004306371283, 2.967164032250315, 2.0286999788890463, 2.1606705648804816, 2.1606705648804816, 2.1959591256402318, 2.207982816207335, 2.2210823396008563, 2.2652079322376175, 2.265207834835897, 2.275489362410049, 2.275489362410049, 5.250696790667792, 2.982330029606648, 6.187364731357387, 6.805939707141451, 3.6654272697127928, 7.12646572438515, 12.605498645404035, 62.16511202560512, 47.7701571704186, 4.5653301347850705, 4.682648735189141, 4.848753274551942, 4.459498111150791, 2.2156907414825455, 1.4528032897533119, 1.4528032897533119, 1.4528032897533119, 1.4528032897533119, 1.4528032897533119, 1.4528032897533119, 1.4528032897533119, 1.4528032897533119, 1.4528032897533119, 1.4528032897533119, 1.4528032897533119, 1.4528032897533119, 3.8399983201393915, 2.190567515809872, 2.2210823396008563, 2.2271506005543453, 4.459498111150791, 4.5653301347850705, 5.316889173515318, 2.954239768369436, 9.680758052543872, 3.761252801023382, 4.848753274551942, 5.9083975301971785, 12.605498645404035, 6.805939707141451, 7.12646572438515, 62.16511202560512, 47.7701571704186, 1.4393240095971553, 1.4393240095971553, 1.4393240095971553, 1.4393240095971553, 1.4393240095971553, 1.4393239273644973, 1.4393239273644973, 1.4393239273644973, 1.4393239273644973, 1.4393239273644973, 1.4393239273644973, 1.4393239273644973, 1.929818366792275, 2.0098291040715925, 2.141799690063028, 2.1891119262208187, 2.213671320398189, 2.213671320398189, 2.2566184875925948, 2.2566184875925948, 4.682648735189141, 2.535854770856067, 2.535854688623409, 2.861150606087597, 2.9943828868167404, 3.411119870635858, 3.801395923821821, 4.518123857295924, 5.316889173515318, 5.51282743480736, 15.901564121260941, 62.16511202560512, 5.671184644921836, 12.605498645404035, 7.12646572438515, 6.805939707141451, 7.207897286780677, 5.9083975301971785, 1.439703766359791, 1.439703766359791, 1.439703766359791, 1.439703766359791, 1.439703766359791, 1.439703766359791, 1.4397036042236557, 1.4397036042236557, 2.954239768369436, 3.761252801023382, 3.7727126280474317, 2.967164032250315, 2.1891119262208187, 2.207982816207335, 2.246716799013737, 2.5824165187806525, 2.982330029606648, 3.394971798147332, 8.048004306371283, 4.612705685556756, 4.848753274551942, 9.680758052543872, 15.901564121260941, 12.605498645404035, 7.12646572438515, 47.7701571704186, 62.16511202560512, 1.203521840313326, 1.203521840313326, 1.203521840313326, 2.8996658575624483, 5.51282743480736, 2.271276193191107, 2.165444266958548, 1.4276801555428569, 1.4276801555428569, 1.4276800757926873, 1.4276800757926873, 1.4276800757926873, 1.4276800757926873, 1.4276800757926873, 1.4276800757926873, 1.4276800757926873, 1.4276800757926873, 1.4276800757926873, 1.4276800757926873, 2.812923552647956, 2.130155918241387, 2.190567515809872, 2.1959591256402318, 2.234693188196803, 2.244974636020785, 4.459498111150791, 5.250696790667792, 2.9943828868167404, 6.805939707141451, 3.801395923821821, 5.316889173515318, 5.9083975301971785, 12.605498645404035, 62.16511202560512, 15.901564121260941, 47.7701571704186, 2.0948673398961453, 3.4448222904034087, 1.3923916124346578, 1.3923916124346578, 1.3923916124346578, 1.3923916124346578, 1.3923916124346578, 1.3923916124346578, 1.3923916124346578, 1.3923916124346578, 1.3923916124346578, 1.392391549791026, 2.130155918241387, 2.141799690063028, 2.1606705648804816, 2.1606705648804816, 2.199404645088604, 2.199404582444972, 5.9083975301971785, 6.187364731357387, 7.12646572438515, 7.207897286780677, 8.048004306371283, 47.7701571704186, 1.203521840313326, 1.203521840313326, 1.203521840313326, 1.2604210264432223, 1.2604210264432223, 1.2604210264432223, 62.16511202560512, 5.671184644921836, 15.901564121260941, 9.680758052543872, 2.271276193191107, 12.605498645404035, 2.039519789447406, 2.039519789447406, 2.039519794586947, 1.3643861040851384, 1.3643861040851384, 1.3643861040851384, 1.3643861040851384, 1.3642368278556027, 1.3642033909820361, 1.3641114632128797, 5.671184644921836, 2.721464724217415, 2.8996658575624483, 3.411119870635858, 5.9083975301971785, 7.207897286780677, 62.16511202560512, 47.7701571704186, 1.203521840313326, 1.203521840313326, 1.203521840313326, 1.2604210264432223, 1.2604210264432223, 1.2604210264432223, 1.2604210264432223, 1.2728405512173397, 1.2728406204178397, 1.2728406204178397, 1.2728406204178397, 1.2728406204178397, 15.901564121260941, 5.51282743480736, 9.680758052543872, 2.271276193191107, 12.605498645404035, 4.682648735189141, 2.5824165187806525, 2.275489362410049, 6.805939707141451, 2.275489362410049, 2.234693188196803, 5.024003115914228, 1.337395135425535, 1.337395135425535, 1.337395135425535, 1.337395135425535, 4.848753274551942, 2.812923552647956, 2.861150606087597, 2.918755478880515, 3.394971798147332, 3.4448222904034087, 3.5219264404804718, 4.518123857295924, 5.024003115914228, 7.12646572438515, 9.680758052543872, 12.605498645404035, 15.901564121260941, 1.203521840313326, 1.203521840313326, 1.203521840313326, 1.2604210264432223, 1.2604210264432223, 1.2604210264432223, 1.2604210264432223, 1.2728405512173397, 1.2728406204178397, 1.2728406204178397, 1.2728406204178397, 1.2728406204178397, 62.16511202560512, 47.7701571704186, 5.51282743480736, 6.187364731357387, 2.271276193191107, 4.682648735189141, 2.5824165187806525, 2.275489362410049, 6.805939707141451, 2.275489362410049, 2.234693188196803, 7.207897286780677, 2.1959591256402318, 1.2728406204178397, 1.2728406204178397, 1.2728406204178397, 1.2728406204178397, 1.2728405512173397, 2.079853583871286, 2.535854688623409, 2.535854770856067, 2.721464724217415, 3.6654272697127928, 4.682648735189141, 4.848753274551942, 5.671184644921836, 7.207897286780677, 12.605498645404035, 1.203521840313326, 1.203521840313326, 1.203521840313326, 1.2604210264432223, 1.2604210264432223, 1.2604210264432223, 1.2604210264432223, 1.337395135425535, 1.337395135425535, 1.337395135425535, 1.337395135425535, 1.3641114632128797, 1.3642033909820361, 1.3642368278556027, 1.3643861040851384, 62.16511202560512, 47.7701571704186, 15.901564121260941, 5.51282743480736, 9.680758052543872, 2.271276193191107, 2.5824165187806525, 2.275489362410049, 6.805939707141451, 2.275489362410049, 2.234693188196803, 5.024003115914228, 3.5219264404804718, 2.1959591256402318, 1.4276800757926873, 1.2604210264432223, 1.2604210264432223, 1.2604210264432223, 1.2604210264432223, 2.5824165187806525, 2.0098291040715925, 2.0286999788890463, 4.682648735189141, 3.5219264404804718, 7.207897286780677, 1.203521840313326, 1.203521840313326, 1.203521840313326, 1.2728405512173397, 1.2728406204178397, 1.2728406204178397, 1.2728406204178397, 1.2728406204178397, 1.337395135425535, 1.337395135425535, 1.337395135425535, 1.337395135425535, 62.16511202560512, 1.3641114632128797, 1.3642033909820361, 1.3642368278556027, 1.3643861040851384, 1.3643861040851384, 1.3643861040851384, 1.3643861040851384, 47.7701571704186, 1.6716128138625437, 12.605498645404035, 15.901564121260941, 5.51282743480736, 5.671184644921836, 9.680758052543872, 2.271276193191107, 2.275489362410049, 6.805939707141451, 2.275489362410049, 2.234693188196803, 5.024003115914228, 2.1959591256402318, 1.4276800757926873, 1.4276800757926873, 1.4276800757926873, 2.190567515809872, 1.4276800757926873, 1.203521840313326, 1.203521840313326, 1.203521840313326, 2.0105348729672725, 2.535854688623409, 2.535854770856067, 5.024003115914228, 7.12646572438515, 8.048004306371283, 9.680758052543872, 1.2604210264432223, 1.2604210264432223, 1.2604210264432223, 1.2604210264432223, 1.2728405512173397, 1.2728406204178397, 1.2728406204178397, 1.2728406204178397, 1.2728406204178397, 1.3641114632128797, 1.337395135425535, 1.337395135425535, 1.337395135425535, 1.337395135425535, 1.3642033909820361, 1.3642368278556027, 1.3643861040851384, 1.3643861040851384, 1.3643861040851384, 1.3643861040851384, 47.7701571704186, 62.16511202560512, 5.51282743480736, 2.721464724217415, 3.411119870635858, 5.9083975301971785, 7.207897286780677, 12.605498645404035, 15.901564121260941, 2.271276193191107, 4.682648735189141, 2.5824165187806525, 2.275489362410049, 6.805939707141451, 2.275489362410049, 2.234693188196803, 3.5219264404804718, 1.6716128138625437, 1.929818366792275, 1.9874233218178512, 1.9874233218178512, 3.394971798147332, 3.411119870635858, 15.901564121260941, 1.203521840313326, 1.203521840313326, 1.203521840313326, 1.2604210264432223, 1.2604210264432223, 1.2604210264432223, 1.2604210264432223, 1.2728405512173397, 1.2728406204178397, 1.2728406204178397, 1.2728406204178397, 1.2728406204178397, 1.337395135425535, 1.337395135425535, 1.337395135425535, 1.337395135425535, 1.3641114632128797, 1.3642033909820361, 1.3642368278556027, 1.3643861040851384, 1.3643861040851384, 1.3643861040851384, 1.3643861040851384, 47.7701571704186, 62.16511202560512, 5.51282743480736, 9.680758052543872, 2.271276193191107, 12.605498645404035, 4.682648735189141, 2.5824165187806525, 2.275489362410049, 6.805939707141451, 2.275489362410049, 2.234693188196803, 5.024003115914228, 3.5219264404804718, 7.207897286780677, 2.1959591256402318, 1.4276800757926873, 1.4276800757926873, 1.4276800757926873, 2.190567515809872, 1.4276800757926873, 3.801395923821821, 2.165444266958548], \"Category\": [\"Default\", \"Default\", \"Default\", \"Default\", \"Default\", \"Default\", \"Default\", \"Default\", \"Default\", \"Default\", \"Default\", \"Default\", \"Default\", \"Default\", \"Default\", \"Default\", \"Default\", \"Default\", \"Default\", \"Default\", \"Default\", \"Default\", \"Default\", \"Default\", \"Default\", \"Default\", \"Default\", \"Default\", \"Default\", \"Default\", \"Topic1\", \"Topic1\", \"Topic1\", \"Topic1\", \"Topic1\", \"Topic1\", \"Topic1\", \"Topic1\", \"Topic1\", \"Topic1\", \"Topic1\", \"Topic1\", \"Topic1\", \"Topic1\", \"Topic1\", \"Topic1\", \"Topic1\", \"Topic1\", \"Topic1\", \"Topic1\", \"Topic1\", \"Topic1\", \"Topic1\", \"Topic1\", \"Topic1\", \"Topic1\", \"Topic1\", \"Topic1\", \"Topic1\", \"Topic1\", \"Topic1\", \"Topic1\", \"Topic1\", \"Topic1\", \"Topic1\", \"Topic1\", \"Topic1\", \"Topic1\", \"Topic1\", \"Topic1\", \"Topic1\", \"Topic1\", \"Topic1\", \"Topic1\", \"Topic1\", \"Topic1\", \"Topic1\", \"Topic1\", \"Topic1\", \"Topic1\", \"Topic2\", \"Topic2\", \"Topic2\", \"Topic2\", \"Topic2\", \"Topic2\", \"Topic2\", \"Topic2\", \"Topic2\", \"Topic2\", \"Topic2\", \"Topic2\", \"Topic2\", \"Topic2\", \"Topic2\", \"Topic2\", \"Topic2\", \"Topic2\", \"Topic2\", \"Topic2\", \"Topic2\", \"Topic2\", \"Topic2\", \"Topic2\", \"Topic2\", \"Topic2\", \"Topic2\", \"Topic2\", \"Topic2\", \"Topic2\", \"Topic2\", \"Topic2\", \"Topic2\", \"Topic2\", \"Topic2\", \"Topic2\", \"Topic2\", \"Topic2\", \"Topic2\", \"Topic2\", \"Topic2\", \"Topic2\", \"Topic2\", \"Topic2\", \"Topic3\", \"Topic3\", \"Topic3\", \"Topic3\", \"Topic3\", \"Topic3\", \"Topic3\", \"Topic3\", \"Topic3\", \"Topic3\", \"Topic3\", \"Topic3\", \"Topic3\", \"Topic3\", \"Topic3\", \"Topic3\", \"Topic3\", \"Topic3\", \"Topic3\", \"Topic3\", \"Topic3\", \"Topic3\", \"Topic3\", \"Topic3\", \"Topic3\", \"Topic3\", \"Topic3\", \"Topic3\", \"Topic3\", \"Topic3\", \"Topic3\", \"Topic3\", \"Topic3\", \"Topic3\", \"Topic4\", \"Topic4\", \"Topic4\", \"Topic4\", \"Topic4\", \"Topic4\", \"Topic4\", \"Topic4\", \"Topic4\", \"Topic4\", \"Topic4\", \"Topic4\", \"Topic4\", \"Topic4\", \"Topic4\", \"Topic4\", \"Topic4\", \"Topic4\", \"Topic4\", \"Topic4\", \"Topic4\", \"Topic4\", \"Topic4\", \"Topic4\", \"Topic4\", \"Topic4\", \"Topic4\", \"Topic4\", \"Topic4\", \"Topic4\", \"Topic4\", \"Topic4\", \"Topic4\", \"Topic4\", \"Topic4\", \"Topic4\", \"Topic4\", \"Topic4\", \"Topic5\", \"Topic5\", \"Topic5\", \"Topic5\", \"Topic5\", \"Topic5\", \"Topic5\", \"Topic5\", \"Topic5\", \"Topic5\", \"Topic5\", \"Topic5\", \"Topic5\", \"Topic5\", \"Topic5\", \"Topic5\", \"Topic5\", \"Topic5\", \"Topic5\", \"Topic5\", \"Topic5\", \"Topic5\", \"Topic5\", \"Topic5\", \"Topic5\", \"Topic5\", \"Topic5\", \"Topic5\", \"Topic5\", \"Topic5\", \"Topic6\", \"Topic6\", \"Topic6\", \"Topic6\", \"Topic6\", \"Topic6\", \"Topic6\", \"Topic6\", \"Topic6\", \"Topic6\", \"Topic6\", \"Topic6\", \"Topic6\", \"Topic6\", \"Topic6\", \"Topic6\", \"Topic6\", \"Topic6\", \"Topic6\", \"Topic6\", \"Topic6\", \"Topic6\", \"Topic6\", \"Topic6\", \"Topic6\", \"Topic6\", \"Topic6\", \"Topic6\", \"Topic6\", \"Topic6\", \"Topic6\", \"Topic6\", \"Topic6\", \"Topic6\", \"Topic6\", \"Topic6\", \"Topic6\", \"Topic6\", \"Topic7\", \"Topic7\", \"Topic7\", \"Topic7\", \"Topic7\", \"Topic7\", \"Topic7\", \"Topic7\", \"Topic7\", \"Topic7\", \"Topic7\", \"Topic7\", \"Topic7\", \"Topic7\", \"Topic7\", \"Topic7\", \"Topic7\", \"Topic7\", \"Topic7\", \"Topic7\", \"Topic7\", \"Topic7\", \"Topic7\", \"Topic7\", \"Topic7\", \"Topic7\", \"Topic7\", \"Topic7\", \"Topic7\", \"Topic7\", \"Topic7\", \"Topic7\", \"Topic7\", \"Topic8\", \"Topic8\", \"Topic8\", \"Topic8\", \"Topic8\", \"Topic8\", \"Topic8\", \"Topic8\", \"Topic8\", \"Topic8\", \"Topic8\", \"Topic8\", \"Topic8\", \"Topic8\", \"Topic8\", \"Topic8\", \"Topic8\", \"Topic8\", \"Topic8\", \"Topic8\", \"Topic8\", \"Topic8\", \"Topic8\", \"Topic8\", \"Topic8\", \"Topic8\", \"Topic8\", \"Topic8\", \"Topic8\", \"Topic8\", \"Topic9\", \"Topic9\", \"Topic9\", \"Topic9\", \"Topic9\", \"Topic9\", \"Topic9\", \"Topic9\", \"Topic9\", \"Topic9\", \"Topic9\", \"Topic9\", \"Topic9\", \"Topic9\", \"Topic9\", \"Topic9\", \"Topic9\", \"Topic9\", \"Topic9\", \"Topic9\", \"Topic9\", \"Topic9\", \"Topic9\", \"Topic9\", \"Topic9\", \"Topic9\", \"Topic9\", \"Topic9\", \"Topic9\", \"Topic9\", \"Topic9\", \"Topic9\", \"Topic9\", \"Topic9\", \"Topic9\", \"Topic9\", \"Topic10\", \"Topic10\", \"Topic10\", \"Topic10\", \"Topic10\", \"Topic10\", \"Topic10\", \"Topic10\", \"Topic10\", \"Topic10\", \"Topic10\", \"Topic10\", \"Topic10\", \"Topic10\", \"Topic10\", \"Topic10\", \"Topic10\", \"Topic10\", \"Topic10\", \"Topic10\", \"Topic10\", \"Topic10\", \"Topic10\", \"Topic10\", \"Topic10\", \"Topic10\", \"Topic10\", \"Topic10\", \"Topic10\", \"Topic10\", \"Topic10\", \"Topic10\", \"Topic10\", \"Topic10\", \"Topic10\", \"Topic10\", \"Topic10\", \"Topic10\", \"Topic10\", \"Topic10\", \"Topic10\", \"Topic10\", \"Topic11\", \"Topic11\", \"Topic11\", \"Topic11\", \"Topic11\", \"Topic11\", \"Topic11\", \"Topic11\", \"Topic11\", \"Topic11\", \"Topic11\", \"Topic11\", \"Topic11\", \"Topic11\", \"Topic11\", \"Topic11\", \"Topic11\", \"Topic11\", \"Topic11\", \"Topic11\", \"Topic11\", \"Topic11\", \"Topic11\", \"Topic11\", \"Topic11\", \"Topic11\", \"Topic11\", \"Topic11\", \"Topic11\", \"Topic11\", \"Topic11\", \"Topic11\", \"Topic11\", \"Topic11\", \"Topic11\", \"Topic11\", \"Topic11\", \"Topic11\", \"Topic11\", \"Topic11\", \"Topic11\", \"Topic11\", \"Topic12\", \"Topic12\", \"Topic12\", \"Topic12\", \"Topic12\", \"Topic12\", \"Topic12\", \"Topic12\", \"Topic12\", \"Topic12\", \"Topic12\", \"Topic12\", \"Topic12\", \"Topic12\", \"Topic12\", \"Topic12\", \"Topic12\", \"Topic12\", \"Topic12\", \"Topic12\", \"Topic12\", \"Topic12\", \"Topic12\", \"Topic12\", \"Topic12\", \"Topic12\", \"Topic12\", \"Topic12\", \"Topic12\", \"Topic12\", \"Topic12\", \"Topic12\", \"Topic12\", \"Topic12\", \"Topic12\", \"Topic12\", \"Topic12\", \"Topic12\", \"Topic12\", \"Topic12\", \"Topic12\", \"Topic12\", \"Topic12\", \"Topic12\", \"Topic12\", \"Topic13\", \"Topic13\", \"Topic13\", \"Topic13\", \"Topic13\", \"Topic13\", \"Topic13\", \"Topic13\", \"Topic13\", \"Topic13\", \"Topic13\", \"Topic13\", \"Topic13\", \"Topic13\", \"Topic13\", \"Topic13\", \"Topic13\", \"Topic13\", \"Topic13\", \"Topic13\", \"Topic13\", \"Topic13\", \"Topic13\", \"Topic13\", \"Topic13\", \"Topic13\", \"Topic13\", \"Topic13\", \"Topic13\", \"Topic13\", \"Topic13\", \"Topic13\", \"Topic13\", \"Topic13\", \"Topic13\", \"Topic13\", \"Topic13\", \"Topic13\", \"Topic13\", \"Topic13\", \"Topic13\", \"Topic13\", \"Topic13\", \"Topic13\", \"Topic13\", \"Topic13\", \"Topic13\", \"Topic13\", \"Topic13\", \"Topic14\", \"Topic14\", \"Topic14\", \"Topic14\", \"Topic14\", \"Topic14\", \"Topic14\", \"Topic14\", \"Topic14\", \"Topic14\", \"Topic14\", \"Topic14\", \"Topic14\", \"Topic14\", \"Topic14\", \"Topic14\", \"Topic14\", \"Topic14\", \"Topic14\", \"Topic14\", \"Topic14\", \"Topic14\", \"Topic14\", \"Topic14\", \"Topic14\", \"Topic14\", \"Topic14\", \"Topic14\", \"Topic14\", \"Topic14\", \"Topic14\", \"Topic14\", \"Topic14\", \"Topic14\", \"Topic14\", \"Topic14\", \"Topic14\", \"Topic14\", \"Topic14\", \"Topic14\", \"Topic14\", \"Topic14\", \"Topic14\", \"Topic14\", \"Topic14\", \"Topic14\", \"Topic14\", \"Topic15\", \"Topic15\", \"Topic15\", \"Topic15\", \"Topic15\", \"Topic15\", \"Topic15\", \"Topic15\", \"Topic15\", \"Topic15\", \"Topic15\", \"Topic15\", \"Topic15\", \"Topic15\", \"Topic15\", \"Topic15\", \"Topic15\", \"Topic15\", \"Topic15\", \"Topic15\", \"Topic15\", \"Topic15\", \"Topic15\", \"Topic15\", \"Topic15\", \"Topic15\", \"Topic15\", \"Topic15\", \"Topic15\", \"Topic15\", \"Topic15\", \"Topic15\", \"Topic15\", \"Topic15\", \"Topic15\", \"Topic15\", \"Topic15\", \"Topic15\", \"Topic15\", \"Topic15\", \"Topic15\", \"Topic15\", \"Topic15\", \"Topic15\", \"Topic15\", \"Topic15\", \"Topic15\", \"Topic15\", \"Topic15\", \"Topic15\", \"Topic15\", \"Topic15\", \"Topic15\"], \"logprob\": [30.0, 29.0, 28.0, 27.0, 26.0, 25.0, 24.0, 23.0, 22.0, 21.0, 20.0, 19.0, 18.0, 17.0, 16.0, 15.0, 14.0, 13.0, 12.0, 11.0, 10.0, 9.0, 8.0, 7.0, 6.0, 5.0, 4.0, 3.0, 2.0, 1.0, -3.3334, -4.6695, -4.6695, -4.6695, -4.6695, -4.6695, -4.6695, -4.6695, -4.6695, -4.6695, -4.6695, -4.6695, -4.6695, -4.6695, -4.6695, -4.6695, -4.6695, -4.6695, -4.6695, -4.6695, -4.6695, -4.6695, -4.6695, -4.6695, -4.6695, -4.6695, -3.6163, -4.6695, -4.6695, -4.6695, -3.3334, -1.642, -1.899, -3.1131, -4.6695, -4.6695, -4.6695, -4.6695, -4.6695, -4.6695, -4.6695, -4.6695, -4.6695, -4.6695, -4.6695, -4.6695, -4.6695, -4.6695, -4.6695, -4.6695, -4.3648, -4.3648, -4.3648, -4.3648, -4.3648, -4.3648, -4.3648, -4.3648, -4.3648, -4.3648, -4.3648, -4.3648, -3.7034, -4.3648, -4.3648, -4.3648, -4.3648, -4.3648, -4.3648, -4.3648, -4.3648, -4.3648, -4.3648, -4.3648, -4.3648, -3.7034, -3.3087, -3.7034, -4.3648, -4.3648, -2.2247, -2.2238, -3.3087, -4.3648, -4.3648, -4.3648, -4.3648, -4.3648, -4.3648, -4.3648, -4.3648, -4.3648, -4.3648, -4.3648, -3.5132, -4.1746, -4.1746, -4.1746, -4.1746, -4.1746, -4.1746, -4.1746, -4.1746, -4.1746, -4.1746, -4.1746, -4.1746, -4.1746, -4.1746, -4.1746, -4.1746, -4.1746, -4.1746, -3.5132, -3.5132, -3.5132, -4.1746, -4.1746, -4.1746, -4.1746, -4.106, -3.1185, -4.1746, -4.1746, -2.4225, -2.2712, -3.4772, -4.1746, -4.1559, -4.1559, -4.1559, -4.1559, -4.1559, -4.1559, -4.1559, -4.1559, -4.1559, -4.1559, -4.1559, -4.1559, -3.515, -2.658, -3.7493, -4.1559, -4.1559, -4.1559, -4.1559, -4.1559, -4.1559, -4.1559, -4.1559, -4.1559, -4.1559, -3.4945, -4.1559, -3.4945, -3.4945, -4.1559, -3.4945, -3.0999, -3.0999, -3.4945, -4.1559, -4.1559, -4.1559, -4.1559, -3.4628, -4.1242, -4.1242, -4.1242, -4.1242, -4.1242, -4.1242, -4.1242, -4.1242, -4.1242, -4.1242, -4.1242, -4.1242, -3.4628, -4.1242, -4.1242, -4.1242, -3.4628, -3.4628, -3.4628, -4.1242, -3.0681, -4.1242, -4.1242, -4.1242, -3.4628, -4.1242, -4.1242, -2.0977, -2.383, -4.0115, -4.0115, -4.0115, -4.0115, -4.0115, -4.0115, -4.0115, -4.0115, -4.0115, -4.0115, -4.0115, -4.0115, -4.0115, -4.0115, -4.0115, -4.0115, -4.0115, -4.0115, -4.0115, -4.0115, -3.3501, -4.0115, -4.0115, -4.0115, -4.0115, -4.0115, -4.0115, -4.0115, -4.0115, -4.0115, -3.3501, -2.671, -4.0032, -4.0115, -4.0115, -4.0115, -4.0115, -4.0115, -3.9967, -3.9967, -3.9967, -3.9967, -3.9967, -3.9967, -3.9967, -3.9967, -3.3727, -3.3727, -3.3727, -3.6628, -3.9967, -3.9967, -3.9967, -3.9967, -3.9967, -3.9967, -3.2193, -3.9967, -3.9967, -3.3558, -2.9657, -3.3353, -3.9967, -2.271, -2.6772, -6.7693, -6.7693, -6.7693, -6.7693, -6.7693, -6.7693, -3.3351, -3.9965, -3.9965, -3.9965, -3.9965, -3.9965, -3.9965, -3.9965, -3.9965, -3.9965, -3.9965, -3.9965, -3.9965, -3.3351, -3.9965, -3.9965, -3.9965, -3.9965, -3.9965, -3.3351, -3.3351, -3.9965, -3.3351, -3.9965, -3.9965, -3.9965, -3.3351, -2.2582, -3.9965, -2.9404, -3.1427, -2.748, -3.8041, -3.8041, -3.8041, -3.8041, -3.8041, -3.8041, -3.8041, -3.8041, -3.8041, -3.8041, -3.8041, -3.8041, -3.8041, -3.8041, -3.8041, -3.8041, -3.8041, -3.8041, -3.8041, -3.8041, -3.8041, -2.4658, -6.5767, -6.5767, -6.5767, -6.5767, -6.5767, -6.5767, -2.7466, -6.5101, -6.5767, -6.5767, -6.5767, -6.5767, -3.0804, -3.0804, -3.0804, -3.7376, -3.7376, -3.7376, -3.7376, -3.7384, -3.7386, -3.7392, -2.6873, -3.7387, -3.7376, -3.7386, -3.7385, -3.7383, -2.0023, -2.6818, -6.5101, -6.5101, -6.5101, -6.5101, -6.5101, -6.5101, -6.5101, -6.5101, -6.5101, -6.5101, -6.5101, -6.5101, -6.5101, -6.5101, -6.5101, -6.5101, -6.5101, -6.5101, -6.5101, -6.5101, -6.5101, -6.5101, -6.5101, -6.5101, -3.5705, -3.5705, -3.5705, -3.5705, -2.9091, -3.5705, -3.5705, -3.5705, -3.5705, -3.5705, -3.5705, -3.5705, -3.5705, -3.5705, -3.5622, -3.5705, -3.5622, -6.3431, -6.3431, -6.3431, -6.3431, -6.3431, -6.3431, -6.3431, -6.3431, -6.3431, -6.3431, -6.3431, -6.3431, -2.5115, -2.9048, -6.3431, -6.3431, -6.3431, -6.3431, -6.3431, -6.3431, -6.3431, -6.3431, -6.3431, -6.3431, -6.3431, -3.397, -3.397, -3.397, -3.397, -3.397, -3.397, -3.397, -3.397, -3.397, -3.397, -3.397, -3.397, -3.397, -3.397, -3.397, -6.1696, -6.1696, -6.1696, -6.1696, -6.1696, -6.1696, -6.1696, -6.1696, -6.1696, -6.1696, -6.1696, -6.1696, -6.1696, -6.1696, -6.1696, -2.7356, -6.1696, -6.1696, -6.1696, -6.1696, -6.1696, -6.1696, -6.1696, -6.1696, -6.1696, -6.1696, -6.1696, -6.1696, -6.1696, -6.1696, -3.3646, -3.3646, -3.3646, -3.3646, -2.7075, -3.3646, -3.3646, -2.7075, -3.3646, -3.3646, -6.1372, -6.1372, -6.1372, -6.1372, -6.1372, -6.1372, -6.1372, -6.1372, -6.1372, -6.1372, -6.1372, -6.1372, -2.3114, -6.1372, -6.1372, -6.1372, -6.1372, -6.1372, -6.1372, -6.1372, -3.3646, -6.0125, -6.1372, -6.1372, -6.1372, -6.1372, -6.1372, -6.1372, -6.1372, -6.1372, -6.1372, -6.1372, -6.1372, -6.1372, -6.1372, -6.1372, -6.1372, -6.1372, -6.1372, -3.227, -3.227, -3.227, -3.227, -3.227, -3.227, -3.227, -3.227, -3.227, -3.227, -5.9996, -5.9996, -5.9996, -5.9996, -5.9996, -5.9996, -5.9996, -5.9996, -5.9996, -5.9743, -5.9996, -5.9996, -5.9996, -5.9996, -5.9827, -5.9858, -5.9996, -5.9996, -5.9996, -5.9996, -3.2261, -3.2263, -5.875, -5.9817, -5.9828, -5.9843, -5.987, -5.9996, -5.9996, -5.9996, -5.9996, -5.9996, -5.9996, -5.9996, -5.9996, -5.9996, -5.9996, -2.4915, -3.1486, -3.1486, -3.1486, -3.1486, -3.1486, -3.1486, -5.9212, -5.9212, -5.9212, -5.9212, -5.9212, -5.9212, -5.9212, -5.9212, -5.9212, -5.9212, -5.9212, -5.9212, -5.9212, -5.9212, -5.9212, -5.9212, -5.9212, -5.9212, -5.9212, -5.9212, -5.9212, -5.9212, -5.9212, -3.1486, -3.1486, -5.9212, -5.9212, -5.9212, -5.9212, -5.9212, -5.9212, -5.9212, -5.9212, -5.9212, -5.9212, -5.9212, -5.9212, -5.9212, -5.9212, -5.9212, -5.9212, -5.9212, -5.9212, -5.9212, -5.9212, -5.9212], \"loglift\": [30.0, 29.0, 28.0, 27.0, 26.0, 25.0, 24.0, 23.0, 22.0, 21.0, 20.0, 19.0, 18.0, 17.0, 16.0, 15.0, 14.0, 13.0, 12.0, 11.0, 10.0, 9.0, 8.0, 7.0, 6.0, 5.0, 4.0, 3.0, 2.0, 1.0, 1.3531, 1.3139, 1.3139, 1.3139, 1.3139, 1.3139, 1.3139, 1.3139, 1.3139, 1.3139, 1.3139, 1.3139, 1.3139, 1.3139, 1.3139, 1.3139, 1.3139, 1.3139, 1.3139, 1.3139, 1.3139, 1.3139, 1.3139, 1.3139, 1.3139, 1.3139, 0.9548, 0.9154, 0.9102, 0.9102, 0.7901, 0.6218, 0.6282, 0.5141, -0.1937, -0.2511, -0.0523, 0.3887, -0.0113, 0.1099, 0.4252, 0.1953, 0.3786, 0.216, 0.6274, 0.885, 0.9019, 0.9019, 0.8993, 0.5018, 1.6254, 1.6254, 1.6254, 1.6254, 1.6254, 1.6254, 1.6254, 1.6254, 1.6254, 1.6254, 1.6254, 1.6254, 1.4312, 1.342, 1.342, 1.3304, 1.2965, 1.2406, 1.2406, 1.2247, 1.2193, 1.2111, 1.2111, 1.2085, 1.1897, 1.1821, 1.1097, 1.0193, 0.9576, 0.8018, 0.3025, 0.04, 0.3184, -0.5053, 0.4146, 0.6934, 0.7299, -0.0566, 0.2934, 0.5103, 0.5, 0.6833, 0.704, 0.701, 2.0745, 1.8376, 1.8376, 1.8376, 1.8376, 1.8376, 1.8376, 1.8376, 1.8376, 1.8376, 1.8376, 1.8376, 1.8376, 1.8376, 1.4243, 1.4243, 1.4183, 1.3987, 1.3941, 1.3516, 1.2662, 1.222, 1.2178, 1.1678, 1.1478, 1.1263, 0.9598, 0.7409, 0.7005, 0.4426, 0.1047, -0.0074, 0.15, 0.2552, 1.8605, 1.8605, 1.8605, 1.8605, 1.8605, 1.8605, 1.8605, 1.8605, 1.8605, 1.8605, 1.8605, 1.8605, 1.814, 1.6502, 1.5567, 1.5303, 1.4673, 1.4673, 1.4511, 1.4456, 1.4397, 1.42, 1.42, 1.4155, 1.4155, 1.2407, 1.145, 1.0766, 0.9813, 0.9387, 0.9353, 0.7596, -0.8361, -0.9673, 0.7192, 0.6938, 0.659, 0.7426, 2.1353, 1.8959, 1.8959, 1.8959, 1.8959, 1.8959, 1.8959, 1.8959, 1.8959, 1.8959, 1.8959, 1.8959, 1.8959, 1.5853, 1.4853, 1.4714, 1.4687, 1.4358, 1.4123, 1.2599, 1.1862, 1.0553, 0.9447, 0.6907, 0.493, 0.3967, 0.3516, 0.3056, 0.1661, 0.1442, 2.0179, 2.0179, 2.0179, 2.0179, 2.0179, 2.0179, 2.0179, 2.0179, 2.0179, 2.0179, 2.0179, 2.0179, 1.7247, 1.6841, 1.6205, 1.5986, 1.5875, 1.5875, 1.5682, 1.5682, 1.4996, 1.4516, 1.4516, 1.3309, 1.2854, 1.1551, 1.0467, 0.874, 0.7112, 0.675, 0.2771, -0.4072, 0.655, -0.152, 0.4183, 0.4643, 0.4069, 0.6057, 2.0324, 2.0324, 2.0324, 2.0324, 2.0324, 2.0324, 2.0324, 2.0324, 1.9377, 1.6962, 1.6931, 1.6432, 1.6134, 1.6048, 1.5874, 1.4481, 1.3042, 1.1746, 1.0888, 0.8681, 0.8182, 0.7677, 0.6615, 0.5241, 0.4331, 0.2562, -0.4134, -0.561, -0.561, -0.561, -1.4403, -2.0828, -1.1961, 2.2859, 2.041, 2.041, 2.041, 2.041, 2.041, 2.041, 2.041, 2.041, 2.041, 2.041, 2.041, 2.041, 2.0243, 1.6409, 1.6129, 1.6105, 1.593, 1.5884, 1.5635, 1.4001, 1.3004, 1.1407, 1.0617, 0.7262, 0.6207, 0.5244, 0.0056, -0.3693, -0.4133, 2.5114, 2.4087, 2.2585, 2.2585, 2.2585, 2.2585, 2.2585, 2.2585, 2.2585, 2.2585, 2.2585, 2.2585, 1.8333, 1.8279, 1.8191, 1.8191, 1.8013, 1.8013, 0.8131, 0.767, 0.6257, 0.6143, 0.5041, 0.0614, -0.3683, -0.3683, -0.3683, -0.4145, -0.4145, -0.4145, -0.4828, -1.8519, -2.9495, -2.4532, -1.0034, -2.7172, 2.6004, 2.6004, 2.6004, 2.3453, 2.3453, 2.3453, 2.3453, 2.3446, 2.3444, 2.3439, 1.9709, 1.6537, 1.5914, 1.4279, 0.8787, 0.6801, 0.2615, -0.1547, -0.3018, -0.3018, -0.3018, -0.348, -0.348, -0.348, -0.348, -0.3578, -0.3578, -0.3578, -0.3578, -0.3578, -2.883, -1.8236, -2.3867, -0.9369, -2.6507, -1.6604, -1.0653, -0.9387, -2.0343, -0.9387, -0.9207, -1.7308, 2.5324, 2.5324, 2.5324, 2.5324, 1.9058, 1.7889, 1.7719, 1.752, 1.6008, 1.5863, 1.5641, 1.315, 1.2089, 0.8593, 0.5612, 0.289, 0.065, -0.1347, -0.1347, -0.1347, -0.1809, -0.1809, -0.1809, -0.1809, -0.1907, -0.1907, -0.1907, -0.1907, -0.1907, -0.2477, -0.3776, -1.6565, -1.772, -0.7698, -1.4933, -0.8982, -0.7717, -1.8673, -0.7717, -0.7536, -1.9246, -0.7361, 2.7553, 2.7553, 2.7553, 2.7553, 2.7553, 2.2643, 2.066, 2.066, 1.9954, 1.6976, 1.4527, 1.4178, 1.2612, 1.0214, 0.4624, 0.0387, 0.0387, 0.0387, -0.0075, -0.0075, -0.0075, -0.0075, -0.0667, -0.0667, -0.0667, -0.0667, -0.0865, -0.0866, -0.0866, -0.0867, -0.4718, -3.6424, -2.5424, -1.4831, -2.0462, -0.5964, -0.7247, -0.5982, -1.6938, -0.5982, -0.5801, -1.3902, -1.035, -0.5626, -0.1321, 2.7976, 2.7976, 2.7976, 2.7976, 2.7374, 2.331, 2.3216, 2.1423, 1.77, 1.0538, 0.0712, 0.0712, 0.0712, 0.0152, 0.0152, 0.0152, 0.0152, 0.0152, -0.0343, -0.0343, -0.0343, -0.0343, -0.0476, -0.0541, -0.0541, -0.0542, -0.0543, -0.0543, -0.0543, -0.0543, -0.8374, -0.1327, -2.2777, -2.51, -1.4506, -1.479, -2.0137, -0.5639, -0.5658, -1.6614, -0.5658, -0.5477, -1.3578, -0.5302, -0.0996, -0.0996, -0.0996, -0.5277, -0.0996, 2.9813, 2.9813, 2.9813, 2.4681, 2.236, 2.236, 1.5523, 1.2027, 1.0811, 0.8964, 0.1625, 0.1625, 0.1625, 0.1625, 0.1527, 0.1527, 0.1527, 0.1527, 0.1527, 0.1087, 0.1032, 0.1032, 0.1032, 0.1032, 0.1003, 0.0972, 0.0833, 0.0833, 0.0833, 0.0833, -0.6989, -0.9625, -1.1885, -0.5893, -0.8163, -1.3671, -1.5686, -2.1402, -2.3725, -0.4264, -1.1499, -0.5548, -0.4282, -1.5238, -0.4282, -0.4101, -0.8651, 3.3883, 2.5875, 2.5581, 2.5581, 2.0227, 2.0179, 0.4785, 0.2871, 0.2871, 0.2871, 0.2409, 0.2409, 0.2409, 0.2409, 0.2311, 0.2311, 0.2311, 0.2311, 0.2311, 0.1816, 0.1816, 0.1816, 0.1816, 0.1619, 0.1618, 0.1618, 0.1617, 0.1617, 0.1617, 0.1617, -0.6214, -0.8848, -1.2347, -1.7978, -0.348, -2.0618, -1.0715, -0.4764, -0.3498, -1.4454, -0.3498, -0.3317, -1.1419, -0.7866, -1.5028, -0.3143, 0.1163, 0.1163, 0.1163, -0.3118, 0.1163, -0.863, -0.3003]}, \"token.table\": {\"Topic\": [2, 14, 1, 9, 7, 11, 6, 3, 14, 1, 9, 11, 5, 6, 1, 3, 5, 7, 11, 14, 15, 1, 2, 4, 12, 12, 6, 12, 14, 12, 3, 1, 2, 4, 9, 9, 9, 6, 6, 15, 1, 2, 1, 8, 2, 6, 10, 15, 7, 13, 2, 10, 4, 9, 3, 13, 1, 7, 11, 15, 7, 4, 7, 1, 1, 3, 5, 6, 4, 1, 9, 2, 10, 2, 3, 4, 7, 2, 4, 8, 2, 5, 7, 4, 6, 12, 13, 1, 2, 5, 1, 2, 3, 4, 5, 6, 7, 8, 9, 10, 11, 13, 14, 15, 2, 3, 7, 9, 2, 8, 1, 2, 6, 11, 8, 11, 5, 8, 9, 2, 15, 10, 8, 4, 5, 2, 9, 3, 6, 3, 6, 11, 4, 5, 7, 11, 12, 1, 8, 3, 2, 7, 1, 1, 6, 6, 6, 2, 1, 2, 3, 11, 14, 13, 8, 2, 11, 13, 1, 5, 8, 8, 4, 8, 4, 4, 13, 6, 9, 3, 6, 10, 2, 5, 10, 6, 13, 1, 3, 11, 1, 4, 11, 4, 7, 2, 4, 2, 3, 4, 5, 5, 1, 2, 3, 7, 4, 5, 8, 2, 14, 3, 3, 4, 5, 6, 7, 9, 11, 14, 3, 4, 8, 4, 2, 2, 3, 7, 1, 8, 3, 5, 4, 10, 1, 6, 4, 5, 1, 3, 5, 6, 8, 9, 10, 12, 7, 2, 4, 7, 9, 14, 1, 2, 3, 4, 5, 6, 7, 8, 9, 10, 11, 12, 13, 14, 15, 4, 9, 2, 5, 6, 6, 12, 14, 8, 8, 2, 2, 1, 1, 6, 1, 6, 8, 4, 3, 9, 5, 12, 9, 6, 3, 10, 12, 6, 7, 4, 5, 9, 7, 7, 9, 10, 2, 15, 7, 3, 4, 4, 10, 5, 3, 5, 7, 2, 5, 6, 8, 2, 3, 4, 5, 6, 7, 8, 11, 12, 8, 1, 3, 10, 10, 5, 14, 1, 2, 3, 1, 6, 1, 3, 1, 4, 1, 2, 12, 1, 1, 12, 9, 3, 6, 1, 2, 6, 8, 2, 4, 1, 2, 6, 6, 2, 3, 11, 1, 3, 4, 5, 6, 8, 1, 1, 1, 2, 3, 4, 5, 6, 7, 8, 11, 15, 8, 1, 2, 6, 10, 12, 5, 1, 8, 1, 4, 1, 1, 10, 9, 8, 2, 9, 11, 3, 1, 1, 2, 6, 9, 10, 12, 13, 4, 5, 7, 13, 13, 8, 4], \"Freq\": [0.49738008200978767, 0.49738008200978767, 0.6634773707698423, 0.7181887560005163, 0.6945873334265444, 0.7477221753777489, 0.6947705960104734, 0.682937348251767, 0.830894767758979, 0.6634773707698423, 0.5805814731202835, 0.29029073656014176, 0.9026530474473057, 0.694770635704688, 0.30989308726827147, 0.10329769575609049, 0.20659539151218098, 0.20659539151218098, 0.10329769575609049, 0.10329769575609049, 0.598224655678088, 0.2728194904487508, 0.2728194904487508, 0.2728194904487508, 0.2728194904487508, 0.7856443598089359, 0.3943443622721343, 0.3943443622721343, 0.3943443622721343, 0.785644317095825, 0.682937348251767, 0.3232393897621806, 0.1616196948810903, 0.3232393897621806, 0.1616196948810903, 0.7181887560005163, 0.7181887560005163, 0.6947705960104734, 0.5181834815170664, 0.5181834815170664, 0.6634774088842222, 0.6680344081566177, 0.4454393310084335, 0.4454393310084335, 0.2931588563065046, 0.2931588563065046, 0.2931588563065046, 0.2931588563065046, 0.6945873334265444, 0.7933856854339352, 0.6680344081566177, 0.7330285253727008, 0.46281928224227714, 0.46281928224227714, 0.682937348251767, 0.7933856854339352, 0.2945532568328577, 0.2945532568328577, 0.2945532568328577, 0.2945532568328577, 0.6945873334265444, 0.33702214947705267, 0.33702214947705267, 0.6634774088842222, 0.6634774088842222, 0.682937348251767, 0.688324432531951, 0.694770635704688, 0.6857794298153188, 0.6634774088842222, 0.7181887560005163, 0.6680344081566177, 0.4903114952127859, 0.6680344081566177, 0.33530829588698946, 0.33530829588698946, 0.33530829588698946, 0.6680344081566177, 0.45538188225996695, 0.45538188225996695, 0.26586886149421135, 0.26586886149421135, 0.26586886149421135, 0.21355434852185387, 0.42710869704370774, 0.21355434852185387, 0.21355434852185387, 0.2604167805895551, 0.2604167805895551, 0.5208335611791102, 0.2930700007968452, 0.1465350003984226, 0.10466785742744472, 0.041867142970977884, 0.10466785742744472, 0.020933571485488942, 0.08373428594195577, 0.041867142970977884, 0.06280071445646683, 0.041867142970977884, 0.020933571485488942, 0.020933571485488942, 0.020933571485488942, 0.020933571485488942, 0.44028110847893664, 0.44028110847893664, 0.6945873334265444, 0.7181887560005163, 0.44748872251537597, 0.44748872251537597, 0.22133080711923983, 0.44266161423847966, 0.22133080711923983, 0.22133080711923983, 0.7110040363938411, 0.35550201819692057, 0.688324432531951, 0.46944920389939315, 0.46944920389939315, 0.5031640662671315, 0.5031640662671315, 0.7330105591503976, 0.7004370355485787, 0.45023094469325564, 0.45023094469325564, 0.4546684950552674, 0.4546684950552674, 0.682937348251767, 0.694770635704688, 0.34950973845009264, 0.34950973845009264, 0.34950973845009264, 0.20623858203888643, 0.20623858203888643, 0.20623858203888643, 0.20623858203888643, 0.20623858203888643, 0.6634774088842222, 0.7004370355485787, 0.682937348251767, 0.445093925695922, 0.445093925695922, 0.6634774088842222, 0.6634774088842222, 0.694770635704688, 0.6947705960104734, 0.6947705960104734, 0.6680344081566177, 0.19904446253871957, 0.19904446253871957, 0.39808892507743915, 0.19904446253871957, 0.19904446253871957, 0.7933856854339352, 0.7004370355485787, 0.5678710313231738, 0.2839355156615869, 0.2839355156615869, 0.6634774088842222, 0.45650270661951786, 0.45650270661951786, 0.7004370355485787, 0.685779384007933, 0.7004370355485787, 0.685779384007933, 0.492926509787622, 0.492926509787622, 0.46689707008528536, 0.46689707008528536, 0.45173824622714215, 0.45173824622714215, 0.49031149644835914, 0.6680344081566177, 0.688324432531951, 0.7329303611388873, 0.4975547413330615, 0.4975547413330615, 0.6634774088842222, 0.8934113909288847, 0.7477221753777489, 0.43946590852917267, 0.43946590852917267, 0.7477221753777489, 0.45290207544174, 0.45290207544174, 0.44146057665098326, 0.44146057665098326, 0.2190422095393718, 0.2190422095393718, 0.2190422095393718, 0.4380844190787436, 0.688324432531951, 0.21679250057752156, 0.21679250057752156, 0.4335850011550431, 0.21679250057752156, 0.22424048067192615, 0.4484809613438523, 0.4484809613438523, 0.6680344081566177, 0.830894767758979, 0.682937348251767, 0.14032201075186915, 0.2806440215037383, 0.14032201075186915, 0.14032201075186915, 0.14032201075186915, 0.14032201075186915, 0.14032201075186915, 0.14032201075186915, 0.38090182688793894, 0.38090182688793894, 0.38090182688793894, 0.6857794298153188, 0.6680344081566177, 0.2650612698581154, 0.2650612698581154, 0.2650612698581154, 0.6634774088842222, 0.7004370355485787, 0.4490042118171518, 0.4490042118171518, 0.68973464469498, 0.34486732234749, 0.443140923243441, 0.443140923243441, 0.6857794298153188, 0.688324432531951, 0.16925062927623075, 0.16925062927623075, 0.16925062927623075, 0.16925062927623075, 0.16925062927623075, 0.16925062927623075, 0.16925062927623075, 0.785644317095825, 0.6945874116493853, 0.1242544066742534, 0.4970176266970136, 0.2485088133485068, 0.1242544066742534, 0.1242544066742534, 0.2895514769214282, 0.11260335213611097, 0.0965171589738094, 0.03217238632460313, 0.0965171589738094, 0.0482585794869047, 0.0482585794869047, 0.06434477264920627, 0.03217238632460313, 0.06434477264920627, 0.03217238632460313, 0.016086193162301567, 0.03217238632460313, 0.016086193162301567, 0.016086193162301567, 0.46281928224227714, 0.46281928224227714, 0.6680344081566177, 0.688324432531951, 0.694770635704688, 0.39434434948434166, 0.39434434948434166, 0.39434434948434166, 0.7004370355485787, 0.7004369964221874, 0.6680344081566177, 0.6680344081566177, 0.6634774088842222, 0.6634773707698423, 0.6947705960104734, 0.333958627803633, 0.333958627803633, 0.333958627803633, 0.6857794298153188, 0.682937348251767, 0.7181887560005163, 0.688324432531951, 0.785644317095825, 0.7181887560005163, 0.694770635704688, 0.36744918686666433, 0.36744918686666433, 0.36744918686666433, 0.4568062455017335, 0.4568062455017335, 0.6857794298153188, 0.688324432531951, 0.7181887883117954, 0.6945873334265444, 0.6945873334265444, 0.47735719630321594, 0.7329303611388873, 0.5031640662671315, 0.5031640662671315, 0.6945874116493853, 0.682937348251767, 0.6857794298153188, 0.6857794298153188, 0.7329303611388873, 0.688324432531951, 0.682937348251767, 0.3384965603357037, 0.3384965603357037, 0.3761598059937891, 0.3761598059937891, 0.18807990299689456, 0.18807990299689456, 0.07933045951852132, 0.15866091903704263, 0.15866091903704263, 0.15866091903704263, 0.07933045951852132, 0.15866091903704263, 0.15866091903704263, 0.07933045951852132, 0.07933045951852132, 0.7004369964221874, 0.6634774088842222, 0.682937348251767, 0.7330779243249733, 0.7329303611388873, 0.688324432531951, 0.830894767758979, 0.4321103718841286, 0.4321103718841286, 0.682937348251767, 0.443140923243441, 0.443140923243441, 0.4382970515356283, 0.4382970515356283, 0.6634773707698423, 0.685779384007933, 0.6634774088842222, 0.48080307563702335, 0.48080307563702335, 0.6634774088842222, 0.6634774088842222, 0.785644317095825, 0.7181887560005163, 0.45173824622714215, 0.45173824622714215, 0.26306125961081867, 0.26306125961081867, 0.26306125961081867, 0.26306125961081867, 0.4414605956333561, 0.4414605956333561, 0.5441853632236598, 0.18139512107455327, 0.18139512107455327, 0.694770635704688, 0.34261177657250985, 0.34261177657250985, 0.34261177657250985, 0.1469304817600284, 0.1469304817600284, 0.2938609635200568, 0.1469304817600284, 0.1469304817600284, 0.2938609635200568, 0.6634774088842222, 0.6634773707698423, 0.2515475817031019, 0.12577379085155094, 0.12577379085155094, 0.06288689542577547, 0.06288689542577547, 0.12577379085155094, 0.12577379085155094, 0.06288689542577547, 0.06288689542577547, 0.06288689542577547, 0.9235980027364449, 0.17633000203853927, 0.17633000203853927, 0.17633000203853927, 0.35266000407707854, 0.17633000203853927, 0.688324432531951, 0.6634774088842222, 0.7004370355485787, 0.43946590852917267, 0.43946590852917267, 0.6634773707698423, 0.6634774088842222, 0.49031149644835914, 0.7181887560005163, 0.7004370355485787, 0.45466850800517483, 0.45466850800517483, 0.7477221753777489, 0.682937348251767, 0.6634774088842222, 0.13873671616186947, 0.27747343232373894, 0.13873671616186947, 0.13873671616186947, 0.13873671616186947, 0.13873671616186947, 0.13873671616186947, 0.6857794298153188, 0.688324432531951, 0.3872342020458315, 0.3872342020458315, 0.7933856854339352, 0.7004370355485787, 0.6857794298153188], \"Term\": [\"academic\", \"academic\", \"accident\", \"accomplishment\", \"accuracy\", \"advance\", \"affect\", \"air\", \"alarm\", \"algorithm\", \"analysis\", \"analysis\", \"analytic\", \"antipsychotic\", \"application\", \"application\", \"application\", \"application\", \"application\", \"application\", \"apply\", \"approach\", \"approach\", \"approach\", \"approach\", \"art\", \"article\", \"article\", \"article\", \"aspect\", \"bank\", \"base\", \"base\", \"base\", \"base\", \"behaviour\", \"biology\", \"biomedicine\", \"breast\", \"breast\", \"brief\", \"build\", \"business\", \"business\", \"cancer\", \"cancer\", \"cancer\", \"cancer\", \"card\", \"care\", \"case\", \"cervical\", \"challenge\", \"challenge\", \"city\", \"claim\", \"classification\", \"classification\", \"classification\", \"classification\", \"client\", \"clinical\", \"clinical\", \"collaboration\", \"communication\", \"company\", \"compare\", \"comparison\", \"condition\", \"connection\", \"consumer\", \"copyright\", \"corpus\", \"course\", \"credit\", \"credit\", \"credit\", \"curation\", \"current\", \"current\", \"customer\", \"customer\", \"customer\", \"data\", \"data\", \"data\", \"data\", \"database\", \"database\", \"database\", \"datum\", \"datum\", \"datum\", \"datum\", \"datum\", \"datum\", \"datum\", \"datum\", \"datum\", \"datum\", \"datum\", \"datum\", \"datum\", \"datum\", \"decade\", \"decade\", \"default\", \"demand\", \"detect\", \"detect\", \"detection\", \"detection\", \"detection\", \"detection\", \"diabete\", \"diabete\", \"diabetes\", \"diagnose\", \"diagnose\", \"diagnosis\", \"diagnosis\", \"different\", \"diffusion\", \"discovery\", \"discovery\", \"disease\", \"disease\", \"distress\", \"drug\", \"education\", \"education\", \"education\", \"educational\", \"educational\", \"educational\", \"educational\", \"educational\", \"emerge\", \"empirical\", \"epidemiology\", \"evaluation\", \"evaluation\", \"evidence\", \"evolve\", \"extract\", \"factor\", \"fake\", \"fall\", \"financial\", \"financial\", \"financial\", \"financial\", \"financial\", \"find\", \"forecast\", \"fraud\", \"fraud\", \"fraud\", \"fraudulent\", \"future\", \"future\", \"generation\", \"geographic\", \"global\", \"guideline\", \"health\", \"health\", \"heart\", \"heart\", \"high\", \"high\", \"identification\", \"impact\", \"improve\", \"improvement\", \"information\", \"information\", \"insight\", \"institution\", \"intelligent\", \"internet\", \"internet\", \"intervention\", \"introduction\", \"introduction\", \"issue\", \"issue\", \"knowledge\", \"knowledge\", \"knowledge\", \"knowledge\", \"large\", \"learn\", \"learn\", \"learn\", \"learn\", \"learning\", \"learning\", \"learning\", \"lesson\", \"library\", \"list\", \"literature\", \"literature\", \"literature\", \"literature\", \"literature\", \"literature\", \"literature\", \"literature\", \"machine\", \"machine\", \"machine\", \"maintenance\", \"malware\", \"management\", \"management\", \"management\", \"manufacturing\", \"marketing\", \"medical\", \"medical\", \"medicine\", \"medicine\", \"medium\", \"medium\", \"mental\", \"metacognition\", \"method\", \"method\", \"method\", \"method\", \"method\", \"method\", \"method\", \"methodological\", \"microarray\", \"mine\", \"mine\", \"mine\", \"mine\", \"mine\", \"mining\", \"mining\", \"mining\", \"mining\", \"mining\", \"mining\", \"mining\", \"mining\", \"mining\", \"mining\", \"mining\", \"mining\", \"mining\", \"mining\", \"mining\", \"model\", \"model\", \"moodle\", \"motivation\", \"muscle\", \"news\", \"news\", \"news\", \"next\", \"novel\", \"nursing\", \"opportunity\", \"overview\", \"particle\", \"performance\", \"perspective\", \"perspective\", \"perspective\", \"physicochemical\", \"pollution\", \"post\", \"potential\", \"practical\", \"pre\", \"predict\", \"prediction\", \"prediction\", \"prediction\", \"predictive\", \"predictive\", \"preference\", \"preprocesse\", \"primer\", \"probability\", \"process\", \"processing\", \"product\", \"prognosis\", \"prognosis\", \"programming\", \"promote\", \"property\", \"publish\", \"quality\", \"regulate\", \"relate\", \"relationship\", \"relationship\", \"research\", \"research\", \"research\", \"research\", \"review\", \"review\", \"review\", \"review\", \"review\", \"review\", \"review\", \"review\", \"review\", \"role\", \"s\", \"score\", \"screening\", \"select\", \"self\", \"semantic\", \"service\", \"service\", \"smart\", \"social\", \"social\", \"solution\", \"solution\", \"spanish\", \"spatial\", \"standard\", \"state\", \"state\", \"statement\", \"statistic\", \"stock\", \"structure\", \"student\", \"student\", \"study\", \"study\", \"study\", \"study\", \"support\", \"support\", \"survey\", \"survey\", \"survey\", \"survivability\", \"system\", \"system\", \"system\", \"systematic\", \"systematic\", \"systematic\", \"systematic\", \"systematic\", \"systematic\", \"target\", \"task\", \"technique\", \"technique\", \"technique\", \"technique\", \"technique\", \"technique\", \"technique\", \"technique\", \"technique\", \"technique\", \"technology\", \"text\", \"text\", \"text\", \"text\", \"text\", \"theoretical\", \"theory\", \"thermoelectric\", \"thing\", \"thing\", \"tool\", \"top\", \"topic\", \"tourism\", \"trend\", \"tutorial\", \"tutorial\", \"type\", \"uniqueness\", \"untangle\", \"use\", \"use\", \"use\", \"use\", \"use\", \"use\", \"use\", \"vector\", \"vision\", \"visual\", \"visual\", \"visualization\", \"way\", \"wine\"]}, \"R\": 30, \"lambda.step\": 0.01, \"plot.opts\": {\"xlab\": \"PC1\", \"ylab\": \"PC2\"}, \"topic.order\": [11, 8, 3, 13, 14, 4, 7, 9, 10, 1, 2, 12, 15, 5, 6]};\n",
              "\n",
              "function LDAvis_load_lib(url, callback){\n",
              "  var s = document.createElement('script');\n",
              "  s.src = url;\n",
              "  s.async = true;\n",
              "  s.onreadystatechange = s.onload = callback;\n",
              "  s.onerror = function(){console.warn(\"failed to load library \" + url);};\n",
              "  document.getElementsByTagName(\"head\")[0].appendChild(s);\n",
              "}\n",
              "\n",
              "if(typeof(LDAvis) !== \"undefined\"){\n",
              "   // already loaded: just create the visualization\n",
              "   !function(LDAvis){\n",
              "       new LDAvis(\"#\" + \"ldavis_el571404332719687208324588614\", ldavis_el571404332719687208324588614_data);\n",
              "   }(LDAvis);\n",
              "}else if(typeof define === \"function\" && define.amd){\n",
              "   // require.js is available: use it to load d3/LDAvis\n",
              "   require.config({paths: {d3: \"https://d3js.org/d3.v5\"}});\n",
              "   require([\"d3\"], function(d3){\n",
              "      window.d3 = d3;\n",
              "      LDAvis_load_lib(\"https://cdn.jsdelivr.net/gh/bmabey/pyLDAvis@3.2.2/pyLDAvis/js/ldavis.v3.0.0.js\", function(){\n",
              "        new LDAvis(\"#\" + \"ldavis_el571404332719687208324588614\", ldavis_el571404332719687208324588614_data);\n",
              "      });\n",
              "    });\n",
              "}else{\n",
              "    // require.js not available: dynamically load d3 & LDAvis\n",
              "    LDAvis_load_lib(\"https://d3js.org/d3.v5.js\", function(){\n",
              "         LDAvis_load_lib(\"https://cdn.jsdelivr.net/gh/bmabey/pyLDAvis@3.2.2/pyLDAvis/js/ldavis.v3.0.0.js\", function(){\n",
              "                 new LDAvis(\"#\" + \"ldavis_el571404332719687208324588614\", ldavis_el571404332719687208324588614_data);\n",
              "            })\n",
              "         });\n",
              "}\n",
              "</script>"
            ],
            "text/plain": [
              "PreparedData(topic_coordinates=              x         y  topics  cluster       Freq\n",
              "topic                                                \n",
              "10     0.079894  0.136623       1        1  15.546596\n",
              "7      0.027631  0.079665       2        1  11.319170\n",
              "2      0.093502  0.005478       3        1   8.979786\n",
              "12     0.027761 -0.178505       4        1   8.744507\n",
              "13     0.107052 -0.001777       5        1   8.411851\n",
              "3     -0.090683  0.035773       6        1   7.382663\n",
              "6      0.099595 -0.049004       7        1   7.278109\n",
              "8      0.045494 -0.012973       8        1   7.159791\n",
              "9     -0.038875 -0.017812       9        1   5.624004\n",
              "0     -0.076249  0.085997      10        1   5.052304\n",
              "1      0.025944 -0.009372      11        1   4.103813\n",
              "11    -0.134402 -0.037776      12        1   3.106333\n",
              "14    -0.090788  0.001495      13        1   2.943059\n",
              "4     -0.037340 -0.049321      14        1   2.309114\n",
              "5     -0.038536  0.011510      15        1   2.038900, topic_info=           Term    Freq     Total Category  logprob  loglift\n",
              "29         mine  8.0000  8.000000  Default  30.0000  30.0000\n",
              "0   application  9.0000  9.000000  Default  29.0000  29.0000\n",
              "6          data  4.0000  4.000000  Default  28.0000  28.0000\n",
              "38         text  5.0000  5.000000  Default  27.0000  27.0000\n",
              "15          use  7.0000  7.000000  Default  26.0000  26.0000\n",
              "..          ...     ...       ...      ...      ...      ...\n",
              "19     forecast  0.0327  1.427680  Topic15  -5.9212   0.1163\n",
              "20       future  0.0327  2.190568  Topic15  -5.9212  -0.3118\n",
              "21       global  0.0327  1.427680  Topic15  -5.9212   0.1163\n",
              "22        study  0.0327  3.801396  Topic15  -5.9212  -0.8630\n",
              "23   technology  0.0327  2.165444  Topic15  -5.9212  -0.3003\n",
              "\n",
              "[641 rows x 6 columns], token_table=      Topic      Freq            Term\n",
              "term                                 \n",
              "73        2  0.497380        academic\n",
              "73       14  0.497380        academic\n",
              "209       1  0.663477        accident\n",
              "100       9  0.718189  accomplishment\n",
              "139       7  0.694587        accuracy\n",
              "...     ...       ...             ...\n",
              "7         7  0.387234          visual\n",
              "7        13  0.387234          visual\n",
              "222      13  0.793386   visualization\n",
              "177       8  0.700437             way\n",
              "193       4  0.685779            wine\n",
              "\n",
              "[409 rows x 3 columns], R=30, lambda_step=0.01, plot_opts={'xlab': 'PC1', 'ylab': 'PC2'}, topic_order=[11, 8, 3, 13, 14, 4, 7, 9, 10, 1, 2, 12, 15, 5, 6])"
            ]
          },
          "metadata": {
            "tags": []
          },
          "execution_count": 231
        }
      ]
    },
    {
      "cell_type": "markdown",
      "metadata": {
        "id": "LCKl0a1i7i31"
      },
      "source": [
        "Summary: the bubbles which represent the topics have different sizes and the size of the bubble shows how common the topic is through out the text data. Larger bubble is more widespread than the smaller bubble. \n",
        "Usually the best k value is the k that provides the lower perplexity and higher coherence values.In this case by increasing the number of topics k from 15 to 30 and then to 99 the perplexity value decreased and the coherence value increase, which from one side of view means that increasing k is better; however, by increasing k the complexity of the scatter plots become more  and it shows more overlapping. Even with the k of 99 the system is not able to create the scatterplot. So, by testing different k I think the k of 15 or around this number would be the optimal k values for this model. \n",
        "In addition, the scatter plotand the results of the 'test the LDA model and view the topics' show that the topics such as 'mining', 'datum', 'technique' has the higher frequency amoung chosen topics than the others. \n",
        "The respective values of the preplexity and coherence for: \n",
        "k=30: -6.0812...     0.4391...\n",
        "k=60:  -6.0544...     0.4973...\n",
        "k=99:  -6.9005...     0.5212...\n",
        "\n",
        "Here are the topics with the frequency of their terms:\n",
        "[(0,\n",
        "  '0.135*\"mining\" + 0.068*\"datum\" + 0.068*\"text\" + 0.046*\"identification\" + '\n",
        "  '0.046*\"corpus\" + 0.046*\"topic\" + 0.024*\"quality\" + 0.024*\"medicine\" + '\n",
        "  '0.024*\"improvement\" + 0.024*\"product\"'),\n",
        " (1,\n",
        "  '0.081*\"mining\" + 0.055*\"datum\" + 0.055*\"educational\" + 0.028*\"application\" '\n",
        "  '+ 0.028*\"technique\" + 0.028*\"system\" + 0.028*\"intervention\" + 0.028*\"type\" '\n",
        "  '+ 0.028*\"education\" + 0.028*\"diabete\"'),\n",
        " (2,\n",
        "  '0.103*\"mining\" + 0.089*\"datum\" + 0.044*\"review\" + 0.031*\"technique\" + '\n",
        "  '0.030*\"machine\" + 0.030*\"institution\" + 0.030*\"financial\" + 0.030*\"learn\" + '\n",
        "  '0.016*\"management\" + 0.015*\"education\"'),\n",
        " (3,\n",
        "  '0.069*\"mining\" + 0.035*\"data\" + 0.035*\"technique\" + 0.018*\"text\" + '\n",
        "  '0.018*\"factor\" + 0.018*\"news\" + 0.018*\"literature\" + 0.018*\"affect\" + '\n",
        "  '0.018*\"student\" + 0.018*\"education\"'),\n",
        " (4,\n",
        "  '0.040*\"datum\" + 0.040*\"mining\" + 0.040*\"mine\" + 0.040*\"financial\" + '\n",
        "  '0.040*\"library\" + 0.040*\"article\" + 0.040*\"academic\" + 0.040*\"literature\" + '\n",
        "  '0.040*\"alarm\" + 0.040*\"semantic\"'),\n",
        " (5,\n",
        "  '0.083*\"apply\" + 0.043*\"breast\" + 0.043*\"diagnosis\" + 0.043*\"cancer\" + '\n",
        "  '0.043*\"prognosis\" + 0.043*\"classification\" + 0.043*\"technique\" + '\n",
        "  '0.043*\"datum\" + 0.043*\"mining\" + 0.003*\"survey\"'),\n",
        " (6,\n",
        "  '0.103*\"datum\" + 0.069*\"mining\" + 0.052*\"technique\" + 0.040*\"mine\" + '\n",
        "  '0.036*\"review\" + 0.035*\"application\" + 0.034*\"management\" + '\n",
        "  '0.034*\"relationship\" + 0.034*\"customer\" + 0.026*\"clinical\"'),\n",
        " (7,\n",
        "  '0.108*\"mining\" + 0.108*\"datum\" + 0.037*\"use\" + 0.037*\"technique\" + '\n",
        "  '0.025*\"research\" + 0.025*\"fraud\" + 0.025*\"detection\" + 0.013*\"nursing\" + '\n",
        "  '0.013*\"text\" + 0.013*\"build\"'),\n",
        " (8,\n",
        "  '0.105*\"mining\" + 0.053*\"datum\" + 0.036*\"diabete\" + 0.036*\"learning\" + '\n",
        "  '0.036*\"review\" + 0.036*\"technology\" + 0.036*\"machine\" + 0.036*\"systematic\" '\n",
        "  '+ 0.018*\"role\" + 0.018*\"novel\"'),\n",
        " (9,\n",
        "  '0.085*\"datum\" + 0.064*\"mining\" + 0.064*\"analysis\" + 0.043*\"processing\" + '\n",
        "  '0.022*\"heart\" + 0.022*\"biology\" + 0.022*\"accomplishment\" + 0.022*\"mine\" + '\n",
        "  '0.022*\"pre\" + 0.022*\"post\"'),\n",
        " (10,\n",
        "  '0.194*\"mining\" + 0.150*\"datum\" + 0.044*\"technique\" + 0.036*\"application\" + '\n",
        "  '0.036*\"survey\" + 0.027*\"base\" + 0.009*\"use\" + 0.009*\"systematic\" + '\n",
        "  '0.009*\"method\" + 0.009*\"text\"'),\n",
        " (11,\n",
        "  '0.065*\"mining\" + 0.033*\"aspect\" + 0.033*\"data\" + 0.033*\"article\" + '\n",
        "  '0.033*\"news\" + 0.033*\"stock\" + 0.033*\"prediction\" + 0.033*\"practical\" + '\n",
        "  '0.033*\"methodological\" + 0.033*\"use\"'),\n",
        " (12,\n",
        "  '0.070*\"mine\" + 0.045*\"review\" + 0.045*\"mining\" + 0.030*\"systematic\" + '\n",
        "  '0.030*\"machine\" + 0.030*\"literature\" + 0.030*\"base\" + 0.030*\"datum\" + '\n",
        "  '0.030*\"medicine\" + 0.024*\"clinical\"'),\n",
        " (13,\n",
        "  '0.123*\"mining\" + 0.092*\"datum\" + 0.047*\"application\" + 0.031*\"learning\" + '\n",
        "  '0.031*\"knowledge\" + 0.031*\"analytic\" + 0.031*\"research\" + 0.031*\"review\" + '\n",
        "  '0.031*\"database\" + 0.016*\"preprocesse\"'),\n",
        " (14,\n",
        "  '0.099*\"mining\" + 0.067*\"data\" + 0.067*\"visual\" + 0.035*\"fraud\" + '\n",
        "  '0.035*\"claim\" + 0.035*\"care\" + 0.035*\"visualization\" + 0.035*\"health\" + '\n",
        "  '0.035*\"information\" + 0.035*\"find\"')]\n"
      ]
    },
    {
      "cell_type": "code",
      "metadata": {
        "id": "zFme2U6mnozE",
        "colab": {
          "base_uri": "https://localhost:8080/"
        },
        "outputId": "06cc64ad-bbdc-4305-ef87-213b909616c3"
      },
      "source": [
        "#Compute c_v coherence for various number of topics\n",
        "#Parameters:\n",
        "#dictionary : Gensim dictionary\n",
        "#corpus : Gensim corpus\n",
        "#texts : List of input texts\n",
        "#limit : Max num of topics\n",
        "#Returns:\n",
        "#model_list : List of LDA topic models\n",
        "#coherence_values : Coherence values corresponding to the LDA model with respective number of topics\n",
        "from gensim.models.ldamodel import LdaModel\n",
        "def compute_coherence_values(dic1, corpus, texts, limit, start=2, step=3):    \n",
        "    coherence_values = []\n",
        "    model_list = []\n",
        "    for num_topics in range(start, limit, step):\n",
        "        model=LdaModel(corpus=corpus, id2word=dic1, num_topics=15)\n",
        "        model_list.append(model)\n",
        "        coherencemodel = CoherenceModel(model=articles_lda, texts=articles_lemma, dictionary=dic1, coherence='c_v')\n",
        "        coherence_values.append(coherencemodel.get_coherence())\n",
        "\n",
        "    return model_list, coherence_values\n",
        "print(coherence_values[:1])"
      ],
      "execution_count": 235,
      "outputs": [
        {
          "output_type": "stream",
          "text": [
            "[0.43911896357228297]\n"
          ],
          "name": "stdout"
        }
      ]
    },
    {
      "cell_type": "code",
      "metadata": {
        "colab": {
          "base_uri": "https://localhost:8080/",
          "height": 279
        },
        "id": "zrO_vGH7novq",
        "outputId": "6f628f93-8f61-415e-d00e-f6a799be64d7"
      },
      "source": [
        "import matplotlib.pyplot as plt\n",
        "#model_list, coherence_values = compute_coherence_values(dic1=dic1, corpus=corpus, texts=articles_lemma, start=2, stop=12, step=1)\n",
        "#stop=12; start=2; step=6;\n",
        "#x = range(start, stop, step)\n",
        "#plt.plot(x, coherence_values)\n",
        "#plt.xlabel(\"Num Topics\")\n",
        "#plt.ylabel(\"Coherence score\")\n",
        "#plt.legend((\"coherence_values\"), loc='best')\n",
        "#plt.show()\n",
        "\n",
        "def plot_graph(doc_clean,start, limit, step):\n",
        "    dic1,corpus=prepare_corpus(articles_lemma)\n",
        "    model_list, coherence_values = compute_coherence_values(dic1, corpus,articles_lemma, limit, start, step)\n",
        "    x = range(start, stop, step)\n",
        "    plt.plot(x, coherence_values)\n",
        "    plt.xlabel(\"Number of Topics\")\n",
        "    plt.ylabel(\"Coherence score\")\n",
        "    plt.legend((\"coherence_values\"), loc='best')\n",
        "    plt.show()\n",
        "\n",
        "\n",
        "start,limit,step=2,12,6\n",
        "plot_graph(articles_lemma,start,limit,step)\n",
        "\n",
        "\n"
      ],
      "execution_count": 236,
      "outputs": [
        {
          "output_type": "display_data",
          "data": {
            "image/png": "[encoded data removed]",
            "text/plain": [
              "<Figure size 432x288 with 1 Axes>"
            ]
          },
          "metadata": {
            "tags": [],
            "needs_background": "light"
          }
        }
      ]
    },
    {
      "cell_type": "code",
      "metadata": {
        "id": "OY1ZhNtunoLt"
      },
      "source": [
        ""
      ],
      "execution_count": null,
      "outputs": []
    },
    {
      "cell_type": "markdown",
      "metadata": {
        "id": "eJosKC1sNs8f"
      },
      "source": [
        "## (2) (8 points) Generate K topics by using LSA, the number of topics K should be decided by the coherence score, then summarize what are the topics. You may refer the code here:\n",
        "\n",
        "https://www.datacamp.com/community/tutorials/discovering-hidden-topics-python"
      ]
    },
    {
      "cell_type": "code",
      "metadata": {
        "id": "9uPiigHyOt39"
      },
      "source": [
        "#import modules\n",
        "import os.path\n",
        "from gensim import corpora\n",
        "from gensim.models import LsiModel\n",
        "from nltk.tokenize import RegexpTokenizer\n",
        "from nltk.corpus import stopwords\n",
        "from nltk.stem.porter import PorterStemmer\n",
        "from gensim.models.coherencemodel import CoherenceModel\n",
        "import matplotlib.pyplot as plt"
      ],
      "execution_count": 64,
      "outputs": []
    },
    {
      "cell_type": "code",
      "metadata": {
        "id": "lexUQdMV86I6"
      },
      "source": [
        "#NLTK Stop words\n",
        "from nltk.corpus import stopwords\n",
        "stop_words= stopwords.words('english')\n",
        "stop_words.extend(['from','subject','re','edu','use'])"
      ],
      "execution_count": 65,
      "outputs": []
    },
    {
      "cell_type": "code",
      "metadata": {
        "colab": {
          "base_uri": "https://localhost:8080/",
          "height": 1000
        },
        "id": "M8DIGjjN8ejX",
        "outputId": "ec978e5c-7d42-44ef-8549-dcf78c97013c"
      },
      "source": [
        "df=pd.read_csv('/content/Article.csv', header= 0, encoding= 'unicode_escape')\n",
        "print(df.Data_Mining_Articles.unique())\n",
        "df.head(100)"
      ],
      "execution_count": 66,
      "outputs": [
        {
          "output_type": "stream",
          "text": [
            "['Data mining\\xa0techniques and applications\\x96A decade review from 2000 to 2011'\n",
            " 'Visual\\xa0data mining'\n",
            " 'Systematic survey of big\\xa0data\\xa0and\\xa0data mining\\xa0in internet of things'\n",
            " 'Detecting financial fraud using\\xa0data mining\\xa0techniques: A decade review from 2004 to 2015'\n",
            " 'Global\\xa0data mining: An empirical study of current trends, future forecasts and technology diffusions'\n",
            " 'Data-mining\\xa0technologies for diabetes: a systematic review'\n",
            " 'Target discovery from data mining approaches'\n",
            " 'Semantic data mining of financial news articles'\n",
            " 'Evolving data into mining solutions for insights'\n",
            " 'Methodological and practical aspects of\\xa0data mining'\n",
            " 'Educational\\xa0data mining: A survey from 1995 to 2005'\n",
            " 'Untangling text\\xa0data mining'\n",
            " 'Data mining\\xa0and its applications for knowledge management: a literature review from 2007 to 2012'\n",
            " 'Using text\\xa0mining\\xa0techniques for extracting information from research\\xa0articles'\n",
            " 'Data mining\\xa0techniques in social media: A survey'\n",
            " 'The state of educational\\xa0data mining\\xa0in 2009: A review and future visions'\n",
            " '\\xa0A systematic review of\\xa0data mining\\xa0and machine learning for air pollution epidemiology'\n",
            " 'From\\xa0data mining\\xa0to knowledge discovery in databases'\n",
            " 'Graph-based data mining'\n",
            " 'The application of\\xa0data mining\\xa0techniques in financial fraud detection: A classification framework and an academic review of literature'\n",
            " 'Evaluation of text\\xa0data mining\\xa0for database curation: lessons learned from the KDD Challenge Cup'\n",
            " 'Data mining\\xa0in healthcare\\x96a review'\n",
            " 'Data mining\\xa0in tourism demand analysis: A retrospective analysis'\n",
            " 'A\\xa0data mining\\xa0analysis of RTID alarms'\n",
            " 'Educational\\xa0Data Mining: A review of evaluation process in the e-learning'\n",
            " 'Data mining\\xa0and machine learning for condition-based maintenance'\n",
            " 'Topcat:\\xa0Data mining\\xa0for topic identification in a text corpus'\n",
            " 'Literature review of\\xa0data mining\\xa0applications in academic libraries'\n",
            " 'What is text\\xa0mining'\n",
            " 'Spatial\\xa0data mining\\xa0and geographic knowledge discovery\\x97An introduction'\n",
            " 'Knowledge management and\\xa0data mining\\xa0for marketing'\n",
            " 'Top 10\\xa0data mining\\xa0techniques in business applications: a brief survey'\n",
            " 'Machine learning and\\xa0data mining\\xa0methods in diabetes research'\n",
            " 'Data mining\\xa0algorithms and techniques in mental health: A systematic review'\n",
            " 'Business\\xa0data mining\\x97a machine learning perspective'\n",
            " 'Introduction to the\\xa0mining\\xa0of clinical\\xa0data'\n",
            " 'Application of\\xa0data mining\\xa0techniques in pharmacovigilance'\n",
            " 'A systematic review on healthcare analytics: application and theoretical perspective of\\xa0data mining'\n",
            " 'Data mining\\xa0classification techniques applied for breast cancer diagnosis and prognosis'\n",
            " 'Data mining: manufacturing and service applications'\n",
            " 'A comprehensive survey of\\xa0data mining-based fraud detection research'\n",
            " 'Stock trend prediction using news\\xa0articles: a text\\xa0mining\\xa0approach'\n",
            " 'Uniqueness of medical\\xa0data mining'\n",
            " 'Accomplishments and challenges in literature\\xa0data mining\\xa0for biology'\n",
            " 'Role of biological\\xa0data mining\\xa0and machine learning techniques in detecting and diagnosing the novel coronavirus (COVID-19): a systematic review'\n",
            " \"Factors affecting students' performance in higher education: a systematic review of predictive\\xa0data mining\\xa0techniques\"\n",
            " 'Emerging standards for\\xa0data mining'\n",
            " 'Cervical cancer prediction through different screening methods using\\xa0data mining'\n",
            " 'EDM: A general framework for\\xa0data mining\\xa0based on evidence theory'\n",
            " 'A preprocessing method for improving\\xa0data mining\\xa0techniques. Application to a large medical diabetes database.'\n",
            " 'TopCat:\\xa0Data mining\\xa0for topic identification in a text corpus'\n",
            " 'Learning analytics and educational\\xa0data mining: towards communication and collaboration'\n",
            " 'Educational\\xa0data mining: An advance for intelligent systems in education'\n",
            " 'Educational\\xa0data mining: A systematic review of the published literature 2006-2013'\n",
            " 'Predictive\\xa0data mining\\xa0in clinical medicine: current issues and guidelines'\n",
            " 'Data mining\\xa0techniques for customer relationship management'\n",
            " \"Is Europe falling behind in\\xa0data mining? Copyright's impact on\\xa0data mining\\xa0in academic research\"\n",
            " 'Future trends in\\xa0data mining'\n",
            " 'Applying\\xa0data mining\\xa0to telecom churn management'\n",
            " 'Feature space theory\\x97a mathematical foundation for\\xa0data mining'\n",
            " 'The comparisons of\\xa0data mining\\xa0techniques for the predictive accuracy of probability of default of credit card clients'\n",
            " 'Data mining: a tutorial-based primer'\n",
            " 'Application and exploration of big\\xa0data mining\\xa0in clinical medicine'\n",
            " 'Data mining\\xa0in healthcare and biomedicine: a survey of the literature'\n",
            " 'Analysis of pre-processing and post-processing methods and using\\xa0data mining\\xa0to diagnose heart diseases'\n",
            " 'The potentials of educational\\xa0data mining\\xa0for researching metacognition, motivation and self-regulated learning'\n",
            " 'Data mining\\xa0for improvement of product quality'\n",
            " '\\xa0A state-of-the-art survey of malware detection approaches using\\xa0data mining\\xa0techniques'\n",
            " 'Data mining\\xa0in course management systems: Moodle case study and tutorial'\n",
            " 'Using\\xa0data mining\\xa0to find fraud in HCFA health care claims.'\n",
            " 'Using\\xa0data mining\\xa0techniques for diagnosis and prognosis of cancer disease'\n",
            " 'Selected techniques for\\xa0data mining\\xa0in medicine'\n",
            " \"\\xa0Data Mining\\xa0and Statistics: What's the connection?\"\n",
            " 'Data mining\\xa0methods, applications, and tools'\n",
            " 'Data mining\\xa0our way to the next generation of thermoelectrics'\n",
            " 'Data mining\\xa0for customer service support'\n",
            " 'Data mining\\xa0and machine learning to promote smart cities: A systematic review from 2000 to 2018'\n",
            " 'Educational data mining: a review of the state of the art'\n",
            " 'Data mining\\xa0issues and opportunities for building nursing knowledge'\n",
            " 'Antipsychotic drugs and heart muscle disorder in international pharmacovigilance:\\xa0data mining\\xa0study'\n",
            " 'Modeling wine preferences by\\xa0data mining\\xa0from physicochemical properties'\n",
            " 'Fake news detection on social media: A\\xa0data mining\\xa0perspective'\n",
            " 'Data mining\\xa0for the internet of things: literature review and challenges'\n",
            " 'Credit scoring in banks and financial institutions via\\xa0data mining\\xa0techniques: A literature review'\n",
            " 'Particle swarm based\\xa0data mining\\xa0algorithms for classification tasks'\n",
            " 'Data mining\\xa0techniques for the detection of fraudulent financial statements'\n",
            " 'Outcomes of educational interventions in type 2 diabetes: WEKA\\xa0data-mining\\xa0analysis'\n",
            " 'Research trends analysis by comparing\\xa0data mining\\xa0and customer relationship management through bibliometric methodology'\n",
            " 'Educational\\xa0data mining\\xa0and learning analytics'\n",
            " 'Synergies of operations research and\\xa0data mining'\n",
            " \"Data mining\\xa0method for listed companies' financial distress prediction\"\n",
            " 'Study of Spanish\\xa0mining\\xa0accidents using\\xa0data mining\\xa0techniques'\n",
            " 'Microarray\\xa0data mining\\xa0with visual programming'\n",
            " 'Predicting breast cancer survivability: a comparison of three\\xa0data mining\\xa0methods'\n",
            " 'Student\\xa0data mining\\xa0solution\\x96knowledge management system related to higher education institutions'\n",
            " 'Data mining: an overview from a database perspective'\n",
            " 'Credit scoring with a\\xa0data mining\\xa0approach based on support vector machines'\n",
            " 'Data mining\\xa0of association structures to model consumer behaviour'\n",
            " 'Information visualization and visual\\xa0data mining'\n",
            " 'Application of\\xa0data mining\\xa0techniques in customer relationship management: A literature review and classification']\n"
          ],
          "name": "stdout"
        },
        {
          "output_type": "execute_result",
          "data": {
            "text/html": [
              "<div>\n",
              "<style scoped>\n",
              "    .dataframe tbody tr th:only-of-type {\n",
              "        vertical-align: middle;\n",
              "    }\n",
              "\n",
              "    .dataframe tbody tr th {\n",
              "        vertical-align: top;\n",
              "    }\n",
              "\n",
              "    .dataframe thead th {\n",
              "        text-align: right;\n",
              "    }\n",
              "</style>\n",
              "<table border=\"1\" class=\"dataframe\">\n",
              "  <thead>\n",
              "    <tr style=\"text-align: right;\">\n",
              "      <th></th>\n",
              "      <th>Data_Mining_Articles</th>\n",
              "    </tr>\n",
              "  </thead>\n",
              "  <tbody>\n",
              "    <tr>\n",
              "      <th>0</th>\n",
              "      <td>Data mining techniques and applicationsA deca...</td>\n",
              "    </tr>\n",
              "    <tr>\n",
              "      <th>1</th>\n",
              "      <td>Visual data mining</td>\n",
              "    </tr>\n",
              "    <tr>\n",
              "      <th>2</th>\n",
              "      <td>Systematic survey of big data and data mining ...</td>\n",
              "    </tr>\n",
              "    <tr>\n",
              "      <th>3</th>\n",
              "      <td>Detecting financial fraud using data mining te...</td>\n",
              "    </tr>\n",
              "    <tr>\n",
              "      <th>4</th>\n",
              "      <td>Global data mining: An empirical study of curr...</td>\n",
              "    </tr>\n",
              "    <tr>\n",
              "      <th>...</th>\n",
              "      <td>...</td>\n",
              "    </tr>\n",
              "    <tr>\n",
              "      <th>95</th>\n",
              "      <td>Data mining: an overview from a database persp...</td>\n",
              "    </tr>\n",
              "    <tr>\n",
              "      <th>96</th>\n",
              "      <td>Credit scoring with a data mining approach bas...</td>\n",
              "    </tr>\n",
              "    <tr>\n",
              "      <th>97</th>\n",
              "      <td>Data mining of association structures to model...</td>\n",
              "    </tr>\n",
              "    <tr>\n",
              "      <th>98</th>\n",
              "      <td>Information visualization and visual data mining</td>\n",
              "    </tr>\n",
              "    <tr>\n",
              "      <th>99</th>\n",
              "      <td>Application of data mining techniques in custo...</td>\n",
              "    </tr>\n",
              "  </tbody>\n",
              "</table>\n",
              "<p>100 rows × 1 columns</p>\n",
              "</div>"
            ],
            "text/plain": [
              "                                 Data_Mining_Articles\n",
              "0   Data mining techniques and applicationsA deca...\n",
              "1                                  Visual data mining\n",
              "2   Systematic survey of big data and data mining ...\n",
              "3   Detecting financial fraud using data mining te...\n",
              "4   Global data mining: An empirical study of curr...\n",
              "..                                                ...\n",
              "95  Data mining: an overview from a database persp...\n",
              "96  Credit scoring with a data mining approach bas...\n",
              "97  Data mining of association structures to model...\n",
              "98   Information visualization and visual data mining\n",
              "99  Application of data mining techniques in custo...\n",
              "\n",
              "[100 rows x 1 columns]"
            ]
          },
          "metadata": {
            "tags": []
          },
          "execution_count": 66
        }
      ]
    },
    {
      "cell_type": "code",
      "metadata": {
        "colab": {
          "base_uri": "https://localhost:8080/"
        },
        "id": "kqtWTqmKOHvb",
        "outputId": "4e9518e8-b685-4b79-9a03-c07b9f789923"
      },
      "source": [
        "df['Data_Mining_Articles']=df['Data_Mining_Articles'].str.lower()\n",
        "df['Data_Mining_Articles'].head(10)"
      ],
      "execution_count": 67,
      "outputs": [
        {
          "output_type": "execute_result",
          "data": {
            "text/plain": [
              "0    data mining techniques and applicationsa deca...\n",
              "1                                   visual data mining\n",
              "2    systematic survey of big data and data mining ...\n",
              "3    detecting financial fraud using data mining te...\n",
              "4    global data mining: an empirical study of curr...\n",
              "5    data-mining technologies for diabetes: a syste...\n",
              "6         target discovery from data mining approaches\n",
              "7      semantic data mining of financial news articles\n",
              "8     evolving data into mining solutions for insights\n",
              "9    methodological and practical aspects of data m...\n",
              "Name: Data_Mining_Articles, dtype: object"
            ]
          },
          "metadata": {
            "tags": []
          },
          "execution_count": 67
        }
      ]
    },
    {
      "cell_type": "code",
      "metadata": {
        "colab": {
          "base_uri": "https://localhost:8080/"
        },
        "id": "udmWMjSVPWuP",
        "outputId": "40b1d1fc-1cf3-42d0-b322-cd16bcf199c6"
      },
      "source": [
        "st=PorterStemmer()\n",
        "df['Data_Mining_Articles']=df['Data_Mining_Articles'].apply(lambda x: \" \".join([st.stem(word) for word in x.split()]))\n",
        "df['Data_Mining_Articles'].head(10)"
      ],
      "execution_count": 69,
      "outputs": [
        {
          "output_type": "execute_result",
          "data": {
            "text/plain": [
              "0    data mine techniqu and applicationsa decad re...\n",
              "1                                     visual data mine\n",
              "2    systemat survey of big data and data mine in i...\n",
              "3    detect financi fraud use data mine techniques:...\n",
              "4    global data mining: an empir studi of current ...\n",
              "5    data-min technolog for diabetes: a systemat re...\n",
              "6             target discoveri from data mine approach\n",
              "7              semant data mine of financi news articl\n",
              "8               evolv data into mine solut for insight\n",
              "9           methodolog and practic aspect of data mine\n",
              "Name: Data_Mining_Articles, dtype: object"
            ]
          },
          "metadata": {
            "tags": []
          },
          "execution_count": 69
        }
      ]
    },
    {
      "cell_type": "code",
      "metadata": {
        "id": "oRj1H1L79AWB"
      },
      "source": [
        "# Remove emails and newline characters\n",
        "\n",
        "#Convert to list\n",
        "articles=df.Data_Mining_Articles.values.tolist()\n",
        "\n",
        "#Remove emails\n",
        "articles=[re.sub('\\S*@\\S*\\s?','', sent) for sent in articles]\n",
        "#Remove distraction single quotes\n",
        "articles= [re.sub(\"\\'\",\"\", sent) for sent in articles]\n",
        "\n",
        "pprint(articles[:])"
      ],
      "execution_count": null,
      "outputs": []
    },
    {
      "cell_type": "code",
      "metadata": {
        "colab": {
          "base_uri": "https://localhost:8080/"
        },
        "id": "L11ha6eo9AOP",
        "outputId": "21f1532a-6a5b-4c81-f376-feea9930fd69"
      },
      "source": [
        "def sent_to_words(sentences):    #use Gensim's simple_preprocess() to tokenize and create the list of words from each title \n",
        "   for sentence in sentences:    #use deacc=True to remove punctuations\n",
        "      yield (gensim.utils.simple_preprocess(str(sentence),deacc=True))\n",
        "articles_words=list(sent_to_words(articles))\n",
        "print(articles_words[:100])"
      ],
      "execution_count": 70,
      "outputs": [
        {
          "output_type": "stream",
          "text": [
            "[['data', 'mining', 'techniques', 'and', 'applications', 'decade', 'review', 'from', 'to'], ['visual', 'data', 'mining'], ['systematic', 'survey', 'of', 'big', 'data', 'and', 'data', 'mining', 'in', 'internet', 'of', 'things'], ['detecting', 'financial', 'fraud', 'using', 'data', 'mining', 'techniques', 'decade', 'review', 'from', 'to'], ['global', 'data', 'mining', 'an', 'empirical', 'study', 'of', 'current', 'trends', 'future', 'forecasts', 'and', 'technology', 'diffusions'], ['data', 'mining', 'technologies', 'for', 'diabetes', 'systematic', 'review'], ['target', 'discovery', 'from', 'data', 'mining', 'approaches'], ['semantic', 'data', 'mining', 'of', 'financial', 'news', 'articles'], ['evolving', 'data', 'into', 'mining', 'solutions', 'for', 'insights'], ['methodological', 'and', 'practical', 'aspects', 'of', 'data', 'mining'], ['educational', 'data', 'mining', 'survey', 'from', 'to'], ['untangling', 'text', 'data', 'mining'], ['data', 'mining', 'and', 'its', 'applications', 'for', 'knowledge', 'management', 'literature', 'review', 'from', 'to'], ['using', 'text', 'mining', 'techniques', 'for', 'extracting', 'information', 'from', 'research', 'articles'], ['data', 'mining', 'techniques', 'in', 'social', 'media', 'survey'], ['the', 'state', 'of', 'educational', 'data', 'mining', 'in', 'review', 'and', 'future', 'visions'], ['systematic', 'review', 'of', 'data', 'mining', 'and', 'machine', 'learning', 'for', 'air', 'pollution', 'epidemiology'], ['from', 'data', 'mining', 'to', 'knowledge', 'discovery', 'in', 'databases'], ['graph', 'based', 'data', 'mining'], ['the', 'application', 'of', 'data', 'mining', 'techniques', 'in', 'financial', 'fraud', 'detection', 'classification', 'framework', 'and', 'an', 'academic', 'review', 'of', 'literature'], ['evaluation', 'of', 'text', 'data', 'mining', 'for', 'database', 'curation', 'lessons', 'learned', 'from', 'the', 'kdd', 'challenge', 'cup'], ['data', 'mining', 'in', 'healthcare', 'review'], ['data', 'mining', 'in', 'tourism', 'demand', 'analysis', 'retrospective', 'analysis'], ['data', 'mining', 'analysis', 'of', 'rtid', 'alarms'], ['educational', 'data', 'mining', 'review', 'of', 'evaluation', 'process', 'in', 'the', 'learning'], ['data', 'mining', 'and', 'machine', 'learning', 'for', 'condition', 'based', 'maintenance'], ['topcat', 'data', 'mining', 'for', 'topic', 'identification', 'in', 'text', 'corpus'], ['literature', 'review', 'of', 'data', 'mining', 'applications', 'in', 'academic', 'libraries'], ['what', 'is', 'text', 'mining'], ['spatial', 'data', 'mining', 'and', 'geographic', 'knowledge', 'discovery', 'an', 'introduction'], ['knowledge', 'management', 'and', 'data', 'mining', 'for', 'marketing'], ['top', 'data', 'mining', 'techniques', 'in', 'business', 'applications', 'brief', 'survey'], ['machine', 'learning', 'and', 'data', 'mining', 'methods', 'in', 'diabetes', 'research'], ['data', 'mining', 'algorithms', 'and', 'techniques', 'in', 'mental', 'health', 'systematic', 'review'], ['business', 'data', 'mining', 'machine', 'learning', 'perspective'], ['introduction', 'to', 'the', 'mining', 'of', 'clinical', 'data'], ['application', 'of', 'data', 'mining', 'techniques', 'in'], ['systematic', 'review', 'on', 'healthcare', 'analytics', 'application', 'and', 'theoretical', 'perspective', 'of', 'data', 'mining'], ['data', 'mining', 'classification', 'techniques', 'applied', 'for', 'breast', 'cancer', 'diagnosis', 'and', 'prognosis'], ['data', 'mining', 'manufacturing', 'and', 'service', 'applications'], ['comprehensive', 'survey', 'of', 'data', 'mining', 'based', 'fraud', 'detection', 'research'], ['stock', 'trend', 'prediction', 'using', 'news', 'articles', 'text', 'mining', 'approach'], ['uniqueness', 'of', 'medical', 'data', 'mining'], ['accomplishments', 'and', 'challenges', 'in', 'literature', 'data', 'mining', 'for', 'biology'], ['role', 'of', 'biological', 'data', 'mining', 'and', 'machine', 'learning', 'techniques', 'in', 'detecting', 'and', 'diagnosing', 'the', 'novel', 'coronavirus', 'covid', 'systematic', 'review'], ['factors', 'affecting', 'students', 'performance', 'in', 'higher', 'education', 'systematic', 'review', 'of', 'predictive', 'data', 'mining', 'techniques'], ['emerging', 'standards', 'for', 'data', 'mining'], ['cervical', 'cancer', 'prediction', 'through', 'different', 'screening', 'methods', 'using', 'data', 'mining'], ['edm', 'general', 'framework', 'for', 'data', 'mining', 'based', 'on', 'evidence', 'theory'], ['preprocessing', 'method', 'for', 'improving', 'data', 'mining', 'techniques', 'application', 'to', 'large', 'medical', 'diabetes', 'database'], ['topcat', 'data', 'mining', 'for', 'topic', 'identification', 'in', 'text', 'corpus'], ['learning', 'analytics', 'and', 'educational', 'data', 'mining', 'towards', 'communication', 'and', 'collaboration'], ['educational', 'data', 'mining', 'an', 'advance', 'for', 'intelligent', 'systems', 'in', 'education'], ['educational', 'data', 'mining', 'systematic', 'review', 'of', 'the', 'published', 'literature'], ['predictive', 'data', 'mining', 'in', 'clinical', 'medicine', 'current', 'issues', 'and', 'guidelines'], ['data', 'mining', 'techniques', 'for', 'customer', 'relationship', 'management'], ['is', 'europe', 'falling', 'behind', 'in', 'data', 'mining', 'copyrights', 'impact', 'on', 'data', 'mining', 'in', 'academic', 'research'], ['future', 'trends', 'in', 'data', 'mining'], ['applying', 'data', 'mining', 'to', 'telecom', 'churn', 'management'], ['feature', 'space', 'theory', 'mathematical', 'foundation', 'for', 'data', 'mining'], ['the', 'comparisons', 'of', 'data', 'mining', 'techniques', 'for', 'the', 'predictive', 'accuracy', 'of', 'probability', 'of', 'default', 'of', 'credit', 'card', 'clients'], ['data', 'mining', 'tutorial', 'based', 'primer'], ['application', 'and', 'exploration', 'of', 'big', 'data', 'mining', 'in', 'clinical', 'medicine'], ['data', 'mining', 'in', 'healthcare', 'and', 'biomedicine', 'survey', 'of', 'the', 'literature'], ['analysis', 'of', 'pre', 'processing', 'and', 'post', 'processing', 'methods', 'and', 'using', 'data', 'mining', 'to', 'diagnose', 'heart', 'diseases'], ['the', 'potentials', 'of', 'educational', 'data', 'mining', 'for', 'researching', 'metacognition', 'motivation', 'and', 'self', 'regulated', 'learning'], ['data', 'mining', 'for', 'improvement', 'of', 'product', 'quality'], ['state', 'of', 'the', 'art', 'survey', 'of', 'malware', 'detection', 'approaches', 'using', 'data', 'mining', 'techniques'], ['data', 'mining', 'in', 'course', 'management', 'systems', 'moodle', 'case', 'study', 'and', 'tutorial'], ['using', 'data', 'mining', 'to', 'find', 'fraud', 'in', 'hcfa', 'health', 'care', 'claims'], ['using', 'data', 'mining', 'techniques', 'for', 'diagnosis', 'and', 'prognosis', 'of', 'cancer', 'disease'], ['selected', 'techniques', 'for', 'data', 'mining', 'in', 'medicine'], ['data', 'mining', 'and', 'statistics', 'whats', 'the', 'connection'], ['data', 'mining', 'methods', 'applications', 'and', 'tools'], ['data', 'mining', 'our', 'way', 'to', 'the', 'next', 'generation', 'of', 'thermoelectrics'], ['data', 'mining', 'for', 'customer', 'service', 'support'], ['data', 'mining', 'and', 'machine', 'learning', 'to', 'promote', 'smart', 'cities', 'systematic', 'review', 'from', 'to'], ['educational', 'data', 'mining', 'review', 'of', 'the', 'state', 'of', 'the', 'art'], ['data', 'mining', 'issues', 'and', 'opportunities', 'for', 'building', 'nursing', 'knowledge'], ['antipsychotic', 'drugs', 'and', 'heart', 'muscle', 'disorder', 'in', 'international', 'data', 'mining', 'study'], ['modeling', 'wine', 'preferences', 'by', 'data', 'mining', 'from', 'physicochemical', 'properties'], ['fake', 'news', 'detection', 'on', 'social', 'media', 'data', 'mining', 'perspective'], ['data', 'mining', 'for', 'the', 'internet', 'of', 'things', 'literature', 'review', 'and', 'challenges'], ['credit', 'scoring', 'in', 'banks', 'and', 'financial', 'institutions', 'via', 'data', 'mining', 'techniques', 'literature', 'review'], ['particle', 'swarm', 'based', 'data', 'mining', 'algorithms', 'for', 'classification', 'tasks'], ['data', 'mining', 'techniques', 'for', 'the', 'detection', 'of', 'fraudulent', 'financial', 'statements'], ['outcomes', 'of', 'educational', 'interventions', 'in', 'type', 'diabetes', 'weka', 'data', 'mining', 'analysis'], ['research', 'trends', 'analysis', 'by', 'comparing', 'data', 'mining', 'and', 'customer', 'relationship', 'management', 'through', 'bibliometric', 'methodology'], ['educational', 'data', 'mining', 'and', 'learning', 'analytics'], ['synergies', 'of', 'operations', 'research', 'and', 'data', 'mining'], ['data', 'mining', 'method', 'for', 'listed', 'companies', 'financial', 'distress', 'prediction'], ['study', 'of', 'spanish', 'mining', 'accidents', 'using', 'data', 'mining', 'techniques'], ['microarray', 'data', 'mining', 'with', 'visual', 'programming'], ['predicting', 'breast', 'cancer', 'survivability', 'comparison', 'of', 'three', 'data', 'mining', 'methods'], ['student', 'data', 'mining', 'solution', 'knowledge', 'management', 'system', 'related', 'to', 'higher', 'education', 'institutions'], ['data', 'mining', 'an', 'overview', 'from', 'database', 'perspective'], ['credit', 'scoring', 'with', 'data', 'mining', 'approach', 'based', 'on', 'support', 'vector', 'machines'], ['data', 'mining', 'of', 'association', 'structures', 'to', 'model', 'consumer', 'behaviour'], ['information', 'visualization', 'and', 'visual', 'data', 'mining'], ['application', 'of', 'data', 'mining', 'techniques', 'in', 'customer', 'relationship', 'management', 'literature', 'review', 'and', 'classification']]\n"
          ],
          "name": "stdout"
        }
      ]
    },
    {
      "cell_type": "code",
      "metadata": {
        "colab": {
          "base_uri": "https://localhost:8080/"
        },
        "id": "L_QF2AM98eWW",
        "outputId": "42c4b676-8d3a-459e-f139-9f4715a5ea4a"
      },
      "source": [
        "def remove_stopwords(texts):\n",
        "  return [[word for word in simple_preprocess(str(doc)) if word not in stop_words] for doc in texts]\n",
        "def lemmatization(texts, allowed_postags=['NOUN', 'ADJ','VERB','ADV']):\n",
        "  texts_out = []\n",
        "  for sent in texts:\n",
        "    doc = nlp(\" \".join(sent))\n",
        "    texts_out.append([token.lemma_ for token in doc if token.pos_ in allowed_postags])\n",
        "  return texts_out\n",
        "\n",
        "#remove stopwords\n",
        "\n",
        "articles_words_nostops=remove_stopwords(articles_words)\n",
        "\n",
        "nlp=spacy.load('en', disable=['parser','ner'])\n",
        "\n",
        "#keep noun, adjective, adverb and verb by lemmatization\n",
        "\n",
        "articles_lemma=lemmatization(articles_words_bigrams, allowed_postags=['NOUN', 'ADJ','VERB','ADV'])\n",
        "\n",
        "print(articles_lemma[:5])"
      ],
      "execution_count": 74,
      "outputs": [
        {
          "output_type": "stream",
          "text": [
            "[['datum', 'mining', 'technique', 'application', 'decade', 'review'], ['visual', 'data', 'mining'], ['systematic', 'survey', 'datum', 'datum', 'mining', 'internet', 'thing'], ['detect', 'financial', 'fraud', 'use', 'datum', 'mining', 'technique', 'decade', 'review'], ['global', 'empirical', 'study', 'current', 'trend', 'future', 'forecast', 'technology', 'diffusion']]\n"
          ],
          "name": "stdout"
        }
      ]
    },
    {
      "cell_type": "code",
      "metadata": {
        "id": "6Wts1wqA9rKB"
      },
      "source": [
        ""
      ],
      "execution_count": null,
      "outputs": []
    },
    {
      "cell_type": "code",
      "metadata": {
        "id": "TtywHQ1GmD_G",
        "colab": {
          "base_uri": "https://localhost:8080/"
        },
        "outputId": "e84ce555-a599-45eb-ecd9-07eac44ac3d5"
      },
      "source": [
        "#Input  : clean document\n",
        "#Purpose: create term dictionary of our courpus and Converting list of documents (corpus) into Document Term Matrix\n",
        "#Output : term dictionary and Document Term Matrix\n",
        "   \n",
        "def prepare_corpus(doc_clean):             # Creating the term dictionary of our courpus, where every unique term is assigned an index. \n",
        "    dic1 = corpora.Dictionary(articles_lemma)   # Converting list of documents (corpus) into Document Term Matrix using dictionary prepared above.\n",
        "    corpus = [dic1.doc2bow(text) for text in articles_lemma]   # generate LDA model\n",
        "    return dic1,corpus\n",
        "print(corpus[:1])\n"
      ],
      "execution_count": 79,
      "outputs": [
        {
          "output_type": "stream",
          "text": [
            "[[(0, 1), (1, 1), (2, 1), (3, 1), (4, 1), (5, 1)]]\n"
          ],
          "name": "stdout"
        }
      ]
    },
    {
      "cell_type": "code",
      "metadata": {
        "colab": {
          "base_uri": "https://localhost:8080/",
          "height": 35
        },
        "id": "zwhlxWUE5mjx",
        "outputId": "6d6e9002-073c-4d70-969f-2dc08a089226"
      },
      "source": [
        "dic1[1]"
      ],
      "execution_count": 80,
      "outputs": [
        {
          "output_type": "execute_result",
          "data": {
            "application/vnd.google.colaboratory.intrinsic+json": {
              "type": "string"
            },
            "text/plain": [
              "'datum'"
            ]
          },
          "metadata": {
            "tags": []
          },
          "execution_count": 80
        }
      ]
    },
    {
      "cell_type": "code",
      "metadata": {
        "colab": {
          "base_uri": "https://localhost:8080/"
        },
        "id": "hjhAMoiK5mY5",
        "outputId": "02659e18-94d0-4a41-8f01-62298f61258a"
      },
      "source": [
        "#Input  : clean document, number of topics and number of words associated with each topic\n",
        "#Purpose: create LSA model using gensim\n",
        "#Output : return LSA model\n",
        "from pprint import pprint\n",
        "#def create_gensim_lsa_model(articles_lemma,number_of_topics,words):\n",
        "    #dic1,corpus=prepare_corpus(doc_clean)\n",
        "                                                                                             # generate LSA model\n",
        "    #articles_lsa = LsiModel(corpus, num_topics=number_of_topics, id2word = dic1)             # train model   \n",
        "    #print(articles_lsa.print_topics(num_topics=number_of_topics, num_words=words))\n",
        "    #return articles_lsa\n",
        "articles_lsa = gensim.models.lsimodel.LsiModel(corpus=corpus, num_topics=100, id2word = dic1, chunksize=100)             # train model   \n",
        "print(articles_lsa.print_topics())\n",
        "doc_lsa= articles_lsa[corpus]\n",
        "\n"
      ],
      "execution_count": 204,
      "outputs": [
        {
          "output_type": "stream",
          "text": [
            "[(0, '0.700*\"mining\" + 0.591*\"datum\" + 0.209*\"technique\" + 0.153*\"review\" + 0.107*\"application\" + 0.087*\"use\" + 0.077*\"systematic\" + 0.076*\"literature\" + 0.060*\"method\" + 0.057*\"financial\"'), (1, '0.511*\"datum\" + -0.484*\"technique\" + -0.347*\"review\" + 0.234*\"mine\" + -0.194*\"application\" + -0.168*\"literature\" + -0.149*\"mining\" + -0.129*\"classification\" + -0.128*\"detection\" + 0.127*\"analysis\"'), (2, '-0.469*\"mining\" + 0.438*\"review\" + 0.321*\"datum\" + 0.254*\"mine\" + 0.245*\"literature\" + -0.217*\"text\" + 0.198*\"systematic\" + 0.172*\"technique\" + 0.162*\"application\" + -0.157*\"base\"'), (3, '-0.425*\"use\" + -0.415*\"technique\" + 0.251*\"review\" + -0.224*\"method\" + 0.218*\"systematic\" + -0.172*\"cancer\" + 0.171*\"machine\" + -0.170*\"processing\" + 0.161*\"learn\" + 0.155*\"educational\"'), (4, '0.426*\"application\" + -0.304*\"use\" + -0.282*\"systematic\" + -0.248*\"review\" + -0.238*\"machine\" + -0.200*\"mine\" + 0.179*\"literature\" + -0.171*\"processing\" + -0.160*\"diagnose\" + -0.157*\"data\"'), (5, '-0.531*\"mine\" + -0.309*\"application\" + -0.239*\"data\" + 0.221*\"datum\" + -0.212*\"literature\" + -0.201*\"clinical\" + 0.189*\"technique\" + -0.164*\"medicine\" + -0.147*\"knowledge\" + 0.136*\"cancer\"'), (6, '-0.317*\"education\" + -0.270*\"student\" + -0.270*\"high\" + -0.261*\"data\" + -0.253*\"system\" + -0.236*\"management\" + 0.201*\"machine\" + 0.189*\"application\" + -0.189*\"knowledge\" + -0.176*\"technique\"'), (7, '0.332*\"text\" + -0.328*\"machine\" + -0.279*\"learning\" + 0.257*\"literature\" + -0.233*\"base\" + 0.209*\"review\" + 0.203*\"use\" + -0.188*\"technique\" + -0.169*\"application\" + 0.165*\"financial\"'), (8, '0.433*\"method\" + 0.285*\"application\" + -0.206*\"detection\" + -0.188*\"base\" + 0.187*\"processing\" + -0.181*\"financial\" + -0.168*\"mine\" + 0.164*\"analysis\" + -0.156*\"datum\" + 0.150*\"database\"'), (9, '0.335*\"base\" + -0.254*\"text\" + 0.215*\"literature\" + 0.208*\"management\" + -0.190*\"survey\" + 0.187*\"processing\" + -0.180*\"systematic\" + 0.171*\"analysis\" + 0.170*\"classification\" + -0.161*\"technique\"'), (10, '-0.318*\"data\" + 0.286*\"text\" + 0.274*\"study\" + -0.219*\"detection\" + 0.191*\"management\" + -0.181*\"financial\" + 0.171*\"current\" + -0.148*\"method\" + 0.141*\"customer\" + 0.137*\"technique\"'), (11, '-0.358*\"study\" + -0.242*\"technology\" + -0.230*\"future\" + -0.214*\"current\" + -0.199*\"forecast\" + -0.199*\"diffusion\" + -0.199*\"global\" + -0.199*\"trend\" + -0.199*\"empirical\" + -0.193*\"survey\"'), (12, '0.346*\"analysis\" + -0.313*\"cancer\" + 0.239*\"survey\" + 0.217*\"processing\" + -0.189*\"breast\" + -0.174*\"financial\" + -0.166*\"method\" + -0.165*\"current\" + -0.159*\"prediction\" + -0.135*\"diagnosis\"'), (13, '0.387*\"research\" + 0.222*\"customer\" + -0.213*\"approach\" + -0.211*\"knowledge\" + -0.203*\"machine\" + 0.202*\"relationship\" + 0.191*\"cancer\" + -0.172*\"survey\" + -0.171*\"financial\" + -0.149*\"database\"'), (14, '0.355*\"research\" + 0.242*\"financial\" + 0.220*\"method\" + -0.206*\"classification\" + -0.198*\"diagnosis\" + -0.198*\"prognosis\" + -0.194*\"cancer\" + 0.192*\"learning\" + -0.183*\"literature\" + -0.144*\"analysis\"'), (15, '0.314*\"survey\" + -0.265*\"analysis\" + -0.254*\"financial\" + 0.248*\"use\" + 0.245*\"systematic\" + -0.212*\"credit\" + -0.161*\"learn\" + 0.152*\"approach\" + -0.152*\"database\" + 0.151*\"cancer\"'), (16, '-0.297*\"credit\" + 0.277*\"educational\" + 0.262*\"learn\" + 0.208*\"detection\" + -0.208*\"literature\" + -0.208*\"predictive\" + 0.182*\"fraud\" + 0.154*\"evaluation\" + -0.150*\"systematic\" + -0.144*\"client\"'), (17, '0.260*\"management\" + 0.250*\"customer\" + -0.226*\"base\" + 0.222*\"relationship\" + -0.217*\"fraud\" + 0.207*\"machine\" + 0.197*\"news\" + 0.187*\"perspective\" + 0.174*\"learn\" + 0.162*\"data\"'), (18, '-0.322*\"knowledge\" + -0.284*\"learning\" + -0.206*\"literature\" + 0.204*\"customer\" + 0.193*\"base\" + -0.167*\"discovery\" + 0.160*\"approach\" + 0.153*\"application\" + -0.150*\"perspective\" + 0.150*\"relationship\"'), (19, '0.514*\"educational\" + -0.189*\"fraud\" + -0.189*\"knowledge\" + 0.162*\"approach\" + 0.161*\"learning\" + 0.149*\"system\" + -0.146*\"health\" + 0.145*\"education\" + 0.133*\"news\" + 0.132*\"state\"')]\n"
          ],
          "name": "stdout"
        }
      ]
    },
    {
      "cell_type": "code",
      "metadata": {
        "id": "0mjnnS8bmDtO",
        "colab": {
          "base_uri": "https://localhost:8080/"
        },
        "outputId": "223a0e16-e7ca-4c4a-a4a9-10ce0d3dca92"
      },
      "source": [
        "\n",
        "\"\"\"\n",
        "    #Input   : dictionary : Gensim dictionary\n",
        "              #corpus : Gensim corpus\n",
        "              #texts : List of input texts\n",
        "              #stop : Max num of topics\n",
        "    #purpose : Compute c_v coherence for various number of topics\n",
        "    #Output  : model_list : List of LSA topic models\n",
        "              #coherence_values : Coherence values corresponding to the LDA model with respective number of topics\n",
        "    \"\"\"\n",
        "def compute_coherence_values(dic1, corpus, articles_lemma, stop, start=2, step=3):\n",
        "    coherence_lsa = []\n",
        "    model_list = []\n",
        "    for num_topics in range(start, stop, step):\n",
        "        # generate LSA model\n",
        "        model = LsiModel(corpus, num_topics=num_topics, id2word = dic1)  # train model\n",
        "        model_list.append(model)\n",
        "        coherencemodel = CoherenceModel(model=model, texts=articles_lemma, dictionary=dic1, coherence='c_v')\n",
        "        coherence_lsa.append(coherencemodel.get_coherence())\n",
        "    return model_list, coherence_lsa\n",
        "print(coherence_lsa)"
      ],
      "execution_count": 207,
      "outputs": [
        {
          "output_type": "stream",
          "text": [
            "0.6332586161655712\n"
          ],
          "name": "stdout"
        }
      ]
    },
    {
      "cell_type": "code",
      "metadata": {
        "colab": {
          "base_uri": "https://localhost:8080/"
        },
        "id": "W1vKt5uOqzJS",
        "outputId": "f3994037-5a56-4ae7-fefd-c7d5e6649dc0"
      },
      "source": [
        "coherence_model_lsa=CoherenceModel(model=articles_lsa, texts= articles_lemma, dictionary=dic1, coherence='c_v')\n",
        "coherence_lsa=coherence_model_lsa.get_coherence()\n",
        "print('\\nCoherence: ', coherence_lsa)                           #another way to find the coherence value\n"
      ],
      "execution_count": 206,
      "outputs": [
        {
          "output_type": "stream",
          "text": [
            "\n",
            "Coherence:  0.6332586161655712\n"
          ],
          "name": "stdout"
        }
      ]
    },
    {
      "cell_type": "code",
      "metadata": {
        "id": "pUw0n3CJmDkZ"
      },
      "source": [
        "def plot_graph(doc_clean,start, stop, step):\n",
        "    dic1,corpus=prepare_corpus(articles_lemma)\n",
        "    model_list, coherence_values = compute_coherence_values(dic1, corpus,articles_lemma,\n",
        "                                                            stop, start, step)\n",
        "    # Show graph\n",
        "    x = range(start, stop, step)\n",
        "    plt.plot(x, coherence_values)\n",
        "    plt.xlabel(\"Number of Topics\")\n",
        "    plt.ylabel(\"Coherence score\")\n",
        "    plt.legend((\"coherence_values\"), loc='best')\n",
        "    plt.show()"
      ],
      "execution_count": 188,
      "outputs": []
    },
    {
      "cell_type": "code",
      "metadata": {
        "colab": {
          "base_uri": "https://localhost:8080/",
          "height": 279
        },
        "id": "DqI76VZVmDaz",
        "outputId": "7a8725dd-ddc4-4639-814d-4fd2c49f70f1"
      },
      "source": [
        "start,stop,step=2,12,1\n",
        "plot_graph(articles_lemma,start,stop,step)"
      ],
      "execution_count": 189,
      "outputs": [
        {
          "output_type": "display_data",
          "data": {
            "image/png": "[encoded data removed]",
            "text/plain": [
              "<Figure size 432x288 with 1 Axes>"
            ]
          },
          "metadata": {
            "tags": [],
            "needs_background": "light"
          }
        }
      ]
    },
    {
      "cell_type": "code",
      "metadata": {
        "id": "MU6F5NBQmDLF"
      },
      "source": [
        ""
      ],
      "execution_count": null,
      "outputs": []
    },
    {
      "cell_type": "markdown",
      "metadata": {
        "id": "KJra7UD1C1lx"
      },
      "source": [
        "Diffeent k values are tested by using the LSA. For k=20 the coherence value was 0.4809..., for k=50 the coherence value was \n",
        "0.5424..., and for k=100 the coherence value was 0.6332. As it is obvious by increasing the k value the coherence value increases as well. \n",
        "based on that the k=100 can provide the better coherence value. \n",
        "Based on the graph k=3 provides the least coherence value.\n",
        "\n",
        "(0, '0.700*\"mining\" + 0.591*\"datum\" + 0.209*\"technique\" + 0.153*\"review\" + 0.107*\"application\" + 0.087*\"use\" + 0.077*\"systematic\" + 0.076*\"literature\" + 0.060*\"method\" + 0.057*\"financial\"')\n",
        "\n",
        "(1, '0.511*\"datum\" + -0.484*\"technique\" + -0.347*\"review\" + 0.234*\"mine\" + -0.194*\"application\" + -0.168*\"literature\" + -0.149*\"mining\" + -0.129*\"classification\" + -0.128*\"detection\" + 0.127*\"analysis\"')\n",
        "\n",
        "(2, '-0.469*\"mining\" + 0.438*\"review\" + 0.321*\"datum\" + 0.254*\"mine\" + 0.245*\"literature\" + -0.217*\"text\" + 0.198*\"systematic\" + 0.172*\"technique\" + 0.162*\"application\" + -0.157*\"base\"')\n",
        "\n",
        "(3, '-0.425*\"use\" + -0.415*\"technique\" + 0.251*\"review\" + -0.224*\"method\" + 0.218*\"systematic\" + -0.172*\"cancer\" + 0.171*\"machine\" + -0.170*\"processing\" + 0.161*\"learn\" + 0.155*\"educational\"')\n",
        "\n",
        "(4, '0.426*\"application\" + -0.304*\"use\" + -0.282*\"systematic\" + -0.248*\"review\" + -0.238*\"machine\" + -0.200*\"mine\" + 0.179*\"literature\" + -0.171*\"processing\" + -0.160*\"diagnose\" + -0.157*\"data\"')\n",
        "\n",
        "(5, '-0.531*\"mine\" + -0.309*\"application\" + -0.239*\"data\" + 0.221*\"datum\" + -0.212*\"literature\" + -0.201*\"clinical\" + 0.189*\"technique\" + -0.164*\"medicine\" + -0.147*\"knowledge\" + 0.136*\"cancer\"')\n",
        "\n",
        "(6, '-0.317*\"education\" + -0.270*\"student\" + -0.270*\"high\" + -0.261*\"data\" + -0.253*\"system\" + -0.236*\"management\" + 0.201*\"machine\" + 0.189*\"application\" + -0.189*\"knowledge\" + -0.176*\"technique\"')\n",
        "\n",
        "(7, '0.332*\"text\" + -0.328*\"machine\" + -0.279*\"learning\" + 0.257*\"literature\" + -0.233*\"base\" + 0.209*\"review\" + 0.203*\"use\" + -0.188*\"technique\" + -0.169*\"application\" + 0.165*\"financial\"')\n",
        "\n",
        "(8, '0.433*\"method\" + 0.285*\"application\" + -0.206*\"detection\" + -0.188*\"base\" + 0.187*\"processing\" + -0.181*\"financial\" + -0.168*\"mine\" + 0.164*\"analysis\" + -0.156*\"datum\" + 0.150*\"database\"')\n",
        " \n",
        "(9, '0.335*\"base\" + -0.254*\"text\" + 0.215*\"literature\" + 0.208*\"management\" + -0.190*\"survey\" + 0.187*\"processing\" + -0.180*\"systematic\" + 0.171*\"analysis\" + 0.170*\"classification\" + -0.161*\"technique\"')\n",
        " \n",
        "(10, '-0.318*\"data\" + 0.286*\"text\" + 0.274*\"study\" + -0.219*\"detection\" + 0.191*\"management\" + -0.181*\"financial\" + 0.171*\"current\" + -0.148*\"method\" + 0.141*\"customer\" + 0.137*\"technique\"')\n",
        "\n",
        "(11, '-0.358*\"study\" + -0.242*\"technology\" + -0.230*\"future\" + -0.214*\"current\" + -0.199*\"forecast\" + -0.199*\"diffusion\" + -0.199*\"global\" + -0.199*\"trend\" + -0.199*\"empirical\" + -0.193*\"survey\"')\n",
        "\n",
        "(12, '0.346*\"analysis\" + -0.313*\"cancer\" + 0.239*\"survey\" + 0.217*\"processing\" + -0.189*\"breast\" + -0.174*\"financial\" + -0.166*\"method\" + -0.165*\"current\" + -0.159*\"prediction\" + -0.135*\"diagnosis\"')\n",
        "\n",
        "(13, '0.387*\"research\" + 0.222*\"customer\" + -0.213*\"approach\" + -0.211*\"knowledge\" + -0.203*\"machine\" + 0.202*\"relationship\" + 0.191*\"cancer\" + -0.172*\"survey\" + -0.171*\"financial\" + -0.149*\"database\"')\n",
        "\n",
        "(14, '0.355*\"research\" + 0.242*\"financial\" + 0.220*\"method\" + -0.206*\"classification\" + -0.198*\"diagnosis\" + -0.198*\"prognosis\" + -0.194*\"cancer\" + 0.192*\"learning\" + -0.183*\"literature\" + -0.144*\"analysis\"')\n",
        "\n",
        "(15, '0.314*\"survey\" + -0.265*\"analysis\" + -0.254*\"financial\" + 0.248*\"use\" + 0.245*\"systematic\" + -0.212*\"credit\" + -0.161*\"learn\" + 0.152*\"approach\" + -0.152*\"database\" + 0.151*\"cancer\"')\n",
        "\n",
        "(16, '-0.297*\"credit\" + 0.277*\"educational\" + 0.262*\"learn\" + 0.208*\"detection\" + -0.208*\"literature\" + -0.208*\"predictive\" + 0.182*\"fraud\" + 0.154*\"evaluation\" + -0.150*\"systematic\" + -0.144*\"client\"')\n",
        "\n",
        "(17, '0.260*\"management\" + 0.250*\"customer\" + -0.226*\"base\" + 0.222*\"relationship\" + -0.217*\"fraud\" + 0.207*\"machine\" + 0.197*\"news\" + 0.187*\"perspective\" + 0.174*\"learn\" + 0.162*\"data\"')\n",
        "\n",
        "(18, '-0.322*\"knowledge\" + -0.284*\"learning\" + -0.206*\"literature\" + 0.204*\"customer\" + 0.193*\"base\" + -0.167*\"discovery\" + 0.160*\"approach\" + 0.153*\"application\" + -0.150*\"perspective\" + 0.150*\"relationship\"')\n",
        "\n",
        "(19, '0.514*\"educational\" + -0.189*\"fraud\" + -0.189*\"knowledge\" + 0.162*\"approach\" + 0.161*\"learning\" + 0.149*\"system\" + -0.146*\"health\" + 0.145*\"education\" + 0.133*\"news\" + 0.132*\"state\"')"
      ]
    },
    {
      "cell_type": "markdown",
      "metadata": {
        "id": "Ytx3wfnMNs8g"
      },
      "source": [
        "## (3) (4 points) Compare the results generated by the two topic modeling algorithms, which one is better? You should explain the reasons in details."
      ]
    },
    {
      "cell_type": "markdown",
      "metadata": {
        "id": "097Zc41TGE6a"
      },
      "source": [
        "LSA model is the simple model and it is easy to understand. Implementation with LSA is fast and easy as well. However, it has limitation of working with the data. It is linear model and if the dataset has non-linear relevant values the LSA model does not work properly for that dataset. To compare with the LDA model here, LDA has better performances and provides more information. There is the value of the perplexity for LDA that LSA does not have this valkue and this value prvide valuable information for how good the model is. In addition the LDA model has the feature for drawing the scatter plot from the topics which provides information about which topic is more common and also shows the value of the frequency for each term in the topic which is very important for decision making out of mining the dataset.  "
      ]
    },
    {
      "cell_type": "code",
      "metadata": {
        "id": "7zu6jCzJNs8g"
      },
      "source": [
        "# Write your answer here (no code needed for this question)"
      ],
      "execution_count": null,
      "outputs": []
    }
  ]
}