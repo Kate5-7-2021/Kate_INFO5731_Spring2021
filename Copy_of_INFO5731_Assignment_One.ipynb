{
  "nbformat": 4,
  "nbformat_minor": 0,
  "metadata": {
    "colab": {
      "name": "Copy of INFO5731_Assignment_One.ipynb",
      "provenance": [],
      "collapsed_sections": [],
      "include_colab_link": true
    },
    "kernelspec": {
      "display_name": "Python 3",
      "language": "python",
      "name": "python3"
    },
    "language_info": {
      "codemirror_mode": {
        "name": "ipython",
        "version": 3
      },
      "file_extension": ".py",
      "mimetype": "text/x-python",
      "name": "python",
      "nbconvert_exporter": "python",
      "pygments_lexer": "ipython3",
      "version": "3.7.4"
    }
  },
  "cells": [
    {
      "cell_type": "markdown",
      "metadata": {
        "id": "view-in-github",
        "colab_type": "text"
      },
      "source": [
        "<a href=\"https://colab.research.google.com/github/Kate5-7-2021/Kate_INFO5731_Spring2021/blob/main/Copy_of_INFO5731_Assignment_One.ipynb\" target=\"_parent\"><img src=\"https://colab.research.google.com/assets/colab-badge.svg\" alt=\"Open In Colab\"/></a>"
      ]
    },
    {
      "cell_type": "markdown",
      "metadata": {
        "id": "Ryk8D1Q4Wsrp"
      },
      "source": [
        "# **INFO5731 Assignment One**"
      ]
    },
    {
      "cell_type": "markdown",
      "metadata": {
        "id": "90_NR8c5XGWc"
      },
      "source": [
        "# Question 1\n",
        "\n",
        "(20 points). Write a Python program to generate 12 random numbers between 1 and 100. Sort the list of numbers in ascending order and print it out. Sort the list of numbers in descending order and print it out. Calculate the average for the group and print it out."
      ]
    },
    {
      "cell_type": "code",
      "metadata": {
        "id": "5QX6bJjGWXY9",
        "colab": {
          "base_uri": "https://localhost:8080/"
        },
        "outputId": "69e985d7-2642-47bb-e42a-c355f319dcca"
      },
      "source": [
        "import random\n",
        "\n",
        "my_list = list(range(1, 101))\n",
        "\n",
        "final_list = random.sample(my_list, k=12)\n",
        "print(\"initial list: \", final_list)\n",
        "final_list.sort()\n",
        "print(\"ascending list: \", final_list)\n",
        "final_list.sort(reverse=True)\n",
        "print(\"descending list: \", final_list)\n",
        "avarage=sum(final_list)/len(final_list)\n",
        "print(\"avarage of the list: \", avarage)\n"
      ],
      "execution_count": 13,
      "outputs": [
        {
          "output_type": "stream",
          "text": [
            "initial list:  [2, 17, 46, 95, 91, 35, 81, 63, 14, 59, 31, 51]\n",
            "ascending list:  [2, 14, 17, 31, 35, 46, 51, 59, 63, 81, 91, 95]\n",
            "descending list:  [95, 91, 81, 63, 59, 51, 46, 35, 31, 17, 14, 2]\n",
            "avarage of the list:  48.75\n"
          ],
          "name": "stdout"
        }
      ]
    },
    {
      "cell_type": "markdown",
      "metadata": {
        "id": "BGNCuW0ZrVpr"
      },
      "source": [
        "##**Second Way to Write This Program**"
      ]
    },
    {
      "cell_type": "code",
      "metadata": {
        "colab": {
          "base_uri": "https://localhost:8080/"
        },
        "id": "YnnvHSIgpP3M",
        "outputId": "fe956d9f-079f-47fe-de73-b40bf23e21a1"
      },
      "source": [
        "import random\r\n",
        "\r\n",
        "my_list = list(range(1, 101))\r\n",
        "\r\n",
        "final_list = random.sample(my_list, k=12)\r\n",
        "print(final_list)                         # print random list\r\n",
        "print(sorted(final_list))                 #print ascending list\r\n",
        "\r\n",
        "i=0\r\n",
        "for i in range(i,len(final_list)):\r\n",
        "  for j in range(i+1,len(final_list)):\r\n",
        "    if (final_list[i]>final_list[j]):\r\n",
        "      n=final_list[i]\r\n",
        "      final_list[i]=final_list[j]\r\n",
        "      final_list[j]=n\r\n",
        "final_list.sort(reverse=True)             #print descending list\r\n",
        "print(final_list)\r\n",
        "avarage=sum(final_list)/len(final_list)    #calculate avarage\r\n",
        "print(\"avarage of the list: \", avarage)   \r\n"
      ],
      "execution_count": 54,
      "outputs": [
        {
          "output_type": "stream",
          "text": [
            "[22, 86, 70, 84, 88, 44, 42, 58, 99, 59, 6, 32]\n",
            "[6, 22, 32, 42, 44, 58, 59, 70, 84, 86, 88, 99]\n",
            "[99, 88, 86, 84, 70, 59, 58, 44, 42, 32, 22, 6]\n",
            "avarage of the list:  57.5\n"
          ],
          "name": "stdout"
        }
      ]
    },
    {
      "cell_type": "markdown",
      "metadata": {
        "id": "1F_PZdH9Sh49"
      },
      "source": [
        "# Question 2\n",
        "(25 points). Write a program that will do the following string formatting tasks:\n",
        "\n",
        "(1) Ask the user to enter two sentences.\n",
        "\n",
        "(2) Make each sentence into a list. Each element in the list should correspond to a word in the sentence. For example, if the sentence is \"Alas! Am I alive? This is my first python program\", the program should print out ['Alas, '!', 'Am', 'I', 'alive, '?', 'This', 'is', 'my', 'first', 'python', 'program'].\n",
        "\n",
        "(3) Compare the two sentences. Print out a list of words that occur in both sentences.\n",
        "\n",
        "(4) Remove any punctuation from the sentence and print it back out. It should remove at least the following characters, but it can remove more: period(“.”), comma (“,”), semicolon (“;”), and colon (“:”)\n",
        "\n",
        "(5) Count the number of vowels in the sentences. Print out each vowel and the number of times it appears in the sentences, such as: a:2, e:1, i:0, etc"
      ]
    },
    {
      "cell_type": "code",
      "metadata": {
        "id": "Y0oOSlsOS0cq",
        "colab": {
          "base_uri": "https://localhost:8080/"
        },
        "outputId": "6cd7f243-e3ef-4b58-fbf0-1392c8dc8514"
      },
      "source": [
        "import string\n",
        "import math\n",
        "import collections\n",
        "\n",
        "sent1= input('Enter your first sentence: ')             # Q#2.1: user can enter the sentence\n",
        "sent2= input('Enter your second sentence: ')\n",
        "\n",
        "print('sent1= ',sent1)                                        #print sentences\n",
        "print('sent2= ',sent2)\n",
        "print()\n",
        "\n",
        "list1=sent1.split()                                 # Q#2.2: create a list of the words correspond to each sentence using split function\n",
        "print('list1= ',list1)                                        #print each list of words\n",
        "list2=sent2.split()\n",
        "print('list2= ',list2)\n",
        "print()\n",
        "\n",
        "list3 = []                                          # Q#2.3: find the common words between two sentenses and make a new list\n",
        "for word in list1:\n",
        "  if word in list2:\n",
        "    if word not in list3:\n",
        "      list3.append(word)\n",
        "print('List3= ',list3)\n",
        "print()\n",
        "\n",
        "punct= set (string.punctuation)                    # Q#2.4: removing punctuation from sentences\n",
        "def punctuation(p):\n",
        "  no_punctuation = ''\n",
        "  for letter in p:\n",
        "    if letter not in punct:\n",
        "      no_punctuation = no_punctuation + letter\n",
        "  print('Sentence without punctuation: ', no_punctuation)\n",
        "punctuation(sent1)\n",
        "punctuation(sent2)\n",
        "print()\n",
        "\n",
        "\n",
        "\n",
        "#def punctuation(string):\n",
        "  #punctuations = '''!()-[]{};:'\"\\,<>./?@#$%^&*_~'''\n",
        "  #for p in string.lower():\n",
        "    #if p in punctuations:\n",
        "      #string=string.raplace(p,\"\")\n",
        "    #print('Sentence without punctuation: ', string )\n",
        "#punctuation(sent1)\n",
        "#punctuation(sent2)\n",
        "\n",
        "final_string = sent1+' '+sent2          #combine both sentences and find the vowels in the combined sentence\n",
        "print(final_string)\n",
        "\n",
        "final_string.casefold()\n",
        "\n",
        "\n",
        "vowels = \"aeiou\"\n",
        "vowels_data = {}.fromkeys(vowels, 0)\n",
        "\n",
        "for character in final_string:\n",
        "  if character in vowels:\n",
        "    vowels_data[character] += 1\n",
        "\n",
        "for vowel in vowels_data:\n",
        "  print(vowel,':', vowels_data[vowel])\n",
        "\n",
        "print()\n",
        "print()\n",
        "\n",
        "\n",
        "sent1=sent1.casefold()                     #for each sentence separately: sent1\n",
        "vowels = \"aeiou\"                             \n",
        "vowels_data = {}.fromkeys(vowels, 0)\n",
        "\n",
        "for character in sent1:\n",
        "  if character in vowels:\n",
        "    vowels_data[character] += 1\n",
        "\n",
        "for vowel in vowels_data:\n",
        "  print(vowel,':', vowels_data[vowel])\n",
        "\n",
        "print()\n",
        "print()\n",
        "\n",
        "\n",
        "sent2=sent2.casefold()                     #for each sentence separately: sent2\n",
        "vowels = \"aeiou\"                             \n",
        "vowels_data = {}.fromkeys(vowels, 0)\n",
        "\n",
        "for character in sent2:\n",
        "  if character in vowels:\n",
        "    vowels_data[character] += 1\n",
        "\n",
        "for vowel in vowels_data:\n",
        "  print(vowel,':', vowels_data[vowel])\n",
        "\n"
      ],
      "execution_count": 63,
      "outputs": [
        {
          "output_type": "stream",
          "text": [
            "Enter your first sentence: Congratulations! You get hired and you will receive the letter soon.\n",
            "Enter your second sentence: In the letter you will find the information you need. Are you ready to start?\n",
            "sent1=  Congratulations! You get hired and you will receive the letter soon.\n",
            "sent2=  In the letter you will find the information you need. Are you ready to start?\n",
            "\n",
            "list1=  ['Congratulations!', 'You', 'get', 'hired', 'and', 'you', 'will', 'receive', 'the', 'letter', 'soon.']\n",
            "list2=  ['In', 'the', 'letter', 'you', 'will', 'find', 'the', 'information', 'you', 'need.', 'Are', 'you', 'ready', 'to', 'start?']\n",
            "\n",
            "List3=  ['you', 'will', 'the', 'letter']\n",
            "\n",
            "Sentence without punctuation:  Congratulations You get hired and you will receive the letter soon\n",
            "Sentence without punctuation:  In the letter you will find the information you need Are you ready to start\n",
            "\n",
            "Congratulations! You get hired and you will receive the letter soon. In the letter you will find the information you need. Are you ready to start?\n",
            "a : 6\n",
            "e : 16\n",
            "i : 8\n",
            "o : 12\n",
            "u : 6\n",
            "\n",
            "\n",
            "a : 3\n",
            "e : 8\n",
            "i : 4\n",
            "o : 6\n",
            "u : 3\n",
            "\n",
            "\n",
            "a : 4\n",
            "e : 8\n",
            "i : 5\n",
            "o : 6\n",
            "u : 3\n"
          ],
          "name": "stdout"
        }
      ]
    },
    {
      "cell_type": "markdown",
      "metadata": {
        "id": "CmFoI4jDS9nx"
      },
      "source": [
        "# Question 3 \n",
        "\n",
        "(15 points). The formula that describes the volume V of a sphere with radius r is the following:\n",
        "\n",
        "$ V=\\frac{4}{3}\\ast\\ \\pi\\ast\\ r^3 $\n",
        "\n",
        "Write a program to calculate the value of V when r is in the range of 1–10. Output the result in the following format:\n",
        "\n",
        "\tr\tV\n",
        "\t1\t…\n",
        "\t2\t…\n",
        "\t3\t…\n"
      ]
    },
    {
      "cell_type": "code",
      "metadata": {
        "id": "pEyqeioAT95b",
        "colab": {
          "base_uri": "https://localhost:8080/"
        },
        "outputId": "61d86120-9f22-4540-b711-d32757065864"
      },
      "source": [
        "import math\n",
        "pi = 3.14159\n",
        "def volume(r):          #define volume\n",
        "  return 4.0/3.0*pi*r**3\n",
        "print('r \\t v')\n",
        "for r in range(1,11):  #introduce the range, to print up to 10 the range should be to 11\n",
        "  print(r,'\\t',volume(r))\n",
        "  r += 1\n"
      ],
      "execution_count": 70,
      "outputs": [
        {
          "output_type": "stream",
          "text": [
            "r \t v\n",
            "1 \t 4.188786666666666\n",
            "2 \t 33.51029333333333\n",
            "3 \t 113.09723999999999\n",
            "4 \t 268.08234666666664\n",
            "5 \t 523.5983333333332\n",
            "6 \t 904.7779199999999\n",
            "7 \t 1436.7538266666666\n",
            "8 \t 2144.658773333333\n",
            "9 \t 3053.6254799999997\n",
            "10 \t 4188.786666666666\n"
          ],
          "name": "stdout"
        }
      ]
    },
    {
      "cell_type": "markdown",
      "metadata": {
        "id": "z3tBE7E-Xn5X"
      },
      "source": [
        "# Question 4\n",
        "\n",
        "(40 points). In the field of Data Science, data is often formatted as a comma-delimited (CSV) file, where each line in a file corresponds to a field's value. Refer to Chapter 9 (p. 106) for more information on comma-delimited files. To answer this question, you will need to download the file [Assignment1_denton_housing.csv](https://github.com/unt-iialab/info5731_spring2021/blob/main/assignment/Assignment1_denton_housing.csv) included with this assignment. The file [Assignment1_denton_housing.csv](https://github.com/unt-iialab/info5731_spring2021/blob/main/assignment/Assignment1_denton_housing.csv) contains statistics about housing in the city of Denton from 2008 to 2014. Write a program to implement the following questions.\n",
        "\n",
        "(1) (10 pts) Calculate the difference in the number of Occupied Housing Units from year to year and print it. The difference must be calculated for the consecutive years such as 2008-2009, 2009-2010 etc. Finally, print the values in the ascending order.\n",
        "\n",
        "(2) (10 pts) For all the years, calculate the percentage of housing units which are vacant an occupied. Print the results in the following format:\n",
        "\n",
        "Year Vacant Housing Units Occupied Housing Units\n",
        "\n",
        "    2008  30%   70%                          \n",
        "\t2009 ----- -----\n",
        "\t2010 ----- -----\n",
        "    2011 ----- -----\n",
        "\t2012 ----- -----\n",
        "    2013 ----- -----\n",
        "\t2014 ----- -----\n",
        "  \n",
        "  \n",
        "\n",
        "(3) (10 pts) Calculate and print the valued and years in which the highest number of housing units were vacant and occupied. Print the results in the following format:  \n",
        "\n",
        "                              Year\tValue\n",
        "\tVacant Housing Units\t  -----   -----\n",
        "\tOccupied Housing Units\t-----   -----\n",
        "\n",
        "(4) (10 pts) Calculate the harmonic mean of the total housing units and print it out. You can find the information about harmonic mean here: https://ncalculators.com/statistics/harmonic-mean-calculator.htm"
      ]
    },
    {
      "cell_type": "code",
      "metadata": {
        "id": "lqGYuHBhcsRH"
      },
      "source": [
        "import pandas as pd                           #steps to upload csv file\n",
        "from google.colab import files"
      ],
      "execution_count": 17,
      "outputs": []
    },
    {
      "cell_type": "code",
      "metadata": {
        "colab": {
          "resources": {
            "http://localhost:8080/nbextensions/google.colab/files.js": {
              "data": "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",
              "ok": true,
              "headers": [
                [
                  "content-type",
                  "application/javascript"
                ]
              ],
              "status": 200,
              "status_text": ""
            }
          },
          "base_uri": "https://localhost:8080/",
          "height": 72
        },
        "id": "a_l-rQoaP_my",
        "outputId": "282a4dee-a0c5-4959-8a01-4b9335d8e65c"
      },
      "source": [
        "uploaded = files.upload() "
      ],
      "execution_count": 18,
      "outputs": [
        {
          "output_type": "display_data",
          "data": {
            "text/html": [
              "\n",
              "     <input type=\"file\" id=\"files-b8a33439-0834-406c-8f1b-2db6de96075b\" name=\"files[]\" multiple disabled\n",
              "        style=\"border:none\" />\n",
              "     <output id=\"result-b8a33439-0834-406c-8f1b-2db6de96075b\">\n",
              "      Upload widget is only available when the cell has been executed in the\n",
              "      current browser session. Please rerun this cell to enable.\n",
              "      </output>\n",
              "      <script src=\"/nbextensions/google.colab/files.js\"></script> "
            ],
            "text/plain": [
              "<IPython.core.display.HTML object>"
            ]
          },
          "metadata": {
            "tags": []
          }
        },
        {
          "output_type": "stream",
          "text": [
            "Saving Assignment1_denton_housing.csv to Assignment1_denton_housing (3).csv\n"
          ],
          "name": "stdout"
        }
      ]
    },
    {
      "cell_type": "code",
      "metadata": {
        "id": "Q75-AnetZheG"
      },
      "source": [
        "my_df=pd.read_csv(io.BytesIO(uploaded['Assignment1_denton_housing.csv']))"
      ],
      "execution_count": 21,
      "outputs": []
    },
    {
      "cell_type": "code",
      "metadata": {
        "colab": {
          "base_uri": "https://localhost:8080/",
          "height": 195
        },
        "id": "T0jCfalsaHb8",
        "outputId": "1ac322c8-1c39-4562-b157-235121a2d459"
      },
      "source": [
        "my_df.head()"
      ],
      "execution_count": 116,
      "outputs": [
        {
          "output_type": "execute_result",
          "data": {
            "text/html": [
              "<div>\n",
              "<style scoped>\n",
              "    .dataframe tbody tr th:only-of-type {\n",
              "        vertical-align: middle;\n",
              "    }\n",
              "\n",
              "    .dataframe tbody tr th {\n",
              "        vertical-align: top;\n",
              "    }\n",
              "\n",
              "    .dataframe thead th {\n",
              "        text-align: right;\n",
              "    }\n",
              "</style>\n",
              "<table border=\"1\" class=\"dataframe\">\n",
              "  <thead>\n",
              "    <tr style=\"text-align: right;\">\n",
              "      <th></th>\n",
              "      <th>year</th>\n",
              "      <th>title_field</th>\n",
              "      <th>value</th>\n",
              "    </tr>\n",
              "  </thead>\n",
              "  <tbody>\n",
              "    <tr>\n",
              "      <th>0</th>\n",
              "      <td>2014</td>\n",
              "      <td>Total Housing Units</td>\n",
              "      <td>49109</td>\n",
              "    </tr>\n",
              "    <tr>\n",
              "      <th>1</th>\n",
              "      <td>2014</td>\n",
              "      <td>Vacant Housing Units</td>\n",
              "      <td>2814</td>\n",
              "    </tr>\n",
              "    <tr>\n",
              "      <th>2</th>\n",
              "      <td>2014</td>\n",
              "      <td>Occupied Housing Units</td>\n",
              "      <td>46295</td>\n",
              "    </tr>\n",
              "    <tr>\n",
              "      <th>3</th>\n",
              "      <td>2013</td>\n",
              "      <td>Total Housing Units</td>\n",
              "      <td>47888</td>\n",
              "    </tr>\n",
              "    <tr>\n",
              "      <th>4</th>\n",
              "      <td>2013</td>\n",
              "      <td>Vacant Housing Units</td>\n",
              "      <td>4215</td>\n",
              "    </tr>\n",
              "  </tbody>\n",
              "</table>\n",
              "</div>"
            ],
            "text/plain": [
              "   year             title_field  value\n",
              "0  2014     Total Housing Units  49109\n",
              "1  2014    Vacant Housing Units   2814\n",
              "2  2014  Occupied Housing Units  46295\n",
              "3  2013     Total Housing Units  47888\n",
              "4  2013    Vacant Housing Units   4215"
            ]
          },
          "metadata": {
            "tags": []
          },
          "execution_count": 116
        }
      ]
    },
    {
      "cell_type": "code",
      "metadata": {
        "id": "acX8Tp4oRAN0"
      },
      "source": [
        "#for fn in uploaded.keys():\r\n",
        "  #print('User uploaded file \"{name}\" with length {length} bytes'.format(\r\n",
        "      #name=fn, length=len(uploaded[fn])))"
      ],
      "execution_count": 89,
      "outputs": []
    },
    {
      "cell_type": "code",
      "metadata": {
        "colab": {
          "base_uri": "https://localhost:8080/"
        },
        "id": "v4tk-l9h10bx",
        "outputId": "a76908ed-6bdf-4e98-c93d-bcd1834cde86"
      },
      "source": [
        "import csv\r\n",
        "housing_units_occupied = {}\r\n",
        "with open(\"/content/Assignment1_denton_housing.csv\",'r') as input_file: # read the csv file\r\n",
        "  file_reader = csv.reader(input_file)                                 # for this question I learned form the reference code \r\n",
        "  for row in file_reader:                                              # and I applied some changes \r\n",
        "    if row[1] == 'Occupied Housing Units':\r\n",
        "      housing_units_occupied[int(row[0])] = int(row[2])\r\n",
        "unit_diff = {}\r\n",
        "year = 2008\r\n",
        "for year in range(2008,2014):              #use the for loop to move over the years to calculate difference between two years at the time\r\n",
        "  unit_diff[housing_units_occupied[year+1]-housing_units_occupied[year]] = str (year) +\"-\"+ str (year+1)\r\n",
        "  year+=1\r\n",
        "for item in unit_diff:\r\n",
        "  print('from',unit_diff[item]+':', item)"
      ],
      "execution_count": 8,
      "outputs": [
        {
          "output_type": "stream",
          "text": [
            "from 2008-2009: -795\n",
            "from 2009-2010: 5091\n",
            "from 2010-2011: -303\n",
            "from 2011-2012: 1404\n",
            "from 2012-2013: 1565\n",
            "from 2013-2014: 2622\n"
          ],
          "name": "stdout"
        }
      ]
    },
    {
      "cell_type": "code",
      "metadata": {
        "colab": {
          "base_uri": "https://localhost:8080/",
          "height": 246
        },
        "id": "Y3ZJYj-z2wfx",
        "outputId": "be8dbad8-344b-4888-de98-57fe9c905606"
      },
      "source": [
        "import csv\r\n",
        "import math\r\n",
        "total_housing_units = {}\r\n",
        "housing_units_occupied = {}\r\n",
        "vacant_housing_units = {}\r\n",
        "with open(\"/content/Assignment1_denton_housing.csv\",'r') as input_file:   #find and open csv file\r\n",
        "  file_reader = csv.reader(input_file)\r\n",
        "  for row in file_reader:\r\n",
        "    #def total_housing_units(row):\r\n",
        "      #if row[1]=='Total Housing Units': \r\n",
        "        #return row[1]\r\n",
        "    #def housing_units_occupied(row):\r\n",
        "      #if row[2]=='Occupied Housing Units':\r\n",
        "        #return row[2]\r\n",
        "    #def vacant_housing_units(row):\r\n",
        "      #if row[3]=='Vacant Housing Units':\r\n",
        "        #return row[3]\r\n",
        "      if row[1] == 'Total Housing Units':                         \r\n",
        "        total_housing_units[int(row[0])] = int(row[2])  # use if condition to store data for total, vacant, and occupied housing\r\n",
        "      if row[1] == 'Vacant Housing Units':\r\n",
        "        vacant_housing_units[int(row[0])] = int(row[2])\r\n",
        "      if row[1] == 'Occupied Housing Unitss':\r\n",
        "        housing_units_occupied[int(row[0])] = int(row[2]) \r\n",
        "\r\n",
        "print('Year \\t Vacant Housing Units \\t Occupied Housing Units')             # print the header of the table\r\n",
        "\r\n",
        "for year in range(2008,2015):                               #next two lines:# calculate the percentage of the vacant and occupied housing\r\n",
        "  vacant_percent = (vacant_housing_units[year]/total_housing_units[year])*100    \r\n",
        "  occupied_percent = (housing_units_occupied[year]/total_housing_units[year])*100\r\n",
        "  print(str (year)+'\\t\\t'+str (vacant_percent,1)+'%'+'\\t\\t'+str (occupied_percent,1)+'%')\r\n",
        "  year+=1\r\n",
        "\r\n",
        "print()                           # can continue part 4.3 from here or separate\r\n",
        "print()\r\n",
        "year = 2008                       # first time I run that there was no error, after running again I saw this error\r\n",
        "print('\\t\\t Year \\t\\t Value')                 #print headers   \r\n",
        "for item in vacant_housing_units.items():     # use for and if statements to calculate max of vacant and occupied  \r\n",
        "  if item[1] == max(vacant_housing_units.values()):\r\n",
        "    print('Vacant Housing Units'+'\\t'+str (item[0])+'\\t\\t'+str (max(vacant_housing_units.values())))\r\n",
        "for item in housing_units_occupied.items():\r\n",
        "  if item[1] == max(housing_units_occupied.values()):\r\n",
        "    print('Occupied Housing Units'+'\\t'+str (item[0])+'\\t\\t'+str (max(housing_units_occupied.values()))) \r\n",
        "\r\n"
      ],
      "execution_count": 102,
      "outputs": [
        {
          "output_type": "stream",
          "text": [
            "Year \t Vacant Housing Units \t Occupied Housing Units\n"
          ],
          "name": "stdout"
        },
        {
          "output_type": "error",
          "ename": "KeyError",
          "evalue": "ignored",
          "traceback": [
            "\u001b[0;31m---------------------------------------------------------------------------\u001b[0m",
            "\u001b[0;31mKeyError\u001b[0m                                  Traceback (most recent call last)",
            "\u001b[0;32m<ipython-input-102-467d7d1b1d40>\u001b[0m in \u001b[0;36m<module>\u001b[0;34m()\u001b[0m\n\u001b[1;32m     27\u001b[0m \u001b[0;32mfor\u001b[0m \u001b[0myear\u001b[0m \u001b[0;32min\u001b[0m \u001b[0mrange\u001b[0m\u001b[0;34m(\u001b[0m\u001b[0;36m2008\u001b[0m\u001b[0;34m,\u001b[0m\u001b[0;36m2015\u001b[0m\u001b[0;34m)\u001b[0m\u001b[0;34m:\u001b[0m                               \u001b[0;31m#next two lines:# calculate the percentage of the vacant and occupied housing\u001b[0m\u001b[0;34m\u001b[0m\u001b[0;34m\u001b[0m\u001b[0m\n\u001b[1;32m     28\u001b[0m   \u001b[0mvacant_percent\u001b[0m \u001b[0;34m=\u001b[0m \u001b[0;34m(\u001b[0m\u001b[0mvacant_housing_units\u001b[0m\u001b[0;34m[\u001b[0m\u001b[0myear\u001b[0m\u001b[0;34m]\u001b[0m\u001b[0;34m/\u001b[0m\u001b[0mtotal_housing_units\u001b[0m\u001b[0;34m[\u001b[0m\u001b[0myear\u001b[0m\u001b[0;34m]\u001b[0m\u001b[0;34m)\u001b[0m\u001b[0;34m*\u001b[0m\u001b[0;36m100\u001b[0m\u001b[0;34m\u001b[0m\u001b[0;34m\u001b[0m\u001b[0m\n\u001b[0;32m---> 29\u001b[0;31m   \u001b[0moccupied_percent\u001b[0m \u001b[0;34m=\u001b[0m \u001b[0;34m(\u001b[0m\u001b[0mhousing_units_occupied\u001b[0m\u001b[0;34m[\u001b[0m\u001b[0myear\u001b[0m\u001b[0;34m]\u001b[0m\u001b[0;34m/\u001b[0m\u001b[0mtotal_housing_units\u001b[0m\u001b[0;34m[\u001b[0m\u001b[0myear\u001b[0m\u001b[0;34m]\u001b[0m\u001b[0;34m)\u001b[0m\u001b[0;34m*\u001b[0m\u001b[0;36m100\u001b[0m\u001b[0;34m\u001b[0m\u001b[0;34m\u001b[0m\u001b[0m\n\u001b[0m\u001b[1;32m     30\u001b[0m   \u001b[0mprint\u001b[0m\u001b[0;34m(\u001b[0m\u001b[0mstr\u001b[0m \u001b[0;34m(\u001b[0m\u001b[0myear\u001b[0m\u001b[0;34m)\u001b[0m\u001b[0;34m+\u001b[0m\u001b[0;34m'\\t\\t'\u001b[0m\u001b[0;34m+\u001b[0m\u001b[0mstr\u001b[0m \u001b[0;34m(\u001b[0m\u001b[0mvacant_percent\u001b[0m\u001b[0;34m,\u001b[0m\u001b[0;36m1\u001b[0m\u001b[0;34m)\u001b[0m\u001b[0;34m+\u001b[0m\u001b[0;34m'%'\u001b[0m\u001b[0;34m+\u001b[0m\u001b[0;34m'\\t\\t'\u001b[0m\u001b[0;34m+\u001b[0m\u001b[0mstr\u001b[0m \u001b[0;34m(\u001b[0m\u001b[0moccupied_percent\u001b[0m\u001b[0;34m,\u001b[0m\u001b[0;36m1\u001b[0m\u001b[0;34m)\u001b[0m\u001b[0;34m+\u001b[0m\u001b[0;34m'%'\u001b[0m\u001b[0;34m)\u001b[0m\u001b[0;34m\u001b[0m\u001b[0;34m\u001b[0m\u001b[0m\n\u001b[1;32m     31\u001b[0m   \u001b[0myear\u001b[0m\u001b[0;34m+=\u001b[0m\u001b[0;36m1\u001b[0m\u001b[0;34m\u001b[0m\u001b[0;34m\u001b[0m\u001b[0m\n",
            "\u001b[0;31mKeyError\u001b[0m: 2008"
          ]
        }
      ]
    },
    {
      "cell_type": "code",
      "metadata": {
        "colab": {
          "base_uri": "https://localhost:8080/"
        },
        "id": "qpPErFr2Ml6F",
        "outputId": "d9c68364-b3a9-493e-ee12-f42e72a8af77"
      },
      "source": [
        "import csv\r\n",
        "housing_units_occupied = {}\r\n",
        "vacant_housing_units = {}\r\n",
        "with open(\"/content/Assignment1_denton_housing.csv\",'r') as input_file:\r\n",
        "  file_reader = csv.reader(input_file)\r\n",
        "  for row in file_reader:\r\n",
        "    if row[1] == 'Vacant Housing Units':\r\n",
        "        vacant_housing_units[int(row[0])] = int(row[2])\r\n",
        "    if row[1] == 'Occupied Housing Unitss':\r\n",
        "        housing_units_occupied[int(row[0])] = int(row[2]) \r\n",
        "print('\\t\\t\\t Year \\t\\t Value')    \r\n",
        "\r\n",
        "for item in vacant_housing_units.items():\r\n",
        "  if item[1] == max(vacant_housing_units.values()):\r\n",
        "      print('Vacant Housing Units'+'\\t'+' '+str (item[0])+'\\t\\t'+str (max(vacant_housing_units.values())))\r\n",
        "\r\n",
        "for item in housing_units_occupied.items():                    #this part of the code seems that is not readable by the system \r\n",
        "  if item[1] == max(housing_units_occupied.values()):          # ,but I could not find any issue. (I do not know why it is not readable?)       \r\n",
        "      print('Occupied Housing Units'+'\\t'+' '+str (item[0])+'\\t'+str (max(housing_units_occupied.values())))"
      ],
      "execution_count": 89,
      "outputs": [
        {
          "output_type": "stream",
          "text": [
            "\t\t\t Year \t\t Value\n",
            "Vacant Housing Units\t 2008\t\t4483\n"
          ],
          "name": "stdout"
        }
      ]
    },
    {
      "cell_type": "code",
      "metadata": {
        "colab": {
          "base_uri": "https://localhost:8080/"
        },
        "id": "ICdtxaNIVaid",
        "outputId": "710ab0c1-df7c-4ebd-f3ee-7b6b0ed5b0f2"
      },
      "source": [
        "import statistics\r\n",
        "import csv\r\n",
        "def harmonic_mean(arr):\r\n",
        "  sm = 0\r\n",
        "  for i in arr:\r\n",
        "    sm= sm + (1)/i;\r\n",
        "  return len(arr)/ sm\r\n",
        "\r\n",
        "total_housing_units = []\r\n",
        "with open(\"/content/Assignment1_denton_housing.csv\",'r') as input_file:\r\n",
        "  file_reader = csv.reader(input_file)\r\n",
        "  for row in file_reader:\r\n",
        "    if row[1] == 'Total Housing Units':                          \r\n",
        "        total_housing_units.append(int(row[2]))\r\n",
        "print('Harmonic mean is: ', str (harmonic_mean(total_housing_units)))\r\n",
        "\r\n",
        "                     \r\n",
        "\r\n"
      ],
      "execution_count": 99,
      "outputs": [
        {
          "output_type": "stream",
          "text": [
            "Harmonic mean is:  44398.28543969185\n"
          ],
          "name": "stdout"
        }
      ]
    }
  ]
}