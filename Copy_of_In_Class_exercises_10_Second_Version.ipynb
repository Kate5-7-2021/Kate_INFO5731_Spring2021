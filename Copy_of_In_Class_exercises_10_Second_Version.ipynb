{
  "nbformat": 4,
  "nbformat_minor": 0,
  "metadata": {
    "kernelspec": {
      "display_name": "Python 3",
      "language": "python",
      "name": "python3"
    },
    "language_info": {
      "codemirror_mode": {
        "name": "ipython",
        "version": 3
      },
      "file_extension": ".py",
      "mimetype": "text/x-python",
      "name": "python",
      "nbconvert_exporter": "python",
      "pygments_lexer": "ipython3",
      "version": "3.8.5"
    },
    "colab": {
      "name": "Copy of In_Class_exercises_10_Second Version.ipynb",
      "provenance": [],
      "collapsed_sections": [],
      "include_colab_link": true
    }
  },
  "cells": [
    {
      "cell_type": "markdown",
      "metadata": {
        "id": "view-in-github",
        "colab_type": "text"
      },
      "source": [
        "<a href=\"https://colab.research.google.com/github/Kate5-7-2021/Kate_INFO5731_Spring2021/blob/main/Copy_of_In_Class_exercises_10_Second_Version.ipynb\" target=\"_parent\"><img src=\"https://colab.research.google.com/assets/colab-badge.svg\" alt=\"Open In Colab\"/></a>"
      ]
    },
    {
      "cell_type": "markdown",
      "metadata": {
        "id": "M2vXxpQYvKwo"
      },
      "source": [
        "# In class exercise 10 (20 points in total, 4/16/2021)"
      ]
    },
    {
      "cell_type": "markdown",
      "metadata": {
        "id": "fs1tNMuLvKwr"
      },
      "source": [
        "The purpose of the exercise is to practice different machine learning algorithms for text clustering\n",
        "Please downlad the dataset by using the following link.  https://www.kaggle.com/PromptCloudHQ/amazon-reviews-unlocked-mobile-phones\n",
        "(You can also use different text data which you want)\n",
        "\n",
        "Apply the listed clustering methods to the dataset:\n",
        "\n",
        "K means, \n",
        "DBSCAN,\n",
        "Hierarchical clustering. \n",
        "\n",
        "You can refer to of the codes from  the follwing link below. \n",
        "https://www.kaggle.com/karthik3890/text-clustering \n",
        "    "
      ]
    },
    {
      "cell_type": "code",
      "metadata": {
        "colab": {
          "base_uri": "https://localhost:8080/"
        },
        "id": "oY0rS5NqvKws",
        "outputId": "b4f4aafc-155e-4ae1-9c86-62b93f22e2e4"
      },
      "source": [
        "import pandas as pd\n",
        "import numpy as np\n",
        "import matplotlib.pyplot as plt\n",
        "import seaborn as sns\n",
        "import scipy\n",
        "import re\n",
        "import string\n",
        "import nltk\n",
        "import gensim\n",
        "from scipy.cluster import hierarchy\n",
        "from nltk.corpus import stopwords\n",
        "from nltk.stem import PorterStemmer\n",
        "from textblob import Word\n",
        "from textblob import TextBlob\n",
        "from nltk import word_tokenize,sent_tokenize\n",
        "from nltk.stem import WordNetLemmatizer\n",
        "from nltk.stem import PorterStemmer\n",
        "from sklearn.feature_extraction.text import CountVectorizer\n",
        "from sklearn.feature_extraction.text import TfidfVectorizer\n",
        "from sklearn.cluster import KMeans\n",
        "from sklearn.cluster import DBSCAN\n",
        "from sklearn import metrics\n",
        "nltk.download('punkt')\n",
        "nltk.download('stopwords')\n",
        "nltk.download('wordnet')"
      ],
      "execution_count": 1,
      "outputs": [
        {
          "output_type": "stream",
          "text": [
            "[nltk_data] Downloading package punkt to /root/nltk_data...\n",
            "[nltk_data]   Unzipping tokenizers/punkt.zip.\n",
            "[nltk_data] Downloading package stopwords to /root/nltk_data...\n",
            "[nltk_data]   Unzipping corpora/stopwords.zip.\n",
            "[nltk_data] Downloading package wordnet to /root/nltk_data...\n",
            "[nltk_data]   Unzipping corpora/wordnet.zip.\n"
          ],
          "name": "stdout"
        },
        {
          "output_type": "execute_result",
          "data": {
            "text/plain": [
              "True"
            ]
          },
          "metadata": {
            "tags": []
          },
          "execution_count": 1
        }
      ]
    },
    {
      "cell_type": "code",
      "metadata": {
        "id": "DWALfg6A5NKK"
      },
      "source": [
        "csvfile = open('/content/Amazon_Unlocked_Mobile.csv', 'r').readlines()           #Code to split data to use 20% of the data\n",
        "filename = 1\n",
        "for i in range(len(csvfile)):\n",
        "     if i % 40000 == 0:\n",
        "         open(str(filename) + '.csv', 'w+').writelines(csvfile[i:i+40000])\n",
        "         filename += 1"
      ],
      "execution_count": 2,
      "outputs": []
    },
    {
      "cell_type": "code",
      "metadata": {
        "colab": {
          "base_uri": "https://localhost:8080/"
        },
        "id": "PHaOEKsFwI7p",
        "outputId": "05325a9f-b1e2-4952-e4e9-109c7e9e2d21"
      },
      "source": [
        "df_split=pd.read_csv(\"/content/1.csv\")\n",
        "print(df_split.shape)"
      ],
      "execution_count": 11,
      "outputs": [
        {
          "output_type": "stream",
          "text": [
            "(39991, 6)\n"
          ],
          "name": "stdout"
        }
      ]
    },
    {
      "cell_type": "code",
      "metadata": {
        "colab": {
          "base_uri": "https://localhost:8080/",
          "height": 417
        },
        "id": "XX_3ONmzwI2j",
        "outputId": "54841586-1e68-46b7-cce6-0fe74d9a0bfa"
      },
      "source": [
        "df=df_split.head(5000)\n",
        "df"
      ],
      "execution_count": 13,
      "outputs": [
        {
          "output_type": "execute_result",
          "data": {
            "text/html": [
              "<div>\n",
              "<style scoped>\n",
              "    .dataframe tbody tr th:only-of-type {\n",
              "        vertical-align: middle;\n",
              "    }\n",
              "\n",
              "    .dataframe tbody tr th {\n",
              "        vertical-align: top;\n",
              "    }\n",
              "\n",
              "    .dataframe thead th {\n",
              "        text-align: right;\n",
              "    }\n",
              "</style>\n",
              "<table border=\"1\" class=\"dataframe\">\n",
              "  <thead>\n",
              "    <tr style=\"text-align: right;\">\n",
              "      <th></th>\n",
              "      <th>Product Name</th>\n",
              "      <th>Brand Name</th>\n",
              "      <th>Price</th>\n",
              "      <th>Rating</th>\n",
              "      <th>Reviews</th>\n",
              "      <th>Review Votes</th>\n",
              "    </tr>\n",
              "  </thead>\n",
              "  <tbody>\n",
              "    <tr>\n",
              "      <th>0</th>\n",
              "      <td>\"CLEAR CLEAN ESN\" Sprint EPIC 4G Galaxy SPH-D7...</td>\n",
              "      <td>Samsung</td>\n",
              "      <td>199.99</td>\n",
              "      <td>5</td>\n",
              "      <td>I feel so LUCKY to have found this used (phone...</td>\n",
              "      <td>1.0</td>\n",
              "    </tr>\n",
              "    <tr>\n",
              "      <th>1</th>\n",
              "      <td>\"CLEAR CLEAN ESN\" Sprint EPIC 4G Galaxy SPH-D7...</td>\n",
              "      <td>Samsung</td>\n",
              "      <td>199.99</td>\n",
              "      <td>4</td>\n",
              "      <td>nice phone, nice up grade from my pantach revu...</td>\n",
              "      <td>0.0</td>\n",
              "    </tr>\n",
              "    <tr>\n",
              "      <th>2</th>\n",
              "      <td>\"CLEAR CLEAN ESN\" Sprint EPIC 4G Galaxy SPH-D7...</td>\n",
              "      <td>Samsung</td>\n",
              "      <td>199.99</td>\n",
              "      <td>5</td>\n",
              "      <td>Very pleased</td>\n",
              "      <td>0.0</td>\n",
              "    </tr>\n",
              "    <tr>\n",
              "      <th>3</th>\n",
              "      <td>\"CLEAR CLEAN ESN\" Sprint EPIC 4G Galaxy SPH-D7...</td>\n",
              "      <td>Samsung</td>\n",
              "      <td>199.99</td>\n",
              "      <td>4</td>\n",
              "      <td>It works good but it goes slow sometimes but i...</td>\n",
              "      <td>0.0</td>\n",
              "    </tr>\n",
              "    <tr>\n",
              "      <th>4</th>\n",
              "      <td>\"CLEAR CLEAN ESN\" Sprint EPIC 4G Galaxy SPH-D7...</td>\n",
              "      <td>Samsung</td>\n",
              "      <td>199.99</td>\n",
              "      <td>4</td>\n",
              "      <td>Great phone to replace my lost phone. The only...</td>\n",
              "      <td>0.0</td>\n",
              "    </tr>\n",
              "    <tr>\n",
              "      <th>...</th>\n",
              "      <td>...</td>\n",
              "      <td>...</td>\n",
              "      <td>...</td>\n",
              "      <td>...</td>\n",
              "      <td>...</td>\n",
              "      <td>...</td>\n",
              "    </tr>\n",
              "    <tr>\n",
              "      <th>4995</th>\n",
              "      <td>Apple iPhone 3GS 16GB (Black) - AT&amp;T MC135LL/A</td>\n",
              "      <td>Apple</td>\n",
              "      <td>30.99</td>\n",
              "      <td>5</td>\n",
              "      <td>This review is not for the product as you may ...</td>\n",
              "      <td>64.0</td>\n",
              "    </tr>\n",
              "    <tr>\n",
              "      <th>4996</th>\n",
              "      <td>Apple iPhone 3GS 16GB (Black) - AT&amp;T MC135LL/A</td>\n",
              "      <td>Apple</td>\n",
              "      <td>30.99</td>\n",
              "      <td>4</td>\n",
              "      <td>The product was in good structure. I'm still n...</td>\n",
              "      <td>0.0</td>\n",
              "    </tr>\n",
              "    <tr>\n",
              "      <th>4997</th>\n",
              "      <td>Apple iPhone 3GS 16GB (Black) - AT&amp;T MC135LL/A</td>\n",
              "      <td>Apple</td>\n",
              "      <td>30.99</td>\n",
              "      <td>1</td>\n",
              "      <td>The iPhone was fine. It works and is in good c...</td>\n",
              "      <td>157.0</td>\n",
              "    </tr>\n",
              "    <tr>\n",
              "      <th>4998</th>\n",
              "      <td>Apple iPhone 3GS 16GB (Black) - AT&amp;T MC135LL/A</td>\n",
              "      <td>Apple</td>\n",
              "      <td>30.99</td>\n",
              "      <td>2</td>\n",
              "      <td>Screen cracked really quick.</td>\n",
              "      <td>0.0</td>\n",
              "    </tr>\n",
              "    <tr>\n",
              "      <th>4999</th>\n",
              "      <td>Apple iPhone 3GS 16GB (Black) - AT&amp;T MC135LL/A</td>\n",
              "      <td>Apple</td>\n",
              "      <td>30.99</td>\n",
              "      <td>1</td>\n",
              "      <td>Will never buy anything again. I received it a...</td>\n",
              "      <td>0.0</td>\n",
              "    </tr>\n",
              "  </tbody>\n",
              "</table>\n",
              "<p>5000 rows × 6 columns</p>\n",
              "</div>"
            ],
            "text/plain": [
              "                                           Product Name  ... Review Votes\n",
              "0     \"CLEAR CLEAN ESN\" Sprint EPIC 4G Galaxy SPH-D7...  ...          1.0\n",
              "1     \"CLEAR CLEAN ESN\" Sprint EPIC 4G Galaxy SPH-D7...  ...          0.0\n",
              "2     \"CLEAR CLEAN ESN\" Sprint EPIC 4G Galaxy SPH-D7...  ...          0.0\n",
              "3     \"CLEAR CLEAN ESN\" Sprint EPIC 4G Galaxy SPH-D7...  ...          0.0\n",
              "4     \"CLEAR CLEAN ESN\" Sprint EPIC 4G Galaxy SPH-D7...  ...          0.0\n",
              "...                                                 ...  ...          ...\n",
              "4995     Apple iPhone 3GS 16GB (Black) - AT&T MC135LL/A  ...         64.0\n",
              "4996     Apple iPhone 3GS 16GB (Black) - AT&T MC135LL/A  ...          0.0\n",
              "4997     Apple iPhone 3GS 16GB (Black) - AT&T MC135LL/A  ...        157.0\n",
              "4998     Apple iPhone 3GS 16GB (Black) - AT&T MC135LL/A  ...          0.0\n",
              "4999     Apple iPhone 3GS 16GB (Black) - AT&T MC135LL/A  ...          0.0\n",
              "\n",
              "[5000 rows x 6 columns]"
            ]
          },
          "metadata": {
            "tags": []
          },
          "execution_count": 13
        }
      ]
    },
    {
      "cell_type": "markdown",
      "metadata": {
        "id": "iOmd_Ldh-Ehd"
      },
      "source": [
        "##**Remove Null Values**"
      ]
    },
    {
      "cell_type": "code",
      "metadata": {
        "colab": {
          "base_uri": "https://localhost:8080/"
        },
        "id": "G4l-Jr-O8vGe",
        "outputId": "36ce39cc-ad42-4fcc-ebc5-67339a05aefe"
      },
      "source": [
        "df= df.dropna()                  #there are some null values to be removed\n",
        "print(df.shape)                  # For this assignment I follow the reference code to practice the model with my dataset."
      ],
      "execution_count": 16,
      "outputs": [
        {
          "output_type": "stream",
          "text": [
            "(3422, 6)\n"
          ],
          "name": "stdout"
        }
      ]
    },
    {
      "cell_type": "markdown",
      "metadata": {
        "id": "QS6u5Gjk-Ns3"
      },
      "source": [
        "##**Visualize Rating**"
      ]
    },
    {
      "cell_type": "code",
      "metadata": {
        "colab": {
          "base_uri": "https://localhost:8080/",
          "height": 350
        },
        "id": "3lAW6lOVwIzW",
        "outputId": "1d9a3dc9-3541-4fc4-d88d-0a7580dcc1fe"
      },
      "source": [
        "sns.countplot(df.Rating)"
      ],
      "execution_count": 17,
      "outputs": [
        {
          "output_type": "stream",
          "text": [
            "/usr/local/lib/python3.7/dist-packages/seaborn/_decorators.py:43: FutureWarning: Pass the following variable as a keyword arg: x. From version 0.12, the only valid positional argument will be `data`, and passing other arguments without an explicit keyword will result in an error or misinterpretation.\n",
            "  FutureWarning\n"
          ],
          "name": "stderr"
        },
        {
          "output_type": "execute_result",
          "data": {
            "text/plain": [
              "<matplotlib.axes._subplots.AxesSubplot at 0x7fadc0932fd0>"
            ]
          },
          "metadata": {
            "tags": []
          },
          "execution_count": 17
        },
        {
          "output_type": "display_data",
          "data": {
            "image/png": "[encoded data removed]",
            "text/plain": [
              "<Figure size 432x288 with 1 Axes>"
            ]
          },
          "metadata": {
            "tags": [],
            "needs_background": "light"
          }
        }
      ]
    },
    {
      "cell_type": "markdown",
      "metadata": {
        "id": "IomRaiB1Fyi0"
      },
      "source": [
        "##**Convert numerical rate to categorical rate**"
      ]
    },
    {
      "cell_type": "code",
      "metadata": {
        "colab": {
          "base_uri": "https://localhost:8080/",
          "height": 305
        },
        "id": "HrOQizT1FTgK",
        "outputId": "d5cef0b3-6cff-46f3-fe10-b78761fd78fc"
      },
      "source": [
        "def classification(rating):\n",
        "  if rating<3:\n",
        "    return 'negative'\n",
        "  return 'positive'\n",
        "\n",
        "pos_neg_rating=df['Rating'].map(classification)\n",
        "df['pos_neg_Rating']=pos_neg_rating\n",
        "df.head()"
      ],
      "execution_count": 18,
      "outputs": [
        {
          "output_type": "execute_result",
          "data": {
            "text/html": [
              "<div>\n",
              "<style scoped>\n",
              "    .dataframe tbody tr th:only-of-type {\n",
              "        vertical-align: middle;\n",
              "    }\n",
              "\n",
              "    .dataframe tbody tr th {\n",
              "        vertical-align: top;\n",
              "    }\n",
              "\n",
              "    .dataframe thead th {\n",
              "        text-align: right;\n",
              "    }\n",
              "</style>\n",
              "<table border=\"1\" class=\"dataframe\">\n",
              "  <thead>\n",
              "    <tr style=\"text-align: right;\">\n",
              "      <th></th>\n",
              "      <th>Product Name</th>\n",
              "      <th>Brand Name</th>\n",
              "      <th>Price</th>\n",
              "      <th>Rating</th>\n",
              "      <th>Reviews</th>\n",
              "      <th>Review Votes</th>\n",
              "      <th>pos_neg_Rating</th>\n",
              "    </tr>\n",
              "  </thead>\n",
              "  <tbody>\n",
              "    <tr>\n",
              "      <th>0</th>\n",
              "      <td>\"CLEAR CLEAN ESN\" Sprint EPIC 4G Galaxy SPH-D7...</td>\n",
              "      <td>Samsung</td>\n",
              "      <td>199.99</td>\n",
              "      <td>5</td>\n",
              "      <td>I feel so LUCKY to have found this used (phone...</td>\n",
              "      <td>1.0</td>\n",
              "      <td>positive</td>\n",
              "    </tr>\n",
              "    <tr>\n",
              "      <th>1</th>\n",
              "      <td>\"CLEAR CLEAN ESN\" Sprint EPIC 4G Galaxy SPH-D7...</td>\n",
              "      <td>Samsung</td>\n",
              "      <td>199.99</td>\n",
              "      <td>4</td>\n",
              "      <td>nice phone, nice up grade from my pantach revu...</td>\n",
              "      <td>0.0</td>\n",
              "      <td>positive</td>\n",
              "    </tr>\n",
              "    <tr>\n",
              "      <th>2</th>\n",
              "      <td>\"CLEAR CLEAN ESN\" Sprint EPIC 4G Galaxy SPH-D7...</td>\n",
              "      <td>Samsung</td>\n",
              "      <td>199.99</td>\n",
              "      <td>5</td>\n",
              "      <td>Very pleased</td>\n",
              "      <td>0.0</td>\n",
              "      <td>positive</td>\n",
              "    </tr>\n",
              "    <tr>\n",
              "      <th>3</th>\n",
              "      <td>\"CLEAR CLEAN ESN\" Sprint EPIC 4G Galaxy SPH-D7...</td>\n",
              "      <td>Samsung</td>\n",
              "      <td>199.99</td>\n",
              "      <td>4</td>\n",
              "      <td>It works good but it goes slow sometimes but i...</td>\n",
              "      <td>0.0</td>\n",
              "      <td>positive</td>\n",
              "    </tr>\n",
              "    <tr>\n",
              "      <th>4</th>\n",
              "      <td>\"CLEAR CLEAN ESN\" Sprint EPIC 4G Galaxy SPH-D7...</td>\n",
              "      <td>Samsung</td>\n",
              "      <td>199.99</td>\n",
              "      <td>4</td>\n",
              "      <td>Great phone to replace my lost phone. The only...</td>\n",
              "      <td>0.0</td>\n",
              "      <td>positive</td>\n",
              "    </tr>\n",
              "  </tbody>\n",
              "</table>\n",
              "</div>"
            ],
            "text/plain": [
              "                                        Product Name  ... pos_neg_Rating\n",
              "0  \"CLEAR CLEAN ESN\" Sprint EPIC 4G Galaxy SPH-D7...  ...       positive\n",
              "1  \"CLEAR CLEAN ESN\" Sprint EPIC 4G Galaxy SPH-D7...  ...       positive\n",
              "2  \"CLEAR CLEAN ESN\" Sprint EPIC 4G Galaxy SPH-D7...  ...       positive\n",
              "3  \"CLEAR CLEAN ESN\" Sprint EPIC 4G Galaxy SPH-D7...  ...       positive\n",
              "4  \"CLEAR CLEAN ESN\" Sprint EPIC 4G Galaxy SPH-D7...  ...       positive\n",
              "\n",
              "[5 rows x 7 columns]"
            ]
          },
          "metadata": {
            "tags": []
          },
          "execution_count": 18
        }
      ]
    },
    {
      "cell_type": "code",
      "metadata": {
        "colab": {
          "base_uri": "https://localhost:8080/"
        },
        "id": "WgQhua-UM5uZ",
        "outputId": "8f51a6c3-04ab-45f8-dab2-56c3aa491e98"
      },
      "source": [
        "df['pos_neg_Rating'].value_counts()"
      ],
      "execution_count": 19,
      "outputs": [
        {
          "output_type": "execute_result",
          "data": {
            "text/plain": [
              "positive    2522\n",
              "negative     900\n",
              "Name: pos_neg_Rating, dtype: int64"
            ]
          },
          "metadata": {
            "tags": []
          },
          "execution_count": 19
        }
      ]
    },
    {
      "cell_type": "markdown",
      "metadata": {
        "id": "VmkK4404-WIF"
      },
      "source": [
        "##**Data Cleaning**"
      ]
    },
    {
      "cell_type": "code",
      "metadata": {
        "id": "39xOCTvKwIwl"
      },
      "source": [
        "#df.drop_duplicates()\n"
      ],
      "execution_count": 21,
      "outputs": []
    },
    {
      "cell_type": "code",
      "metadata": {
        "colab": {
          "base_uri": "https://localhost:8080/",
          "height": 351
        },
        "id": "hn1K_FnKwIt3",
        "outputId": "768d8b4b-1025-4d61-e8fd-246fa72a9e52"
      },
      "source": [
        "sns.countplot(df.pos_neg_Rating)"
      ],
      "execution_count": 22,
      "outputs": [
        {
          "output_type": "stream",
          "text": [
            "/usr/local/lib/python3.7/dist-packages/seaborn/_decorators.py:43: FutureWarning: Pass the following variable as a keyword arg: x. From version 0.12, the only valid positional argument will be `data`, and passing other arguments without an explicit keyword will result in an error or misinterpretation.\n",
            "  FutureWarning\n"
          ],
          "name": "stderr"
        },
        {
          "output_type": "execute_result",
          "data": {
            "text/plain": [
              "<matplotlib.axes._subplots.AxesSubplot at 0x7fadc0742d10>"
            ]
          },
          "metadata": {
            "tags": []
          },
          "execution_count": 22
        },
        {
          "output_type": "display_data",
          "data": {
            "image/png": "[encoded data removed]",
            "text/plain": [
              "<Figure size 432x288 with 1 Axes>"
            ]
          },
          "metadata": {
            "tags": [],
            "needs_background": "light"
          }
        }
      ]
    },
    {
      "cell_type": "markdown",
      "metadata": {
        "id": "laCR1MHhTWMl"
      },
      "source": [
        "###**Text Processing**"
      ]
    },
    {
      "cell_type": "code",
      "metadata": {
        "colab": {
          "base_uri": "https://localhost:8080/"
        },
        "id": "8i7YuOCCwIqi",
        "outputId": "eb6f755a-290a-491d-8f21-9f4ff06f68b8"
      },
      "source": [
        "#Find sentences with HTML tags\n",
        "\n",
        "#import re        required library\n",
        "i=0;\n",
        "for sent in df['Reviews'].values:\n",
        "  if (len(re.findall('<.*?>', sent))):\n",
        "    print(i)\n",
        "    print(sent)\n",
        "    break;\n",
        "  i += 1;"
      ],
      "execution_count": 23,
      "outputs": [
        {
          "output_type": "stream",
          "text": [
            "3205\n",
            "Unless you know how to jail break this phone... what's the point? Most apps don't support this old phone. <(it's not really old, they just want you to spend money on the newer version. wtf? but whatever)>\n"
          ],
          "name": "stdout"
        }
      ]
    },
    {
      "cell_type": "code",
      "metadata": {
        "id": "DK9Kvw3TwK6M"
      },
      "source": [
        "sno=nltk.stem.SnowballStemmer('english')    \n",
        "stop=set(stopwords.words('english'))"
      ],
      "execution_count": 26,
      "outputs": []
    },
    {
      "cell_type": "code",
      "metadata": {
        "id": "8x9tZGlJwInP"
      },
      "source": [
        "#import nltk                                   required library\n",
        "#from nltk.corpus import stopwords\n",
        "\n",
        "#clean all html tags\n",
        "def cleanhtml(sentence):\n",
        "  cleanr = re.compile('<.*?>')\n",
        "  cleantext = re.sub(cleanr,' ', sentence)\n",
        "  return cleantext\n",
        "\n",
        "#df['Cleaned Reviews'] = df['Cleaned Reviews'].apply(lambda x: cleanhtml(x))"
      ],
      "execution_count": 27,
      "outputs": []
    },
    {
      "cell_type": "code",
      "metadata": {
        "id": "QDOaX7bmVf6T",
        "colab": {
          "base_uri": "https://localhost:8080/"
        },
        "outputId": "c550d684-abda-413f-c9f5-4e9086bf6a78"
      },
      "source": [
        "#clean all punctuations or special characters\n",
        "def cleanpunc(sentence):\n",
        "  cleanp = re.sub(r'[?|i|\\'|#]',r'',sentence)\n",
        "  clean_df = re.sub(r'[.|,|)|(|\\|/]',r'',cleanp)\n",
        "  return clean_df\n",
        "print(stop)\n",
        "print('************************************************************************') \n",
        "print(sno.stem('tasty'))"
      ],
      "execution_count": 29,
      "outputs": [
        {
          "output_type": "stream",
          "text": [
            "{'a', \"she's\", 'isn', 're', 'below', \"isn't\", 'mightn', 'weren', 'yours', \"shan't\", 'his', 'ma', 'before', 'from', 'but', 'or', 'she', 'here', 'there', 'does', 'only', 'not', 'are', 'he', 'himself', 'itself', 'd', \"wasn't\", 'herself', 't', \"you'd\", 'shan', 'ain', \"mustn't\", 'these', 'ours', 'just', 'on', 'those', 'own', 'for', 'll', 'my', 'while', 'when', \"hasn't\", 'no', 'her', \"that'll\", 'why', \"hadn't\", 'was', 'y', \"won't\", 'will', 'same', 'too', 'because', 'can', 'should', 've', 'if', 'where', 'couldn', 'me', \"it's\", 'won', 'whom', 'have', 'about', 'any', 'during', 'in', \"mightn't\", 'further', 'nor', 'this', 'themselves', 'be', 'both', 'few', \"don't\", \"you'll\", 'each', \"should've\", 'needn', 'most', 'that', 'with', 'an', 'more', 'of', 'doing', 'now', 'ourselves', 'doesn', \"haven't\", 'up', 'had', 'myself', \"doesn't\", 'as', 'do', 'didn', 'very', 'its', 'against', 'hasn', 'then', 'yourselves', \"you're\", 'them', 's', 'once', 'our', 'above', 'aren', \"weren't\", 'through', 'than', 'by', 'is', 'the', 'haven', 'until', \"shouldn't\", 'don', 'yourself', 'so', 'i', 'has', 'theirs', \"couldn't\", 'hers', 'into', 'what', 'off', \"didn't\", \"wouldn't\", 'were', 'after', 'how', \"you've\", 'it', \"aren't\", 'been', 'they', 'being', 'did', 'such', 'we', 'again', 'you', 'between', 'him', 'having', 'and', 'hadn', 'wasn', \"needn't\", 'am', 'm', 'to', 'all', 'over', 'their', 'out', 'shouldn', 'your', 'which', 'other', 'some', 'o', 'wouldn', 'mustn', 'down', 'who', 'at', 'under'}\n",
            "************************************************************************\n",
            "tasti\n"
          ],
          "name": "stdout"
        }
      ]
    },
    {
      "cell_type": "code",
      "metadata": {
        "id": "9K_upxH7sPjg"
      },
      "source": [
        "#cleaning\n",
        "#remove punctuation\n",
        "#df['Cleaned Reviews']=df['Reviews'].str.replace('[^\\w\\s]','')\n",
        "#remove special characters\n",
        "#df['Cleaned Reviews']=df['Cleaned Reviews'].str.replace(r\"[^a-zA-Z0-9]\", ' ') \n",
        "#remove stop words\n",
        "#stop=stopwords.words('english')\n",
        "#df['Cleaned Reviews']=df['Cleaned Reviews'].apply(lambda x:\" \".join(x for x in x.split() if x not in stop))\n",
        "#lowercase\n",
        "#df['Cleaned Reviews']=df['Cleaned Reviews'].str.lower()\n",
        "#stemming\n",
        "#st=PorterStemmer()\n",
        "#df['Cleaned Reviews']=df['Cleaned Reviews'].apply(lambda x:\" \".join([st.stem(word) for word in x.split()]))\n",
        "#Tokenization\n",
        "#df['Cleaned Reviews']=df['Cleaned Reviews'].apply(lambda x:TextBlob(x).words)\n",
        "#lemmatization\n",
        "#df['Cleaned Reviews']=df['Cleaned Reviews'].apply(lambda x: \" \".join([Word(word).lemmatize() for word in x]))\n",
        "#print clean dataframe\n",
        "#df"
      ],
      "execution_count": 30,
      "outputs": []
    },
    {
      "cell_type": "code",
      "metadata": {
        "id": "Ho9S8jHsxtq-"
      },
      "source": [
        "i=0\n",
        "str1=' '\n",
        "df_string=[]\n",
        "all_positive_words=[]\n",
        "all_negative_words=[]\n",
        "s=''\n",
        "for sent in df['Reviews'].values:\n",
        "  filtered_sentence=[]\n",
        "  sent=cleanhtml(sent)\n",
        "  for w in sent.split():\n",
        "    for clean_df_words in cleanpunc(w).split():\n",
        "      if((clean_df_words.isalpha()) & (len(clean_df_words)>2)):\n",
        "        if (clean_df_words.lower() not in stop):\n",
        "          s=(sno.stem(clean_df_words.lower())).encode('utf8')\n",
        "          filtered_sentence.append(s)\n",
        "          if (df['pos_neg_Rating'].values)[i]=='positive':\n",
        "            all_positive_words.append(s)\n",
        "          if (df['pos_neg_Rating'].values)[i]=='negative':\n",
        "            all_negative_words.append(s)\n",
        "        else:\n",
        "          continue\n",
        "      else:\n",
        "        continue\n",
        "  str1 = b\" \".join(filtered_sentence)\n",
        "  df_string.append(str1)\n",
        "  i+=1\n"
      ],
      "execution_count": 35,
      "outputs": []
    },
    {
      "cell_type": "code",
      "metadata": {
        "id": "MpBkgxV9nOXW"
      },
      "source": [
        "df['Cleaned Reviews']=df_string\n",
        "df['Cleaned Reviews']=df['Cleaned Reviews'].str.decode(\"utf-8\")"
      ],
      "execution_count": 37,
      "outputs": []
    },
    {
      "cell_type": "code",
      "metadata": {
        "colab": {
          "base_uri": "https://localhost:8080/"
        },
        "id": "o1DJYj3Pnm_L",
        "outputId": "935ed219-6565-4578-e802-e0e2d713e876"
      },
      "source": [
        "df.shape"
      ],
      "execution_count": 38,
      "outputs": [
        {
          "output_type": "execute_result",
          "data": {
            "text/plain": [
              "(3422, 8)"
            ]
          },
          "metadata": {
            "tags": []
          },
          "execution_count": 38
        }
      ]
    },
    {
      "cell_type": "markdown",
      "metadata": {
        "id": "b43WxPuFH9x7"
      },
      "source": [
        "##**K means Clustering**"
      ]
    },
    {
      "cell_type": "code",
      "metadata": {
        "colab": {
          "base_uri": "https://localhost:8080/"
        },
        "id": "4zY91qZVVf1W",
        "outputId": "f0b707f8-0645-4cd6-910b-e58b09b9d35e"
      },
      "source": [
        "count_vect = CountVectorizer()                   #using bag of words\n",
        "bow = count_vect.fit_transform(df['Cleaned Reviews'].values)\n",
        "bow.shape"
      ],
      "execution_count": 39,
      "outputs": [
        {
          "output_type": "execute_result",
          "data": {
            "text/plain": [
              "(3422, 6876)"
            ]
          },
          "metadata": {
            "tags": []
          },
          "execution_count": 39
        }
      ]
    },
    {
      "cell_type": "code",
      "metadata": {
        "colab": {
          "base_uri": "https://localhost:8080/"
        },
        "id": "OM_LSZFFVfyO",
        "outputId": "f02677f5-b1d5-49c6-c294-863fd76ce23e"
      },
      "source": [
        "bow"
      ],
      "execution_count": 41,
      "outputs": [
        {
          "output_type": "execute_result",
          "data": {
            "text/plain": [
              "<3422x6876 sparse matrix of type '<class 'numpy.int64'>'\n",
              "\twith 86018 stored elements in Compressed Sparse Row format>"
            ]
          },
          "metadata": {
            "tags": []
          },
          "execution_count": 41
        }
      ]
    },
    {
      "cell_type": "code",
      "metadata": {
        "colab": {
          "base_uri": "https://localhost:8080/"
        },
        "id": "4zWwVPJIVfvP",
        "outputId": "50b9e266-1f2d-4ef6-a4e4-aa59d9b1d956"
      },
      "source": [
        "#the kind of words generated as columns by bow\n",
        "column_word= count_vect.get_feature_names()\n",
        "# check first 20 columns generated by bow\n",
        "column_word[1:20]"
      ],
      "execution_count": 42,
      "outputs": [
        {
          "output_type": "execute_result",
          "data": {
            "text/plain": [
              "['abett',\n",
              " 'abl',\n",
              " 'ablti',\n",
              " 'abnorm',\n",
              " 'absolut',\n",
              " 'absorbng',\n",
              " 'absurd',\n",
              " 'abund',\n",
              " 'abus',\n",
              " 'abut',\n",
              " 'abysm',\n",
              " 'abysmaltap',\n",
              " 'acatel',\n",
              " 'accdent',\n",
              " 'accent',\n",
              " 'accept',\n",
              " 'acceptng',\n",
              " 'accesor',\n",
              " 'access']"
            ]
          },
          "metadata": {
            "tags": []
          },
          "execution_count": 42
        }
      ]
    },
    {
      "cell_type": "code",
      "metadata": {
        "id": "28-M2QQHVfrr",
        "colab": {
          "base_uri": "https://localhost:8080/"
        },
        "outputId": "e562b8ee-418e-4b1a-ba58-6b13aaa32acd"
      },
      "source": [
        "#using k-means++ \n",
        "model = KMeans(n_clusters = 10,init='k-means++', n_jobs = -1,random_state=99)\n",
        "model.fit(bow)"
      ],
      "execution_count": 43,
      "outputs": [
        {
          "output_type": "execute_result",
          "data": {
            "text/plain": [
              "KMeans(algorithm='auto', copy_x=True, init='k-means++', max_iter=300,\n",
              "       n_clusters=10, n_init=10, n_jobs=-1, precompute_distances='auto',\n",
              "       random_state=99, tol=0.0001, verbose=0)"
            ]
          },
          "metadata": {
            "tags": []
          },
          "execution_count": 43
        }
      ]
    },
    {
      "cell_type": "code",
      "metadata": {
        "id": "FuNKqyPqVfoT"
      },
      "source": [
        "#kmeans = KMeans(n_clusters=10, init='k-means++', n_init=10, max_iter=300, tol=0.0001, precompute_distances='auto', \n",
        "                #verbose=0, random_state=99, copy_x=True, n_jobs=-1, algorithm='auto')\n",
        "#kmeans.fit(bow)"
      ],
      "execution_count": null,
      "outputs": []
    },
    {
      "cell_type": "code",
      "metadata": {
        "id": "kgJm6BoQofG4"
      },
      "source": [
        "labels = model.labels_\n",
        "cluster_center=model.cluster_centers_"
      ],
      "execution_count": 44,
      "outputs": []
    },
    {
      "cell_type": "code",
      "metadata": {
        "colab": {
          "base_uri": "https://localhost:8080/"
        },
        "id": "qwWXUSCwopkZ",
        "outputId": "b91edd67-a2c4-4f2e-f2f3-35b2bf472411"
      },
      "source": [
        "cluster_center"
      ],
      "execution_count": 45,
      "outputs": [
        {
          "output_type": "execute_result",
          "data": {
            "text/plain": [
              "array([[0.00684932, 0.        , 0.23287671, ..., 0.        , 0.        ,\n",
              "        0.        ],\n",
              "       [0.        , 0.        , 0.01075269, ..., 0.        , 0.        ,\n",
              "        0.        ],\n",
              "       [0.        , 0.        , 1.        , ..., 0.        , 0.        ,\n",
              "        0.        ],\n",
              "       ...,\n",
              "       [0.        , 0.00124844, 0.04244694, ..., 0.00124844, 0.        ,\n",
              "        0.        ],\n",
              "       [0.        , 0.        , 0.7037037 , ..., 0.        , 0.        ,\n",
              "        0.07407407],\n",
              "       [0.        , 0.        , 1.        , ..., 0.        , 0.        ,\n",
              "        0.        ]])"
            ]
          },
          "metadata": {
            "tags": []
          },
          "execution_count": 45
        }
      ]
    },
    {
      "cell_type": "code",
      "metadata": {
        "id": "BSPUiEOIozkC"
      },
      "source": [
        "silhouette_score = metrics.silhouette_score(bow, labels, metric='euclidean')"
      ],
      "execution_count": 46,
      "outputs": []
    },
    {
      "cell_type": "code",
      "metadata": {
        "colab": {
          "base_uri": "https://localhost:8080/"
        },
        "id": "zL14kx6Ao5vs",
        "outputId": "9bdd8a98-0e28-4cbd-ccd8-c0b8081045ae"
      },
      "source": [
        "silhouette_score"
      ],
      "execution_count": 47,
      "outputs": [
        {
          "output_type": "execute_result",
          "data": {
            "text/plain": [
              "0.21178700336553022"
            ]
          },
          "metadata": {
            "tags": []
          },
          "execution_count": 47
        }
      ]
    },
    {
      "cell_type": "code",
      "metadata": {
        "colab": {
          "base_uri": "https://localhost:8080/",
          "height": 390
        },
        "id": "dhlUtmYFo-0N",
        "outputId": "619133ac-98df-479b-b940-c840e19c9214"
      },
      "source": [
        "df = df\n",
        "df['Bow Clus Label'] = model.labels_\n",
        "df.head()"
      ],
      "execution_count": 49,
      "outputs": [
        {
          "output_type": "execute_result",
          "data": {
            "text/html": [
              "<div>\n",
              "<style scoped>\n",
              "    .dataframe tbody tr th:only-of-type {\n",
              "        vertical-align: middle;\n",
              "    }\n",
              "\n",
              "    .dataframe tbody tr th {\n",
              "        vertical-align: top;\n",
              "    }\n",
              "\n",
              "    .dataframe thead th {\n",
              "        text-align: right;\n",
              "    }\n",
              "</style>\n",
              "<table border=\"1\" class=\"dataframe\">\n",
              "  <thead>\n",
              "    <tr style=\"text-align: right;\">\n",
              "      <th></th>\n",
              "      <th>Product Name</th>\n",
              "      <th>Brand Name</th>\n",
              "      <th>Price</th>\n",
              "      <th>Rating</th>\n",
              "      <th>Reviews</th>\n",
              "      <th>Review Votes</th>\n",
              "      <th>pos_neg_Rating</th>\n",
              "      <th>Cleaned Reviews</th>\n",
              "      <th>Bow Clus Label</th>\n",
              "    </tr>\n",
              "  </thead>\n",
              "  <tbody>\n",
              "    <tr>\n",
              "      <th>0</th>\n",
              "      <td>\"CLEAR CLEAN ESN\" Sprint EPIC 4G Galaxy SPH-D7...</td>\n",
              "      <td>Samsung</td>\n",
              "      <td>199.99</td>\n",
              "      <td>5</td>\n",
              "      <td>I feel so LUCKY to have found this used (phone...</td>\n",
              "      <td>1.0</td>\n",
              "      <td>positive</td>\n",
              "      <td>feel lucki found ths use phone use hard phone ...</td>\n",
              "      <td>7</td>\n",
              "    </tr>\n",
              "    <tr>\n",
              "      <th>1</th>\n",
              "      <td>\"CLEAR CLEAN ESN\" Sprint EPIC 4G Galaxy SPH-D7...</td>\n",
              "      <td>Samsung</td>\n",
              "      <td>199.99</td>\n",
              "      <td>4</td>\n",
              "      <td>nice phone, nice up grade from my pantach revu...</td>\n",
              "      <td>0.0</td>\n",
              "      <td>positive</td>\n",
              "      <td>nce phone nce grade pantach revu clean set eas...</td>\n",
              "      <td>7</td>\n",
              "    </tr>\n",
              "    <tr>\n",
              "      <th>2</th>\n",
              "      <td>\"CLEAR CLEAN ESN\" Sprint EPIC 4G Galaxy SPH-D7...</td>\n",
              "      <td>Samsung</td>\n",
              "      <td>199.99</td>\n",
              "      <td>5</td>\n",
              "      <td>Very pleased</td>\n",
              "      <td>0.0</td>\n",
              "      <td>positive</td>\n",
              "      <td>pleas</td>\n",
              "      <td>1</td>\n",
              "    </tr>\n",
              "    <tr>\n",
              "      <th>3</th>\n",
              "      <td>\"CLEAR CLEAN ESN\" Sprint EPIC 4G Galaxy SPH-D7...</td>\n",
              "      <td>Samsung</td>\n",
              "      <td>199.99</td>\n",
              "      <td>4</td>\n",
              "      <td>It works good but it goes slow sometimes but i...</td>\n",
              "      <td>0.0</td>\n",
              "      <td>positive</td>\n",
              "      <td>work good goe slow sometm good phone love</td>\n",
              "      <td>1</td>\n",
              "    </tr>\n",
              "    <tr>\n",
              "      <th>4</th>\n",
              "      <td>\"CLEAR CLEAN ESN\" Sprint EPIC 4G Galaxy SPH-D7...</td>\n",
              "      <td>Samsung</td>\n",
              "      <td>199.99</td>\n",
              "      <td>4</td>\n",
              "      <td>Great phone to replace my lost phone. The only...</td>\n",
              "      <td>0.0</td>\n",
              "      <td>positive</td>\n",
              "      <td>great phone replac lost phone thng volum butto...</td>\n",
              "      <td>7</td>\n",
              "    </tr>\n",
              "  </tbody>\n",
              "</table>\n",
              "</div>"
            ],
            "text/plain": [
              "                                        Product Name  ... Bow Clus Label\n",
              "0  \"CLEAR CLEAN ESN\" Sprint EPIC 4G Galaxy SPH-D7...  ...              7\n",
              "1  \"CLEAR CLEAN ESN\" Sprint EPIC 4G Galaxy SPH-D7...  ...              7\n",
              "2  \"CLEAR CLEAN ESN\" Sprint EPIC 4G Galaxy SPH-D7...  ...              1\n",
              "3  \"CLEAR CLEAN ESN\" Sprint EPIC 4G Galaxy SPH-D7...  ...              1\n",
              "4  \"CLEAR CLEAN ESN\" Sprint EPIC 4G Galaxy SPH-D7...  ...              7\n",
              "\n",
              "[5 rows x 9 columns]"
            ]
          },
          "metadata": {
            "tags": []
          },
          "execution_count": 49
        }
      ]
    },
    {
      "cell_type": "code",
      "metadata": {
        "colab": {
          "base_uri": "https://localhost:8080/"
        },
        "id": "FBvNYv6EpSFa",
        "outputId": "7c0e0be6-6a42-4274-d780-8d5ae8bbbca0"
      },
      "source": [
        "df.groupby(['Bow Clus Label'])['Reviews'].count()"
      ],
      "execution_count": 51,
      "outputs": [
        {
          "output_type": "execute_result",
          "data": {
            "text/plain": [
              "Bow Clus Label\n",
              "0     146\n",
              "1    2139\n",
              "2       3\n",
              "3       2\n",
              "4       2\n",
              "5       1\n",
              "6     288\n",
              "7     801\n",
              "8      27\n",
              "9      13\n",
              "Name: Reviews, dtype: int64"
            ]
          },
          "metadata": {
            "tags": []
          },
          "execution_count": 51
        }
      ]
    },
    {
      "cell_type": "code",
      "metadata": {
        "colab": {
          "base_uri": "https://localhost:8080/"
        },
        "id": "bCNz3AgcpyMW",
        "outputId": "c9fd3990-edc4-482d-be74-120b7357928b"
      },
      "source": [
        "print(\"Top terms per cluster:\")\n",
        "order_centroids = model.cluster_centers_.argsort()[:, ::-1]\n",
        "terms = count_vect.get_feature_names()\n",
        "for i in range(10):\n",
        "    print(\"Cluster %d:\" % i, end='')\n",
        "    for ind in order_centroids[i, :10]:\n",
        "        print(' %s' % terms[ind], end='')\n",
        "        print()"
      ],
      "execution_count": 52,
      "outputs": [
        {
          "output_type": "stream",
          "text": [
            "Top terms per cluster:\n",
            "Cluster 0: phone\n",
            " ths\n",
            " wth\n",
            " use\n",
            " good\n",
            " screen\n",
            " lke\n",
            " one\n",
            " work\n",
            " great\n",
            "Cluster 1: phone\n",
            " great\n",
            " work\n",
            " good\n",
            " wth\n",
            " ths\n",
            " love\n",
            " use\n",
            " screen\n",
            " prce\n",
            "Cluster 2: phone\n",
            " ths\n",
            " lke\n",
            " wth\n",
            " use\n",
            " camera\n",
            " dont\n",
            " app\n",
            " smartphon\n",
            " batteri\n",
            "Cluster 3: phone\n",
            " wth\n",
            " ths\n",
            " qualti\n",
            " one\n",
            " camera\n",
            " lke\n",
            " good\n",
            " featur\n",
            " use\n",
            "Cluster 4: phone\n",
            " use\n",
            " ths\n",
            " wth\n",
            " card\n",
            " featur\n",
            " app\n",
            " screen\n",
            " sim\n",
            " carrer\n",
            "Cluster 5: phone\n",
            " wth\n",
            " tracfon\n",
            " use\n",
            " data\n",
            " call\n",
            " ths\n",
            " tme\n",
            " androd\n",
            " work\n",
            "Cluster 6: phone\n",
            " ths\n",
            " wth\n",
            " screen\n",
            " great\n",
            " use\n",
            " good\n",
            " one\n",
            " lke\n",
            " camera\n",
            "Cluster 7: phone\n",
            " ths\n",
            " wth\n",
            " work\n",
            " screen\n",
            " great\n",
            " good\n",
            " use\n",
            " one\n",
            " would\n",
            "Cluster 8: phone\n",
            " wth\n",
            " ths\n",
            " get\n",
            " app\n",
            " screen\n",
            " whch\n",
            " one\n",
            " good\n",
            " use\n",
            "Cluster 9: phone\n",
            " ths\n",
            " wth\n",
            " screen\n",
            " lke\n",
            " one\n",
            " camera\n",
            " good\n",
            " get\n",
            " would\n"
          ],
          "name": "stdout"
        }
      ]
    },
    {
      "cell_type": "code",
      "metadata": {
        "colab": {
          "base_uri": "https://localhost:8080/",
          "height": 295
        },
        "id": "4mkVs_ZAqCAX",
        "outputId": "c1ddd803-c204-4da1-c8be-dba6fe10d08d"
      },
      "source": [
        "import matplotlib.pyplot as plt\n",
        "plt.bar([x for x in range(10)], df.groupby(['Bow Clus Label'])['Reviews'].count(), alpha = 0.4)\n",
        "plt.title('KMeans cluster points')\n",
        "plt.xlabel(\"Cluster number\")\n",
        "plt.ylabel(\"Number of points\")\n",
        "plt.show()"
      ],
      "execution_count": 53,
      "outputs": [
        {
          "output_type": "display_data",
          "data": {
            "image/png": "[encoded data removed]",
            "text/plain": [
              "<Figure size 432x288 with 1 Axes>"
            ]
          },
          "metadata": {
            "tags": [],
            "needs_background": "light"
          }
        }
      ]
    },
    {
      "cell_type": "markdown",
      "metadata": {
        "id": "z9GQwxxuAXpF"
      },
      "source": [
        "##**K means using TFIDF**"
      ]
    },
    {
      "cell_type": "code",
      "metadata": {
        "id": "hdbAcQaKVfkt",
        "colab": {
          "base_uri": "https://localhost:8080/"
        },
        "outputId": "646bfc92-df62-48f8-972b-784a5b0f5e97"
      },
      "source": [
        "tfidf_vect = TfidfVectorizer()\n",
        "tfidf = tfidf_vect.fit_transform(df['Cleaned Reviews'].values)\n",
        "tfidf.shape"
      ],
      "execution_count": 54,
      "outputs": [
        {
          "output_type": "execute_result",
          "data": {
            "text/plain": [
              "(3422, 6876)"
            ]
          },
          "metadata": {
            "tags": []
          },
          "execution_count": 54
        }
      ]
    },
    {
      "cell_type": "code",
      "metadata": {
        "id": "wB66e6I4VfhT",
        "colab": {
          "base_uri": "https://localhost:8080/"
        },
        "outputId": "cafd1dc4-0286-450d-bb0f-eb8a188ed68e"
      },
      "source": [
        "model_tf = KMeans(n_clusters = 10, n_jobs = -1,random_state=99)\n",
        "model_tf.fit(tfidf)"
      ],
      "execution_count": 55,
      "outputs": [
        {
          "output_type": "execute_result",
          "data": {
            "text/plain": [
              "KMeans(algorithm='auto', copy_x=True, init='k-means++', max_iter=300,\n",
              "       n_clusters=10, n_init=10, n_jobs=-1, precompute_distances='auto',\n",
              "       random_state=99, tol=0.0001, verbose=0)"
            ]
          },
          "metadata": {
            "tags": []
          },
          "execution_count": 55
        }
      ]
    },
    {
      "cell_type": "code",
      "metadata": {
        "id": "sd2EQqgZwIjO",
        "colab": {
          "base_uri": "https://localhost:8080/"
        },
        "outputId": "a4d9a19f-a54f-40f5-be7f-de50f0fb3629"
      },
      "source": [
        "labels_tf = model_tf.labels_\n",
        "cluster_center_tf=model_tf.cluster_centers_\n",
        "cluster_center_tf"
      ],
      "execution_count": 56,
      "outputs": [
        {
          "output_type": "execute_result",
          "data": {
            "text/plain": [
              "array([[0.00013866, 0.        , 0.01138563, ..., 0.        , 0.0001825 ,\n",
              "        0.        ],\n",
              "       [0.        , 0.        , 0.        , ..., 0.        , 0.        ,\n",
              "        0.        ],\n",
              "       [0.        , 0.        , 0.00357858, ..., 0.        , 0.        ,\n",
              "        0.        ],\n",
              "       ...,\n",
              "       [0.        , 0.        , 0.        , ..., 0.        , 0.        ,\n",
              "        0.        ],\n",
              "       [0.        , 0.        , 0.01132709, ..., 0.        , 0.        ,\n",
              "        0.        ],\n",
              "       [0.        , 0.        , 0.        , ..., 0.        , 0.        ,\n",
              "        0.        ]])"
            ]
          },
          "metadata": {
            "tags": []
          },
          "execution_count": 56
        }
      ]
    },
    {
      "cell_type": "code",
      "metadata": {
        "id": "bUjOreQIf8jb",
        "colab": {
          "base_uri": "https://localhost:8080/"
        },
        "outputId": "7f6a922e-d345-4c37-c1b3-dc9b7eab9e2a"
      },
      "source": [
        "terms1 = tfidf_vect.get_feature_names()\n",
        "terms1[1:15]"
      ],
      "execution_count": 57,
      "outputs": [
        {
          "output_type": "execute_result",
          "data": {
            "text/plain": [
              "['abett',\n",
              " 'abl',\n",
              " 'ablti',\n",
              " 'abnorm',\n",
              " 'absolut',\n",
              " 'absorbng',\n",
              " 'absurd',\n",
              " 'abund',\n",
              " 'abus',\n",
              " 'abut',\n",
              " 'abysm',\n",
              " 'abysmaltap',\n",
              " 'acatel',\n",
              " 'accdent']"
            ]
          },
          "metadata": {
            "tags": []
          },
          "execution_count": 57
        }
      ]
    },
    {
      "cell_type": "code",
      "metadata": {
        "id": "KHQc6K9Df8fz"
      },
      "source": [
        "silhouette_score_tf = metrics.silhouette_score(tfidf, labels_tf, metric='euclidean')"
      ],
      "execution_count": 58,
      "outputs": []
    },
    {
      "cell_type": "code",
      "metadata": {
        "id": "aG6oLZ13f8bx",
        "colab": {
          "base_uri": "https://localhost:8080/"
        },
        "outputId": "12b08fc3-e985-49ac-b29e-e847fbf0f5d1"
      },
      "source": [
        "silhouette_score_tf"
      ],
      "execution_count": 59,
      "outputs": [
        {
          "output_type": "execute_result",
          "data": {
            "text/plain": [
              "0.039848368296235344"
            ]
          },
          "metadata": {
            "tags": []
          },
          "execution_count": 59
        }
      ]
    },
    {
      "cell_type": "code",
      "metadata": {
        "id": "upLR91olf8W9",
        "colab": {
          "base_uri": "https://localhost:8080/",
          "height": 390
        },
        "outputId": "46cc55cf-743b-44be-c8e9-b5f49d2248ed"
      },
      "source": [
        "df = df\n",
        "df['Tfidf Clus Label'] = model_tf.labels_\n",
        "df.head()"
      ],
      "execution_count": 60,
      "outputs": [
        {
          "output_type": "execute_result",
          "data": {
            "text/html": [
              "<div>\n",
              "<style scoped>\n",
              "    .dataframe tbody tr th:only-of-type {\n",
              "        vertical-align: middle;\n",
              "    }\n",
              "\n",
              "    .dataframe tbody tr th {\n",
              "        vertical-align: top;\n",
              "    }\n",
              "\n",
              "    .dataframe thead th {\n",
              "        text-align: right;\n",
              "    }\n",
              "</style>\n",
              "<table border=\"1\" class=\"dataframe\">\n",
              "  <thead>\n",
              "    <tr style=\"text-align: right;\">\n",
              "      <th></th>\n",
              "      <th>Product Name</th>\n",
              "      <th>Brand Name</th>\n",
              "      <th>Price</th>\n",
              "      <th>Rating</th>\n",
              "      <th>Reviews</th>\n",
              "      <th>Review Votes</th>\n",
              "      <th>pos_neg_Rating</th>\n",
              "      <th>Cleaned Reviews</th>\n",
              "      <th>Bow Clus Label</th>\n",
              "      <th>Tfidf Clus Label</th>\n",
              "    </tr>\n",
              "  </thead>\n",
              "  <tbody>\n",
              "    <tr>\n",
              "      <th>0</th>\n",
              "      <td>\"CLEAR CLEAN ESN\" Sprint EPIC 4G Galaxy SPH-D7...</td>\n",
              "      <td>Samsung</td>\n",
              "      <td>199.99</td>\n",
              "      <td>5</td>\n",
              "      <td>I feel so LUCKY to have found this used (phone...</td>\n",
              "      <td>1.0</td>\n",
              "      <td>positive</td>\n",
              "      <td>feel lucki found ths use phone use hard phone ...</td>\n",
              "      <td>7</td>\n",
              "      <td>6</td>\n",
              "    </tr>\n",
              "    <tr>\n",
              "      <th>1</th>\n",
              "      <td>\"CLEAR CLEAN ESN\" Sprint EPIC 4G Galaxy SPH-D7...</td>\n",
              "      <td>Samsung</td>\n",
              "      <td>199.99</td>\n",
              "      <td>4</td>\n",
              "      <td>nice phone, nice up grade from my pantach revu...</td>\n",
              "      <td>0.0</td>\n",
              "      <td>positive</td>\n",
              "      <td>nce phone nce grade pantach revu clean set eas...</td>\n",
              "      <td>7</td>\n",
              "      <td>8</td>\n",
              "    </tr>\n",
              "    <tr>\n",
              "      <th>2</th>\n",
              "      <td>\"CLEAR CLEAN ESN\" Sprint EPIC 4G Galaxy SPH-D7...</td>\n",
              "      <td>Samsung</td>\n",
              "      <td>199.99</td>\n",
              "      <td>5</td>\n",
              "      <td>Very pleased</td>\n",
              "      <td>0.0</td>\n",
              "      <td>positive</td>\n",
              "      <td>pleas</td>\n",
              "      <td>1</td>\n",
              "      <td>5</td>\n",
              "    </tr>\n",
              "    <tr>\n",
              "      <th>3</th>\n",
              "      <td>\"CLEAR CLEAN ESN\" Sprint EPIC 4G Galaxy SPH-D7...</td>\n",
              "      <td>Samsung</td>\n",
              "      <td>199.99</td>\n",
              "      <td>4</td>\n",
              "      <td>It works good but it goes slow sometimes but i...</td>\n",
              "      <td>0.0</td>\n",
              "      <td>positive</td>\n",
              "      <td>work good goe slow sometm good phone love</td>\n",
              "      <td>1</td>\n",
              "      <td>2</td>\n",
              "    </tr>\n",
              "    <tr>\n",
              "      <th>4</th>\n",
              "      <td>\"CLEAR CLEAN ESN\" Sprint EPIC 4G Galaxy SPH-D7...</td>\n",
              "      <td>Samsung</td>\n",
              "      <td>199.99</td>\n",
              "      <td>4</td>\n",
              "      <td>Great phone to replace my lost phone. The only...</td>\n",
              "      <td>0.0</td>\n",
              "      <td>positive</td>\n",
              "      <td>great phone replac lost phone thng volum butto...</td>\n",
              "      <td>7</td>\n",
              "      <td>0</td>\n",
              "    </tr>\n",
              "  </tbody>\n",
              "</table>\n",
              "</div>"
            ],
            "text/plain": [
              "                                        Product Name  ... Tfidf Clus Label\n",
              "0  \"CLEAR CLEAN ESN\" Sprint EPIC 4G Galaxy SPH-D7...  ...                6\n",
              "1  \"CLEAR CLEAN ESN\" Sprint EPIC 4G Galaxy SPH-D7...  ...                8\n",
              "2  \"CLEAR CLEAN ESN\" Sprint EPIC 4G Galaxy SPH-D7...  ...                5\n",
              "3  \"CLEAR CLEAN ESN\" Sprint EPIC 4G Galaxy SPH-D7...  ...                2\n",
              "4  \"CLEAR CLEAN ESN\" Sprint EPIC 4G Galaxy SPH-D7...  ...                0\n",
              "\n",
              "[5 rows x 10 columns]"
            ]
          },
          "metadata": {
            "tags": []
          },
          "execution_count": 60
        }
      ]
    },
    {
      "cell_type": "code",
      "metadata": {
        "id": "3Kue0Njrf8QQ",
        "colab": {
          "base_uri": "https://localhost:8080/"
        },
        "outputId": "074f414d-4d12-4d6e-c2e8-34c68f4eebea"
      },
      "source": [
        "df.groupby(['Tfidf Clus Label'])['Reviews'].count()"
      ],
      "execution_count": 61,
      "outputs": [
        {
          "output_type": "execute_result",
          "data": {
            "text/plain": [
              "Tfidf Clus Label\n",
              "0     699\n",
              "1      99\n",
              "2     316\n",
              "3     100\n",
              "4      95\n",
              "5    1110\n",
              "6     745\n",
              "7      63\n",
              "8      97\n",
              "9      98\n",
              "Name: Reviews, dtype: int64"
            ]
          },
          "metadata": {
            "tags": []
          },
          "execution_count": 61
        }
      ]
    },
    {
      "cell_type": "code",
      "metadata": {
        "colab": {
          "base_uri": "https://localhost:8080/"
        },
        "id": "A3dDWGSs9azL",
        "outputId": "04972675-1e94-4e25-93b5-6a77a54b57f3"
      },
      "source": [
        "print(\"Top terms per cluster:\")\n",
        "order_centroids = model_tf.cluster_centers_.argsort()[:, ::-1]\n",
        "for i in range(10):\n",
        "    print(\"Cluster %d:\" % i, end='')\n",
        "    for ind in order_centroids[i, :10]:\n",
        "        print(' %s' % terms1[ind], end='')\n",
        "        print()"
      ],
      "execution_count": 62,
      "outputs": [
        {
          "output_type": "stream",
          "text": [
            "Top terms per cluster:\n",
            "Cluster 0: phone\n",
            " wth\n",
            " ths\n",
            " new\n",
            " got\n",
            " one\n",
            " purchas\n",
            " came\n",
            " problem\n",
            " would\n",
            "Cluster 1: love\n",
            " phone\n",
            " daughter\n",
            " ths\n",
            " great\n",
            " bought\n",
            " thank\n",
            " work\n",
            " prob\n",
            " far\n",
            "Cluster 2: work\n",
            " phone\n",
            " great\n",
            " ddnt\n",
            " fne\n",
            " well\n",
            " wth\n",
            " verzon\n",
            " doesnt\n",
            " good\n",
            "Cluster 3: good\n",
            " phone\n",
            " condton\n",
            " unlock\n",
            " qualti\n",
            " prce\n",
            " fantastc\n",
            " work\n",
            " product\n",
            " cell\n",
            "Cluster 4: excel\n",
            " condton\n",
            " product\n",
            " phone\n",
            " prce\n",
            " recommend\n",
            " arrv\n",
            " good\n",
            " new\n",
            " love\n",
            "Cluster 5: phone\n",
            " good\n",
            " great\n",
            " product\n",
            " expect\n",
            " screen\n",
            " thank\n",
            " lke\n",
            " prce\n",
            " ths\n",
            "Cluster 6: phone\n",
            " ths\n",
            " wth\n",
            " screen\n",
            " good\n",
            " use\n",
            " great\n",
            " camera\n",
            " prce\n",
            " one\n",
            "Cluster 7: perfect\n",
            " work\n",
            " phone\n",
            " great\n",
            " new\n",
            " unlock\n",
            " everythng\n",
            " wth\n",
            " thank\n",
            " fast\n",
            "Cluster 8: nce\n",
            " phone\n",
            " prce\n",
            " fast\n",
            " love\n",
            " great\n",
            " shppng\n",
            " wth\n",
            " good\n",
            " featur\n",
            "Cluster 9: great\n",
            " phone\n",
            " work\n",
            " prce\n",
            " product\n",
            " gong\n",
            " cours\n",
            " exact\n",
            " headphon\n",
            " ssue\n"
          ],
          "name": "stdout"
        }
      ]
    },
    {
      "cell_type": "code",
      "metadata": {
        "colab": {
          "base_uri": "https://localhost:8080/",
          "height": 295
        },
        "id": "s9hCsRVs9av2",
        "outputId": "38151b94-0d18-468c-a7e9-838e01fc4d4b"
      },
      "source": [
        "plt.bar([x for x in range(10)], df.groupby(['Tfidf Clus Label'])['Reviews'].count(), alpha = 0.4)\n",
        "plt.title('KMeans cluster points')\n",
        "plt.xlabel(\"Cluster number\")\n",
        "plt.ylabel(\"Number of points\")\n",
        "plt.show()"
      ],
      "execution_count": 63,
      "outputs": [
        {
          "output_type": "display_data",
          "data": {
            "image/png": "[encoded data removed]",
            "text/plain": [
              "<Figure size 432x288 with 1 Axes>"
            ]
          },
          "metadata": {
            "tags": [],
            "needs_background": "light"
          }
        }
      ]
    },
    {
      "cell_type": "code",
      "metadata": {
        "id": "Jnsq4mkb9atd"
      },
      "source": [
        "#for i in range(10):\n",
        "    #print(\"2 review of assigned to cluster \", i)\n",
        "    #print(\"-\" * 70)\n",
        "    #print(df.iloc[df.groupby(['Tfidf Clus Label']).groups[i][5]]['Reviews'])\n",
        "    #print('\\n')\n",
        "    #print(df.iloc[df.groupby(['Tfidf Clus Label']).groups[i][10]]['Reviews'])\n",
        "    #print('\\n')\n",
        "    #print(df.iloc[df.groupby(['Tfidf Clus Label']).groups[i][20]]['Reviews'])\n",
        "    #print('\\n')\n",
        "    #print(\"_\" * 70)"
      ],
      "execution_count": 64,
      "outputs": []
    },
    {
      "cell_type": "markdown",
      "metadata": {
        "id": "1GYxpvzMXVaa"
      },
      "source": [
        "##**Average Word to Vector**"
      ]
    },
    {
      "cell_type": "code",
      "metadata": {
        "id": "8NEb9lNx9aqA"
      },
      "source": [
        "#i=0\n",
        "#list_of_sent=[]\n",
        "#for sent in df['Cleaned Reviews'].values:\n",
        "    #list_of_sent.append(sent.split())"
      ],
      "execution_count": null,
      "outputs": []
    },
    {
      "cell_type": "code",
      "metadata": {
        "id": "QOsqeTYX9am-"
      },
      "source": [
        "#print(df['Cleaned Reviews'].values[0])\n",
        "#print(\"*****************************************************************\")\n",
        "#print(list_of_sent[0])"
      ],
      "execution_count": null,
      "outputs": []
    },
    {
      "cell_type": "code",
      "metadata": {
        "id": "67DFgKJK9ag8"
      },
      "source": [
        "i=0\n",
        "list_of_sent_train=[]\n",
        "for sent in df['Cleaned Reviews'].values:\n",
        "    list_of_sent_train.append(sent.split())"
      ],
      "execution_count": 67,
      "outputs": []
    },
    {
      "cell_type": "code",
      "metadata": {
        "id": "FIfP97Yy9adp"
      },
      "source": [
        "w2v_model=gensim.models.Word2Vec(list_of_sent_train,size=100, workers=4)"
      ],
      "execution_count": 68,
      "outputs": []
    },
    {
      "cell_type": "code",
      "metadata": {
        "colab": {
          "base_uri": "https://localhost:8080/"
        },
        "id": "FaTdijPA9aax",
        "outputId": "8dcad69e-dcc6-4b8a-bbe3-d655cbb2bcb1"
      },
      "source": [
        "sent_vectors = [];\n",
        "for sent in list_of_sent_train: # for each review/sentence\n",
        "    sent_vec = np.zeros(100)\n",
        "    cnt_words =0;\n",
        "    for word in sent:\n",
        "      try:\n",
        "            vec = w2v_model.wv[word]\n",
        "            sent_vec += vec\n",
        "            cnt_words += 1\n",
        "      except:\n",
        "            pass\n",
        "    sent_vec /= cnt_words\n",
        "    sent_vectors.append(sent_vec)\n",
        "sent_vectors = np.array(sent_vectors)\n",
        "sent_vectors = np.nan_to_num(sent_vectors)\n",
        "sent_vectors.shape\n"
      ],
      "execution_count": 69,
      "outputs": [
        {
          "output_type": "stream",
          "text": [
            "/usr/local/lib/python3.7/dist-packages/ipykernel_launcher.py:12: RuntimeWarning: invalid value encountered in true_divide\n",
            "  if sys.path[0] == '':\n"
          ],
          "name": "stderr"
        },
        {
          "output_type": "execute_result",
          "data": {
            "text/plain": [
              "(3422, 100)"
            ]
          },
          "metadata": {
            "tags": []
          },
          "execution_count": 69
        }
      ]
    },
    {
      "cell_type": "code",
      "metadata": {
        "colab": {
          "base_uri": "https://localhost:8080/"
        },
        "id": "qamlzlFF9aXn",
        "outputId": "25b036d3-1b39-416a-edcb-544481935ec4"
      },
      "source": [
        "num_clus = [x for x in range(3,11)]\n",
        "num_clus"
      ],
      "execution_count": 71,
      "outputs": [
        {
          "output_type": "execute_result",
          "data": {
            "text/plain": [
              "[3, 4, 5, 6, 7, 8, 9, 10]"
            ]
          },
          "metadata": {
            "tags": []
          },
          "execution_count": 71
        }
      ]
    },
    {
      "cell_type": "code",
      "metadata": {
        "colab": {
          "base_uri": "https://localhost:8080/",
          "height": 295
        },
        "id": "BBnPMmWk9aUg",
        "outputId": "0c72cfbe-a10a-4d96-9516-af1538dc405a"
      },
      "source": [
        "squared_errors = []\n",
        "for cluster in num_clus:\n",
        "    kmeans = KMeans(n_clusters = cluster).fit(sent_vectors)      # Train Cluster\n",
        "    squared_errors.append(kmeans.inertia_)                       # Appending the squared loss obtained in the list\n",
        "optimal_clusters = np.argmin(squared_errors) + 2                 # As argmin return the index of minimum loss. \n",
        "plt.plot(num_clus, squared_errors)\n",
        "plt.title(\"Elbow Curve to find the no. of clusters.\")\n",
        "plt.xlabel(\"Number of clusters.\")\n",
        "plt.ylabel(\"Squared Loss.\")\n",
        "xy = (optimal_clusters, min(squared_errors))\n",
        "plt.annotate('(%s, %s)' % xy, xy = xy, textcoords='data')\n",
        "plt.show()\n",
        "\n"
      ],
      "execution_count": 72,
      "outputs": [
        {
          "output_type": "display_data",
          "data": {
            "image/png": "[encoded data removed]",
            "text/plain": [
              "<Figure size 432x288 with 1 Axes>"
            ]
          },
          "metadata": {
            "tags": [],
            "needs_background": "light"
          }
        }
      ]
    },
    {
      "cell_type": "code",
      "metadata": {
        "colab": {
          "base_uri": "https://localhost:8080/"
        },
        "id": "_jIDior69aRZ",
        "outputId": "1442e40c-5342-4b7e-890b-ff5fa2ba5d00"
      },
      "source": [
        "print (\"The optimal number of clusters obtained is - \", optimal_clusters)\n",
        "print (\"The loss for optimal cluster is - \", min(squared_errors))"
      ],
      "execution_count": 73,
      "outputs": [
        {
          "output_type": "stream",
          "text": [
            "The optimal number of clusters obtained is -  9\n",
            "The loss for optimal cluster is -  45.3040645064254\n"
          ],
          "name": "stdout"
        }
      ]
    },
    {
      "cell_type": "code",
      "metadata": {
        "colab": {
          "base_uri": "https://localhost:8080/"
        },
        "id": "r8GKIY1K9aOR",
        "outputId": "4ce76701-e48e-456b-9bec-8f0e406320d7"
      },
      "source": [
        "model2 = KMeans(n_clusters = optimal_clusters)\n",
        "model2.fit(sent_vectors)"
      ],
      "execution_count": 74,
      "outputs": [
        {
          "output_type": "execute_result",
          "data": {
            "text/plain": [
              "KMeans(algorithm='auto', copy_x=True, init='k-means++', max_iter=300,\n",
              "       n_clusters=9, n_init=10, n_jobs=None, precompute_distances='auto',\n",
              "       random_state=None, tol=0.0001, verbose=0)"
            ]
          },
          "metadata": {
            "tags": []
          },
          "execution_count": 74
        }
      ]
    },
    {
      "cell_type": "code",
      "metadata": {
        "id": "f-QZ62h29aMa"
      },
      "source": [
        "word_cluster_pred=model2.predict(sent_vectors)\n",
        "word_cluster_pred_2=model2.labels_\n",
        "word_cluster_center=model2.cluster_centers_"
      ],
      "execution_count": 75,
      "outputs": []
    },
    {
      "cell_type": "code",
      "metadata": {
        "colab": {
          "base_uri": "https://localhost:8080/"
        },
        "id": "hHBRLTcb9aIb",
        "outputId": "decc4909-8c87-445e-c818-cd105ab03f1c"
      },
      "source": [
        "word_cluster_center[1:2]"
      ],
      "execution_count": 76,
      "outputs": [
        {
          "output_type": "execute_result",
          "data": {
            "text/plain": [
              "array([[-5.58993802e-03,  1.44066707e-03,  6.26814034e-03,\n",
              "        -2.91713323e-03, -1.22631720e-03,  2.19456443e-04,\n",
              "        -1.50912623e-03, -4.04064648e-03, -3.95916484e-03,\n",
              "         2.77081470e-03, -5.74674646e-03, -5.85819538e-04,\n",
              "        -1.75645274e-03,  7.57222202e-04,  9.92969768e-04,\n",
              "         9.26430987e-04, -4.26255404e-03,  2.97752285e-03,\n",
              "         2.78636035e-03,  4.45943418e-04, -2.55245670e-03,\n",
              "        -1.95020636e-03, -1.29368705e-03,  5.19561714e-03,\n",
              "         1.33979017e-04,  5.77393259e-04,  3.00278705e-03,\n",
              "        -5.28503746e-03,  1.43533695e-03, -1.87092164e-03,\n",
              "        -1.36083998e-03,  1.85889022e-03,  2.94771733e-03,\n",
              "        -4.24333495e-04, -1.76800574e-04, -2.51526542e-03,\n",
              "        -7.96980583e-04,  1.91013497e-03,  1.99544499e-03,\n",
              "         2.79075497e-03,  2.28309153e-03, -2.47862857e-04,\n",
              "        -3.96598204e-03,  2.37926498e-04, -5.64648710e-03,\n",
              "        -6.38028818e-04,  1.14320405e-04, -9.50043039e-04,\n",
              "         3.82435224e-03, -7.45042626e-04,  1.54839406e-03,\n",
              "         8.32019814e-04, -3.88737727e-03,  6.43782870e-04,\n",
              "        -1.05325304e-03, -6.40175144e-03, -4.15393653e-03,\n",
              "        -1.68851481e-03,  6.11784627e-04, -3.56980223e-04,\n",
              "         1.58030069e-03,  2.00002623e-05,  3.35271906e-03,\n",
              "        -5.47908406e-03,  6.48573815e-04,  3.23098335e-03,\n",
              "        -1.19599026e-03,  1.83342327e-04, -1.50413101e-04,\n",
              "        -3.70179633e-03,  2.50385077e-03, -6.07251653e-04,\n",
              "        -6.26580692e-04, -2.09132238e-03, -2.44709780e-03,\n",
              "         4.77717739e-03, -9.50090229e-04, -1.74798214e-03,\n",
              "        -3.39707053e-03, -2.13511737e-04,  7.72750241e-04,\n",
              "         1.65987847e-03,  5.62303096e-03, -1.53771765e-03,\n",
              "        -5.11538363e-04,  1.69761193e-03,  1.62548404e-03,\n",
              "        -6.04395212e-03, -2.96018561e-03,  5.11361151e-03,\n",
              "        -2.03761104e-03, -9.22916631e-04,  3.83375384e-03,\n",
              "         5.02785877e-03, -1.32083502e-03,  1.65371545e-03,\n",
              "        -2.00679941e-03,  2.30559089e-03, -1.56298265e-03,\n",
              "        -4.16607430e-03]])"
            ]
          },
          "metadata": {
            "tags": []
          },
          "execution_count": 76
        }
      ]
    },
    {
      "cell_type": "code",
      "metadata": {
        "colab": {
          "base_uri": "https://localhost:8080/"
        },
        "id": "5K9jMTXb9aFZ",
        "outputId": "5ee95491-a504-43de-a2ca-e5adda97e889"
      },
      "source": [
        "df = df\n",
        "df['AVG-W2V Clus Label'] = model2.labels_\n",
        "df.groupby(['AVG-W2V Clus Label'])['Reviews'].count()"
      ],
      "execution_count": 77,
      "outputs": [
        {
          "output_type": "execute_result",
          "data": {
            "text/plain": [
              "AVG-W2V Clus Label\n",
              "0     254\n",
              "1      91\n",
              "2    1073\n",
              "3     657\n",
              "4     433\n",
              "5     133\n",
              "6      20\n",
              "7     149\n",
              "8     612\n",
              "Name: Reviews, dtype: int64"
            ]
          },
          "metadata": {
            "tags": []
          },
          "execution_count": 77
        }
      ]
    },
    {
      "cell_type": "code",
      "metadata": {
        "colab": {
          "base_uri": "https://localhost:8080/"
        },
        "id": "yAwlCtRv9aCT",
        "outputId": "68be547a-d68c-49cb-aafd-b17d065c818c"
      },
      "source": [
        "for i in range(2):                       #to get reviews for all clusters use 'optimal_clusters insread of \n",
        "    print(\"A review of assigned to cluster \", i)\n",
        "    print(\"-\" * 70)\n",
        "    print(df.iloc[df.groupby(['AVG-W2V Clus Label']).groups[i][0]]['Reviews'])\n",
        "    print('\\n')\n",
        "    print(df.iloc[df.groupby(['AVG-W2V Clus Label']).groups[i][1]]['Reviews'])\n",
        "    print('\\n')\n",
        "    print(\"_\" * 70)"
      ],
      "execution_count": 78,
      "outputs": [
        {
          "output_type": "stream",
          "text": [
            "A review of assigned to cluster  0\n",
            "----------------------------------------------------------------------\n",
            "Phone good just a little slow phone old but it's a great phone temporary right now. thank you for the great deal\n",
            "\n",
            "\n",
            "Perfect in every way.\n",
            "\n",
            "\n",
            "______________________________________________________________________\n",
            "A review of assigned to cluster  1\n",
            "----------------------------------------------------------------------\n",
            "excelente\n",
            "\n",
            "\n",
            "excelente\n",
            "\n",
            "\n",
            "______________________________________________________________________\n"
          ],
          "name": "stdout"
        }
      ]
    },
    {
      "cell_type": "markdown",
      "metadata": {
        "id": "O_XRMr5wjFpS"
      },
      "source": [
        "##**DBSCAN Clustering**"
      ]
    },
    {
      "cell_type": "code",
      "metadata": {
        "id": "SNpeyLZu9Z-8"
      },
      "source": [
        "minPts = 2 * 100                                       #200 nearest neighbour\n",
        "def lower_bound(nums, target):                         # return the number just greater than or equal to the number in the array.\n",
        "    l, r = 0, len(nums) - 1\n",
        "    while l <= r:                                      #search for binary\n",
        "        mid = int(l + (r - l) / 2)\n",
        "        if nums[mid] >= target:\n",
        "            r = mid - 1\n",
        "        else:\n",
        "            l = mid + 1\n",
        "    return l\n",
        "\n",
        "def compute200thnearestneighbour(x, data):            # Returns the distance \n",
        "    dists = []\n",
        "    for val in data:\n",
        "        dist = np.sum((x - val) **2 )                 # compute distances.\n",
        "        if(len(dists) == 200 and dists[199] > dist):  # If distance is larger than current largest distance found.\n",
        "            l = int(lower_bound(dists, dist))         # Using the lower bound function to get the right position.\n",
        "            if l < 200 and l >= 0 and dists[l] > dist:\n",
        "                dists[l] = dist\n",
        "        else:\n",
        "            dists.append(dist)\n",
        "            dists.sort()\n",
        "    \n",
        "    return dists[199] "
      ],
      "execution_count": 79,
      "outputs": []
    },
    {
      "cell_type": "code",
      "metadata": {
        "id": "3qkaYOaH9Z72"
      },
      "source": [
        "twohundrethneigh = []\n",
        "for val in sent_vectors[:1500]:\n",
        "    twohundrethneigh.append( compute200thnearestneighbour(val, sent_vectors[:1500]) )\n",
        "twohundrethneigh.sort()"
      ],
      "execution_count": 80,
      "outputs": []
    },
    {
      "cell_type": "code",
      "metadata": {
        "colab": {
          "base_uri": "https://localhost:8080/",
          "height": 295
        },
        "id": "ESsCfgSb9Z4b",
        "outputId": "1f13fdac-a31d-41af-c144-fe37467f11e4"
      },
      "source": [
        "plt.figure(figsize=(14,4))\n",
        "plt.title(\"Elbow Method for Finding the right Eps hyperparameter\")\n",
        "plt.plot([x for x in range(len(twohundrethneigh))], twohundrethneigh)\n",
        "plt.xlabel(\"Number of points\")\n",
        "plt.ylabel(\"Distance of 200th Nearest Neighbour\")\n",
        "plt.show()"
      ],
      "execution_count": 81,
      "outputs": [
        {
          "output_type": "display_data",
          "data": {
            "image/png": "[encoded data removed]",
            "text/plain": [
              "<Figure size 1008x288 with 1 Axes>"
            ]
          },
          "metadata": {
            "tags": [],
            "needs_background": "light"
          }
        }
      ]
    },
    {
      "cell_type": "code",
      "metadata": {
        "colab": {
          "base_uri": "https://localhost:8080/"
        },
        "id": "0omnjeEq9Z1F",
        "outputId": "a4b33e89-e5f2-437f-a0de-6d4167cab79d"
      },
      "source": [
        "#based on the Elbow method the optimal value of the Eps seems to be 90\n",
        "model = DBSCAN(eps = 5, min_samples = minPts, n_jobs=-1)\n",
        "model.fit(sent_vectors)"
      ],
      "execution_count": 82,
      "outputs": [
        {
          "output_type": "execute_result",
          "data": {
            "text/plain": [
              "DBSCAN(algorithm='auto', eps=5, leaf_size=30, metric='euclidean',\n",
              "       metric_params=None, min_samples=200, n_jobs=-1, p=None)"
            ]
          },
          "metadata": {
            "tags": []
          },
          "execution_count": 82
        }
      ]
    },
    {
      "cell_type": "code",
      "metadata": {
        "id": "Z9foHLiC9Zx6",
        "colab": {
          "base_uri": "https://localhost:8080/"
        },
        "outputId": "2d213422-7066-4213-80a1-90572aabb82f"
      },
      "source": [
        "dfdb = df\n",
        "dfdb['AVG-W2V Clus Label'] = model.labels_\n",
        "dfdb.groupby(['AVG-W2V Clus Label'])['Reviews'].count()"
      ],
      "execution_count": 84,
      "outputs": [
        {
          "output_type": "execute_result",
          "data": {
            "text/plain": [
              "AVG-W2V Clus Label\n",
              "0    3422\n",
              "Name: Reviews, dtype: int64"
            ]
          },
          "metadata": {
            "tags": []
          },
          "execution_count": 84
        }
      ]
    },
    {
      "cell_type": "markdown",
      "metadata": {
        "id": "9b_l-Tjlzbc5"
      },
      "source": [
        "##**Hierarchial Clustering**"
      ]
    },
    {
      "cell_type": "code",
      "metadata": {
        "colab": {
          "base_uri": "https://localhost:8080/",
          "height": 285
        },
        "id": "kGt-rkqK9ZrP",
        "outputId": "002adfd2-dd93-4751-da90-a862a50b80b3"
      },
      "source": [
        "\n",
        "dendro=hierarchy.dendrogram(hierarchy.linkage(sent_vectors,method='ward'))\n",
        "plt.axhline(y=35)           #5 clusters"
      ],
      "execution_count": 85,
      "outputs": [
        {
          "output_type": "execute_result",
          "data": {
            "text/plain": [
              "<matplotlib.lines.Line2D at 0x7fadb4a50150>"
            ]
          },
          "metadata": {
            "tags": []
          },
          "execution_count": 85
        },
        {
          "output_type": "display_data",
          "data": {
            "image/png": "[encoded data removed]",
            "text/plain": [
              "<Figure size 432x288 with 1 Axes>"
            ]
          },
          "metadata": {
            "tags": [],
            "needs_background": "light"
          }
        }
      ]
    },
    {
      "cell_type": "code",
      "metadata": {
        "id": "QavBEn5Y9Zl9"
      },
      "source": [
        "from sklearn.cluster import AgglomerativeClustering\n",
        "\n",
        "cluster = AgglomerativeClustering(n_clusters=5, affinity='euclidean', linkage='ward')  #took n=5 from dendrogram curve \n",
        "Agg=cluster.fit_predict(sent_vectors)"
      ],
      "execution_count": 87,
      "outputs": []
    },
    {
      "cell_type": "code",
      "metadata": {
        "id": "im7hG7RG9ZjO",
        "colab": {
          "base_uri": "https://localhost:8080/",
          "height": 165
        },
        "outputId": "a83f9e47-fa20-499a-cc51-230d23b99764"
      },
      "source": [
        "aggdf = dfdb\n",
        "aggdf['AVG-W2V Clus Label'] = cluster.labels_\n",
        "aggdf.head(1)"
      ],
      "execution_count": 88,
      "outputs": [
        {
          "output_type": "execute_result",
          "data": {
            "text/html": [
              "<div>\n",
              "<style scoped>\n",
              "    .dataframe tbody tr th:only-of-type {\n",
              "        vertical-align: middle;\n",
              "    }\n",
              "\n",
              "    .dataframe tbody tr th {\n",
              "        vertical-align: top;\n",
              "    }\n",
              "\n",
              "    .dataframe thead th {\n",
              "        text-align: right;\n",
              "    }\n",
              "</style>\n",
              "<table border=\"1\" class=\"dataframe\">\n",
              "  <thead>\n",
              "    <tr style=\"text-align: right;\">\n",
              "      <th></th>\n",
              "      <th>Product Name</th>\n",
              "      <th>Brand Name</th>\n",
              "      <th>Price</th>\n",
              "      <th>Rating</th>\n",
              "      <th>Reviews</th>\n",
              "      <th>Review Votes</th>\n",
              "      <th>pos_neg_Rating</th>\n",
              "      <th>Cleaned Reviews</th>\n",
              "      <th>Bow Clus Label</th>\n",
              "      <th>Tfidf Clus Label</th>\n",
              "      <th>AVG-W2V Clus Label</th>\n",
              "    </tr>\n",
              "  </thead>\n",
              "  <tbody>\n",
              "    <tr>\n",
              "      <th>0</th>\n",
              "      <td>\"CLEAR CLEAN ESN\" Sprint EPIC 4G Galaxy SPH-D7...</td>\n",
              "      <td>Samsung</td>\n",
              "      <td>199.99</td>\n",
              "      <td>5</td>\n",
              "      <td>I feel so LUCKY to have found this used (phone...</td>\n",
              "      <td>1.0</td>\n",
              "      <td>positive</td>\n",
              "      <td>feel lucki found ths use phone use hard phone ...</td>\n",
              "      <td>7</td>\n",
              "      <td>6</td>\n",
              "      <td>2</td>\n",
              "    </tr>\n",
              "  </tbody>\n",
              "</table>\n",
              "</div>"
            ],
            "text/plain": [
              "                                        Product Name  ... AVG-W2V Clus Label\n",
              "0  \"CLEAR CLEAN ESN\" Sprint EPIC 4G Galaxy SPH-D7...  ...                  2\n",
              "\n",
              "[1 rows x 11 columns]"
            ]
          },
          "metadata": {
            "tags": []
          },
          "execution_count": 88
        }
      ]
    },
    {
      "cell_type": "code",
      "metadata": {
        "id": "G2S8Dqh_9ZgM",
        "colab": {
          "base_uri": "https://localhost:8080/"
        },
        "outputId": "b7858601-64d5-41af-918b-0b5d87fd0243"
      },
      "source": [
        "aggdf.groupby(['AVG-W2V Clus Label'])['Reviews'].count()"
      ],
      "execution_count": 89,
      "outputs": [
        {
          "output_type": "execute_result",
          "data": {
            "text/plain": [
              "AVG-W2V Clus Label\n",
              "0    1348\n",
              "1     111\n",
              "2    1592\n",
              "3     107\n",
              "4     264\n",
              "Name: Reviews, dtype: int64"
            ]
          },
          "metadata": {
            "tags": []
          },
          "execution_count": 89
        }
      ]
    },
    {
      "cell_type": "code",
      "metadata": {
        "id": "V6JZ0z1d9ZdY",
        "colab": {
          "base_uri": "https://localhost:8080/"
        },
        "outputId": "39f28308-7b06-4453-a066-5c666d6bb992"
      },
      "source": [
        "for i in range(5):\n",
        "    print(\"2 reviews of assigned to cluster \", i)\n",
        "    print(\"-\" * 70)\n",
        "    print(aggdf.iloc[aggdf.groupby(['AVG-W2V Clus Label']).groups[i][0]]['Reviews'])\n",
        "    print('\\n')\n",
        "    print(aggdf.iloc[aggdf.groupby(['AVG-W2V Clus Label']).groups[i][1]]['Reviews'])\n",
        "    print('\\n')\n",
        "    print(\"_\" * 70)"
      ],
      "execution_count": 90,
      "outputs": [
        {
          "output_type": "stream",
          "text": [
            "2 reviews of assigned to cluster  0\n",
            "----------------------------------------------------------------------\n",
            "It works good but it goes slow sometimes but its a very good phone I love it\n",
            "\n",
            "\n",
            "Great phone to replace my lost phone. The only thing is the volume up button does not work, but I can still go into settings to adjust. Other than that, it does the job until I am eligible to upgrade my phone again.Thaanks!\n",
            "\n",
            "\n",
            "______________________________________________________________________\n",
            "2 reviews of assigned to cluster  1\n",
            "----------------------------------------------------------------------\n",
            "excelente\n",
            "\n",
            "\n",
            "excelente\n",
            "\n",
            "\n",
            "______________________________________________________________________\n",
            "2 reviews of assigned to cluster  2\n",
            "----------------------------------------------------------------------\n",
            "I feel so LUCKY to have found this used (phone to us & not used hard at all), phone on line from someone who upgraded and sold this one. My Son liked his old one that finally fell apart after 2.5+ years and didn't want an upgrade!! Thank you Seller, we really appreciate it & your honesty re: said used phone.I recommend this seller very highly & would but from them again!!\n",
            "\n",
            "\n",
            "nice phone, nice up grade from my pantach revue. Very clean set up and easy set up. never had an android phone but they are fantastic to say the least. perfect size for surfing and social media. great phone samsung\n",
            "\n",
            "\n",
            "______________________________________________________________________\n",
            "2 reviews of assigned to cluster  3\n",
            "----------------------------------------------------------------------\n",
            "very good\n",
            "\n",
            "\n",
            "good\n",
            "\n",
            "\n",
            "______________________________________________________________________\n",
            "2 reviews of assigned to cluster  4\n",
            "----------------------------------------------------------------------\n",
            "Met all of my expectations. I can't complain at all. Great price!\n",
            "\n",
            "\n",
            "Very practical and user-friendly phone. I am very satisfied with it.\n",
            "\n",
            "\n",
            "______________________________________________________________________\n"
          ],
          "name": "stdout"
        }
      ]
    },
    {
      "cell_type": "code",
      "metadata": {
        "id": "2szmyxj09ZaJ"
      },
      "source": [
        ""
      ],
      "execution_count": null,
      "outputs": []
    },
    {
      "cell_type": "code",
      "metadata": {
        "id": "7mQk56qV9ZV1"
      },
      "source": [
        ""
      ],
      "execution_count": null,
      "outputs": []
    },
    {
      "cell_type": "code",
      "metadata": {
        "id": "cv-yy8TT9ZR6"
      },
      "source": [
        ""
      ],
      "execution_count": null,
      "outputs": []
    },
    {
      "cell_type": "markdown",
      "metadata": {
        "id": "8h8v2JoHvKwt"
      },
      "source": [
        "In one paragraph, please compare K means, DBSCAN and Hierarchical clustering. "
      ]
    },
    {
      "cell_type": "markdown",
      "metadata": {
        "id": "xqxBVxEZJNYA"
      },
      "source": [
        "###\n",
        "K-means and DBSCAN both are unsupervised clustering. K-means clustering is the model for grouping the data based on the similarities and it is centroid-based machine learning algorithm. Euclidian Distance is used to measure the similarities in K-means model. Each cluster has one randomly centroid and the data which are close to each centroid are in that centroid cluster. DBSCAN it is the great way to detect outliers. DBSCAN clustering is density-based. There are two different categories of the points, core point and border point, which each data in dataset can be under one of these categories. Neighbor core point are in the same cluster and they are connected to one another. \n",
        "For K-means number of clusters must be specified, however for DBSCAN it is not necessary. Unlike K-means, DBSCAN can handle the outliers and can be used for high dimensional dataset. However, DBSCAN cannot be used for varying density data points.\n",
        "For Hierarchical Clustering analyst should not specify number of the clusters, just can choose the cluster that has best format. In addition, it cannot handle big data well. The advantages of the Hierarchical clustering to K-means is in K-means data are selected randomly in each run for creating the clusters, so the results of running the algorithm several times might be different, but the results of Hierarchical clustering does not change by repeating the running time. For Hierarchical clustering analyst can interprets the dendrogram to choose clusters, while for K-means clustering number of K must be known at the initial point, and finally by trying different K, optimal K can be found. One of the best way to find the optimal K as shown in the program is using the Elbow method it does not matter if the Bag of word model is used or TFIDF. \n",
        "With Elbow method in K means we can figure out the optimal number of clusters which in this case it seems to be 5, after K means the Hierarchical clustering is the other method which shows the clusters but not as clear as K means. As mentioned above the DBscan is great to recognized outlier but not as beneficial as the other two methods to find the optimal clusters for the dataset.  \n"
      ]
    },
    {
      "cell_type": "code",
      "metadata": {
        "id": "BfSu9ds2vKwt"
      },
      "source": [
        ""
      ],
      "execution_count": null,
      "outputs": []
    }
  ]
}