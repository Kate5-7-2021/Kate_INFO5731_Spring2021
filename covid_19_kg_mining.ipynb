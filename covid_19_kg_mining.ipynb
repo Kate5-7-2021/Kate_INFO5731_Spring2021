{
  "nbformat": 4,
  "nbformat_minor": 0,
  "metadata": {
    "colab": {
      "name": "covid-19-kg-mining.ipynb",
      "provenance": [],
      "collapsed_sections": [],
      "toc_visible": true,
      "include_colab_link": true
    },
    "kernelspec": {
      "name": "python3",
      "display_name": "Python 3"
    },
    "language_info": {
      "name": "python"
    },
    "accelerator": "GPU"
  },
  "cells": [
    {
      "cell_type": "markdown",
      "metadata": {
        "id": "view-in-github",
        "colab_type": "text"
      },
      "source": [
        "<a href=\"https://colab.research.google.com/github/Kate5-7-2021/Kate_INFO5731_Spring2021/blob/main/covid_19_kg_mining.ipynb\" target=\"_parent\"><img src=\"https://colab.research.google.com/assets/colab-badge.svg\" alt=\"Open In Colab\"/></a>"
      ]
    },
    {
      "cell_type": "markdown",
      "metadata": {
        "id": "xUFXMJVdOltr"
      },
      "source": [
        "# 1. Preliminaries"
      ]
    },
    {
      "cell_type": "code",
      "metadata": {
        "id": "P7TZVvkzNwDF",
        "colab": {
          "base_uri": "https://localhost:8080/"
        },
        "outputId": "1b5b72ff-aed3-48c7-ce6e-9e98c4fa3ba8"
      },
      "source": [
        "# If using Google Colab run this cell \n",
        "\n",
        "# select tensorflow version for colab \n",
        "%tensorflow_version 1.x"
      ],
      "execution_count": null,
      "outputs": [
        {
          "output_type": "stream",
          "text": [
            "TensorFlow 1.x selected.\n"
          ],
          "name": "stdout"
        }
      ]
    },
    {
      "cell_type": "code",
      "metadata": {
        "colab": {
          "base_uri": "https://localhost:8080/"
        },
        "id": "h22uybHCOUyq",
        "outputId": "0837c664-cc8e-4676-a3f5-90dbbd067170"
      },
      "source": [
        "import tensorflow as tf \n",
        "\n",
        "print('TensorFlow  version: {}'.format(tf.__version__))\n",
        "\n",
        "# Get the GPU name\n",
        "device_name = tf.test.gpu_device_name()\n",
        "if device_name != '/device:GPU:0':\n",
        "  raise SystemError('GPU device not found')\n",
        "print('Found GPU at: {}'.format(device_name))"
      ],
      "execution_count": null,
      "outputs": [
        {
          "output_type": "stream",
          "text": [
            "TensorFlow  version: 1.15.2\n",
            "Found GPU at: /device:GPU:0\n"
          ],
          "name": "stdout"
        }
      ]
    },
    {
      "cell_type": "code",
      "metadata": {
        "id": "MgZPAPapOaLA"
      },
      "source": [
        "%%capture \n",
        "# Install AmpliGraph library\n",
        "! pip install ampligraph\n",
        "\n",
        "# Required to visualize embeddings with tensorboard projector, comment out if not required!\n",
        "! pip install --user tensorboard\n",
        "\n",
        "# Required to plot text on embedding clusters, comment out if not required!\n",
        "! pip install --user git+https://github.com/Phlya/adjustText"
      ],
      "execution_count": null,
      "outputs": []
    },
    {
      "cell_type": "code",
      "metadata": {
        "colab": {
          "base_uri": "https://localhost:8080/"
        },
        "id": "9Bzg5vHqOfch",
        "outputId": "ea44c4aa-04ff-46ed-c621-9ffa2664e190"
      },
      "source": [
        "# All imports used in this tutorial \n",
        "%tensorflow_version 1.x\n",
        "import ampligraph\n",
        "import numpy as np\n",
        "import pandas as pd\n",
        "import tensorflow as tf\n",
        "from ampligraph.datasets import load_fb15k_237\n",
        "from ampligraph.evaluation import train_test_split_no_unseen, evaluate_performance, mr_score, mrr_score, hits_at_n_score\n",
        "from ampligraph.discovery import query_topn, discover_facts, find_clusters\n",
        "from ampligraph.latent_features import TransE, ComplEx, HolE, DistMult, ConvE, ConvKB\n",
        "from ampligraph.utils import save_model, restore_model\n",
        "\n",
        "def display_aggregate_metrics(ranks):\n",
        "    print('Mean Rank:', mr_score(ranks)) \n",
        "    print('Mean Reciprocal Rank:', mrr_score(ranks)) \n",
        "    print('Hits@1:', hits_at_n_score(ranks, 1))\n",
        "    print('Hits@10:', hits_at_n_score(ranks, 10))\n",
        "    print('Hits@100:', hits_at_n_score(ranks, 100))\n",
        "\n",
        "print('Ampligraph version: {}'.format(ampligraph.__version__))"
      ],
      "execution_count": null,
      "outputs": [
        {
          "output_type": "stream",
          "text": [
            "Ampligraph version: 1.4.0\n"
          ],
          "name": "stdout"
        }
      ]
    },
    {
      "cell_type": "markdown",
      "metadata": {
        "id": "aBb8eVx6Osxx"
      },
      "source": [
        "# 2. Loading a Knowledge Graph dataset"
      ]
    },
    {
      "cell_type": "code",
      "metadata": {
        "id": "k96fp70dOyyS"
      },
      "source": [
        "from ampligraph.datasets import load_fb15k_237, load_wn18rr, load_yago3_10"
      ],
      "execution_count": null,
      "outputs": []
    },
    {
      "cell_type": "code",
      "metadata": {
        "colab": {
          "base_uri": "https://localhost:8080/",
          "height": 218
        },
        "id": "G6V6F6nWO6cQ",
        "outputId": "d8ee2746-6c9d-47b0-a21e-7c387e7da758"
      },
      "source": [
        "import pandas as pd\n",
        "pmc = pd.read_csv('/content/new_triples_with_predefined_relations_pmc_June10_.csv')\n",
        "pdf = pd.read_csv('/content/new_triples_with_predefined_relations_pdf_June10_.csv')\n",
        "dataset = pd.concat([pmc, pdf])\n",
        "print(dataset.columns)\n",
        "dataset.drop(columns='Unnamed: 0', inplace=True)\n",
        "#dataset.columns = ['subject',  'object', 'predicate',]\n",
        "dataset = dataset[['subject','new_relation', 'object' ]]\n",
        "dataset.head(5)"
      ],
      "execution_count": null,
      "outputs": [
        {
          "output_type": "stream",
          "text": [
            "Index(['Unnamed: 0', 'Unnamed: 0.1', 'subject', 'object', 'new_relation'], dtype='object')\n"
          ],
          "name": "stdout"
        },
        {
          "output_type": "execute_result",
          "data": {
            "text/html": [
              "<div>\n",
              "<style scoped>\n",
              "    .dataframe tbody tr th:only-of-type {\n",
              "        vertical-align: middle;\n",
              "    }\n",
              "\n",
              "    .dataframe tbody tr th {\n",
              "        vertical-align: top;\n",
              "    }\n",
              "\n",
              "    .dataframe thead th {\n",
              "        text-align: right;\n",
              "    }\n",
              "</style>\n",
              "<table border=\"1\" class=\"dataframe\">\n",
              "  <thead>\n",
              "    <tr style=\"text-align: right;\">\n",
              "      <th></th>\n",
              "      <th>subject</th>\n",
              "      <th>new_relation</th>\n",
              "      <th>object</th>\n",
              "    </tr>\n",
              "  </thead>\n",
              "  <tbody>\n",
              "    <tr>\n",
              "      <th>0</th>\n",
              "      <td>dysfunction</td>\n",
              "      <td>disease_species</td>\n",
              "      <td>child</td>\n",
              "    </tr>\n",
              "    <tr>\n",
              "      <th>1</th>\n",
              "      <td>et dysfunction</td>\n",
              "      <td>disease_species</td>\n",
              "      <td>child</td>\n",
              "    </tr>\n",
              "    <tr>\n",
              "      <th>2</th>\n",
              "      <td>et dysfunction</td>\n",
              "      <td>disease_species</td>\n",
              "      <td>child</td>\n",
              "    </tr>\n",
              "    <tr>\n",
              "      <th>3</th>\n",
              "      <td>rsv</td>\n",
              "      <td>disease_disease</td>\n",
              "      <td>virus</td>\n",
              "    </tr>\n",
              "    <tr>\n",
              "      <th>4</th>\n",
              "      <td>treatment</td>\n",
              "      <td>treat_procedure_species</td>\n",
              "      <td>child</td>\n",
              "    </tr>\n",
              "  </tbody>\n",
              "</table>\n",
              "</div>"
            ],
            "text/plain": [
              "          subject             new_relation object\n",
              "0     dysfunction          disease_species  child\n",
              "1  et dysfunction          disease_species  child\n",
              "2  et dysfunction          disease_species  child\n",
              "3             rsv          disease_disease  virus\n",
              "4       treatment  treat_procedure_species  child"
            ]
          },
          "metadata": {
            "tags": []
          },
          "execution_count": 6
        }
      ]
    },
    {
      "cell_type": "code",
      "metadata": {
        "colab": {
          "base_uri": "https://localhost:8080/"
        },
        "id": "ne21mIAeO-Kh",
        "outputId": "d53ecad4-0768-4720-f6e6-b527580b1b09"
      },
      "source": [
        "print('Total triples in the KG:', dataset.shape)"
      ],
      "execution_count": null,
      "outputs": [
        {
          "output_type": "stream",
          "text": [
            "Total triples in the KG: (244392, 3)\n"
          ],
          "name": "stdout"
        }
      ]
    },
    {
      "cell_type": "code",
      "metadata": {
        "id": "9WxrnxjodccM",
        "colab": {
          "base_uri": "https://localhost:8080/"
        },
        "outputId": "0346519d-1418-4b55-970f-053cca1906c3"
      },
      "source": [
        "print('the number of relations: \\n', dataset['new_relation'].value_counts())"
      ],
      "execution_count": null,
      "outputs": [
        {
          "output_type": "stream",
          "text": [
            "the number of relations: \n",
            " disease_disease                    87479\n",
            "gene_gene                          25101\n",
            "disease_species                    21152\n",
            "gene_disease                       17414\n",
            "disease_gene                       17383\n",
            "treat_procedure_disease            15221\n",
            "disease_treat_procedure            14696\n",
            "treat_procedure_treat_procedure    13533\n",
            "treat_procedure_gene                8913\n",
            "gene_treat_procedure                8913\n",
            "treat_procedure_species             5307\n",
            "gene_species                        3894\n",
            "disease_symptom                     2501\n",
            "symptom_disease                     1409\n",
            "treat_procedure_symptom              391\n",
            "gene_symptom                         310\n",
            "symptom_species                      253\n",
            "symptom_treat_procedure              211\n",
            "symptom_gene                         170\n",
            "symptom_symptom                      141\n",
            "Name: new_relation, dtype: int64\n"
          ],
          "name": "stdout"
        }
      ]
    },
    {
      "cell_type": "markdown",
      "metadata": {
        "id": "fLlcSqIBPEAQ"
      },
      "source": [
        "## 2.1 Create training, validation and test splits"
      ]
    },
    {
      "cell_type": "code",
      "metadata": {
        "colab": {
          "base_uri": "https://localhost:8080/"
        },
        "id": "qaZipgBpPGop",
        "outputId": "7b6dc531-641d-4d24-d1a6-8091f8e53973"
      },
      "source": [
        "from ampligraph.evaluation import train_test_split_no_unseen\n",
        "# get the validation set of size 500\n",
        "test_train, X_valid = train_test_split_no_unseen(dataset.values, 500, seed=0)\n",
        "\n",
        "# get the test set of size 1000 from the remaining triples\n",
        "X_train, X_test = train_test_split_no_unseen(test_train, 1000, seed=0)\n",
        "\n",
        "print('Total triples:', dataset.shape)\n",
        "print('Size of train:', X_train.shape)\n",
        "print('Size of valid:', X_valid.shape)\n",
        "print('Size of test:', X_test.shape)"
      ],
      "execution_count": null,
      "outputs": [
        {
          "output_type": "stream",
          "text": [
            "Total triples: (244392, 3)\n",
            "Size of train: (242892, 3)\n",
            "Size of valid: (500, 3)\n",
            "Size of test: (1000, 3)\n"
          ],
          "name": "stdout"
        }
      ]
    },
    {
      "cell_type": "markdown",
      "metadata": {
        "id": "fzsmWo0zPMR6"
      },
      "source": [
        "# 3. Model Training"
      ]
    },
    {
      "cell_type": "code",
      "metadata": {
        "colab": {
          "base_uri": "https://localhost:8080/"
        },
        "id": "p9POL-1mPOsJ",
        "outputId": "2c18cd4f-6e0e-414e-c509-7c5d315a492d"
      },
      "source": [
        "from ampligraph.latent_features import TransE\n",
        "\n",
        "# Train a KGE model\n",
        "model = TransE(k=300, \n",
        "               epochs=100, \n",
        "               eta=1, \n",
        "               loss='multiclass_nll', \n",
        "               initializer='xavier', initializer_params={'uniform': False},\n",
        "               regularizer='LP', regularizer_params= {'lambda': 0.001, 'p': 3},\n",
        "               optimizer= 'adam', optimizer_params= {'lr': 0.0001}, \n",
        "               seed= 0, batches_count= 10, verbose=True)\n",
        "\n",
        "model.fit(X_train)\n",
        "# ----------------------\n",
        "# Evaluate: \n",
        "# Filtered evaluation with ranking strategy assigning worst rank to break ties\n",
        "\n",
        "from ampligraph.utils import save_model, restore_model\n",
        "save_model(model, 'TransE.pkl')\n",
        "model = restore_model('TransE.pkl')\n",
        "\n",
        "# create the filter \n",
        "X_filter = np.concatenate([X_train, X_valid, X_test], 0)\n",
        "\n",
        "# compute ranks\n",
        "ranks = evaluate_performance(X_test, \n",
        "                             model=model, \n",
        "                             filter_triples=X_filter)\n",
        "\n",
        "# ranks are computed per triple\n",
        "print('Test set:', X_test.shape)\n",
        "print('Size of ranks:', ranks.shape)\n",
        "\n",
        "# Aggregate metrics show the aggregate performance of the model on the test set using a single number\n",
        "display_aggregate_metrics(ranks)\n",
        "# ----------------------"
      ],
      "execution_count": null,
      "outputs": [
        {
          "output_type": "stream",
          "text": [
            "Average TransE Loss:   0.045511: 100%|██████████| 100/100 [00:12<00:00,  7.96epoch/s]\n",
            "100%|██████████| 1000/1000 [00:06<00:00, 162.91it/s]\n"
          ],
          "name": "stderr"
        },
        {
          "output_type": "stream",
          "text": [
            "Test set: (1000, 3)\n",
            "Size of ranks: (1000, 2)\n",
            "Mean Rank: 2313.499\n",
            "Mean Reciprocal Rank: 0.06883078223695022\n",
            "Hits@1: 0.039\n",
            "Hits@10: 0.12\n",
            "Hits@100: 0.3025\n"
          ],
          "name": "stdout"
        }
      ]
    },
    {
      "cell_type": "markdown",
      "metadata": {
        "id": "sYMsDmRuQLem"
      },
      "source": [
        "# 4. Knowledge Discovery"
      ]
    },
    {
      "cell_type": "markdown",
      "metadata": {
        "id": "Xd_bvL6dkkj6"
      },
      "source": [
        "### Relations"
      ]
    },
    {
      "cell_type": "code",
      "metadata": {
        "id": "_xWtlPK3fstK",
        "colab": {
          "base_uri": "https://localhost:8080/",
          "height": 85
        },
        "outputId": "e01ee26b-4048-4694-b525-785f08246063"
      },
      "source": [
        "# Relations\n",
        "'''\n",
        "disease_disease                    87479\n",
        "gene_gene                          25101\n",
        "disease_species                    21152\n",
        "gene_disease                       17414\n",
        "disease_gene                       17383\n",
        "treat_procedure_disease            15221\n",
        "disease_treat_procedure            14696\n",
        "treat_procedure_treat_procedure    13533\n",
        "treat_procedure_gene                8913\n",
        "gene_treat_procedure                8913\n",
        "treat_procedure_species             5307\n",
        "gene_species                        3894\n",
        "disease_symptom                     2501\n",
        "symptom_disease                     1409\n",
        "treat_procedure_symptom              391\n",
        "gene_symptom                         310\n",
        "symptom_species                      253\n",
        "symptom_treat_procedure              211\n",
        "symptom_gene                         170\n",
        "symptom_symptom                      141\n",
        "'''"
      ],
      "execution_count": null,
      "outputs": [
        {
          "output_type": "execute_result",
          "data": {
            "application/vnd.google.colaboratory.intrinsic+json": {
              "type": "string"
            },
            "text/plain": [
              "'\\ndisease_disease            87479\\ngene_gene                  25101\\ngene_disease               17414\\ndisease_gene               17383\\ndisease_treat_procedure    14696\\ngene_treat_procedure        8913\\ndisease_symptom             2501\\nsymptom_disease             1409\\ngene_symptom                 310\\nsymptom_treat_procedure      211\\nsymptom_gene                 170\\nsymptom_symptom              141\\nName: new_relation, dtype: int64\\n'"
            ]
          },
          "metadata": {
            "tags": []
          },
          "execution_count": 11
        }
      ]
    },
    {
      "cell_type": "markdown",
      "metadata": {
        "id": "oGu6b-HnQRS3"
      },
      "source": [
        "##  Question - Answering\n",
        "\n",
        "``` \n",
        "    <head, relation, ?> \n",
        "    <head, ?,        tail>\n",
        "    <?,    relation, tail>\n",
        "```"
      ]
    },
    {
      "cell_type": "markdown",
      "metadata": {
        "id": "zq_rwrt5jTVJ"
      },
      "source": [
        "### Query: what are the possible therapeutic procedure of covid-19??"
      ]
    },
    {
      "cell_type": "code",
      "metadata": {
        "colab": {
          "base_uri": "https://localhost:8080/"
        },
        "id": "j_cm34I_QNH3",
        "outputId": "2f4d9ce1-9822-4686-928e-09a4118ecc2e"
      },
      "source": [
        "# Query: what are the possible therapeutic procedure of covid-19??\n",
        "\n",
        "from ampligraph.discovery import query_topn\n",
        "\n",
        "# restore the previously saved model to save time\n",
        "model = restore_model('TransE.pkl')\n",
        "\n",
        "triples, scores = query_topn(model, top_n=20, \n",
        "                             head='covid-19', \n",
        "                             relation='disease_treat_procedure', \n",
        "                             tail=None, \n",
        "                             ents_to_consider=None, \n",
        "                             rels_to_consider=None)\n",
        "\n",
        "for triple, score in zip(triples, scores):\n",
        "    print('Score: {} \\t {} '.format(score, triple))"
      ],
      "execution_count": null,
      "outputs": [
        {
          "output_type": "stream",
          "text": [
            "Score: -11.44215202331543 \t ['covid-19' 'disease_treat_procedure' 'detected'] \n",
            "Score: -11.461198806762695 \t ['covid-19' 'disease_treat_procedure' 'extracted'] \n",
            "Score: -11.561827659606934 \t ['covid-19' 'disease_treat_procedure' 'transfusion'] \n",
            "Score: -11.609912872314453 \t ['covid-19' 'disease_treat_procedure' 'adjustment'] \n",
            "Score: -11.703495979309082 \t ['covid-19' 'disease_treat_procedure' 'stem cell transplantation'] \n",
            "Score: -11.722541809082031 \t ['covid-19' 'disease_treat_procedure' 'mechanical ventilation'] \n",
            "Score: -11.766433715820312 \t ['covid-19' 'disease_treat_procedure' 'infiltration'] \n",
            "Score: -11.784860610961914 \t ['covid-19' 'disease_treat_procedure' '5'] \n",
            "Score: -11.820601463317871 \t ['covid-19' 'disease_treat_procedure' 'sialic acid'] \n",
            "Score: -11.857441902160645 \t ['covid-19' 'disease_treat_procedure' 'corticosteroid therapy'] \n",
            "Score: -11.859466552734375 \t ['covid-19' 'disease_treat_procedure' 'lead'] \n",
            "Score: -11.876775741577148 \t ['covid-19' 'disease_treat_procedure' 'oxygen'] \n",
            "Score: -11.881787300109863 \t ['covid-19' 'disease_treat_procedure' 'diet'] \n",
            "Score: -11.894622802734375 \t ['covid-19' 'disease_treat_procedure' 'macrophage activation'] \n",
            "Score: -11.89883041381836 \t ['covid-19' 'disease_treat_procedure' 'placebo'] \n",
            "Score: -11.928418159484863 \t ['covid-19' 'disease_treat_procedure' 'chemotherapy'] \n",
            "Score: -11.945711135864258 \t ['covid-19' 'disease_treat_procedure' 'α'] \n",
            "Score: -11.957798957824707 \t ['covid-19' 'disease_treat_procedure' 'trizol'] \n",
            "Score: -11.980611801147461 \t ['covid-19' 'disease_treat_procedure' 'flooding'] \n",
            "Score: -11.982574462890625 \t ['covid-19' 'disease_treat_procedure' 'infusion'] \n"
          ],
          "name": "stdout"
        }
      ]
    },
    {
      "cell_type": "code",
      "metadata": {
        "id": "njTpcGh0jBnU",
        "colab": {
          "base_uri": "https://localhost:8080/"
        },
        "outputId": "aac61286-5772-4875-9f6c-4c2e7d0c4d72"
      },
      "source": [
        "# Query: what are the possible therapeutic procedure of covid-19??\n",
        "\n",
        "from ampligraph.discovery import query_topn\n",
        "\n",
        "# restore the previously saved model to save time\n",
        "model = restore_model('TransE.pkl')\n",
        "\n",
        "triples, scores = query_topn(model, top_n=20, \n",
        "                             head=None, \n",
        "                             relation='treat_procedure_disease', \n",
        "                             tail='covid-19', \n",
        "                             ents_to_consider=None, \n",
        "                             rels_to_consider=None)\n",
        "\n",
        "for triple, score in zip(triples, scores):\n",
        "    print('Score: {} \\t {} '.format(score, triple))"
      ],
      "execution_count": null,
      "outputs": [
        {
          "output_type": "stream",
          "text": [
            "Score: -13.19991683959961 \t ['glycyrrhizin' 'treat_procedure_disease' 'covid-19'] \n",
            "Score: -13.286637306213379 \t ['nippv' 'treat_procedure_disease' 'covid-19'] \n",
            "Score: -13.29110336303711 \t ['combined therapy' 'treat_procedure_disease' 'covid-19'] \n",
            "Score: -13.318893432617188 \t ['melatonin' 'treat_procedure_disease' 'covid-19'] \n",
            "Score: -13.361358642578125 \t ['cr3022' 'treat_procedure_disease' 'covid-19'] \n",
            "Score: -13.365716934204102 \t ['hcov' 'treat_procedure_disease' 'covid-19'] \n",
            "Score: -13.443920135498047 \t ['ablation' 'treat_procedure_disease' 'covid-19'] \n",
            "Score: -13.482229232788086 \t ['ci' 'treat_procedure_disease' 'covid-19'] \n",
            "Score: -13.483879089355469 \t ['pct' 'treat_procedure_disease' 'covid-19'] \n",
            "Score: -13.50535774230957 \t ['aspiration' 'treat_procedure_disease' 'covid-19'] \n",
            "Score: -13.521445274353027 \t ['influenza vaccination' 'treat_procedure_disease' 'covid-19'] \n",
            "Score: -13.527620315551758 \t ['rimantadine' 'treat_procedure_disease' 'covid-19'] \n",
            "Score: -13.532459259033203 \t ['vitamin d' 'treat_procedure_disease' 'covid-19'] \n",
            "Score: -13.56842041015625 \t ['manipulation' 'treat_procedure_disease' 'covid-19'] \n",
            "Score: -13.568668365478516 \t ['hcq' 'treat_procedure_disease' 'covid-19'] \n",
            "Score: -13.56904125213623 \t ['favipiravir' 'treat_procedure_disease' 'covid-19'] \n",
            "Score: -13.570290565490723 \t ['prostaglandin' 'treat_procedure_disease' 'covid-19'] \n",
            "Score: -13.579051971435547 \t ['licl' 'treat_procedure_disease' 'covid-19'] \n",
            "Score: -13.591468811035156 \t ['curcumin' 'treat_procedure_disease' 'covid-19'] \n",
            "Score: -13.607410430908203 \t ['dilatation' 'treat_procedure_disease' 'covid-19'] \n"
          ],
          "name": "stdout"
        }
      ]
    },
    {
      "cell_type": "markdown",
      "metadata": {
        "id": "M7ZUKoeVjuGN"
      },
      "source": [
        "### Query: What are related diseases of Covid-19"
      ]
    },
    {
      "cell_type": "code",
      "metadata": {
        "colab": {
          "base_uri": "https://localhost:8080/"
        },
        "id": "TSZ8QHf6QdgP",
        "outputId": "a2fa6a2d-1208-4f1e-9230-3611932a29f0"
      },
      "source": [
        "# Predict relation\n",
        "\n",
        "triples, scores = query_topn(model, top_n=20, \n",
        "                             head='covid-19', \n",
        "                             relation='disease_disease', \n",
        "                             tail= None, \n",
        "                             ents_to_consider=None, \n",
        "                             rels_to_consider=None)\n",
        "\n",
        "for triple, score in zip(triples, scores):\n",
        "    print('Score: {} \\t {} '.format(score, triple))"
      ],
      "execution_count": null,
      "outputs": [
        {
          "output_type": "stream",
          "text": [
            "Score: -14.012584686279297 \t ['covid-19' 'disease_disease' 'bat coronavirus'] \n",
            "Score: -14.041549682617188 \t ['covid-19' 'disease_disease' 'childhood'] \n",
            "Score: -14.055595397949219 \t ['covid-19' 'disease_disease' 'fatal'] \n",
            "Score: -14.07307243347168 \t ['covid-19' 'disease_disease' 'shortness of breath'] \n",
            "Score: -14.091279983520508 \t ['covid-19' 'disease_disease' 'healthcare associated infection'] \n",
            "Score: -14.094403266906738 \t ['covid-19' 'disease_disease' 'long'] \n",
            "Score: -14.111207962036133 \t ['covid-19' 'disease_disease' 'tract illness'] \n",
            "Score: -14.276697158813477 \t ['covid-19' 'disease_disease' 'bovine leukemia virus'] \n",
            "Score: -14.285184860229492 \t ['covid-19' 'disease_disease' 'acute lower respiratory tract infection'] \n",
            "Score: -14.370065689086914 \t ['covid-19' 'disease_disease' 'arti'] \n",
            "Score: -14.377974510192871 \t ['covid-19' 'disease_disease' 'liver transplantation'] \n",
            "Score: -14.383066177368164 \t ['covid-19' 'disease_disease' 'bronchointerstitial pneumonia'] \n",
            "Score: -14.407201766967773 \t ['covid-19' 'disease_disease' 'tissue necrosis'] \n",
            "Score: -14.42740249633789 \t ['covid-19' 'disease_disease' 'immunocompetent'] \n",
            "Score: -14.456338882446289 \t ['covid-19' 'disease_disease' 'alris'] \n",
            "Score: -14.462568283081055 \t ['covid-19' 'disease_disease' 'lvad'] \n",
            "Score: -14.487654685974121 \t ['covid-19' 'disease_disease' 'necrosis of liver'] \n",
            "Score: -14.48983097076416 \t ['covid-19' 'disease_disease' 'hyperlucent lung'] \n",
            "Score: -14.498956680297852 \t ['covid-19' 'disease_disease' 'cutaneous infection'] \n",
            "Score: -14.502861976623535 \t ['covid-19' 'disease_disease' 'pneumopericardium'] \n"
          ],
          "name": "stdout"
        }
      ]
    },
    {
      "cell_type": "code",
      "metadata": {
        "id": "Fo9TXKFbkRRT",
        "colab": {
          "base_uri": "https://localhost:8080/"
        },
        "outputId": "ffe40640-6b31-49f3-ae91-0547011cb002"
      },
      "source": [
        "# Predict relation\n",
        "\n",
        "triples, scores = query_topn(model, top_n=20, \n",
        "                             head=None, \n",
        "                             relation='disease_disease', \n",
        "                             tail= 'covid-19', \n",
        "                             ents_to_consider=None, \n",
        "                             rels_to_consider=None)\n",
        "\n",
        "for triple, score in zip(triples, scores):\n",
        "    print('Score: {} \\t {} '.format(score, triple))"
      ],
      "execution_count": null,
      "outputs": [
        {
          "output_type": "stream",
          "text": [
            "Score: -18.146244049072266 \t ['covid-19' 'disease_disease' 'covid-19'] \n",
            "Score: -18.577428817749023 \t ['canine rabies' 'disease_disease' 'covid-19'] \n",
            "Score: -18.679847717285156 \t ['flea' 'disease_disease' 'covid-19'] \n",
            "Score: -18.714982986450195 \t ['coli' 'disease_disease' 'covid-19'] \n",
            "Score: -18.718536376953125 \t ['ebola fever' 'disease_disease' 'covid-19'] \n",
            "Score: -18.72646713256836 \t ['denvs' 'disease_disease' 'covid-19'] \n",
            "Score: -18.733434677124023 \t ['hypogonadism' 'disease_disease' 'covid-19'] \n",
            "Score: -18.772445678710938 \t ['nasal stuffiness' 'disease_disease' 'covid-19'] \n",
            "Score: -18.787410736083984 \t ['facial paralysis' 'disease_disease' 'covid-19'] \n",
            "Score: -18.807798385620117 \t ['frailty' 'disease_disease' 'covid-19'] \n",
            "Score: -18.869657516479492 \t ['adenoviral pneumonia' 'disease_disease' 'covid-19'] \n",
            "Score: -18.890518188476562 \t ['intestinal metaplasia' 'disease_disease' 'covid-19'] \n",
            "Score: -18.92822265625 \t ['avian influenza a virus' 'disease_disease' 'covid-19'] \n",
            "Score: -18.92865753173828 \t ['hemorrhagic pneumonia' 'disease_disease' 'covid-19'] \n",
            "Score: -18.930789947509766 \t ['streptococcus suis infection' 'disease_disease' 'covid-19'] \n",
            "Score: -18.940792083740234 \t ['nash' 'disease_disease' 'covid-19'] \n",
            "Score: -18.944421768188477 \t ['cholangiolitis' 'disease_disease' 'covid-19'] \n",
            "Score: -18.94493865966797 \t ['s pneumoniae' 'disease_disease' 'covid-19'] \n",
            "Score: -18.965763092041016 \t ['veev infection' 'disease_disease' 'covid-19'] \n",
            "Score: -18.980243682861328 \t ['milk intolerance' 'disease_disease' 'covid-19'] \n"
          ],
          "name": "stdout"
        }
      ]
    },
    {
      "cell_type": "markdown",
      "metadata": {
        "id": "1tXmffPBkw7Y"
      },
      "source": [
        "### Query: What are the genes/proteins related to Covid-19"
      ]
    },
    {
      "cell_type": "code",
      "metadata": {
        "colab": {
          "base_uri": "https://localhost:8080/"
        },
        "id": "RZU9pJBXEvIG",
        "outputId": "bf92a338-069a-41c6-edbb-b6040e18f18e"
      },
      "source": [
        "# Predict relation\n",
        "\n",
        "triples, scores = query_topn(model, top_n=25, \n",
        "                             head='covid-19', \n",
        "                             relation='disease_gene', \n",
        "                             tail=None, \n",
        "                             ents_to_consider=None, \n",
        "                             rels_to_consider=None)\n",
        "\n",
        "for triple, score in zip(triples, scores):\n",
        "    print('Score: {} \\t {} '.format(score, triple))"
      ],
      "execution_count": null,
      "outputs": [
        {
          "output_type": "stream",
          "text": [
            "Score: -12.417631149291992 \t ['covid-19' 'disease_gene' 'spring'] \n",
            "Score: -12.54544734954834 \t ['covid-19' 'disease_gene' 'lobe'] \n",
            "Score: -12.692500114440918 \t ['covid-19' 'disease_gene' 'end'] \n",
            "Score: -12.694246292114258 \t ['covid-19' 'disease_gene' 'host cell'] \n",
            "Score: -12.70892333984375 \t ['covid-19' 'disease_gene' 'past'] \n",
            "Score: -12.710649490356445 \t ['covid-19' 'disease_gene' 'rare'] \n",
            "Score: -12.768430709838867 \t ['covid-19' 'disease_gene' 'enterocytes'] \n",
            "Score: -12.786975860595703 \t ['covid-19' 'disease_gene' 'small'] \n",
            "Score: -12.788283348083496 \t ['covid-19' 'disease_gene' 'airway'] \n",
            "Score: -12.85934066772461 \t ['covid-19' 'disease_gene' 'open'] \n",
            "Score: -12.885322570800781 \t ['covid-19' 'disease_gene' '12'] \n",
            "Score: -12.907169342041016 \t ['covid-19' 'disease_gene' 'large'] \n",
            "Score: -12.921226501464844 \t ['covid-19' 'disease_gene' 'killer'] \n",
            "Score: -12.998534202575684 \t ['covid-19' 'disease_gene' 'surface glycoprotein'] \n",
            "Score: -13.003454208374023 \t ['covid-19' 'disease_gene' 'genome'] \n",
            "Score: -13.003480911254883 \t ['covid-19' 'disease_gene' 'single'] \n",
            "Score: -13.008445739746094 \t ['covid-19' 'disease_gene' 'pneumocytes'] \n",
            "Score: -13.01655387878418 \t ['covid-19' 'disease_gene' 'endosomes'] \n",
            "Score: -13.017995834350586 \t ['covid-19' 'disease_gene' 'set'] \n",
            "Score: -13.031376838684082 \t ['covid-19' 'disease_gene' 'nucleocapsid'] \n",
            "Score: -13.045669555664062 \t ['covid-19' 'disease_gene' 'lrt'] \n",
            "Score: -13.04751968383789 \t ['covid-19' 'disease_gene' 'target cell'] \n",
            "Score: -13.047662734985352 \t ['covid-19' 'disease_gene' 'led'] \n",
            "Score: -13.055858612060547 \t ['covid-19' 'disease_gene' 'homology'] \n",
            "Score: -13.065404891967773 \t ['covid-19' 'disease_gene' 'hong kong'] \n"
          ],
          "name": "stdout"
        }
      ]
    },
    {
      "cell_type": "code",
      "metadata": {
        "colab": {
          "base_uri": "https://localhost:8080/"
        },
        "id": "8Z7SxVTfIyCP",
        "outputId": "6cb48dc1-b878-4d6a-e545-750e2cb00c9f"
      },
      "source": [
        "# Predict relation\n",
        "\n",
        "triples, scores = query_topn(model, top_n=25, \n",
        "                             head= None, \n",
        "                             relation='gene_disease', \n",
        "                             tail='covid-19', \n",
        "                             ents_to_consider=None, \n",
        "                             rels_to_consider=None)\n",
        "\n",
        "for triple, score in zip(triples, scores):\n",
        "    print('Score: {} \\t {} '.format(score, triple))"
      ],
      "execution_count": null,
      "outputs": [
        {
          "output_type": "stream",
          "text": [
            "Score: -13.549598693847656 \t ['nl63' 'gene_disease' 'covid-19'] \n",
            "Score: -13.551021575927734 \t ['aim' 'gene_disease' 'covid-19'] \n",
            "Score: -13.60186767578125 \t ['rnase l' 'gene_disease' 'covid-19'] \n",
            "Score: -13.632120132446289 \t ['z' 'gene_disease' 'covid-19'] \n",
            "Score: -13.664467811584473 \t ['mbl' 'gene_disease' 'covid-19'] \n",
            "Score: -13.690570831298828 \t ['trpv4' 'gene_disease' 'covid-19'] \n",
            "Score: -13.731022834777832 \t ['cxcl10' 'gene_disease' 'covid-19'] \n",
            "Score: -13.74756145477295 \t ['sv40' 'gene_disease' 'covid-19'] \n",
            "Score: -13.79036808013916 \t ['n protein' 'gene_disease' 'covid-19'] \n",
            "Score: -13.862615585327148 \t ['ifit1' 'gene_disease' 'covid-19'] \n",
            "Score: -13.862825393676758 \t ['tnf' 'gene_disease' 'covid-19'] \n",
            "Score: -13.8679780960083 \t ['sirna' 'gene_disease' 'covid-19'] \n",
            "Score: -13.878103256225586 \t ['cxcl13' 'gene_disease' 'covid-19'] \n",
            "Score: -13.882623672485352 \t ['mabs' 'gene_disease' 'covid-19'] \n",
            "Score: -13.885960578918457 \t ['cd4' 'gene_disease' 'covid-19'] \n",
            "Score: -13.901876449584961 \t ['toll' 'gene_disease' 'covid-19'] \n",
            "Score: -13.903785705566406 \t ['ace2 mrna' 'gene_disease' 'covid-19'] \n",
            "Score: -13.907493591308594 \t ['albumin' 'gene_disease' 'covid-19'] \n",
            "Score: -13.929727554321289 \t ['ccl5' 'gene_disease' 'covid-19'] \n",
            "Score: -13.948543548583984 \t ['race' 'gene_disease' 'covid-19'] \n",
            "Score: -13.950482368469238 \t ['cd209l' 'gene_disease' 'covid-19'] \n",
            "Score: -13.95847225189209 \t ['mir' 'gene_disease' 'covid-19'] \n",
            "Score: -13.959616661071777 \t ['trbp' 'gene_disease' 'covid-19'] \n",
            "Score: -13.970621109008789 \t ['immunoglobulin' 'gene_disease' 'covid-19'] \n",
            "Score: -13.97700023651123 \t ['net' 'gene_disease' 'covid-19'] \n"
          ],
          "name": "stdout"
        }
      ]
    },
    {
      "cell_type": "markdown",
      "metadata": {
        "id": "6cuiw9D6ND6J"
      },
      "source": [
        "### Query: What species transmit the covid-19"
      ]
    },
    {
      "cell_type": "code",
      "metadata": {
        "colab": {
          "base_uri": "https://localhost:8080/"
        },
        "id": "C5JyaTDrFMmG",
        "outputId": "3d8ac799-298a-4dc0-f7aa-87e83e74dcf5"
      },
      "source": [
        "# Predict relation\n",
        "triples, scores = query_topn(model, top_n=20, \n",
        "                             tail=None, \n",
        "                             relation='disease_species', \n",
        "                             head='covid-19', \n",
        "                             ents_to_consider=None, \n",
        "                             rels_to_consider=None)\n",
        "\n",
        "for triple, score in zip(triples, scores):\n",
        "    print('Score: {} \\t {} '.format(score, triple))"
      ],
      "execution_count": null,
      "outputs": [
        {
          "output_type": "stream",
          "text": [
            "Score: -11.919681549072266 \t ['covid-19' 'disease_species' 'cattle'] \n",
            "Score: -11.977020263671875 \t ['covid-19' 'disease_species' 'calf'] \n",
            "Score: -12.107694625854492 \t ['covid-19' 'disease_species' 'person'] \n",
            "Score: -12.145956993103027 \t ['covid-19' 'disease_species' 'infant'] \n",
            "Score: -12.186727523803711 \t ['covid-19' 'disease_species' 'sheep'] \n",
            "Score: -12.196048736572266 \t ['covid-19' 'disease_species' 'man'] \n",
            "Score: -12.223149299621582 \t ['covid-19' 'disease_species' 'rabbit'] \n",
            "Score: -12.22695255279541 \t ['covid-19' 'disease_species' 'child'] \n",
            "Score: -12.234914779663086 \t ['covid-19' 'disease_species' 'hamster'] \n",
            "Score: -12.249801635742188 \t ['covid-19' 'disease_species' 'patient'] \n",
            "Score: -12.26108169555664 \t ['covid-19' 'disease_species' 'duck'] \n",
            "Score: -12.308273315429688 \t ['covid-19' 'disease_species' 'vector'] \n",
            "Score: -12.311029434204102 \t ['covid-19' 'disease_species' 'macaque'] \n",
            "Score: -12.330013275146484 \t ['covid-19' 'disease_species' 'woman'] \n",
            "Score: -12.344823837280273 \t ['covid-19' 'disease_species' 'people'] \n",
            "Score: -12.400314331054688 \t ['covid-19' 'disease_species' 'human'] \n",
            "Score: -12.404265403747559 \t ['covid-19' 'disease_species' 'specie'] \n",
            "Score: -12.404458999633789 \t ['covid-19' 'disease_species' 'staphylococcus aureus'] \n",
            "Score: -12.407533645629883 \t ['covid-19' 'disease_species' 'chimpanzee'] \n",
            "Score: -12.432031631469727 \t ['covid-19' 'disease_species' 'cow'] \n"
          ],
          "name": "stdout"
        }
      ]
    },
    {
      "cell_type": "markdown",
      "metadata": {
        "id": "ZEt3e55_NwvA"
      },
      "source": [
        "### Query: what are symptoms of the covid-19"
      ]
    },
    {
      "cell_type": "code",
      "metadata": {
        "colab": {
          "base_uri": "https://localhost:8080/"
        },
        "id": "z-Y3oDDaGeLZ",
        "outputId": "d8a40a03-01a8-460e-e4f1-97d11819eea9"
      },
      "source": [
        "\n",
        "triples, scores = query_topn(model, top_n=20, \n",
        "                             head=None, \n",
        "                             relation='symptom_disease', \n",
        "                             tail='covid-19', \n",
        "                             ents_to_consider=None, \n",
        "                             rels_to_consider=None)\n",
        "\n",
        "for triple, score in zip(triples, scores):\n",
        "    print('Score: {} \\t {} '.format(score, triple))"
      ],
      "execution_count": null,
      "outputs": [
        {
          "output_type": "stream",
          "text": [
            "Score: -11.760704040527344 \t ['chest tightness' 'symptom_disease' 'covid-19'] \n",
            "Score: -11.777921676635742 \t ['severe diarrhea' 'symptom_disease' 'covid-19'] \n",
            "Score: -11.908426284790039 \t ['abdominal discomfort' 'symptom_disease' 'covid-19'] \n",
            "Score: -11.936378479003906 \t ['hoarseness' 'symptom_disease' 'covid-19'] \n",
            "Score: -12.027870178222656 \t ['halitosis' 'symptom_disease' 'covid-19'] \n",
            "Score: -12.094209671020508 \t ['rigor' 'symptom_disease' 'covid-19'] \n",
            "Score: -12.115575790405273 \t ['agitation' 'symptom_disease' 'covid-19'] \n",
            "Score: -12.142049789428711 \t ['intermittent fever' 'symptom_disease' 'covid-19'] \n",
            "Score: -12.16540813446045 \t ['prostration' 'symptom_disease' 'covid-19'] \n",
            "Score: -12.186314582824707 \t ['hyposmia' 'symptom_disease' 'covid-19'] \n",
            "Score: -12.281648635864258 \t ['persistent cough' 'symptom_disease' 'covid-19'] \n",
            "Score: -12.295584678649902 \t ['non-productive cough' 'symptom_disease' 'covid-19'] \n",
            "Score: -12.311198234558105 \t ['anesthesia' 'symptom_disease' 'covid-19'] \n",
            "Score: -12.34593391418457 \t ['acute pain' 'symptom_disease' 'covid-19'] \n",
            "Score: -12.38308334350586 \t ['finding' 'symptom_disease' 'covid-19'] \n",
            "Score: -12.383615493774414 \t ['discomfort' 'symptom_disease' 'covid-19'] \n",
            "Score: -12.464105606079102 \t ['muscular weakness' 'symptom_disease' 'covid-19'] \n",
            "Score: -12.482383728027344 \t ['polydipsia' 'symptom_disease' 'covid-19'] \n",
            "Score: -12.485419273376465 \t ['neuropathic pain' 'symptom_disease' 'covid-19'] \n",
            "Score: -12.538485527038574 \t ['drainage' 'symptom_disease' 'covid-19'] \n"
          ],
          "name": "stdout"
        }
      ]
    },
    {
      "cell_type": "code",
      "metadata": {
        "colab": {
          "base_uri": "https://localhost:8080/"
        },
        "id": "EMoR_zzIOnLJ",
        "outputId": "c729ab9e-18e8-4fbe-9155-935cd2a90f66"
      },
      "source": [
        "triples, scores = query_topn(model, top_n=20, \n",
        "                             tail=None, \n",
        "                             relation='disease_symptom', \n",
        "                             head='covid-19', \n",
        "                             ents_to_consider=None, \n",
        "                             rels_to_consider=None)\n",
        "\n",
        "for triple, score in zip(triples, scores):\n",
        "    print('Score: {} \\t {} '.format(score, triple))"
      ],
      "execution_count": null,
      "outputs": [
        {
          "output_type": "stream",
          "text": [
            "Score: -9.864557266235352 \t ['covid-19' 'disease_symptom' 'symptom'] \n",
            "Score: -9.908804893493652 \t ['covid-19' 'disease_symptom' 'discharge'] \n",
            "Score: -10.240966796875 \t ['covid-19' 'disease_symptom' 'cyanosis'] \n",
            "Score: -10.352489471435547 \t ['covid-19' 'disease_symptom' 'discomfort'] \n",
            "Score: -10.36842155456543 \t ['covid-19' 'disease_symptom' 'emaciation'] \n",
            "Score: -10.401368141174316 \t ['covid-19' 'disease_symptom' 'illness'] \n",
            "Score: -10.485641479492188 \t ['covid-19' 'disease_symptom' 'disorientation'] \n",
            "Score: -10.514070510864258 \t ['covid-19' 'disease_symptom' 'imbalance'] \n",
            "Score: -10.541074752807617 \t ['covid-19' 'disease_symptom' 'ill'] \n",
            "Score: -10.54233455657959 \t ['covid-19' 'disease_symptom' 'finding'] \n",
            "Score: -10.548297882080078 \t ['covid-19' 'disease_symptom' 'ageusia'] \n",
            "Score: -10.575578689575195 \t ['covid-19' 'disease_symptom' 'insomnia'] \n",
            "Score: -10.577934265136719 \t ['covid-19' 'disease_symptom' 'muscle pain'] \n",
            "Score: -10.705485343933105 \t ['covid-19' 'disease_symptom' 'severe diarrhea'] \n",
            "Score: -10.726020812988281 \t ['covid-19' 'disease_symptom' 'dry'] \n",
            "Score: -10.731245040893555 \t ['covid-19' 'disease_symptom' 'weak'] \n",
            "Score: -10.856009483337402 \t ['covid-19' 'disease_symptom' 'sick'] \n",
            "Score: -10.887348175048828 \t ['covid-19' 'disease_symptom' 'fit'] \n",
            "Score: -10.962892532348633 \t ['covid-19' 'disease_symptom' 'quality of life'] \n",
            "Score: -10.985095977783203 \t ['covid-19' 'disease_symptom' 'syncope'] \n"
          ],
          "name": "stdout"
        }
      ]
    },
    {
      "cell_type": "code",
      "metadata": {
        "id": "qxXS3g4yJT15"
      },
      "source": [
        "# Compare the raw call and graph embedding results for the symptoms query\n",
        "\n",
        "## raw call\n",
        "#dataset.loc[(dataset['subject']=='symptom')].head(20)\n",
        "\n",
        "#####==> the result of raw call seems to be better"
      ],
      "execution_count": null,
      "outputs": []
    },
    {
      "cell_type": "code",
      "metadata": {
        "id": "mpVrcKflG2gK"
      },
      "source": [
        "##graph embedding\n",
        "triples, scores = query_topn(model, top_n=20, \n",
        "                             head=, \n",
        "                             relation='be_related_with', \n",
        "                             tail=None, \n",
        "                             ents_to_consider=None, \n",
        "                             rels_to_consider=None)\n",
        "\n",
        "for triple, score in zip(triples, scores):\n",
        "    print('Score: {} \\t {} '.format(score, triple))"
      ],
      "execution_count": null,
      "outputs": []
    },
    {
      "cell_type": "code",
      "metadata": {
        "id": "W-wl5yQgLRat"
      },
      "source": [
        ""
      ],
      "execution_count": null,
      "outputs": []
    }
  ]
}